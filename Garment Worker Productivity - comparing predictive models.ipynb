{
 "cells": [
  {
   "cell_type": "markdown",
   "id": "fda09acf",
   "metadata": {},
   "source": [
    "This notebook preprocesses, encodes, train_test splits, & scales data, then runs a variety of models to predict garment worker productivity."
   ]
  },
  {
   "cell_type": "code",
   "execution_count": 1,
   "id": "06e22ac4",
   "metadata": {},
   "outputs": [],
   "source": [
    "import pandas as pd\n",
    "import numpy as np\n",
    "import matplotlib.pyplot as plt\n",
    "from sklearn import model_selection\n",
    "from sklearn.preprocessing import StandardScaler, scale\n",
    "from sklearn.utils import shuffle\n",
    "from sklearn.model_selection import train_test_split, RepeatedKFold\n",
    "from sklearn.linear_model import LinearRegression, ElasticNet, ElasticNetCV\n",
    "from sklearn.decomposition import PCA\n",
    "from sklearn.metrics import mean_squared_error, r2_score"
   ]
  },
  {
   "cell_type": "markdown",
   "id": "1de8edcd",
   "metadata": {},
   "source": [
    "Preprocess data. Begin by checking for null values."
   ]
  },
  {
   "cell_type": "code",
   "execution_count": 2,
   "id": "c526e4f0",
   "metadata": {},
   "outputs": [
    {
     "name": "stdout",
     "output_type": "stream",
     "text": [
      "<class 'pandas.core.frame.DataFrame'>\n",
      "RangeIndex: 1197 entries, 0 to 1196\n",
      "Data columns (total 15 columns):\n",
      " #   Column                 Non-Null Count  Dtype  \n",
      "---  ------                 --------------  -----  \n",
      " 0   date                   1197 non-null   object \n",
      " 1   quarter                1197 non-null   object \n",
      " 2   department             1197 non-null   object \n",
      " 3   day                    1197 non-null   object \n",
      " 4   team                   1197 non-null   int64  \n",
      " 5   targeted_productivity  1197 non-null   float64\n",
      " 6   smv                    1197 non-null   float64\n",
      " 7   wip                    691 non-null    float64\n",
      " 8   over_time              1197 non-null   int64  \n",
      " 9   incentive              1197 non-null   int64  \n",
      " 10  idle_time              1197 non-null   float64\n",
      " 11  idle_men               1197 non-null   int64  \n",
      " 12  no_of_style_change     1197 non-null   int64  \n",
      " 13  no_of_workers          1197 non-null   float64\n",
      " 14  actual_productivity    1197 non-null   float64\n",
      "dtypes: float64(6), int64(5), object(4)\n",
      "memory usage: 140.4+ KB\n"
     ]
    }
   ],
   "source": [
    "garment_prod = pd.read_csv(\"data/garments_worker_productivity.csv\")\n",
    "garment_prod.info()"
   ]
  },
  {
   "cell_type": "code",
   "execution_count": 3,
   "id": "90c7d4f8",
   "metadata": {},
   "outputs": [
    {
     "data": {
      "text/plain": [
       "count      691.000000\n",
       "mean      1190.465991\n",
       "std       1837.455001\n",
       "min          7.000000\n",
       "25%        774.500000\n",
       "50%       1039.000000\n",
       "75%       1252.500000\n",
       "max      23122.000000\n",
       "Name: wip, dtype: float64"
      ]
     },
     "execution_count": 3,
     "metadata": {},
     "output_type": "execute_result"
    }
   ],
   "source": [
    "garment_prod['wip'].describe()"
   ]
  },
  {
   "cell_type": "markdown",
   "id": "a21a0d3c",
   "metadata": {},
   "source": [
    "The 'wip' column shows number of works in progress. Given the large number of nulls and that min = 7, assume nulls should be considered 0."
   ]
  },
  {
   "cell_type": "code",
   "execution_count": 4,
   "id": "d4f45428",
   "metadata": {},
   "outputs": [],
   "source": [
    "garment_prod['wip'] = garment_prod['wip'].fillna(0)"
   ]
  },
  {
   "cell_type": "markdown",
   "id": "d104e102",
   "metadata": {},
   "source": [
    "Convert 'date' to datetime to facilitate anlysis."
   ]
  },
  {
   "cell_type": "code",
   "execution_count": 5,
   "id": "757f9897",
   "metadata": {},
   "outputs": [],
   "source": [
    "garment_prod['date'] = pd.to_datetime(garment_prod['date'])"
   ]
  },
  {
   "cell_type": "markdown",
   "id": "7f3b690b",
   "metadata": {},
   "source": [
    "Group predictor columns according to data type into three dataframes for preprocessing: nominal categorical, ordinal categorical, & numerical. "
   ]
  },
  {
   "cell_type": "code",
   "execution_count": 6,
   "id": "aa2fae8b",
   "metadata": {},
   "outputs": [
    {
     "name": "stdout",
     "output_type": "stream",
     "text": [
      "<class 'pandas.core.frame.DataFrame'>\n",
      "RangeIndex: 1197 entries, 0 to 1196\n",
      "Data columns (total 2 columns):\n",
      " #   Column      Non-Null Count  Dtype \n",
      "---  ------      --------------  ----- \n",
      " 0   department  1197 non-null   object\n",
      " 1   team        1197 non-null   int64 \n",
      "dtypes: int64(1), object(1)\n",
      "memory usage: 18.8+ KB\n"
     ]
    }
   ],
   "source": [
    "# Select nominal categorical columns for encoding.\n",
    "garment_nominal = garment_prod[['department', 'team']]\n",
    "garment_nominal.info()"
   ]
  },
  {
   "cell_type": "code",
   "execution_count": 7,
   "id": "0e2f1a9f",
   "metadata": {},
   "outputs": [
    {
     "name": "stdout",
     "output_type": "stream",
     "text": [
      "<class 'pandas.core.frame.DataFrame'>\n",
      "RangeIndex: 1197 entries, 0 to 1196\n",
      "Data columns (total 3 columns):\n",
      " #   Column   Non-Null Count  Dtype         \n",
      "---  ------   --------------  -----         \n",
      " 0   date     1197 non-null   datetime64[ns]\n",
      " 1   quarter  1197 non-null   object        \n",
      " 2   day      1197 non-null   object        \n",
      "dtypes: datetime64[ns](1), object(2)\n",
      "memory usage: 28.2+ KB\n"
     ]
    }
   ],
   "source": [
    "# Select ordinal categorical columns for encoding.\n",
    "garment_ordinal = garment_prod[['date', 'quarter', 'day']]\n",
    "garment_ordinal.info()"
   ]
  },
  {
   "cell_type": "code",
   "execution_count": 8,
   "id": "743be1d3",
   "metadata": {},
   "outputs": [
    {
     "name": "stdout",
     "output_type": "stream",
     "text": [
      "<class 'pandas.core.frame.DataFrame'>\n",
      "RangeIndex: 1197 entries, 0 to 1196\n",
      "Data columns (total 10 columns):\n",
      " #   Column                 Non-Null Count  Dtype  \n",
      "---  ------                 --------------  -----  \n",
      " 0   targeted_productivity  1197 non-null   float64\n",
      " 1   smv                    1197 non-null   float64\n",
      " 2   wip                    1197 non-null   float64\n",
      " 3   over_time              1197 non-null   int64  \n",
      " 4   incentive              1197 non-null   int64  \n",
      " 5   idle_time              1197 non-null   float64\n",
      " 6   idle_men               1197 non-null   int64  \n",
      " 7   no_of_style_change     1197 non-null   int64  \n",
      " 8   no_of_workers          1197 non-null   float64\n",
      " 9   actual_productivity    1197 non-null   float64\n",
      "dtypes: float64(6), int64(4)\n",
      "memory usage: 93.6 KB\n"
     ]
    }
   ],
   "source": [
    "# Select numerical columns.\n",
    "garment_numerical = garment_prod.iloc[:, 5:]\n",
    "garment_numerical.info()"
   ]
  },
  {
   "cell_type": "markdown",
   "id": "da7c733c",
   "metadata": {},
   "source": [
    "Encode nominal features, 'department' and 'team', using One Hot. First, check number of categories in each of these columns."
   ]
  },
  {
   "cell_type": "code",
   "execution_count": 9,
   "id": "a40197c7",
   "metadata": {},
   "outputs": [
    {
     "data": {
      "text/plain": [
       "array(['sweing', 'finishing ', 'finishing'], dtype=object)"
      ]
     },
     "execution_count": 9,
     "metadata": {},
     "output_type": "execute_result"
    }
   ],
   "source": [
    "garment_nominal.iloc[:, 0].unique()"
   ]
  },
  {
   "cell_type": "markdown",
   "id": "37eb6477",
   "metadata": {},
   "source": [
    "Some 'department' entries include a space at the end. Remove those spaces and correct mispelling of 'sewing'."
   ]
  },
  {
   "cell_type": "code",
   "execution_count": 10,
   "id": "a3c329ed",
   "metadata": {},
   "outputs": [
    {
     "data": {
      "text/plain": [
       "array(['sewing', 'finishing'], dtype=object)"
      ]
     },
     "execution_count": 10,
     "metadata": {},
     "output_type": "execute_result"
    }
   ],
   "source": [
    "garment_nominal.iloc[:, 0].replace({'sweing': 'sewing', 'finishing ': 'finishing'}, inplace=True)\n",
    "garment_nominal.iloc[:, 0].unique()"
   ]
  },
  {
   "cell_type": "code",
   "execution_count": 11,
   "id": "7ca14017",
   "metadata": {},
   "outputs": [
    {
     "data": {
      "text/plain": [
       "array([ 1,  2,  3,  4,  5,  6,  7,  8,  9, 10, 11, 12], dtype=int64)"
      ]
     },
     "execution_count": 11,
     "metadata": {},
     "output_type": "execute_result"
    }
   ],
   "source": [
    "team_categories = garment_nominal['team'].unique()\n",
    "team_categories.sort(axis=0)\n",
    "team_categories"
   ]
  },
  {
   "cell_type": "markdown",
   "id": "957a35a1",
   "metadata": {},
   "source": [
    "Utilize get_dummies to encode nominal columns using OHE. Function drops orgininal columns."
   ]
  },
  {
   "cell_type": "code",
   "execution_count": 12,
   "id": "24d9f130",
   "metadata": {},
   "outputs": [
    {
     "data": {
      "text/html": [
       "<div>\n",
       "<style scoped>\n",
       "    .dataframe tbody tr th:only-of-type {\n",
       "        vertical-align: middle;\n",
       "    }\n",
       "\n",
       "    .dataframe tbody tr th {\n",
       "        vertical-align: top;\n",
       "    }\n",
       "\n",
       "    .dataframe thead th {\n",
       "        text-align: right;\n",
       "    }\n",
       "</style>\n",
       "<table border=\"1\" class=\"dataframe\">\n",
       "  <thead>\n",
       "    <tr style=\"text-align: right;\">\n",
       "      <th></th>\n",
       "      <th>department_finishing</th>\n",
       "      <th>department_sewing</th>\n",
       "      <th>team_1</th>\n",
       "      <th>team_2</th>\n",
       "      <th>team_3</th>\n",
       "      <th>team_4</th>\n",
       "      <th>team_5</th>\n",
       "      <th>team_6</th>\n",
       "      <th>team_7</th>\n",
       "      <th>team_8</th>\n",
       "      <th>team_9</th>\n",
       "      <th>team_10</th>\n",
       "      <th>team_11</th>\n",
       "      <th>team_12</th>\n",
       "    </tr>\n",
       "  </thead>\n",
       "  <tbody>\n",
       "    <tr>\n",
       "      <th>0</th>\n",
       "      <td>0</td>\n",
       "      <td>1</td>\n",
       "      <td>0</td>\n",
       "      <td>0</td>\n",
       "      <td>0</td>\n",
       "      <td>0</td>\n",
       "      <td>0</td>\n",
       "      <td>0</td>\n",
       "      <td>0</td>\n",
       "      <td>1</td>\n",
       "      <td>0</td>\n",
       "      <td>0</td>\n",
       "      <td>0</td>\n",
       "      <td>0</td>\n",
       "    </tr>\n",
       "    <tr>\n",
       "      <th>1</th>\n",
       "      <td>1</td>\n",
       "      <td>0</td>\n",
       "      <td>1</td>\n",
       "      <td>0</td>\n",
       "      <td>0</td>\n",
       "      <td>0</td>\n",
       "      <td>0</td>\n",
       "      <td>0</td>\n",
       "      <td>0</td>\n",
       "      <td>0</td>\n",
       "      <td>0</td>\n",
       "      <td>0</td>\n",
       "      <td>0</td>\n",
       "      <td>0</td>\n",
       "    </tr>\n",
       "    <tr>\n",
       "      <th>2</th>\n",
       "      <td>0</td>\n",
       "      <td>1</td>\n",
       "      <td>0</td>\n",
       "      <td>0</td>\n",
       "      <td>0</td>\n",
       "      <td>0</td>\n",
       "      <td>0</td>\n",
       "      <td>0</td>\n",
       "      <td>0</td>\n",
       "      <td>0</td>\n",
       "      <td>0</td>\n",
       "      <td>0</td>\n",
       "      <td>1</td>\n",
       "      <td>0</td>\n",
       "    </tr>\n",
       "    <tr>\n",
       "      <th>3</th>\n",
       "      <td>0</td>\n",
       "      <td>1</td>\n",
       "      <td>0</td>\n",
       "      <td>0</td>\n",
       "      <td>0</td>\n",
       "      <td>0</td>\n",
       "      <td>0</td>\n",
       "      <td>0</td>\n",
       "      <td>0</td>\n",
       "      <td>0</td>\n",
       "      <td>0</td>\n",
       "      <td>0</td>\n",
       "      <td>0</td>\n",
       "      <td>1</td>\n",
       "    </tr>\n",
       "    <tr>\n",
       "      <th>4</th>\n",
       "      <td>0</td>\n",
       "      <td>1</td>\n",
       "      <td>0</td>\n",
       "      <td>0</td>\n",
       "      <td>0</td>\n",
       "      <td>0</td>\n",
       "      <td>0</td>\n",
       "      <td>1</td>\n",
       "      <td>0</td>\n",
       "      <td>0</td>\n",
       "      <td>0</td>\n",
       "      <td>0</td>\n",
       "      <td>0</td>\n",
       "      <td>0</td>\n",
       "    </tr>\n",
       "  </tbody>\n",
       "</table>\n",
       "</div>"
      ],
      "text/plain": [
       "   department_finishing  department_sewing  team_1  team_2  team_3  team_4  \\\n",
       "0                     0                  1       0       0       0       0   \n",
       "1                     1                  0       1       0       0       0   \n",
       "2                     0                  1       0       0       0       0   \n",
       "3                     0                  1       0       0       0       0   \n",
       "4                     0                  1       0       0       0       0   \n",
       "\n",
       "   team_5  team_6  team_7  team_8  team_9  team_10  team_11  team_12  \n",
       "0       0       0       0       1       0        0        0        0  \n",
       "1       0       0       0       0       0        0        0        0  \n",
       "2       0       0       0       0       0        0        1        0  \n",
       "3       0       0       0       0       0        0        0        1  \n",
       "4       0       1       0       0       0        0        0        0  "
      ]
     },
     "execution_count": 12,
     "metadata": {},
     "output_type": "execute_result"
    }
   ],
   "source": [
    "garment_nom_encoded = pd.get_dummies(garment_nominal, columns = ['department', 'team'])\n",
    "garment_nom_encoded.head()"
   ]
  },
  {
   "cell_type": "code",
   "execution_count": 13,
   "id": "dae085ec",
   "metadata": {
    "scrolled": false
   },
   "outputs": [
    {
     "name": "stdout",
     "output_type": "stream",
     "text": [
      "<class 'pandas.core.frame.DataFrame'>\n",
      "RangeIndex: 1197 entries, 0 to 1196\n",
      "Data columns (total 14 columns):\n",
      " #   Column                Non-Null Count  Dtype\n",
      "---  ------                --------------  -----\n",
      " 0   department_finishing  1197 non-null   uint8\n",
      " 1   department_sewing     1197 non-null   uint8\n",
      " 2   team_1                1197 non-null   uint8\n",
      " 3   team_2                1197 non-null   uint8\n",
      " 4   team_3                1197 non-null   uint8\n",
      " 5   team_4                1197 non-null   uint8\n",
      " 6   team_5                1197 non-null   uint8\n",
      " 7   team_6                1197 non-null   uint8\n",
      " 8   team_7                1197 non-null   uint8\n",
      " 9   team_8                1197 non-null   uint8\n",
      " 10  team_9                1197 non-null   uint8\n",
      " 11  team_10               1197 non-null   uint8\n",
      " 12  team_11               1197 non-null   uint8\n",
      " 13  team_12               1197 non-null   uint8\n",
      "dtypes: uint8(14)\n",
      "memory usage: 16.5 KB\n"
     ]
    }
   ],
   "source": [
    "# Double check that all data were encoded.\n",
    "garment_nom_encoded.info()"
   ]
  },
  {
   "cell_type": "markdown",
   "id": "7319ef60",
   "metadata": {},
   "source": [
    "Encode 'quarter' and 'day' using ordinal encoder. Use sequence of integers as values in dictionaries to map data in the \"quarter\" and \"day\" columns to integers in new columns."
   ]
  },
  {
   "cell_type": "code",
   "execution_count": 14,
   "id": "b437cdf9",
   "metadata": {},
   "outputs": [
    {
     "data": {
      "text/html": [
       "<div>\n",
       "<style scoped>\n",
       "    .dataframe tbody tr th:only-of-type {\n",
       "        vertical-align: middle;\n",
       "    }\n",
       "\n",
       "    .dataframe tbody tr th {\n",
       "        vertical-align: top;\n",
       "    }\n",
       "\n",
       "    .dataframe thead th {\n",
       "        text-align: right;\n",
       "    }\n",
       "</style>\n",
       "<table border=\"1\" class=\"dataframe\">\n",
       "  <thead>\n",
       "    <tr style=\"text-align: right;\">\n",
       "      <th></th>\n",
       "      <th>date</th>\n",
       "      <th>quarter</th>\n",
       "      <th>day</th>\n",
       "      <th>quarter_ordinal</th>\n",
       "      <th>day_ordinal</th>\n",
       "    </tr>\n",
       "  </thead>\n",
       "  <tbody>\n",
       "    <tr>\n",
       "      <th>0</th>\n",
       "      <td>2015-01-01</td>\n",
       "      <td>Quarter1</td>\n",
       "      <td>Thursday</td>\n",
       "      <td>1</td>\n",
       "      <td>4</td>\n",
       "    </tr>\n",
       "    <tr>\n",
       "      <th>1</th>\n",
       "      <td>2015-01-01</td>\n",
       "      <td>Quarter1</td>\n",
       "      <td>Thursday</td>\n",
       "      <td>1</td>\n",
       "      <td>4</td>\n",
       "    </tr>\n",
       "    <tr>\n",
       "      <th>2</th>\n",
       "      <td>2015-01-01</td>\n",
       "      <td>Quarter1</td>\n",
       "      <td>Thursday</td>\n",
       "      <td>1</td>\n",
       "      <td>4</td>\n",
       "    </tr>\n",
       "    <tr>\n",
       "      <th>3</th>\n",
       "      <td>2015-01-01</td>\n",
       "      <td>Quarter1</td>\n",
       "      <td>Thursday</td>\n",
       "      <td>1</td>\n",
       "      <td>4</td>\n",
       "    </tr>\n",
       "    <tr>\n",
       "      <th>4</th>\n",
       "      <td>2015-01-01</td>\n",
       "      <td>Quarter1</td>\n",
       "      <td>Thursday</td>\n",
       "      <td>1</td>\n",
       "      <td>4</td>\n",
       "    </tr>\n",
       "  </tbody>\n",
       "</table>\n",
       "</div>"
      ],
      "text/plain": [
       "        date   quarter       day  quarter_ordinal  day_ordinal\n",
       "0 2015-01-01  Quarter1  Thursday                1            4\n",
       "1 2015-01-01  Quarter1  Thursday                1            4\n",
       "2 2015-01-01  Quarter1  Thursday                1            4\n",
       "3 2015-01-01  Quarter1  Thursday                1            4\n",
       "4 2015-01-01  Quarter1  Thursday                1            4"
      ]
     },
     "execution_count": 14,
     "metadata": {},
     "output_type": "execute_result"
    }
   ],
   "source": [
    "# turn off chained assignments warning (false positive) because mapping to new columns is working.\n",
    "pd.set_option('chained_assignment', None)\n",
    "Quarter_dict = {'Quarter1': 1, 'Quarter2': 2, 'Quarter3': 3, 'Quarter4': 4, 'Quarter5': 5}\n",
    "garment_ordinal['quarter_ordinal'] = garment_ordinal.loc[:, 'quarter'].map(Quarter_dict)\n",
    "\n",
    "\n",
    "Day_dict = {'Monday': 1, 'Tuesday': 2, 'Wednesday': 3, 'Thursday': 4, 'Friday': 5, 'Saturday': 6, 'Sunday': 7}\n",
    "garment_ordinal['day_ordinal'] = garment_ordinal.loc[:, 'day'].map(Day_dict)\n",
    "garment_ordinal.head()"
   ]
  },
  {
   "cell_type": "code",
   "execution_count": 15,
   "id": "d0aabbc6",
   "metadata": {},
   "outputs": [
    {
     "name": "stdout",
     "output_type": "stream",
     "text": [
      "<class 'pandas.core.frame.DataFrame'>\n",
      "RangeIndex: 1197 entries, 0 to 1196\n",
      "Data columns (total 3 columns):\n",
      " #   Column           Non-Null Count  Dtype         \n",
      "---  ------           --------------  -----         \n",
      " 0   date             1197 non-null   datetime64[ns]\n",
      " 1   quarter_ordinal  1197 non-null   int64         \n",
      " 2   day_ordinal      1197 non-null   int64         \n",
      "dtypes: datetime64[ns](1), int64(2)\n",
      "memory usage: 28.2 KB\n"
     ]
    }
   ],
   "source": [
    "garment_ordinal.drop(labels=['quarter', 'day'], axis=1, inplace=True)\n",
    "garment_ordinal.info()"
   ]
  },
  {
   "cell_type": "markdown",
   "id": "53477a30",
   "metadata": {},
   "source": [
    "To use datetime in regression, perform ordinal encoding by mapping with python's datetime.toordinal method."
   ]
  },
  {
   "cell_type": "code",
   "execution_count": 16,
   "id": "2ae5ad19",
   "metadata": {},
   "outputs": [],
   "source": [
    "from datetime import datetime \n",
    "garment_ordinal['date'] = garment_ordinal['date'].map(datetime.toordinal)"
   ]
  },
  {
   "cell_type": "code",
   "execution_count": 17,
   "id": "92e8bd11",
   "metadata": {
    "scrolled": true
   },
   "outputs": [
    {
     "data": {
      "text/plain": [
       "count      1197.000000\n",
       "mean     735633.456140\n",
       "std          20.630062\n",
       "min      735599.000000\n",
       "25%      735616.000000\n",
       "50%      735632.000000\n",
       "75%      735652.000000\n",
       "max      735668.000000\n",
       "Name: date, dtype: float64"
      ]
     },
     "execution_count": 17,
     "metadata": {},
     "output_type": "execute_result"
    }
   ],
   "source": [
    "garment_ordinal['date'].describe()"
   ]
  },
  {
   "cell_type": "markdown",
   "id": "c4045583",
   "metadata": {},
   "source": [
    "Concatenate encoded nominal and ordinal columns."
   ]
  },
  {
   "cell_type": "code",
   "execution_count": 18,
   "id": "d29cd758",
   "metadata": {},
   "outputs": [
    {
     "name": "stdout",
     "output_type": "stream",
     "text": [
      "<class 'pandas.core.frame.DataFrame'>\n",
      "RangeIndex: 1197 entries, 0 to 1196\n",
      "Data columns (total 17 columns):\n",
      " #   Column                Non-Null Count  Dtype\n",
      "---  ------                --------------  -----\n",
      " 0   department_finishing  1197 non-null   uint8\n",
      " 1   department_sewing     1197 non-null   uint8\n",
      " 2   team_1                1197 non-null   uint8\n",
      " 3   team_2                1197 non-null   uint8\n",
      " 4   team_3                1197 non-null   uint8\n",
      " 5   team_4                1197 non-null   uint8\n",
      " 6   team_5                1197 non-null   uint8\n",
      " 7   team_6                1197 non-null   uint8\n",
      " 8   team_7                1197 non-null   uint8\n",
      " 9   team_8                1197 non-null   uint8\n",
      " 10  team_9                1197 non-null   uint8\n",
      " 11  team_10               1197 non-null   uint8\n",
      " 12  team_11               1197 non-null   uint8\n",
      " 13  team_12               1197 non-null   uint8\n",
      " 14  date                  1197 non-null   int64\n",
      " 15  quarter_ordinal       1197 non-null   int64\n",
      " 16  day_ordinal           1197 non-null   int64\n",
      "dtypes: int64(3), uint8(14)\n",
      "memory usage: 44.5 KB\n"
     ]
    }
   ],
   "source": [
    "garment_categorical = pd.concat([garment_nom_encoded, garment_ordinal], axis=1)\n",
    "garment_categorical.info()"
   ]
  },
  {
   "cell_type": "markdown",
   "id": "d2d5a9cf",
   "metadata": {},
   "source": [
    "Drop last department & team columns to reduce impacts on regression models by the multicollinearity introduced by OHE encoding. The information in the deleted columns is still available to the model, though, because if the value of the deleted column was 1, the row will now have 0's for all remaining columns encoding that feature."
   ]
  },
  {
   "cell_type": "code",
   "execution_count": 19,
   "id": "eff01b79",
   "metadata": {
    "scrolled": true
   },
   "outputs": [
    {
     "name": "stdout",
     "output_type": "stream",
     "text": [
      "<class 'pandas.core.frame.DataFrame'>\n",
      "RangeIndex: 1197 entries, 0 to 1196\n",
      "Data columns (total 15 columns):\n",
      " #   Column                Non-Null Count  Dtype\n",
      "---  ------                --------------  -----\n",
      " 0   department_finishing  1197 non-null   uint8\n",
      " 1   team_1                1197 non-null   uint8\n",
      " 2   team_2                1197 non-null   uint8\n",
      " 3   team_3                1197 non-null   uint8\n",
      " 4   team_4                1197 non-null   uint8\n",
      " 5   team_5                1197 non-null   uint8\n",
      " 6   team_6                1197 non-null   uint8\n",
      " 7   team_7                1197 non-null   uint8\n",
      " 8   team_8                1197 non-null   uint8\n",
      " 9   team_9                1197 non-null   uint8\n",
      " 10  team_10               1197 non-null   uint8\n",
      " 11  team_11               1197 non-null   uint8\n",
      " 12  date                  1197 non-null   int64\n",
      " 13  quarter_ordinal       1197 non-null   int64\n",
      " 14  day_ordinal           1197 non-null   int64\n",
      "dtypes: int64(3), uint8(12)\n",
      "memory usage: 42.2 KB\n"
     ]
    }
   ],
   "source": [
    "garment_categorical.drop(labels = ['department_sewing', 'team_12'], axis = 1, inplace = True)\n",
    "garment_categorical.info()"
   ]
  },
  {
   "cell_type": "markdown",
   "id": "6c011111",
   "metadata": {},
   "source": [
    "Select predictor and target columns and split into train and test subsets, then scale (fit & transform) X_train and transform X_test using fit parameters from X_train."
   ]
  },
  {
   "cell_type": "code",
   "execution_count": 20,
   "id": "af50a1af",
   "metadata": {},
   "outputs": [
    {
     "name": "stdout",
     "output_type": "stream",
     "text": [
      "<class 'pandas.core.frame.DataFrame'>\n",
      "RangeIndex: 1197 entries, 0 to 1196\n",
      "Data columns (total 24 columns):\n",
      " #   Column                 Non-Null Count  Dtype  \n",
      "---  ------                 --------------  -----  \n",
      " 0   department_finishing   1197 non-null   uint8  \n",
      " 1   team_1                 1197 non-null   uint8  \n",
      " 2   team_2                 1197 non-null   uint8  \n",
      " 3   team_3                 1197 non-null   uint8  \n",
      " 4   team_4                 1197 non-null   uint8  \n",
      " 5   team_5                 1197 non-null   uint8  \n",
      " 6   team_6                 1197 non-null   uint8  \n",
      " 7   team_7                 1197 non-null   uint8  \n",
      " 8   team_8                 1197 non-null   uint8  \n",
      " 9   team_9                 1197 non-null   uint8  \n",
      " 10  team_10                1197 non-null   uint8  \n",
      " 11  team_11                1197 non-null   uint8  \n",
      " 12  date                   1197 non-null   int64  \n",
      " 13  quarter_ordinal        1197 non-null   int64  \n",
      " 14  day_ordinal            1197 non-null   int64  \n",
      " 15  targeted_productivity  1197 non-null   float64\n",
      " 16  smv                    1197 non-null   float64\n",
      " 17  wip                    1197 non-null   float64\n",
      " 18  over_time              1197 non-null   int64  \n",
      " 19  incentive              1197 non-null   int64  \n",
      " 20  idle_time              1197 non-null   float64\n",
      " 21  idle_men               1197 non-null   int64  \n",
      " 22  no_of_style_change     1197 non-null   int64  \n",
      " 23  no_of_workers          1197 non-null   float64\n",
      "dtypes: float64(5), int64(7), uint8(12)\n",
      "memory usage: 126.4 KB\n"
     ]
    }
   ],
   "source": [
    "# Concatenate categorical & numerical columns & save complete data set.\n",
    "garment_prepped = pd.concat([garment_categorical, garment_numerical], axis=1)\n",
    "# Drop target 'actual_productivity' from predictors.\n",
    "X = garment_prepped.drop(columns = 'actual_productivity')\n",
    "X.info()"
   ]
  },
  {
   "cell_type": "code",
   "execution_count": 21,
   "id": "d3780cd0",
   "metadata": {},
   "outputs": [],
   "source": [
    "y = garment_prod['actual_productivity']"
   ]
  },
  {
   "cell_type": "code",
   "execution_count": 22,
   "id": "8f507af7",
   "metadata": {},
   "outputs": [
    {
     "name": "stdout",
     "output_type": "stream",
     "text": [
      "<class 'pandas.core.frame.DataFrame'>\n",
      "Int64Index: 837 entries, 922 to 684\n",
      "Data columns (total 24 columns):\n",
      " #   Column                 Non-Null Count  Dtype  \n",
      "---  ------                 --------------  -----  \n",
      " 0   department_finishing   837 non-null    uint8  \n",
      " 1   team_1                 837 non-null    uint8  \n",
      " 2   team_2                 837 non-null    uint8  \n",
      " 3   team_3                 837 non-null    uint8  \n",
      " 4   team_4                 837 non-null    uint8  \n",
      " 5   team_5                 837 non-null    uint8  \n",
      " 6   team_6                 837 non-null    uint8  \n",
      " 7   team_7                 837 non-null    uint8  \n",
      " 8   team_8                 837 non-null    uint8  \n",
      " 9   team_9                 837 non-null    uint8  \n",
      " 10  team_10                837 non-null    uint8  \n",
      " 11  team_11                837 non-null    uint8  \n",
      " 12  date                   837 non-null    int64  \n",
      " 13  quarter_ordinal        837 non-null    int64  \n",
      " 14  day_ordinal            837 non-null    int64  \n",
      " 15  targeted_productivity  837 non-null    float64\n",
      " 16  smv                    837 non-null    float64\n",
      " 17  wip                    837 non-null    float64\n",
      " 18  over_time              837 non-null    int64  \n",
      " 19  incentive              837 non-null    int64  \n",
      " 20  idle_time              837 non-null    float64\n",
      " 21  idle_men               837 non-null    int64  \n",
      " 22  no_of_style_change     837 non-null    int64  \n",
      " 23  no_of_workers          837 non-null    float64\n",
      "dtypes: float64(5), int64(7), uint8(12)\n",
      "memory usage: 94.8 KB\n"
     ]
    }
   ],
   "source": [
    "# Split into train & test subsets before scaling.\n",
    "X_train,X_test,y_train,y_test = train_test_split(X, y, test_size=0.3, random_state=0) \n",
    "X_train.info()"
   ]
  },
  {
   "cell_type": "code",
   "execution_count": 23,
   "id": "b2b072c0",
   "metadata": {},
   "outputs": [
    {
     "name": "stdout",
     "output_type": "stream",
     "text": [
      "<class 'pandas.core.frame.DataFrame'>\n",
      "Int64Index: 360 entries, 700 to 1048\n",
      "Data columns (total 12 columns):\n",
      " #   Column                 Non-Null Count  Dtype  \n",
      "---  ------                 --------------  -----  \n",
      " 0   date                   360 non-null    int64  \n",
      " 1   quarter_ordinal        360 non-null    int64  \n",
      " 2   day_ordinal            360 non-null    int64  \n",
      " 3   targeted_productivity  360 non-null    float64\n",
      " 4   smv                    360 non-null    float64\n",
      " 5   wip                    360 non-null    float64\n",
      " 6   over_time              360 non-null    int64  \n",
      " 7   incentive              360 non-null    int64  \n",
      " 8   idle_time              360 non-null    float64\n",
      " 9   idle_men               360 non-null    int64  \n",
      " 10  no_of_style_change     360 non-null    int64  \n",
      " 11  no_of_workers          360 non-null    float64\n",
      "dtypes: float64(5), int64(7)\n",
      "memory usage: 36.6 KB\n"
     ]
    }
   ],
   "source": [
    "# Select predictors for scaling, including numerical and encoded ordinal columns.\n",
    "X_train_scalable = X_train.drop(X.iloc[:, 0:12], axis = 1)\n",
    "X_test_scalable = X_test.drop(X.iloc[:, 0:12], axis = 1)\n",
    "# X_train_scalable.info()\n",
    "X_test_scalable.info()"
   ]
  },
  {
   "cell_type": "code",
   "execution_count": 24,
   "id": "24ab5470",
   "metadata": {},
   "outputs": [
    {
     "name": "stdout",
     "output_type": "stream",
     "text": [
      "<class 'pandas.core.frame.DataFrame'>\n",
      "RangeIndex: 837 entries, 0 to 836\n",
      "Data columns (total 12 columns):\n",
      " #   Column                 Non-Null Count  Dtype  \n",
      "---  ------                 --------------  -----  \n",
      " 0   date                   837 non-null    float64\n",
      " 1   quarter_ordinal        837 non-null    float64\n",
      " 2   day_ordinal            837 non-null    float64\n",
      " 3   targeted_productivity  837 non-null    float64\n",
      " 4   smv                    837 non-null    float64\n",
      " 5   wip                    837 non-null    float64\n",
      " 6   over_time              837 non-null    float64\n",
      " 7   incentive              837 non-null    float64\n",
      " 8   idle_time              837 non-null    float64\n",
      " 9   idle_men               837 non-null    float64\n",
      " 10  no_of_style_change     837 non-null    float64\n",
      " 11  no_of_workers          837 non-null    float64\n",
      "dtypes: float64(12)\n",
      "memory usage: 78.6 KB\n"
     ]
    }
   ],
   "source": [
    "# Scale ordinal & numerical columns in X_train,convert ndarray output to dataframe as float dtype, & name columns.\n",
    "scaler = StandardScaler()\n",
    "X_train_scaling = scaler.fit_transform(X_train_scalable)\n",
    "X_train_scaled = pd.DataFrame(X_train_scaling)\n",
    "X_train_scaled = X_train_scaled.astype('float')\n",
    "X_train_scaled.columns = ['date', 'quarter_ordinal','day_ordinal', 'targeted_productivity', 'smv', 'wip', 'over_time', 'incentive', 'idle_time', 'idle_men', 'no_of_style_change', 'no_of_workers']\n",
    "X_train_scaled.info()"
   ]
  },
  {
   "cell_type": "code",
   "execution_count": 25,
   "id": "c46d49e3",
   "metadata": {},
   "outputs": [
    {
     "name": "stdout",
     "output_type": "stream",
     "text": [
      "<class 'pandas.core.frame.DataFrame'>\n",
      "RangeIndex: 360 entries, 0 to 359\n",
      "Data columns (total 12 columns):\n",
      " #   Column                 Non-Null Count  Dtype  \n",
      "---  ------                 --------------  -----  \n",
      " 0   date                   360 non-null    float64\n",
      " 1   quarter_ordinal        360 non-null    float64\n",
      " 2   day_ordinal            360 non-null    float64\n",
      " 3   targeted_productivity  360 non-null    float64\n",
      " 4   smv                    360 non-null    float64\n",
      " 5   wip                    360 non-null    float64\n",
      " 6   over_time              360 non-null    float64\n",
      " 7   incentive              360 non-null    float64\n",
      " 8   idle_time              360 non-null    float64\n",
      " 9   idle_men               360 non-null    float64\n",
      " 10  no_of_style_change     360 non-null    float64\n",
      " 11  no_of_workers          360 non-null    float64\n",
      "dtypes: float64(12)\n",
      "memory usage: 33.9 KB\n"
     ]
    }
   ],
   "source": [
    "# Use fit paramaters from X_train to transform X_test, then convert back to df.\n",
    "X_test_scaling = scaler.transform(X_test_scalable)\n",
    "X_test_scaled = pd.DataFrame(X_test_scaling)\n",
    "X_test_scaled = X_test_scaled.astype('float')\n",
    "X_test_scaled.columns = ['date', 'quarter_ordinal','day_ordinal', 'targeted_productivity', 'smv', 'wip', 'over_time', 'incentive', 'idle_time', 'idle_men', 'no_of_style_change', 'no_of_workers']\n",
    "X_test_scaled.info()"
   ]
  },
  {
   "cell_type": "markdown",
   "id": "9233f701",
   "metadata": {},
   "source": [
    "Select binary columns (encoded nominal features) in X_train and X_test, then concatenate with scaled columns to make complete train and test dataframes. "
   ]
  },
  {
   "cell_type": "code",
   "execution_count": 26,
   "id": "bf1d5796",
   "metadata": {},
   "outputs": [
    {
     "name": "stdout",
     "output_type": "stream",
     "text": [
      "<class 'pandas.core.frame.DataFrame'>\n",
      "Int64Index: 837 entries, 922 to 684\n",
      "Data columns (total 12 columns):\n",
      " #   Column                Non-Null Count  Dtype\n",
      "---  ------                --------------  -----\n",
      " 0   department_finishing  837 non-null    uint8\n",
      " 1   team_1                837 non-null    uint8\n",
      " 2   team_2                837 non-null    uint8\n",
      " 3   team_3                837 non-null    uint8\n",
      " 4   team_4                837 non-null    uint8\n",
      " 5   team_5                837 non-null    uint8\n",
      " 6   team_6                837 non-null    uint8\n",
      " 7   team_7                837 non-null    uint8\n",
      " 8   team_8                837 non-null    uint8\n",
      " 9   team_9                837 non-null    uint8\n",
      " 10  team_10               837 non-null    uint8\n",
      " 11  team_11               837 non-null    uint8\n",
      "dtypes: uint8(12)\n",
      "memory usage: 16.3 KB\n"
     ]
    }
   ],
   "source": [
    "X_train_binary = X_train.iloc[:, 0:12]\n",
    "X_test_binary = X_test.iloc[:, 0:12]\n",
    "# X_test_binary.info()\n",
    "X_train_binary.info()"
   ]
  },
  {
   "cell_type": "code",
   "execution_count": 27,
   "id": "3454817c",
   "metadata": {},
   "outputs": [],
   "source": [
    "# Reset index on binary dataframes to match indexing on scaled dataframes, whose indexing was reset during scaling process.\n",
    "X_train_binary.reset_index(drop = True, inplace = True)\n",
    "X_test_binary.reset_index(drop = True, inplace = True)"
   ]
  },
  {
   "cell_type": "code",
   "execution_count": 28,
   "id": "396ed5b3",
   "metadata": {},
   "outputs": [
    {
     "name": "stdout",
     "output_type": "stream",
     "text": [
      "<class 'pandas.core.frame.DataFrame'>\n",
      "RangeIndex: 837 entries, 0 to 836\n",
      "Data columns (total 24 columns):\n",
      " #   Column                 Non-Null Count  Dtype  \n",
      "---  ------                 --------------  -----  \n",
      " 0   department_finishing   837 non-null    uint8  \n",
      " 1   team_1                 837 non-null    uint8  \n",
      " 2   team_2                 837 non-null    uint8  \n",
      " 3   team_3                 837 non-null    uint8  \n",
      " 4   team_4                 837 non-null    uint8  \n",
      " 5   team_5                 837 non-null    uint8  \n",
      " 6   team_6                 837 non-null    uint8  \n",
      " 7   team_7                 837 non-null    uint8  \n",
      " 8   team_8                 837 non-null    uint8  \n",
      " 9   team_9                 837 non-null    uint8  \n",
      " 10  team_10                837 non-null    uint8  \n",
      " 11  team_11                837 non-null    uint8  \n",
      " 12  date                   837 non-null    float64\n",
      " 13  quarter_ordinal        837 non-null    float64\n",
      " 14  day_ordinal            837 non-null    float64\n",
      " 15  targeted_productivity  837 non-null    float64\n",
      " 16  smv                    837 non-null    float64\n",
      " 17  wip                    837 non-null    float64\n",
      " 18  over_time              837 non-null    float64\n",
      " 19  incentive              837 non-null    float64\n",
      " 20  idle_time              837 non-null    float64\n",
      " 21  idle_men               837 non-null    float64\n",
      " 22  no_of_style_change     837 non-null    float64\n",
      " 23  no_of_workers          837 non-null    float64\n",
      "dtypes: float64(12), uint8(12)\n",
      "memory usage: 88.4 KB\n"
     ]
    }
   ],
   "source": [
    "X_train = pd.concat([X_train_binary, X_train_scaled], axis=1)\n",
    "X_train.info()"
   ]
  },
  {
   "cell_type": "code",
   "execution_count": 29,
   "id": "c43e65cc",
   "metadata": {
    "scrolled": true
   },
   "outputs": [
    {
     "name": "stdout",
     "output_type": "stream",
     "text": [
      "<class 'pandas.core.frame.DataFrame'>\n",
      "RangeIndex: 360 entries, 0 to 359\n",
      "Data columns (total 24 columns):\n",
      " #   Column                 Non-Null Count  Dtype  \n",
      "---  ------                 --------------  -----  \n",
      " 0   department_finishing   360 non-null    uint8  \n",
      " 1   team_1                 360 non-null    uint8  \n",
      " 2   team_2                 360 non-null    uint8  \n",
      " 3   team_3                 360 non-null    uint8  \n",
      " 4   team_4                 360 non-null    uint8  \n",
      " 5   team_5                 360 non-null    uint8  \n",
      " 6   team_6                 360 non-null    uint8  \n",
      " 7   team_7                 360 non-null    uint8  \n",
      " 8   team_8                 360 non-null    uint8  \n",
      " 9   team_9                 360 non-null    uint8  \n",
      " 10  team_10                360 non-null    uint8  \n",
      " 11  team_11                360 non-null    uint8  \n",
      " 12  date                   360 non-null    float64\n",
      " 13  quarter_ordinal        360 non-null    float64\n",
      " 14  day_ordinal            360 non-null    float64\n",
      " 15  targeted_productivity  360 non-null    float64\n",
      " 16  smv                    360 non-null    float64\n",
      " 17  wip                    360 non-null    float64\n",
      " 18  over_time              360 non-null    float64\n",
      " 19  incentive              360 non-null    float64\n",
      " 20  idle_time              360 non-null    float64\n",
      " 21  idle_men               360 non-null    float64\n",
      " 22  no_of_style_change     360 non-null    float64\n",
      " 23  no_of_workers          360 non-null    float64\n",
      "dtypes: float64(12), uint8(12)\n",
      "memory usage: 38.1 KB\n"
     ]
    }
   ],
   "source": [
    "X_test = pd.concat([X_test_binary, X_test_scaled], axis=1)\n",
    "X_test.info()"
   ]
  },
  {
   "cell_type": "markdown",
   "id": "e2b9dbc3",
   "metadata": {},
   "source": [
    "Try different methods to predict garment worker productivity. Start with linear regression."
   ]
  },
  {
   "cell_type": "code",
   "execution_count": 30,
   "id": "d235fb6b",
   "metadata": {},
   "outputs": [
    {
     "name": "stdout",
     "output_type": "stream",
     "text": [
      "linear regression R2 = 0.2772\n"
     ]
    }
   ],
   "source": [
    "linear_regression = LinearRegression()\n",
    "linear_regression.fit(X_train, y_train)\n",
    "#calculate R2 and format as float to 4 decimal places\n",
    "print('linear regression R2 = {:.4f}'.format(linear_regression.score(X_test, y_test)))"
   ]
  },
  {
   "cell_type": "markdown",
   "id": "8ebd10e0",
   "metadata": {},
   "source": [
    "See if performance can be improved by reducing number of predictor dimensions with principal component analysis. Try principal component regression (PCR) with k-fold cross validation to optimize number of principal components."
   ]
  },
  {
   "cell_type": "code",
   "execution_count": 31,
   "id": "a21b8a84",
   "metadata": {},
   "outputs": [
    {
     "data": {
      "text/html": [
       "<div>\n",
       "<style scoped>\n",
       "    .dataframe tbody tr th:only-of-type {\n",
       "        vertical-align: middle;\n",
       "    }\n",
       "\n",
       "    .dataframe tbody tr th {\n",
       "        vertical-align: top;\n",
       "    }\n",
       "\n",
       "    .dataframe thead th {\n",
       "        text-align: right;\n",
       "    }\n",
       "</style>\n",
       "<table border=\"1\" class=\"dataframe\">\n",
       "  <thead>\n",
       "    <tr style=\"text-align: right;\">\n",
       "      <th></th>\n",
       "      <th>department_finishing</th>\n",
       "      <th>team_1</th>\n",
       "      <th>team_2</th>\n",
       "      <th>team_3</th>\n",
       "      <th>team_4</th>\n",
       "      <th>team_5</th>\n",
       "      <th>team_6</th>\n",
       "      <th>team_7</th>\n",
       "      <th>team_8</th>\n",
       "      <th>team_9</th>\n",
       "      <th>...</th>\n",
       "      <th>targeted_productivity</th>\n",
       "      <th>smv</th>\n",
       "      <th>wip</th>\n",
       "      <th>over_time</th>\n",
       "      <th>incentive</th>\n",
       "      <th>idle_time</th>\n",
       "      <th>idle_men</th>\n",
       "      <th>no_of_style_change</th>\n",
       "      <th>no_of_workers</th>\n",
       "      <th>actual_productivity</th>\n",
       "    </tr>\n",
       "  </thead>\n",
       "  <tbody>\n",
       "    <tr>\n",
       "      <th>657</th>\n",
       "      <td>0</td>\n",
       "      <td>0</td>\n",
       "      <td>0</td>\n",
       "      <td>0</td>\n",
       "      <td>0</td>\n",
       "      <td>0</td>\n",
       "      <td>0</td>\n",
       "      <td>0</td>\n",
       "      <td>0</td>\n",
       "      <td>0</td>\n",
       "      <td>...</td>\n",
       "      <td>0.8</td>\n",
       "      <td>22.52</td>\n",
       "      <td>1388.0</td>\n",
       "      <td>6720</td>\n",
       "      <td>88</td>\n",
       "      <td>0.0</td>\n",
       "      <td>0</td>\n",
       "      <td>0</td>\n",
       "      <td>56.0</td>\n",
       "      <td>0.900800</td>\n",
       "    </tr>\n",
       "    <tr>\n",
       "      <th>98</th>\n",
       "      <td>0</td>\n",
       "      <td>0</td>\n",
       "      <td>0</td>\n",
       "      <td>0</td>\n",
       "      <td>0</td>\n",
       "      <td>0</td>\n",
       "      <td>1</td>\n",
       "      <td>0</td>\n",
       "      <td>0</td>\n",
       "      <td>0</td>\n",
       "      <td>...</td>\n",
       "      <td>0.8</td>\n",
       "      <td>11.61</td>\n",
       "      <td>910.0</td>\n",
       "      <td>4470</td>\n",
       "      <td>38</td>\n",
       "      <td>0.0</td>\n",
       "      <td>0</td>\n",
       "      <td>0</td>\n",
       "      <td>31.5</td>\n",
       "      <td>0.800077</td>\n",
       "    </tr>\n",
       "    <tr>\n",
       "      <th>63</th>\n",
       "      <td>1</td>\n",
       "      <td>0</td>\n",
       "      <td>0</td>\n",
       "      <td>0</td>\n",
       "      <td>1</td>\n",
       "      <td>0</td>\n",
       "      <td>0</td>\n",
       "      <td>0</td>\n",
       "      <td>0</td>\n",
       "      <td>0</td>\n",
       "      <td>...</td>\n",
       "      <td>0.8</td>\n",
       "      <td>3.94</td>\n",
       "      <td>0.0</td>\n",
       "      <td>3840</td>\n",
       "      <td>0</td>\n",
       "      <td>0.0</td>\n",
       "      <td>0</td>\n",
       "      <td>0</td>\n",
       "      <td>16.0</td>\n",
       "      <td>0.893663</td>\n",
       "    </tr>\n",
       "    <tr>\n",
       "      <th>905</th>\n",
       "      <td>0</td>\n",
       "      <td>0</td>\n",
       "      <td>0</td>\n",
       "      <td>0</td>\n",
       "      <td>0</td>\n",
       "      <td>0</td>\n",
       "      <td>0</td>\n",
       "      <td>0</td>\n",
       "      <td>0</td>\n",
       "      <td>0</td>\n",
       "      <td>...</td>\n",
       "      <td>0.8</td>\n",
       "      <td>15.26</td>\n",
       "      <td>1062.0</td>\n",
       "      <td>4080</td>\n",
       "      <td>50</td>\n",
       "      <td>0.0</td>\n",
       "      <td>0</td>\n",
       "      <td>0</td>\n",
       "      <td>34.0</td>\n",
       "      <td>0.800402</td>\n",
       "    </tr>\n",
       "    <tr>\n",
       "      <th>782</th>\n",
       "      <td>0</td>\n",
       "      <td>0</td>\n",
       "      <td>1</td>\n",
       "      <td>0</td>\n",
       "      <td>0</td>\n",
       "      <td>0</td>\n",
       "      <td>0</td>\n",
       "      <td>0</td>\n",
       "      <td>0</td>\n",
       "      <td>0</td>\n",
       "      <td>...</td>\n",
       "      <td>0.8</td>\n",
       "      <td>22.52</td>\n",
       "      <td>12.0</td>\n",
       "      <td>6900</td>\n",
       "      <td>0</td>\n",
       "      <td>0.0</td>\n",
       "      <td>0</td>\n",
       "      <td>0</td>\n",
       "      <td>57.5</td>\n",
       "      <td>0.432123</td>\n",
       "    </tr>\n",
       "  </tbody>\n",
       "</table>\n",
       "<p>5 rows × 25 columns</p>\n",
       "</div>"
      ],
      "text/plain": [
       "     department_finishing  team_1  team_2  team_3  team_4  team_5  team_6  \\\n",
       "657                     0       0       0       0       0       0       0   \n",
       "98                      0       0       0       0       0       0       1   \n",
       "63                      1       0       0       0       1       0       0   \n",
       "905                     0       0       0       0       0       0       0   \n",
       "782                     0       0       1       0       0       0       0   \n",
       "\n",
       "     team_7  team_8  team_9  ...  targeted_productivity    smv     wip  \\\n",
       "657       0       0       0  ...                    0.8  22.52  1388.0   \n",
       "98        0       0       0  ...                    0.8  11.61   910.0   \n",
       "63        0       0       0  ...                    0.8   3.94     0.0   \n",
       "905       0       0       0  ...                    0.8  15.26  1062.0   \n",
       "782       0       0       0  ...                    0.8  22.52    12.0   \n",
       "\n",
       "     over_time  incentive  idle_time  idle_men  no_of_style_change  \\\n",
       "657       6720         88        0.0         0                   0   \n",
       "98        4470         38        0.0         0                   0   \n",
       "63        3840          0        0.0         0                   0   \n",
       "905       4080         50        0.0         0                   0   \n",
       "782       6900          0        0.0         0                   0   \n",
       "\n",
       "     no_of_workers  actual_productivity  \n",
       "657           56.0             0.900800  \n",
       "98            31.5             0.800077  \n",
       "63            16.0             0.893663  \n",
       "905           34.0             0.800402  \n",
       "782           57.5             0.432123  \n",
       "\n",
       "[5 rows x 25 columns]"
      ]
     },
     "execution_count": 31,
     "metadata": {},
     "output_type": "execute_result"
    }
   ],
   "source": [
    "#Shuffle df for cross-validation so all folds are similar (train_test_split shuffles by default, but that follows cv).\n",
    "garment_shuf = shuffle(garment_prepped, random_state=7)\n",
    "garment_shuf.head()"
   ]
  },
  {
   "cell_type": "code",
   "execution_count": 32,
   "id": "caf7fe6d",
   "metadata": {},
   "outputs": [
    {
     "name": "stdout",
     "output_type": "stream",
     "text": [
      "<class 'pandas.core.frame.DataFrame'>\n",
      "Int64Index: 1197 entries, 657 to 175\n",
      "Data columns (total 24 columns):\n",
      " #   Column                 Non-Null Count  Dtype  \n",
      "---  ------                 --------------  -----  \n",
      " 0   department_finishing   1197 non-null   uint8  \n",
      " 1   team_1                 1197 non-null   uint8  \n",
      " 2   team_2                 1197 non-null   uint8  \n",
      " 3   team_3                 1197 non-null   uint8  \n",
      " 4   team_4                 1197 non-null   uint8  \n",
      " 5   team_5                 1197 non-null   uint8  \n",
      " 6   team_6                 1197 non-null   uint8  \n",
      " 7   team_7                 1197 non-null   uint8  \n",
      " 8   team_8                 1197 non-null   uint8  \n",
      " 9   team_9                 1197 non-null   uint8  \n",
      " 10  team_10                1197 non-null   uint8  \n",
      " 11  team_11                1197 non-null   uint8  \n",
      " 12  date                   1197 non-null   int64  \n",
      " 13  quarter_ordinal        1197 non-null   int64  \n",
      " 14  day_ordinal            1197 non-null   int64  \n",
      " 15  targeted_productivity  1197 non-null   float64\n",
      " 16  smv                    1197 non-null   float64\n",
      " 17  wip                    1197 non-null   float64\n",
      " 18  over_time              1197 non-null   int64  \n",
      " 19  incentive              1197 non-null   int64  \n",
      " 20  idle_time              1197 non-null   float64\n",
      " 21  idle_men               1197 non-null   int64  \n",
      " 22  no_of_style_change     1197 non-null   int64  \n",
      " 23  no_of_workers          1197 non-null   float64\n",
      "dtypes: float64(5), int64(7), uint8(12)\n",
      "memory usage: 135.6 KB\n"
     ]
    }
   ],
   "source": [
    "y_pca = garment_shuf['actual_productivity']\n",
    "# X_pca = garment_shuf[['smv', 'wip', 'over_time', 'incentive', 'no_of_style_change', 'no_of_workers']]\n",
    "# columns to drop , 'targeted_productivity','idle_time',\n",
    "X_pca = garment_shuf.drop(columns = ['actual_productivity'])\n",
    "X_pca.info()"
   ]
  },
  {
   "cell_type": "code",
   "execution_count": 33,
   "id": "3bcdc3bb",
   "metadata": {},
   "outputs": [
    {
     "data": {
      "text/plain": [
       "(1197, 24)"
      ]
     },
     "execution_count": 33,
     "metadata": {},
     "output_type": "execute_result"
    }
   ],
   "source": [
    "# Scale the predictor variables and perform PCA on them.\n",
    "pca = PCA()\n",
    "X_reduced = pca.fit_transform(scale(X_pca))\n",
    "X_reduced.shape"
   ]
  },
  {
   "cell_type": "code",
   "execution_count": 34,
   "id": "d464d92a",
   "metadata": {},
   "outputs": [
    {
     "data": {
      "text/plain": [
       "[]"
      ]
     },
     "execution_count": 34,
     "metadata": {},
     "output_type": "execute_result"
    }
   ],
   "source": [
    "# Use k-fold cross-validation to evaluate model performance using k = 10 folds, repeated 3 times.\n",
    "cv = RepeatedKFold(n_splits=10, n_repeats=3, random_state=1)\n",
    "\n",
    "regr = LinearRegression()\n",
    "mse = []\n",
    "mse"
   ]
  },
  {
   "cell_type": "code",
   "execution_count": 35,
   "id": "8aa559d9",
   "metadata": {},
   "outputs": [
    {
     "data": {
      "text/plain": [
       "[0.0304612646170554]"
      ]
     },
     "execution_count": 35,
     "metadata": {},
     "output_type": "execute_result"
    }
   ],
   "source": [
    "# Calculate the average of MSE from each split without using any of the principal components.\n",
    "score = -1*model_selection.cross_val_score(regr,\n",
    "           np.ones((len(X_reduced),1)), y_pca, cv=cv,\n",
    "           scoring='neg_mean_squared_error').mean()    \n",
    "mse.append(score)\n",
    "mse"
   ]
  },
  {
   "cell_type": "code",
   "execution_count": 36,
   "id": "1b931d81",
   "metadata": {},
   "outputs": [
    {
     "data": {
      "text/plain": [
       "[0.0304612646170554,\n",
       " 0.03013425467543644,\n",
       " 0.026962380272945907,\n",
       " 0.026709076457153855,\n",
       " 0.02579025293102626,\n",
       " 0.02571995887735717,\n",
       " 0.025503338918577312,\n",
       " 0.02545658761885681,\n",
       " 0.025474846884656382,\n",
       " 0.025514950770285854,\n",
       " 0.0252301735210446,\n",
       " 0.025279677131771358,\n",
       " 0.025065077764971362,\n",
       " 0.02493777521214016,\n",
       " 0.024485339096170795,\n",
       " 0.024563624883597077,\n",
       " 0.024637182940229832,\n",
       " 0.023430499717833723,\n",
       " 0.02322438451232785,\n",
       " 0.02329475639507349,\n",
       " 0.023019173118132008,\n",
       " 0.022983296012669623,\n",
       " 0.022808333631028726,\n",
       " 0.022240603257469682,\n",
       " 0.02186682888543295]"
      ]
     },
     "execution_count": 36,
     "metadata": {},
     "output_type": "execute_result"
    }
   ],
   "source": [
    "# Calculate MSE using cross-validation, adding one component at a time until all components are used.\n",
    "for i in np.arange(1, 25):\n",
    "    score = -1*model_selection.cross_val_score(regr,\n",
    "               X_reduced[:,:i], y_pca, cv=cv, scoring='neg_mean_squared_error').mean()\n",
    "    mse.append(score)\n",
    "mse"
   ]
  },
  {
   "cell_type": "code",
   "execution_count": 37,
   "id": "12908da9",
   "metadata": {},
   "outputs": [
    {
     "data": {
      "text/plain": [
       "Text(0.5, 1.0, 'actual_productivity')"
      ]
     },
     "execution_count": 37,
     "metadata": {},
     "output_type": "execute_result"
    },
    {
     "data": {
      "image/png": "[encoded data removed]",
      "text/plain": [
       "<Figure size 432x288 with 1 Axes>"
      ]
     },
     "metadata": {
      "needs_background": "light"
     },
     "output_type": "display_data"
    }
   ],
   "source": [
    "# Plot cross-validation results    \n",
    "plt.plot(mse)\n",
    "plt.xlabel('Number of Principal Components')\n",
    "plt.ylabel('MSE')\n",
    "plt.title('actual_productivity')"
   ]
  },
  {
   "cell_type": "code",
   "execution_count": 38,
   "id": "3412edb0",
   "metadata": {},
   "outputs": [
    {
     "data": {
      "text/plain": [
       "array([ 15.63,  22.74,  29.  ,  34.39,  39.28,  43.93,  48.54,  53.12,\n",
       "        57.7 ,  62.27,  66.84,  71.36,  75.79,  80.2 ,  83.97,  87.62,\n",
       "        90.8 ,  93.91,  96.16,  97.87,  99.05,  99.55,  99.89, 100.  ])"
      ]
     },
     "execution_count": 38,
     "metadata": {},
     "output_type": "execute_result"
    }
   ],
   "source": [
    "np.cumsum(np.round(pca.explained_variance_ratio_, decimals=4)*100)"
   ]
  },
  {
   "cell_type": "markdown",
   "id": "e52d610b",
   "metadata": {},
   "source": [
    "MSE decreases with each additional component up to 7 (the first MSE reflects no principle components), so can try 7 principal components in regression. However, the first 7 principal components only explay 53% of the variance. So can also try 14 principal components, which explain about 84% of the variance."
   ]
  },
  {
   "cell_type": "code",
   "execution_count": 39,
   "id": "0fa3d463",
   "metadata": {},
   "outputs": [],
   "source": [
    "# Split into train & test subsets\n",
    "X_pca_train,X_pca_test,y_pca_train,y_pca_test = train_test_split(X_pca, y_pca, test_size=0.3, random_state=0) \n",
    "# run PCA on train subset, scaling each predictor by fitting & transforming.\n",
    "X_reduced_train = pca.fit_transform(scale(X_pca_train))"
   ]
  },
  {
   "cell_type": "code",
   "execution_count": 40,
   "id": "d13fe955",
   "metadata": {},
   "outputs": [
    {
     "name": "stdout",
     "output_type": "stream",
     "text": [
      "PC7 R2 = 0.2354\n"
     ]
    }
   ],
   "source": [
    "# Try regression using first 7 principal components.\n",
    "regr7 = LinearRegression()\n",
    "# run PCA on test subset, transforming (with fit from X_pca_train) & selecting first 7 principal components.\n",
    "X_reduced_test7 = pca.transform(scale(X_pca_test))[:,:7]\n",
    "# train model on first 7 principal components\n",
    "regr7.fit(X_reduced_train[:,:7], y_pca_train)\n",
    "# calculate R2 by using trained model to predict target values and compare to actual values.\n",
    "print('PC7 R2 = {:.4f}'.format(regr7.score(X_reduced_test7, y_pca_test)))"
   ]
  },
  {
   "cell_type": "code",
   "execution_count": 41,
   "id": "f0724607",
   "metadata": {},
   "outputs": [
    {
     "name": "stdout",
     "output_type": "stream",
     "text": [
      "PC14 R2 = 0.2326\n"
     ]
    }
   ],
   "source": [
    "# Try regression with 14 principal components.\n",
    "regr14 = LinearRegression()\n",
    "# run PCA on test subset, transforming (with fit from X_pca_train) & selecting first 14 principal components.\n",
    "X_reduced_test14 = pca.transform(scale(X_pca_test))[:,:14]\n",
    "# train model on first 14 principal components\n",
    "regr14.fit(X_reduced_train[:,:14], y_pca_train)\n",
    "# calculate R2 by using trained model to predict target values and compare to actual values.\n",
    "print('PC14 R2 = {:.4f}'.format(regr14.score(X_reduced_test14, y_pca_test)))"
   ]
  },
  {
   "cell_type": "markdown",
   "id": "a1579916",
   "metadata": {},
   "source": [
    "The PCA did not improve model performance, so next try ridge & lasso together. ElasticNet does this. Use with cross-validation. "
   ]
  },
  {
   "cell_type": "code",
   "execution_count": 42,
   "id": "9a27db3d",
   "metadata": {},
   "outputs": [
    {
     "name": "stdout",
     "output_type": "stream",
     "text": [
      "ElasticNet R2 = -0.0011\n"
     ]
    }
   ],
   "source": [
    "# Use default value balancing ridge & lasso (in sklearn set by default l1 ratio = 0.5, but elsewhere called 'alpha'). \n",
    "e_net = ElasticNet()\n",
    "e_net.fit(X_train, y_train)\n",
    "print('ElasticNet R2 = {:.4f}'.format(e_net.score(X_test, y_test)))"
   ]
  },
  {
   "cell_type": "markdown",
   "id": "88aab0cc",
   "metadata": {},
   "source": [
    "Performance was poor, so let cross-validation search for better parameters."
   ]
  },
  {
   "cell_type": "code",
   "execution_count": 43,
   "id": "3de624cc",
   "metadata": {},
   "outputs": [
    {
     "name": "stdout",
     "output_type": "stream",
     "text": [
      "ElasticNetCV R2 = 0.2828\n"
     ]
    }
   ],
   "source": [
    "e_netCV = ElasticNetCV(cv = 10)\n",
    "e_netCV.fit(X_train, y_train)\n",
    "print('ElasticNetCV R2 = {:.4f}'.format(e_netCV.score(X_test, y_test)))"
   ]
  },
  {
   "cell_type": "markdown",
   "id": "756ae1ab",
   "metadata": {},
   "source": [
    "This is the highest R2 of all models so far, greater than linear regression R2 by about 0.0056. What alpha and lambda values were best?"
   ]
  },
  {
   "cell_type": "code",
   "execution_count": 44,
   "id": "66c75e45",
   "metadata": {},
   "outputs": [
    {
     "data": {
      "text/plain": [
       "0.5"
      ]
     },
     "execution_count": 44,
     "metadata": {},
     "output_type": "execute_result"
    }
   ],
   "source": [
    "e_netCV.l1_ratio_"
   ]
  },
  {
   "cell_type": "markdown",
   "id": "7578ce52",
   "metadata": {},
   "source": [
    "Cross-validation didn't change the balance between ridge and lasso."
   ]
  },
  {
   "cell_type": "code",
   "execution_count": 45,
   "id": "9901df58",
   "metadata": {},
   "outputs": [
    {
     "data": {
      "text/plain": [
       "0.0013162279856429068"
      ]
     },
     "execution_count": 45,
     "metadata": {},
     "output_type": "execute_result"
    }
   ],
   "source": [
    "e_netCV.alpha_"
   ]
  },
  {
   "cell_type": "markdown",
   "id": "94d4743a",
   "metadata": {},
   "source": [
    "The sklearn 'alpha' value near 0 indicates that only a small amount of regularization was performed, and this seems to have improved performance slightly over non-regularized linear regression."
   ]
  },
  {
   "cell_type": "code",
   "execution_count": 46,
   "id": "4c3d1ae0",
   "metadata": {},
   "outputs": [
    {
     "data": {
      "text/plain": [
       "array([ 0.00875903,  0.05974603,  0.02074828,  0.06216108,  0.04390612,\n",
       "        0.        , -0.05361424, -0.049864  , -0.02227702, -0.01713028,\n",
       "       -0.02815538, -0.05665452, -0.01779714, -0.        ,  0.00166308,\n",
       "        0.06104177, -0.07392782,  0.00682659, -0.01961632,  0.01066051,\n",
       "        0.01075409, -0.02969781, -0.01155144,  0.08012466])"
      ]
     },
     "execution_count": 46,
     "metadata": {},
     "output_type": "execute_result"
    }
   ],
   "source": [
    "# take a look at the model coefficients\n",
    "e_netCV.coef_"
   ]
  },
  {
   "cell_type": "markdown",
   "id": "75668542",
   "metadata": {},
   "source": [
    "Not surprisingly, the high end of the coefficient range was found in several different predictors."
   ]
  },
  {
   "cell_type": "markdown",
   "id": "158d80f2",
   "metadata": {},
   "source": [
    "Try a neural network to see if it predicts productivity better."
   ]
  },
  {
   "cell_type": "code",
   "execution_count": 47,
   "id": "15469b73",
   "metadata": {},
   "outputs": [],
   "source": [
    "import tensorflow.python.keras.backend\n",
    "from tensorflow.python.keras import initializers, optimizers, regularizers,layers\n",
    "# from tensorflow.python.keras.optimizers import SGD\n",
    "from tensorflow.python.keras.constraints import maxnorm\n",
    "from tensorflow.python.keras.models import Sequential, load_model\n",
    "from tensorflow.python.keras.layers import Dense, Activation, Dropout, Flatten\n",
    "from tensorflow.python.keras.utils import np_utils\n",
    "from tensorflow.python.keras.wrappers.scikit_learn import KerasRegressor, KerasClassifier"
   ]
  },
  {
   "cell_type": "code",
   "execution_count": 48,
   "id": "3cf1e738",
   "metadata": {},
   "outputs": [],
   "source": [
    "model = Sequential()"
   ]
  },
  {
   "cell_type": "code",
   "execution_count": 49,
   "id": "5e007f87",
   "metadata": {},
   "outputs": [],
   "source": [
    "#InputLayer\n",
    "model.add(Dense(12, input_dim = 24, activation='relu'))"
   ]
  },
  {
   "cell_type": "code",
   "execution_count": 50,
   "id": "a947a65b",
   "metadata": {},
   "outputs": [],
   "source": [
    "#Hidden Layers\n",
    "model.add(Dense(5, activation='relu'))"
   ]
  },
  {
   "cell_type": "code",
   "execution_count": 51,
   "id": "38bb2ed0",
   "metadata": {},
   "outputs": [],
   "source": [
    "#Output Layer\n",
    "model.add(Dense(1, activation='relu'))"
   ]
  },
  {
   "cell_type": "code",
   "execution_count": 52,
   "id": "b31abee5",
   "metadata": {},
   "outputs": [],
   "source": [
    "model.compile(loss='mse', optimizer='adam', metrics=['mse'])"
   ]
  },
  {
   "cell_type": "code",
   "execution_count": 53,
   "id": "eb582490",
   "metadata": {
    "scrolled": true
   },
   "outputs": [
    {
     "name": "stdout",
     "output_type": "stream",
     "text": [
      "Epoch 1/20\n",
      "24/24 [==============================] - 1s 17ms/step - loss: 0.4460 - mse: 0.4460 - val_loss: 0.3900 - val_mse: 0.3900\n",
      "Epoch 2/20\n",
      "24/24 [==============================] - 0s 3ms/step - loss: 0.3628 - mse: 0.3628 - val_loss: 0.3546 - val_mse: 0.3546\n",
      "Epoch 3/20\n",
      "24/24 [==============================] - 0s 4ms/step - loss: 0.3320 - mse: 0.3320 - val_loss: 0.3190 - val_mse: 0.3190\n",
      "Epoch 4/20\n",
      "24/24 [==============================] - 0s 4ms/step - loss: 0.2884 - mse: 0.2884 - val_loss: 0.2578 - val_mse: 0.2578\n",
      "Epoch 5/20\n",
      "24/24 [==============================] - 0s 3ms/step - loss: 0.1897 - mse: 0.1897 - val_loss: 0.1273 - val_mse: 0.1273\n",
      "Epoch 6/20\n",
      "24/24 [==============================] - 0s 4ms/step - loss: 0.0921 - mse: 0.0921 - val_loss: 0.0683 - val_mse: 0.0683\n",
      "Epoch 7/20\n",
      "24/24 [==============================] - 0s 4ms/step - loss: 0.0651 - mse: 0.0651 - val_loss: 0.0562 - val_mse: 0.0562\n",
      "Epoch 8/20\n",
      "24/24 [==============================] - 0s 4ms/step - loss: 0.0554 - mse: 0.0554 - val_loss: 0.0504 - val_mse: 0.0504\n",
      "Epoch 9/20\n",
      "24/24 [==============================] - 0s 4ms/step - loss: 0.0488 - mse: 0.0488 - val_loss: 0.0465 - val_mse: 0.0465\n",
      "Epoch 10/20\n",
      "24/24 [==============================] - 0s 4ms/step - loss: 0.0439 - mse: 0.0439 - val_loss: 0.0427 - val_mse: 0.0427\n",
      "Epoch 11/20\n",
      "24/24 [==============================] - 0s 4ms/step - loss: 0.0402 - mse: 0.0402 - val_loss: 0.0406 - val_mse: 0.0406\n",
      "Epoch 12/20\n",
      "24/24 [==============================] - 0s 4ms/step - loss: 0.0377 - mse: 0.0377 - val_loss: 0.0387 - val_mse: 0.0387\n",
      "Epoch 13/20\n",
      "24/24 [==============================] - 0s 4ms/step - loss: 0.0353 - mse: 0.0353 - val_loss: 0.0371 - val_mse: 0.0371\n",
      "Epoch 14/20\n",
      "24/24 [==============================] - 0s 4ms/step - loss: 0.0335 - mse: 0.0335 - val_loss: 0.0360 - val_mse: 0.0360\n",
      "Epoch 15/20\n",
      "24/24 [==============================] - 0s 3ms/step - loss: 0.0321 - mse: 0.0321 - val_loss: 0.0349 - val_mse: 0.0349\n",
      "Epoch 16/20\n",
      "24/24 [==============================] - 0s 3ms/step - loss: 0.0307 - mse: 0.0307 - val_loss: 0.0339 - val_mse: 0.0339\n",
      "Epoch 17/20\n",
      "24/24 [==============================] - 0s 4ms/step - loss: 0.0298 - mse: 0.0298 - val_loss: 0.0332 - val_mse: 0.0332\n",
      "Epoch 18/20\n",
      "24/24 [==============================] - 0s 4ms/step - loss: 0.0288 - mse: 0.0288 - val_loss: 0.0324 - val_mse: 0.0324\n",
      "Epoch 19/20\n",
      "24/24 [==============================] - 0s 3ms/step - loss: 0.0277 - mse: 0.0277 - val_loss: 0.0312 - val_mse: 0.0312\n",
      "Epoch 20/20\n",
      "24/24 [==============================] - 0s 3ms/step - loss: 0.0266 - mse: 0.0266 - val_loss: 0.0306 - val_mse: 0.0306\n"
     ]
    }
   ],
   "source": [
    "history = model.fit(X_train, y_train, batch_size=35, epochs=20, validation_data=(X_test, y_test),verbose=1)"
   ]
  },
  {
   "cell_type": "markdown",
   "id": "8e75b037",
   "metadata": {},
   "source": [
    "Evaluate model by computing mean squarred error for neural network and for ElasticNetCV."
   ]
  },
  {
   "cell_type": "code",
   "execution_count": 54,
   "id": "27e65cdf",
   "metadata": {},
   "outputs": [
    {
     "name": "stdout",
     "output_type": "stream",
     "text": [
      "12/12 [==============================] - 0s 3ms/step - loss: 0.0306 - mse: 0.0306\n"
     ]
    }
   ],
   "source": [
    "# MSE for the neural network model\n",
    "test_MSE = model.evaluate(X_test, y_test)"
   ]
  },
  {
   "cell_type": "code",
   "execution_count": 55,
   "id": "ea6999b5",
   "metadata": {},
   "outputs": [
    {
     "data": {
      "text/plain": [
       "0.020700031146451758"
      ]
     },
     "execution_count": 55,
     "metadata": {},
     "output_type": "execute_result"
    }
   ],
   "source": [
    "#MSE for ElasticNetCV\n",
    "pred = e_netCV.predict(X_test)\n",
    "mean_squared_error(y_test, pred)"
   ]
  },
  {
   "cell_type": "markdown",
   "id": "2ad6aa92",
   "metadata": {},
   "source": [
    "ElasticNet with cross-validation produced a smaller mean squarred error, so performed a little better than this initial try with a neural network."
   ]
  }
 ],
 "metadata": {
  "kernelspec": {
   "display_name": "Python 3",
   "language": "python",
   "name": "python3"
  },
  "language_info": {
   "codemirror_mode": {
    "name": "ipython",
    "version": 3
   },
   "file_extension": ".py",
   "mimetype": "text/x-python",
   "name": "python",
   "nbconvert_exporter": "python",
   "pygments_lexer": "ipython3",
   "version": "3.9.1"
  }
 },
 "nbformat": 4,
 "nbformat_minor": 5
}
