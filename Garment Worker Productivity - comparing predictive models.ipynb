{
 "cells": [
  {
   "cell_type": "markdown",
   "id": "fda09acf",
   "metadata": {},
   "source": [
    "This notebook preprocesses, encodes, train_test splits, & scales data, then runs a variety of models to predict garment worker productivity."
   ]
  },
  {
   "cell_type": "code",
   "execution_count": 1,
   "id": "06e22ac4",
   "metadata": {},
   "outputs": [],
   "source": [
    "import pandas as pd\n",
    "import numpy as np\n",
    "import matplotlib.pyplot as plt\n",
    "from sklearn import model_selection\n",
    "from sklearn.preprocessing import StandardScaler, scale\n",
    "from sklearn.utils import shuffle\n",
    "from sklearn.model_selection import train_test_split, RepeatedKFold\n",
    "from sklearn.linear_model import LinearRegression, ElasticNet, ElasticNetCV\n",
    "from sklearn.decomposition import PCA\n",
    "from sklearn.metrics import mean_squared_error, r2_score"
   ]
  },
  {
   "cell_type": "markdown",
   "id": "1de8edcd",
   "metadata": {},
   "source": [
    "Preprocess data. Begin by checking for null values."
   ]
  },
  {
   "cell_type": "code",
   "execution_count": 2,
   "id": "c526e4f0",
   "metadata": {},
   "outputs": [
    {
     "name": "stdout",
     "output_type": "stream",
     "text": [
      "<class 'pandas.core.frame.DataFrame'>\n",
      "RangeIndex: 1197 entries, 0 to 1196\n",
      "Data columns (total 15 columns):\n",
      " #   Column                 Non-Null Count  Dtype  \n",
      "---  ------                 --------------  -----  \n",
      " 0   date                   1197 non-null   object \n",
      " 1   quarter                1197 non-null   object \n",
      " 2   department             1197 non-null   object \n",
      " 3   day                    1197 non-null   object \n",
      " 4   team                   1197 non-null   int64  \n",
      " 5   targeted_productivity  1197 non-null   float64\n",
      " 6   smv                    1197 non-null   float64\n",
      " 7   wip                    691 non-null    float64\n",
      " 8   over_time              1197 non-null   int64  \n",
      " 9   incentive              1197 non-null   int64  \n",
      " 10  idle_time              1197 non-null   float64\n",
      " 11  idle_men               1197 non-null   int64  \n",
      " 12  no_of_style_change     1197 non-null   int64  \n",
      " 13  no_of_workers          1197 non-null   float64\n",
      " 14  actual_productivity    1197 non-null   float64\n",
      "dtypes: float64(6), int64(5), object(4)\n",
      "memory usage: 140.4+ KB\n"
     ]
    }
   ],
   "source": [
    "garment_prod = pd.read_csv(\"data/garments_worker_productivity.csv\")\n",
    "garment_prod.info()"
   ]
  },
  {
   "cell_type": "code",
   "execution_count": 3,
   "id": "90c7d4f8",
   "metadata": {},
   "outputs": [
    {
     "data": {
      "text/plain": [
       "count      691.000000\n",
       "mean      1190.465991\n",
       "std       1837.455001\n",
       "min          7.000000\n",
       "25%        774.500000\n",
       "50%       1039.000000\n",
       "75%       1252.500000\n",
       "max      23122.000000\n",
       "Name: wip, dtype: float64"
      ]
     },
     "execution_count": 3,
     "metadata": {},
     "output_type": "execute_result"
    }
   ],
   "source": [
    "garment_prod['wip'].describe()"
   ]
  },
  {
   "cell_type": "markdown",
   "id": "a21a0d3c",
   "metadata": {},
   "source": [
    "The 'wip' column shows number of works in progress. Given the large number of nulls and that min = 7, assume nulls should be considered 0."
   ]
  },
  {
   "cell_type": "code",
   "execution_count": 4,
   "id": "d4f45428",
   "metadata": {},
   "outputs": [],
   "source": [
    "garment_prod['wip'] = garment_prod['wip'].fillna(0)"
   ]
  },
  {
   "cell_type": "markdown",
   "id": "d104e102",
   "metadata": {},
   "source": [
    "Convert 'date' to datetime to facilitate anlysis."
   ]
  },
  {
   "cell_type": "code",
   "execution_count": 5,
   "id": "757f9897",
   "metadata": {},
   "outputs": [],
   "source": [
    "garment_prod['date'] = pd.to_datetime(garment_prod['date'])"
   ]
  },
  {
   "cell_type": "code",
   "execution_count": 6,
   "id": "c9ad06d7",
   "metadata": {},
   "outputs": [
    {
     "data": {
      "text/html": [
       "<div>\n",
       "<style scoped>\n",
       "    .dataframe tbody tr th:only-of-type {\n",
       "        vertical-align: middle;\n",
       "    }\n",
       "\n",
       "    .dataframe tbody tr th {\n",
       "        vertical-align: top;\n",
       "    }\n",
       "\n",
       "    .dataframe thead th {\n",
       "        text-align: right;\n",
       "    }\n",
       "</style>\n",
       "<table border=\"1\" class=\"dataframe\">\n",
       "  <thead>\n",
       "    <tr style=\"text-align: right;\">\n",
       "      <th></th>\n",
       "      <th>team</th>\n",
       "      <th>targeted_productivity</th>\n",
       "      <th>smv</th>\n",
       "      <th>wip</th>\n",
       "      <th>over_time</th>\n",
       "      <th>incentive</th>\n",
       "      <th>idle_time</th>\n",
       "      <th>idle_men</th>\n",
       "      <th>no_of_style_change</th>\n",
       "      <th>no_of_workers</th>\n",
       "      <th>actual_productivity</th>\n",
       "    </tr>\n",
       "  </thead>\n",
       "  <tbody>\n",
       "    <tr>\n",
       "      <th>count</th>\n",
       "      <td>1197.000000</td>\n",
       "      <td>1197.000000</td>\n",
       "      <td>1197.000000</td>\n",
       "      <td>1197.000000</td>\n",
       "      <td>1197.000000</td>\n",
       "      <td>1197.000000</td>\n",
       "      <td>1197.000000</td>\n",
       "      <td>1197.000000</td>\n",
       "      <td>1197.000000</td>\n",
       "      <td>1197.000000</td>\n",
       "      <td>1197.000000</td>\n",
       "    </tr>\n",
       "    <tr>\n",
       "      <th>mean</th>\n",
       "      <td>6.426901</td>\n",
       "      <td>0.729632</td>\n",
       "      <td>15.062172</td>\n",
       "      <td>687.228070</td>\n",
       "      <td>4567.460317</td>\n",
       "      <td>38.210526</td>\n",
       "      <td>0.730159</td>\n",
       "      <td>0.369256</td>\n",
       "      <td>0.150376</td>\n",
       "      <td>34.609858</td>\n",
       "      <td>0.735091</td>\n",
       "    </tr>\n",
       "    <tr>\n",
       "      <th>std</th>\n",
       "      <td>3.463963</td>\n",
       "      <td>0.097891</td>\n",
       "      <td>10.943219</td>\n",
       "      <td>1514.582341</td>\n",
       "      <td>3348.823563</td>\n",
       "      <td>160.182643</td>\n",
       "      <td>12.709757</td>\n",
       "      <td>3.268987</td>\n",
       "      <td>0.427848</td>\n",
       "      <td>22.197687</td>\n",
       "      <td>0.174488</td>\n",
       "    </tr>\n",
       "    <tr>\n",
       "      <th>min</th>\n",
       "      <td>1.000000</td>\n",
       "      <td>0.070000</td>\n",
       "      <td>2.900000</td>\n",
       "      <td>0.000000</td>\n",
       "      <td>0.000000</td>\n",
       "      <td>0.000000</td>\n",
       "      <td>0.000000</td>\n",
       "      <td>0.000000</td>\n",
       "      <td>0.000000</td>\n",
       "      <td>2.000000</td>\n",
       "      <td>0.233705</td>\n",
       "    </tr>\n",
       "    <tr>\n",
       "      <th>25%</th>\n",
       "      <td>3.000000</td>\n",
       "      <td>0.700000</td>\n",
       "      <td>3.940000</td>\n",
       "      <td>0.000000</td>\n",
       "      <td>1440.000000</td>\n",
       "      <td>0.000000</td>\n",
       "      <td>0.000000</td>\n",
       "      <td>0.000000</td>\n",
       "      <td>0.000000</td>\n",
       "      <td>9.000000</td>\n",
       "      <td>0.650307</td>\n",
       "    </tr>\n",
       "    <tr>\n",
       "      <th>50%</th>\n",
       "      <td>6.000000</td>\n",
       "      <td>0.750000</td>\n",
       "      <td>15.260000</td>\n",
       "      <td>586.000000</td>\n",
       "      <td>3960.000000</td>\n",
       "      <td>0.000000</td>\n",
       "      <td>0.000000</td>\n",
       "      <td>0.000000</td>\n",
       "      <td>0.000000</td>\n",
       "      <td>34.000000</td>\n",
       "      <td>0.773333</td>\n",
       "    </tr>\n",
       "    <tr>\n",
       "      <th>75%</th>\n",
       "      <td>9.000000</td>\n",
       "      <td>0.800000</td>\n",
       "      <td>24.260000</td>\n",
       "      <td>1083.000000</td>\n",
       "      <td>6960.000000</td>\n",
       "      <td>50.000000</td>\n",
       "      <td>0.000000</td>\n",
       "      <td>0.000000</td>\n",
       "      <td>0.000000</td>\n",
       "      <td>57.000000</td>\n",
       "      <td>0.850253</td>\n",
       "    </tr>\n",
       "    <tr>\n",
       "      <th>max</th>\n",
       "      <td>12.000000</td>\n",
       "      <td>0.800000</td>\n",
       "      <td>54.560000</td>\n",
       "      <td>23122.000000</td>\n",
       "      <td>25920.000000</td>\n",
       "      <td>3600.000000</td>\n",
       "      <td>300.000000</td>\n",
       "      <td>45.000000</td>\n",
       "      <td>2.000000</td>\n",
       "      <td>89.000000</td>\n",
       "      <td>1.120437</td>\n",
       "    </tr>\n",
       "  </tbody>\n",
       "</table>\n",
       "</div>"
      ],
      "text/plain": [
       "              team  targeted_productivity          smv           wip  \\\n",
       "count  1197.000000            1197.000000  1197.000000   1197.000000   \n",
       "mean      6.426901               0.729632    15.062172    687.228070   \n",
       "std       3.463963               0.097891    10.943219   1514.582341   \n",
       "min       1.000000               0.070000     2.900000      0.000000   \n",
       "25%       3.000000               0.700000     3.940000      0.000000   \n",
       "50%       6.000000               0.750000    15.260000    586.000000   \n",
       "75%       9.000000               0.800000    24.260000   1083.000000   \n",
       "max      12.000000               0.800000    54.560000  23122.000000   \n",
       "\n",
       "          over_time    incentive    idle_time     idle_men  \\\n",
       "count   1197.000000  1197.000000  1197.000000  1197.000000   \n",
       "mean    4567.460317    38.210526     0.730159     0.369256   \n",
       "std     3348.823563   160.182643    12.709757     3.268987   \n",
       "min        0.000000     0.000000     0.000000     0.000000   \n",
       "25%     1440.000000     0.000000     0.000000     0.000000   \n",
       "50%     3960.000000     0.000000     0.000000     0.000000   \n",
       "75%     6960.000000    50.000000     0.000000     0.000000   \n",
       "max    25920.000000  3600.000000   300.000000    45.000000   \n",
       "\n",
       "       no_of_style_change  no_of_workers  actual_productivity  \n",
       "count         1197.000000    1197.000000          1197.000000  \n",
       "mean             0.150376      34.609858             0.735091  \n",
       "std              0.427848      22.197687             0.174488  \n",
       "min              0.000000       2.000000             0.233705  \n",
       "25%              0.000000       9.000000             0.650307  \n",
       "50%              0.000000      34.000000             0.773333  \n",
       "75%              0.000000      57.000000             0.850253  \n",
       "max              2.000000      89.000000             1.120437  "
      ]
     },
     "execution_count": 6,
     "metadata": {},
     "output_type": "execute_result"
    }
   ],
   "source": [
    "garment_prod.describe()"
   ]
  },
  {
   "cell_type": "markdown",
   "id": "7f3b690b",
   "metadata": {},
   "source": [
    "Group predictor columns according to data type into three dataframes for preprocessing: nominal categorical, ordinal categorical, & numerical. "
   ]
  },
  {
   "cell_type": "code",
   "execution_count": 7,
   "id": "aa2fae8b",
   "metadata": {},
   "outputs": [
    {
     "name": "stdout",
     "output_type": "stream",
     "text": [
      "<class 'pandas.core.frame.DataFrame'>\n",
      "RangeIndex: 1197 entries, 0 to 1196\n",
      "Data columns (total 2 columns):\n",
      " #   Column      Non-Null Count  Dtype \n",
      "---  ------      --------------  ----- \n",
      " 0   department  1197 non-null   object\n",
      " 1   team        1197 non-null   int64 \n",
      "dtypes: int64(1), object(1)\n",
      "memory usage: 18.8+ KB\n"
     ]
    }
   ],
   "source": [
    "# Select nominal categorical columns for encoding.\n",
    "garment_nominal = garment_prod[['department', 'team']]\n",
    "garment_nominal.info()"
   ]
  },
  {
   "cell_type": "code",
   "execution_count": 8,
   "id": "0e2f1a9f",
   "metadata": {},
   "outputs": [
    {
     "name": "stdout",
     "output_type": "stream",
     "text": [
      "<class 'pandas.core.frame.DataFrame'>\n",
      "RangeIndex: 1197 entries, 0 to 1196\n",
      "Data columns (total 3 columns):\n",
      " #   Column   Non-Null Count  Dtype         \n",
      "---  ------   --------------  -----         \n",
      " 0   date     1197 non-null   datetime64[ns]\n",
      " 1   quarter  1197 non-null   object        \n",
      " 2   day      1197 non-null   object        \n",
      "dtypes: datetime64[ns](1), object(2)\n",
      "memory usage: 28.2+ KB\n"
     ]
    }
   ],
   "source": [
    "# Select ordinal categorical columns for encoding.\n",
    "garment_ordinal = garment_prod[['date', 'quarter', 'day']]\n",
    "garment_ordinal.info()"
   ]
  },
  {
   "cell_type": "code",
   "execution_count": 9,
   "id": "743be1d3",
   "metadata": {},
   "outputs": [
    {
     "name": "stdout",
     "output_type": "stream",
     "text": [
      "<class 'pandas.core.frame.DataFrame'>\n",
      "RangeIndex: 1197 entries, 0 to 1196\n",
      "Data columns (total 10 columns):\n",
      " #   Column                 Non-Null Count  Dtype  \n",
      "---  ------                 --------------  -----  \n",
      " 0   targeted_productivity  1197 non-null   float64\n",
      " 1   smv                    1197 non-null   float64\n",
      " 2   wip                    1197 non-null   float64\n",
      " 3   over_time              1197 non-null   int64  \n",
      " 4   incentive              1197 non-null   int64  \n",
      " 5   idle_time              1197 non-null   float64\n",
      " 6   idle_men               1197 non-null   int64  \n",
      " 7   no_of_style_change     1197 non-null   int64  \n",
      " 8   no_of_workers          1197 non-null   float64\n",
      " 9   actual_productivity    1197 non-null   float64\n",
      "dtypes: float64(6), int64(4)\n",
      "memory usage: 93.6 KB\n"
     ]
    }
   ],
   "source": [
    "# Select numerical columns.\n",
    "garment_numerical = garment_prod.iloc[:, 5:]\n",
    "garment_numerical.info()"
   ]
  },
  {
   "cell_type": "markdown",
   "id": "da7c733c",
   "metadata": {},
   "source": [
    "Encode nominal features, 'department' and 'team', using One Hot. First, check number of categories in each of these columns."
   ]
  },
  {
   "cell_type": "code",
   "execution_count": 10,
   "id": "a40197c7",
   "metadata": {},
   "outputs": [
    {
     "data": {
      "text/plain": [
       "array(['sweing', 'finishing ', 'finishing'], dtype=object)"
      ]
     },
     "execution_count": 10,
     "metadata": {},
     "output_type": "execute_result"
    }
   ],
   "source": [
    "garment_nominal.iloc[:, 0].unique()"
   ]
  },
  {
   "cell_type": "markdown",
   "id": "37eb6477",
   "metadata": {},
   "source": [
    "Some 'department' entries include a space at the end. Remove those spaces and correct mispelling of 'sewing'."
   ]
  },
  {
   "cell_type": "code",
   "execution_count": 11,
   "id": "a3c329ed",
   "metadata": {},
   "outputs": [
    {
     "data": {
      "text/plain": [
       "array(['sewing', 'finishing'], dtype=object)"
      ]
     },
     "execution_count": 11,
     "metadata": {},
     "output_type": "execute_result"
    }
   ],
   "source": [
    "garment_nominal.iloc[:, 0].replace({'sweing': 'sewing', 'finishing ': 'finishing'}, inplace=True)\n",
    "garment_nominal.iloc[:, 0].unique()"
   ]
  },
  {
   "cell_type": "code",
   "execution_count": 12,
   "id": "7ca14017",
   "metadata": {},
   "outputs": [
    {
     "data": {
      "text/plain": [
       "array([ 1,  2,  3,  4,  5,  6,  7,  8,  9, 10, 11, 12], dtype=int64)"
      ]
     },
     "execution_count": 12,
     "metadata": {},
     "output_type": "execute_result"
    }
   ],
   "source": [
    "team_categories = garment_nominal['team'].unique()\n",
    "team_categories.sort(axis=0)\n",
    "team_categories"
   ]
  },
  {
   "cell_type": "markdown",
   "id": "957a35a1",
   "metadata": {},
   "source": [
    "Utilize get_dummies to encode nominal columns using OHE. Function drops orgininal columns."
   ]
  },
  {
   "cell_type": "code",
   "execution_count": 13,
   "id": "24d9f130",
   "metadata": {},
   "outputs": [
    {
     "data": {
      "text/html": [
       "<div>\n",
       "<style scoped>\n",
       "    .dataframe tbody tr th:only-of-type {\n",
       "        vertical-align: middle;\n",
       "    }\n",
       "\n",
       "    .dataframe tbody tr th {\n",
       "        vertical-align: top;\n",
       "    }\n",
       "\n",
       "    .dataframe thead th {\n",
       "        text-align: right;\n",
       "    }\n",
       "</style>\n",
       "<table border=\"1\" class=\"dataframe\">\n",
       "  <thead>\n",
       "    <tr style=\"text-align: right;\">\n",
       "      <th></th>\n",
       "      <th>department_finishing</th>\n",
       "      <th>department_sewing</th>\n",
       "      <th>team_1</th>\n",
       "      <th>team_2</th>\n",
       "      <th>team_3</th>\n",
       "      <th>team_4</th>\n",
       "      <th>team_5</th>\n",
       "      <th>team_6</th>\n",
       "      <th>team_7</th>\n",
       "      <th>team_8</th>\n",
       "      <th>team_9</th>\n",
       "      <th>team_10</th>\n",
       "      <th>team_11</th>\n",
       "      <th>team_12</th>\n",
       "    </tr>\n",
       "  </thead>\n",
       "  <tbody>\n",
       "    <tr>\n",
       "      <th>0</th>\n",
       "      <td>0</td>\n",
       "      <td>1</td>\n",
       "      <td>0</td>\n",
       "      <td>0</td>\n",
       "      <td>0</td>\n",
       "      <td>0</td>\n",
       "      <td>0</td>\n",
       "      <td>0</td>\n",
       "      <td>0</td>\n",
       "      <td>1</td>\n",
       "      <td>0</td>\n",
       "      <td>0</td>\n",
       "      <td>0</td>\n",
       "      <td>0</td>\n",
       "    </tr>\n",
       "    <tr>\n",
       "      <th>1</th>\n",
       "      <td>1</td>\n",
       "      <td>0</td>\n",
       "      <td>1</td>\n",
       "      <td>0</td>\n",
       "      <td>0</td>\n",
       "      <td>0</td>\n",
       "      <td>0</td>\n",
       "      <td>0</td>\n",
       "      <td>0</td>\n",
       "      <td>0</td>\n",
       "      <td>0</td>\n",
       "      <td>0</td>\n",
       "      <td>0</td>\n",
       "      <td>0</td>\n",
       "    </tr>\n",
       "    <tr>\n",
       "      <th>2</th>\n",
       "      <td>0</td>\n",
       "      <td>1</td>\n",
       "      <td>0</td>\n",
       "      <td>0</td>\n",
       "      <td>0</td>\n",
       "      <td>0</td>\n",
       "      <td>0</td>\n",
       "      <td>0</td>\n",
       "      <td>0</td>\n",
       "      <td>0</td>\n",
       "      <td>0</td>\n",
       "      <td>0</td>\n",
       "      <td>1</td>\n",
       "      <td>0</td>\n",
       "    </tr>\n",
       "    <tr>\n",
       "      <th>3</th>\n",
       "      <td>0</td>\n",
       "      <td>1</td>\n",
       "      <td>0</td>\n",
       "      <td>0</td>\n",
       "      <td>0</td>\n",
       "      <td>0</td>\n",
       "      <td>0</td>\n",
       "      <td>0</td>\n",
       "      <td>0</td>\n",
       "      <td>0</td>\n",
       "      <td>0</td>\n",
       "      <td>0</td>\n",
       "      <td>0</td>\n",
       "      <td>1</td>\n",
       "    </tr>\n",
       "    <tr>\n",
       "      <th>4</th>\n",
       "      <td>0</td>\n",
       "      <td>1</td>\n",
       "      <td>0</td>\n",
       "      <td>0</td>\n",
       "      <td>0</td>\n",
       "      <td>0</td>\n",
       "      <td>0</td>\n",
       "      <td>1</td>\n",
       "      <td>0</td>\n",
       "      <td>0</td>\n",
       "      <td>0</td>\n",
       "      <td>0</td>\n",
       "      <td>0</td>\n",
       "      <td>0</td>\n",
       "    </tr>\n",
       "  </tbody>\n",
       "</table>\n",
       "</div>"
      ],
      "text/plain": [
       "   department_finishing  department_sewing  team_1  team_2  team_3  team_4  \\\n",
       "0                     0                  1       0       0       0       0   \n",
       "1                     1                  0       1       0       0       0   \n",
       "2                     0                  1       0       0       0       0   \n",
       "3                     0                  1       0       0       0       0   \n",
       "4                     0                  1       0       0       0       0   \n",
       "\n",
       "   team_5  team_6  team_7  team_8  team_9  team_10  team_11  team_12  \n",
       "0       0       0       0       1       0        0        0        0  \n",
       "1       0       0       0       0       0        0        0        0  \n",
       "2       0       0       0       0       0        0        1        0  \n",
       "3       0       0       0       0       0        0        0        1  \n",
       "4       0       1       0       0       0        0        0        0  "
      ]
     },
     "execution_count": 13,
     "metadata": {},
     "output_type": "execute_result"
    }
   ],
   "source": [
    "garment_nom_encoded = pd.get_dummies(garment_nominal, columns = ['department', 'team'])\n",
    "garment_nom_encoded.head()"
   ]
  },
  {
   "cell_type": "code",
   "execution_count": 14,
   "id": "dae085ec",
   "metadata": {
    "scrolled": false
   },
   "outputs": [
    {
     "name": "stdout",
     "output_type": "stream",
     "text": [
      "<class 'pandas.core.frame.DataFrame'>\n",
      "RangeIndex: 1197 entries, 0 to 1196\n",
      "Data columns (total 14 columns):\n",
      " #   Column                Non-Null Count  Dtype\n",
      "---  ------                --------------  -----\n",
      " 0   department_finishing  1197 non-null   uint8\n",
      " 1   department_sewing     1197 non-null   uint8\n",
      " 2   team_1                1197 non-null   uint8\n",
      " 3   team_2                1197 non-null   uint8\n",
      " 4   team_3                1197 non-null   uint8\n",
      " 5   team_4                1197 non-null   uint8\n",
      " 6   team_5                1197 non-null   uint8\n",
      " 7   team_6                1197 non-null   uint8\n",
      " 8   team_7                1197 non-null   uint8\n",
      " 9   team_8                1197 non-null   uint8\n",
      " 10  team_9                1197 non-null   uint8\n",
      " 11  team_10               1197 non-null   uint8\n",
      " 12  team_11               1197 non-null   uint8\n",
      " 13  team_12               1197 non-null   uint8\n",
      "dtypes: uint8(14)\n",
      "memory usage: 16.5 KB\n"
     ]
    }
   ],
   "source": [
    "# Double check that all data were encoded.\n",
    "garment_nom_encoded.info()"
   ]
  },
  {
   "cell_type": "markdown",
   "id": "7319ef60",
   "metadata": {},
   "source": [
    "Encode 'quarter' and 'day' using ordinal encoder. Use sequence of integers as values in dictionaries to map data in the \"quarter\" and \"day\" columns to integers in new columns."
   ]
  },
  {
   "cell_type": "code",
   "execution_count": 15,
   "id": "b437cdf9",
   "metadata": {},
   "outputs": [
    {
     "data": {
      "text/html": [
       "<div>\n",
       "<style scoped>\n",
       "    .dataframe tbody tr th:only-of-type {\n",
       "        vertical-align: middle;\n",
       "    }\n",
       "\n",
       "    .dataframe tbody tr th {\n",
       "        vertical-align: top;\n",
       "    }\n",
       "\n",
       "    .dataframe thead th {\n",
       "        text-align: right;\n",
       "    }\n",
       "</style>\n",
       "<table border=\"1\" class=\"dataframe\">\n",
       "  <thead>\n",
       "    <tr style=\"text-align: right;\">\n",
       "      <th></th>\n",
       "      <th>date</th>\n",
       "      <th>quarter</th>\n",
       "      <th>day</th>\n",
       "      <th>quarter_ordinal</th>\n",
       "      <th>day_ordinal</th>\n",
       "    </tr>\n",
       "  </thead>\n",
       "  <tbody>\n",
       "    <tr>\n",
       "      <th>0</th>\n",
       "      <td>2015-01-01</td>\n",
       "      <td>Quarter1</td>\n",
       "      <td>Thursday</td>\n",
       "      <td>1</td>\n",
       "      <td>4</td>\n",
       "    </tr>\n",
       "    <tr>\n",
       "      <th>1</th>\n",
       "      <td>2015-01-01</td>\n",
       "      <td>Quarter1</td>\n",
       "      <td>Thursday</td>\n",
       "      <td>1</td>\n",
       "      <td>4</td>\n",
       "    </tr>\n",
       "    <tr>\n",
       "      <th>2</th>\n",
       "      <td>2015-01-01</td>\n",
       "      <td>Quarter1</td>\n",
       "      <td>Thursday</td>\n",
       "      <td>1</td>\n",
       "      <td>4</td>\n",
       "    </tr>\n",
       "    <tr>\n",
       "      <th>3</th>\n",
       "      <td>2015-01-01</td>\n",
       "      <td>Quarter1</td>\n",
       "      <td>Thursday</td>\n",
       "      <td>1</td>\n",
       "      <td>4</td>\n",
       "    </tr>\n",
       "    <tr>\n",
       "      <th>4</th>\n",
       "      <td>2015-01-01</td>\n",
       "      <td>Quarter1</td>\n",
       "      <td>Thursday</td>\n",
       "      <td>1</td>\n",
       "      <td>4</td>\n",
       "    </tr>\n",
       "  </tbody>\n",
       "</table>\n",
       "</div>"
      ],
      "text/plain": [
       "        date   quarter       day  quarter_ordinal  day_ordinal\n",
       "0 2015-01-01  Quarter1  Thursday                1            4\n",
       "1 2015-01-01  Quarter1  Thursday                1            4\n",
       "2 2015-01-01  Quarter1  Thursday                1            4\n",
       "3 2015-01-01  Quarter1  Thursday                1            4\n",
       "4 2015-01-01  Quarter1  Thursday                1            4"
      ]
     },
     "execution_count": 15,
     "metadata": {},
     "output_type": "execute_result"
    }
   ],
   "source": [
    "# turn off chained assignments warning (false positive) because mapping to new columns is working.\n",
    "pd.set_option('chained_assignment', None)\n",
    "Quarter_dict = {'Quarter1': 1, 'Quarter2': 2, 'Quarter3': 3, 'Quarter4': 4, 'Quarter5': 5}\n",
    "garment_ordinal['quarter_ordinal'] = garment_ordinal.loc[:, 'quarter'].map(Quarter_dict)\n",
    "\n",
    "\n",
    "Day_dict = {'Monday': 1, 'Tuesday': 2, 'Wednesday': 3, 'Thursday': 4, 'Friday': 5, 'Saturday': 6, 'Sunday': 7}\n",
    "garment_ordinal['day_ordinal'] = garment_ordinal.loc[:, 'day'].map(Day_dict)\n",
    "garment_ordinal.head()"
   ]
  },
  {
   "cell_type": "code",
   "execution_count": 16,
   "id": "d0aabbc6",
   "metadata": {},
   "outputs": [
    {
     "name": "stdout",
     "output_type": "stream",
     "text": [
      "<class 'pandas.core.frame.DataFrame'>\n",
      "RangeIndex: 1197 entries, 0 to 1196\n",
      "Data columns (total 3 columns):\n",
      " #   Column           Non-Null Count  Dtype         \n",
      "---  ------           --------------  -----         \n",
      " 0   date             1197 non-null   datetime64[ns]\n",
      " 1   quarter_ordinal  1197 non-null   int64         \n",
      " 2   day_ordinal      1197 non-null   int64         \n",
      "dtypes: datetime64[ns](1), int64(2)\n",
      "memory usage: 28.2 KB\n"
     ]
    }
   ],
   "source": [
    "garment_ordinal.drop(labels=['quarter', 'day'], axis=1, inplace=True)\n",
    "garment_ordinal.info()"
   ]
  },
  {
   "cell_type": "markdown",
   "id": "53477a30",
   "metadata": {},
   "source": [
    "To use datetime in regression, perform ordinal encoding by mapping with python's datetime.toordinal method."
   ]
  },
  {
   "cell_type": "code",
   "execution_count": 17,
   "id": "2ae5ad19",
   "metadata": {},
   "outputs": [],
   "source": [
    "from datetime import datetime \n",
    "garment_ordinal['date'] = garment_ordinal['date'].map(datetime.toordinal)"
   ]
  },
  {
   "cell_type": "code",
   "execution_count": 18,
   "id": "92e8bd11",
   "metadata": {
    "scrolled": true
   },
   "outputs": [
    {
     "data": {
      "text/plain": [
       "count      1197.000000\n",
       "mean     735633.456140\n",
       "std          20.630062\n",
       "min      735599.000000\n",
       "25%      735616.000000\n",
       "50%      735632.000000\n",
       "75%      735652.000000\n",
       "max      735668.000000\n",
       "Name: date, dtype: float64"
      ]
     },
     "execution_count": 18,
     "metadata": {},
     "output_type": "execute_result"
    }
   ],
   "source": [
    "garment_ordinal['date'].describe()"
   ]
  },
  {
   "cell_type": "markdown",
   "id": "c4045583",
   "metadata": {},
   "source": [
    "Concatenate encoded nominal and ordinal columns."
   ]
  },
  {
   "cell_type": "code",
   "execution_count": 19,
   "id": "d29cd758",
   "metadata": {},
   "outputs": [
    {
     "name": "stdout",
     "output_type": "stream",
     "text": [
      "<class 'pandas.core.frame.DataFrame'>\n",
      "RangeIndex: 1197 entries, 0 to 1196\n",
      "Data columns (total 17 columns):\n",
      " #   Column                Non-Null Count  Dtype\n",
      "---  ------                --------------  -----\n",
      " 0   department_finishing  1197 non-null   uint8\n",
      " 1   department_sewing     1197 non-null   uint8\n",
      " 2   team_1                1197 non-null   uint8\n",
      " 3   team_2                1197 non-null   uint8\n",
      " 4   team_3                1197 non-null   uint8\n",
      " 5   team_4                1197 non-null   uint8\n",
      " 6   team_5                1197 non-null   uint8\n",
      " 7   team_6                1197 non-null   uint8\n",
      " 8   team_7                1197 non-null   uint8\n",
      " 9   team_8                1197 non-null   uint8\n",
      " 10  team_9                1197 non-null   uint8\n",
      " 11  team_10               1197 non-null   uint8\n",
      " 12  team_11               1197 non-null   uint8\n",
      " 13  team_12               1197 non-null   uint8\n",
      " 14  date                  1197 non-null   int64\n",
      " 15  quarter_ordinal       1197 non-null   int64\n",
      " 16  day_ordinal           1197 non-null   int64\n",
      "dtypes: int64(3), uint8(14)\n",
      "memory usage: 44.5 KB\n"
     ]
    }
   ],
   "source": [
    "garment_categorical = pd.concat([garment_nom_encoded, garment_ordinal], axis=1)\n",
    "garment_categorical.info()"
   ]
  },
  {
   "cell_type": "markdown",
   "id": "d2d5a9cf",
   "metadata": {},
   "source": [
    "Drop last department & team columns to reduce impacts on regression models by the multicollinearity introduced by OHE encoding. The information in the deleted columns is still available to the model, though, because if the value of the deleted column was 1, the row will now have 0's for all remaining columns encoding that feature."
   ]
  },
  {
   "cell_type": "code",
   "execution_count": 20,
   "id": "eff01b79",
   "metadata": {
    "scrolled": true
   },
   "outputs": [
    {
     "name": "stdout",
     "output_type": "stream",
     "text": [
      "<class 'pandas.core.frame.DataFrame'>\n",
      "RangeIndex: 1197 entries, 0 to 1196\n",
      "Data columns (total 15 columns):\n",
      " #   Column                Non-Null Count  Dtype\n",
      "---  ------                --------------  -----\n",
      " 0   department_finishing  1197 non-null   uint8\n",
      " 1   team_1                1197 non-null   uint8\n",
      " 2   team_2                1197 non-null   uint8\n",
      " 3   team_3                1197 non-null   uint8\n",
      " 4   team_4                1197 non-null   uint8\n",
      " 5   team_5                1197 non-null   uint8\n",
      " 6   team_6                1197 non-null   uint8\n",
      " 7   team_7                1197 non-null   uint8\n",
      " 8   team_8                1197 non-null   uint8\n",
      " 9   team_9                1197 non-null   uint8\n",
      " 10  team_10               1197 non-null   uint8\n",
      " 11  team_11               1197 non-null   uint8\n",
      " 12  date                  1197 non-null   int64\n",
      " 13  quarter_ordinal       1197 non-null   int64\n",
      " 14  day_ordinal           1197 non-null   int64\n",
      "dtypes: int64(3), uint8(12)\n",
      "memory usage: 42.2 KB\n"
     ]
    }
   ],
   "source": [
    "garment_categorical.drop(labels = ['department_sewing', 'team_12'], axis = 1, inplace = True)\n",
    "garment_categorical.info()"
   ]
  },
  {
   "cell_type": "markdown",
   "id": "6c011111",
   "metadata": {},
   "source": [
    "Select predictor and target columns and split into train and test subsets, then scale (fit & transform) X_train and transform X_test using fit parameters from X_train."
   ]
  },
  {
   "cell_type": "code",
   "execution_count": 21,
   "id": "af50a1af",
   "metadata": {},
   "outputs": [
    {
     "name": "stdout",
     "output_type": "stream",
     "text": [
      "<class 'pandas.core.frame.DataFrame'>\n",
      "RangeIndex: 1197 entries, 0 to 1196\n",
      "Data columns (total 24 columns):\n",
      " #   Column                 Non-Null Count  Dtype  \n",
      "---  ------                 --------------  -----  \n",
      " 0   department_finishing   1197 non-null   uint8  \n",
      " 1   team_1                 1197 non-null   uint8  \n",
      " 2   team_2                 1197 non-null   uint8  \n",
      " 3   team_3                 1197 non-null   uint8  \n",
      " 4   team_4                 1197 non-null   uint8  \n",
      " 5   team_5                 1197 non-null   uint8  \n",
      " 6   team_6                 1197 non-null   uint8  \n",
      " 7   team_7                 1197 non-null   uint8  \n",
      " 8   team_8                 1197 non-null   uint8  \n",
      " 9   team_9                 1197 non-null   uint8  \n",
      " 10  team_10                1197 non-null   uint8  \n",
      " 11  team_11                1197 non-null   uint8  \n",
      " 12  date                   1197 non-null   int64  \n",
      " 13  quarter_ordinal        1197 non-null   int64  \n",
      " 14  day_ordinal            1197 non-null   int64  \n",
      " 15  targeted_productivity  1197 non-null   float64\n",
      " 16  smv                    1197 non-null   float64\n",
      " 17  wip                    1197 non-null   float64\n",
      " 18  over_time              1197 non-null   int64  \n",
      " 19  incentive              1197 non-null   int64  \n",
      " 20  idle_time              1197 non-null   float64\n",
      " 21  idle_men               1197 non-null   int64  \n",
      " 22  no_of_style_change     1197 non-null   int64  \n",
      " 23  no_of_workers          1197 non-null   float64\n",
      "dtypes: float64(5), int64(7), uint8(12)\n",
      "memory usage: 126.4 KB\n"
     ]
    }
   ],
   "source": [
    "# Concatenate categorical & numerical columns & save complete data set.\n",
    "garment_prepped = pd.concat([garment_categorical, garment_numerical], axis=1)\n",
    "# Drop target 'actual_productivity' from predictors.\n",
    "X = garment_prepped.drop(columns = 'actual_productivity')\n",
    "X.info()"
   ]
  },
  {
   "cell_type": "code",
   "execution_count": 22,
   "id": "d3780cd0",
   "metadata": {},
   "outputs": [],
   "source": [
    "y = garment_prod['actual_productivity']"
   ]
  },
  {
   "cell_type": "code",
   "execution_count": 23,
   "id": "8f507af7",
   "metadata": {
    "scrolled": true
   },
   "outputs": [
    {
     "name": "stdout",
     "output_type": "stream",
     "text": [
      "<class 'pandas.core.frame.DataFrame'>\n",
      "Int64Index: 837 entries, 922 to 684\n",
      "Data columns (total 24 columns):\n",
      " #   Column                 Non-Null Count  Dtype  \n",
      "---  ------                 --------------  -----  \n",
      " 0   department_finishing   837 non-null    uint8  \n",
      " 1   team_1                 837 non-null    uint8  \n",
      " 2   team_2                 837 non-null    uint8  \n",
      " 3   team_3                 837 non-null    uint8  \n",
      " 4   team_4                 837 non-null    uint8  \n",
      " 5   team_5                 837 non-null    uint8  \n",
      " 6   team_6                 837 non-null    uint8  \n",
      " 7   team_7                 837 non-null    uint8  \n",
      " 8   team_8                 837 non-null    uint8  \n",
      " 9   team_9                 837 non-null    uint8  \n",
      " 10  team_10                837 non-null    uint8  \n",
      " 11  team_11                837 non-null    uint8  \n",
      " 12  date                   837 non-null    int64  \n",
      " 13  quarter_ordinal        837 non-null    int64  \n",
      " 14  day_ordinal            837 non-null    int64  \n",
      " 15  targeted_productivity  837 non-null    float64\n",
      " 16  smv                    837 non-null    float64\n",
      " 17  wip                    837 non-null    float64\n",
      " 18  over_time              837 non-null    int64  \n",
      " 19  incentive              837 non-null    int64  \n",
      " 20  idle_time              837 non-null    float64\n",
      " 21  idle_men               837 non-null    int64  \n",
      " 22  no_of_style_change     837 non-null    int64  \n",
      " 23  no_of_workers          837 non-null    float64\n",
      "dtypes: float64(5), int64(7), uint8(12)\n",
      "memory usage: 94.8 KB\n"
     ]
    }
   ],
   "source": [
    "# Split into train & test subsets before scaling.\n",
    "X_train,X_test,y_train,y_test = train_test_split(X, y, test_size=0.3, random_state=0) \n",
    "X_train.info()"
   ]
  },
  {
   "cell_type": "code",
   "execution_count": 24,
   "id": "5ca90a81",
   "metadata": {},
   "outputs": [
    {
     "data": {
      "text/html": [
       "<div>\n",
       "<style scoped>\n",
       "    .dataframe tbody tr th:only-of-type {\n",
       "        vertical-align: middle;\n",
       "    }\n",
       "\n",
       "    .dataframe tbody tr th {\n",
       "        vertical-align: top;\n",
       "    }\n",
       "\n",
       "    .dataframe thead th {\n",
       "        text-align: right;\n",
       "    }\n",
       "</style>\n",
       "<table border=\"1\" class=\"dataframe\">\n",
       "  <thead>\n",
       "    <tr style=\"text-align: right;\">\n",
       "      <th></th>\n",
       "      <th>department_finishing</th>\n",
       "      <th>team_1</th>\n",
       "      <th>team_2</th>\n",
       "      <th>team_3</th>\n",
       "      <th>team_4</th>\n",
       "      <th>team_5</th>\n",
       "      <th>team_6</th>\n",
       "      <th>team_7</th>\n",
       "      <th>team_8</th>\n",
       "      <th>team_9</th>\n",
       "      <th>...</th>\n",
       "      <th>day_ordinal</th>\n",
       "      <th>targeted_productivity</th>\n",
       "      <th>smv</th>\n",
       "      <th>wip</th>\n",
       "      <th>over_time</th>\n",
       "      <th>incentive</th>\n",
       "      <th>idle_time</th>\n",
       "      <th>idle_men</th>\n",
       "      <th>no_of_style_change</th>\n",
       "      <th>no_of_workers</th>\n",
       "    </tr>\n",
       "  </thead>\n",
       "  <tbody>\n",
       "    <tr>\n",
       "      <th>303</th>\n",
       "      <td>0</td>\n",
       "      <td>0</td>\n",
       "      <td>0</td>\n",
       "      <td>0</td>\n",
       "      <td>0</td>\n",
       "      <td>0</td>\n",
       "      <td>0</td>\n",
       "      <td>1</td>\n",
       "      <td>0</td>\n",
       "      <td>0</td>\n",
       "      <td>...</td>\n",
       "      <td>7</td>\n",
       "      <td>0.80</td>\n",
       "      <td>48.84</td>\n",
       "      <td>624.0</td>\n",
       "      <td>10170</td>\n",
       "      <td>50</td>\n",
       "      <td>0.0</td>\n",
       "      <td>0</td>\n",
       "      <td>0</td>\n",
       "      <td>56.5</td>\n",
       "    </tr>\n",
       "    <tr>\n",
       "      <th>367</th>\n",
       "      <td>0</td>\n",
       "      <td>0</td>\n",
       "      <td>0</td>\n",
       "      <td>0</td>\n",
       "      <td>0</td>\n",
       "      <td>0</td>\n",
       "      <td>0</td>\n",
       "      <td>0</td>\n",
       "      <td>0</td>\n",
       "      <td>1</td>\n",
       "      <td>...</td>\n",
       "      <td>3</td>\n",
       "      <td>0.80</td>\n",
       "      <td>54.56</td>\n",
       "      <td>757.0</td>\n",
       "      <td>4140</td>\n",
       "      <td>29</td>\n",
       "      <td>0.0</td>\n",
       "      <td>0</td>\n",
       "      <td>0</td>\n",
       "      <td>58.0</td>\n",
       "    </tr>\n",
       "    <tr>\n",
       "      <th>434</th>\n",
       "      <td>0</td>\n",
       "      <td>0</td>\n",
       "      <td>0</td>\n",
       "      <td>0</td>\n",
       "      <td>0</td>\n",
       "      <td>0</td>\n",
       "      <td>0</td>\n",
       "      <td>0</td>\n",
       "      <td>0</td>\n",
       "      <td>0</td>\n",
       "      <td>...</td>\n",
       "      <td>7</td>\n",
       "      <td>0.75</td>\n",
       "      <td>42.97</td>\n",
       "      <td>532.0</td>\n",
       "      <td>10260</td>\n",
       "      <td>40</td>\n",
       "      <td>0.0</td>\n",
       "      <td>0</td>\n",
       "      <td>0</td>\n",
       "      <td>57.0</td>\n",
       "    </tr>\n",
       "    <tr>\n",
       "      <th>316</th>\n",
       "      <td>0</td>\n",
       "      <td>1</td>\n",
       "      <td>0</td>\n",
       "      <td>0</td>\n",
       "      <td>0</td>\n",
       "      <td>0</td>\n",
       "      <td>0</td>\n",
       "      <td>0</td>\n",
       "      <td>0</td>\n",
       "      <td>0</td>\n",
       "      <td>...</td>\n",
       "      <td>7</td>\n",
       "      <td>0.80</td>\n",
       "      <td>49.10</td>\n",
       "      <td>1381.0</td>\n",
       "      <td>10350</td>\n",
       "      <td>24</td>\n",
       "      <td>0.0</td>\n",
       "      <td>0</td>\n",
       "      <td>0</td>\n",
       "      <td>57.5</td>\n",
       "    </tr>\n",
       "  </tbody>\n",
       "</table>\n",
       "<p>4 rows × 24 columns</p>\n",
       "</div>"
      ],
      "text/plain": [
       "     department_finishing  team_1  team_2  team_3  team_4  team_5  team_6  \\\n",
       "303                     0       0       0       0       0       0       0   \n",
       "367                     0       0       0       0       0       0       0   \n",
       "434                     0       0       0       0       0       0       0   \n",
       "316                     0       1       0       0       0       0       0   \n",
       "\n",
       "     team_7  team_8  team_9  ...  day_ordinal  targeted_productivity    smv  \\\n",
       "303       1       0       0  ...            7                   0.80  48.84   \n",
       "367       0       0       1  ...            3                   0.80  54.56   \n",
       "434       0       0       0  ...            7                   0.75  42.97   \n",
       "316       0       0       0  ...            7                   0.80  49.10   \n",
       "\n",
       "        wip  over_time  incentive  idle_time  idle_men  no_of_style_change  \\\n",
       "303   624.0      10170         50        0.0         0                   0   \n",
       "367   757.0       4140         29        0.0         0                   0   \n",
       "434   532.0      10260         40        0.0         0                   0   \n",
       "316  1381.0      10350         24        0.0         0                   0   \n",
       "\n",
       "     no_of_workers  \n",
       "303           56.5  \n",
       "367           58.0  \n",
       "434           57.0  \n",
       "316           57.5  \n",
       "\n",
       "[4 rows x 24 columns]"
      ]
     },
     "execution_count": 24,
     "metadata": {},
     "output_type": "execute_result"
    }
   ],
   "source": [
    "# Select X_test rows where smv >= 50 for analysis later (to predict increase in productivity by reducing smv).\n",
    "X_hi_smv = X_test.loc[X_test['smv'] >= 40]\n",
    "X_hi_smv"
   ]
  },
  {
   "cell_type": "code",
   "execution_count": 25,
   "id": "2f37f0e9",
   "metadata": {},
   "outputs": [
    {
     "data": {
      "text/plain": [
       "303    0.800129\n",
       "367    0.520238\n",
       "434    0.591142\n",
       "316    0.403242\n",
       "Name: actual_productivity, dtype: float64"
      ]
     },
     "execution_count": 25,
     "metadata": {},
     "output_type": "execute_result"
    }
   ],
   "source": [
    "# Select corresponding y values (productivity) for these rows.\n",
    "y_hi_smv = garment_prod['actual_productivity'].iloc[[303, 367, 434, 316]]\n",
    "y_hi_smv"
   ]
  },
  {
   "cell_type": "markdown",
   "id": "88e930f7",
   "metadata": {},
   "source": [
    "Continue preprocessing data for model comparison."
   ]
  },
  {
   "cell_type": "code",
   "execution_count": 26,
   "id": "b2b072c0",
   "metadata": {},
   "outputs": [
    {
     "name": "stdout",
     "output_type": "stream",
     "text": [
      "<class 'pandas.core.frame.DataFrame'>\n",
      "Int64Index: 360 entries, 700 to 1048\n",
      "Data columns (total 12 columns):\n",
      " #   Column                 Non-Null Count  Dtype  \n",
      "---  ------                 --------------  -----  \n",
      " 0   date                   360 non-null    int64  \n",
      " 1   quarter_ordinal        360 non-null    int64  \n",
      " 2   day_ordinal            360 non-null    int64  \n",
      " 3   targeted_productivity  360 non-null    float64\n",
      " 4   smv                    360 non-null    float64\n",
      " 5   wip                    360 non-null    float64\n",
      " 6   over_time              360 non-null    int64  \n",
      " 7   incentive              360 non-null    int64  \n",
      " 8   idle_time              360 non-null    float64\n",
      " 9   idle_men               360 non-null    int64  \n",
      " 10  no_of_style_change     360 non-null    int64  \n",
      " 11  no_of_workers          360 non-null    float64\n",
      "dtypes: float64(5), int64(7)\n",
      "memory usage: 36.6 KB\n"
     ]
    }
   ],
   "source": [
    "# Select predictors for scaling, including numerical and encoded ordinal columns.\n",
    "X_train_scalable = X_train.drop(X.iloc[:, 0:12], axis = 1)\n",
    "X_test_scalable = X_test.drop(X.iloc[:, 0:12], axis = 1)\n",
    "# X_train_scalable.info()\n",
    "X_test_scalable.info()"
   ]
  },
  {
   "cell_type": "code",
   "execution_count": 27,
   "id": "24ab5470",
   "metadata": {},
   "outputs": [
    {
     "name": "stdout",
     "output_type": "stream",
     "text": [
      "<class 'pandas.core.frame.DataFrame'>\n",
      "RangeIndex: 837 entries, 0 to 836\n",
      "Data columns (total 12 columns):\n",
      " #   Column                 Non-Null Count  Dtype  \n",
      "---  ------                 --------------  -----  \n",
      " 0   date                   837 non-null    float64\n",
      " 1   quarter_ordinal        837 non-null    float64\n",
      " 2   day_ordinal            837 non-null    float64\n",
      " 3   targeted_productivity  837 non-null    float64\n",
      " 4   smv                    837 non-null    float64\n",
      " 5   wip                    837 non-null    float64\n",
      " 6   over_time              837 non-null    float64\n",
      " 7   incentive              837 non-null    float64\n",
      " 8   idle_time              837 non-null    float64\n",
      " 9   idle_men               837 non-null    float64\n",
      " 10  no_of_style_change     837 non-null    float64\n",
      " 11  no_of_workers          837 non-null    float64\n",
      "dtypes: float64(12)\n",
      "memory usage: 78.6 KB\n"
     ]
    }
   ],
   "source": [
    "# Scale ordinal & numerical columns in X_train,convert ndarray output to dataframe as float dtype, & name columns.\n",
    "scaler = StandardScaler()\n",
    "X_train_scaling = scaler.fit_transform(X_train_scalable)\n",
    "X_train_scaled = pd.DataFrame(X_train_scaling)\n",
    "X_train_scaled = X_train_scaled.astype('float')\n",
    "X_train_scaled.columns = ['date', 'quarter_ordinal','day_ordinal', 'targeted_productivity', 'smv', 'wip', 'over_time', 'incentive', 'idle_time', 'idle_men', 'no_of_style_change', 'no_of_workers']\n",
    "X_train_scaled.info()"
   ]
  },
  {
   "cell_type": "code",
   "execution_count": 28,
   "id": "c46d49e3",
   "metadata": {},
   "outputs": [
    {
     "name": "stdout",
     "output_type": "stream",
     "text": [
      "<class 'pandas.core.frame.DataFrame'>\n",
      "RangeIndex: 360 entries, 0 to 359\n",
      "Data columns (total 12 columns):\n",
      " #   Column                 Non-Null Count  Dtype  \n",
      "---  ------                 --------------  -----  \n",
      " 0   date                   360 non-null    float64\n",
      " 1   quarter_ordinal        360 non-null    float64\n",
      " 2   day_ordinal            360 non-null    float64\n",
      " 3   targeted_productivity  360 non-null    float64\n",
      " 4   smv                    360 non-null    float64\n",
      " 5   wip                    360 non-null    float64\n",
      " 6   over_time              360 non-null    float64\n",
      " 7   incentive              360 non-null    float64\n",
      " 8   idle_time              360 non-null    float64\n",
      " 9   idle_men               360 non-null    float64\n",
      " 10  no_of_style_change     360 non-null    float64\n",
      " 11  no_of_workers          360 non-null    float64\n",
      "dtypes: float64(12)\n",
      "memory usage: 33.9 KB\n"
     ]
    }
   ],
   "source": [
    "# Use fit paramaters from X_train to transform X_test, then convert back to df.\n",
    "X_test_scaling = scaler.transform(X_test_scalable)\n",
    "X_test_scaled = pd.DataFrame(X_test_scaling)\n",
    "X_test_scaled = X_test_scaled.astype('float')\n",
    "X_test_scaled.columns = ['date', 'quarter_ordinal','day_ordinal', 'targeted_productivity', 'smv', 'wip', 'over_time', 'incentive', 'idle_time', 'idle_men', 'no_of_style_change', 'no_of_workers']\n",
    "X_test_scaled.info()"
   ]
  },
  {
   "cell_type": "markdown",
   "id": "9233f701",
   "metadata": {},
   "source": [
    "Select binary columns (encoded nominal features) in X_train and X_test, then concatenate with scaled columns to make complete train and test dataframes. "
   ]
  },
  {
   "cell_type": "code",
   "execution_count": 29,
   "id": "bf1d5796",
   "metadata": {},
   "outputs": [
    {
     "name": "stdout",
     "output_type": "stream",
     "text": [
      "<class 'pandas.core.frame.DataFrame'>\n",
      "Int64Index: 837 entries, 922 to 684\n",
      "Data columns (total 12 columns):\n",
      " #   Column                Non-Null Count  Dtype\n",
      "---  ------                --------------  -----\n",
      " 0   department_finishing  837 non-null    uint8\n",
      " 1   team_1                837 non-null    uint8\n",
      " 2   team_2                837 non-null    uint8\n",
      " 3   team_3                837 non-null    uint8\n",
      " 4   team_4                837 non-null    uint8\n",
      " 5   team_5                837 non-null    uint8\n",
      " 6   team_6                837 non-null    uint8\n",
      " 7   team_7                837 non-null    uint8\n",
      " 8   team_8                837 non-null    uint8\n",
      " 9   team_9                837 non-null    uint8\n",
      " 10  team_10               837 non-null    uint8\n",
      " 11  team_11               837 non-null    uint8\n",
      "dtypes: uint8(12)\n",
      "memory usage: 16.3 KB\n"
     ]
    }
   ],
   "source": [
    "X_train_binary = X_train.iloc[:, 0:12]\n",
    "X_test_binary = X_test.iloc[:, 0:12]\n",
    "# X_test_binary.info()\n",
    "X_train_binary.info()"
   ]
  },
  {
   "cell_type": "code",
   "execution_count": 30,
   "id": "3454817c",
   "metadata": {},
   "outputs": [],
   "source": [
    "# Reset index on binary dataframes to match indexing on scaled dataframes, whose indexing was reset during scaling process.\n",
    "X_train_binary.reset_index(drop = True, inplace = True)\n",
    "X_test_binary.reset_index(drop = True, inplace = True)"
   ]
  },
  {
   "cell_type": "code",
   "execution_count": 31,
   "id": "396ed5b3",
   "metadata": {},
   "outputs": [
    {
     "name": "stdout",
     "output_type": "stream",
     "text": [
      "<class 'pandas.core.frame.DataFrame'>\n",
      "RangeIndex: 837 entries, 0 to 836\n",
      "Data columns (total 24 columns):\n",
      " #   Column                 Non-Null Count  Dtype  \n",
      "---  ------                 --------------  -----  \n",
      " 0   department_finishing   837 non-null    uint8  \n",
      " 1   team_1                 837 non-null    uint8  \n",
      " 2   team_2                 837 non-null    uint8  \n",
      " 3   team_3                 837 non-null    uint8  \n",
      " 4   team_4                 837 non-null    uint8  \n",
      " 5   team_5                 837 non-null    uint8  \n",
      " 6   team_6                 837 non-null    uint8  \n",
      " 7   team_7                 837 non-null    uint8  \n",
      " 8   team_8                 837 non-null    uint8  \n",
      " 9   team_9                 837 non-null    uint8  \n",
      " 10  team_10                837 non-null    uint8  \n",
      " 11  team_11                837 non-null    uint8  \n",
      " 12  date                   837 non-null    float64\n",
      " 13  quarter_ordinal        837 non-null    float64\n",
      " 14  day_ordinal            837 non-null    float64\n",
      " 15  targeted_productivity  837 non-null    float64\n",
      " 16  smv                    837 non-null    float64\n",
      " 17  wip                    837 non-null    float64\n",
      " 18  over_time              837 non-null    float64\n",
      " 19  incentive              837 non-null    float64\n",
      " 20  idle_time              837 non-null    float64\n",
      " 21  idle_men               837 non-null    float64\n",
      " 22  no_of_style_change     837 non-null    float64\n",
      " 23  no_of_workers          837 non-null    float64\n",
      "dtypes: float64(12), uint8(12)\n",
      "memory usage: 88.4 KB\n"
     ]
    }
   ],
   "source": [
    "X_train = pd.concat([X_train_binary, X_train_scaled], axis=1)\n",
    "X_train.info()"
   ]
  },
  {
   "cell_type": "code",
   "execution_count": 32,
   "id": "c43e65cc",
   "metadata": {
    "scrolled": true
   },
   "outputs": [
    {
     "name": "stdout",
     "output_type": "stream",
     "text": [
      "<class 'pandas.core.frame.DataFrame'>\n",
      "RangeIndex: 360 entries, 0 to 359\n",
      "Data columns (total 24 columns):\n",
      " #   Column                 Non-Null Count  Dtype  \n",
      "---  ------                 --------------  -----  \n",
      " 0   department_finishing   360 non-null    uint8  \n",
      " 1   team_1                 360 non-null    uint8  \n",
      " 2   team_2                 360 non-null    uint8  \n",
      " 3   team_3                 360 non-null    uint8  \n",
      " 4   team_4                 360 non-null    uint8  \n",
      " 5   team_5                 360 non-null    uint8  \n",
      " 6   team_6                 360 non-null    uint8  \n",
      " 7   team_7                 360 non-null    uint8  \n",
      " 8   team_8                 360 non-null    uint8  \n",
      " 9   team_9                 360 non-null    uint8  \n",
      " 10  team_10                360 non-null    uint8  \n",
      " 11  team_11                360 non-null    uint8  \n",
      " 12  date                   360 non-null    float64\n",
      " 13  quarter_ordinal        360 non-null    float64\n",
      " 14  day_ordinal            360 non-null    float64\n",
      " 15  targeted_productivity  360 non-null    float64\n",
      " 16  smv                    360 non-null    float64\n",
      " 17  wip                    360 non-null    float64\n",
      " 18  over_time              360 non-null    float64\n",
      " 19  incentive              360 non-null    float64\n",
      " 20  idle_time              360 non-null    float64\n",
      " 21  idle_men               360 non-null    float64\n",
      " 22  no_of_style_change     360 non-null    float64\n",
      " 23  no_of_workers          360 non-null    float64\n",
      "dtypes: float64(12), uint8(12)\n",
      "memory usage: 38.1 KB\n"
     ]
    }
   ],
   "source": [
    "X_test = pd.concat([X_test_binary, X_test_scaled], axis=1)\n",
    "X_test.info()"
   ]
  },
  {
   "cell_type": "markdown",
   "id": "e2b9dbc3",
   "metadata": {},
   "source": [
    "Try different methods to predict garment worker productivity. Start with linear regression."
   ]
  },
  {
   "cell_type": "code",
   "execution_count": 253,
   "id": "d235fb6b",
   "metadata": {},
   "outputs": [],
   "source": [
    "linear_regression = LinearRegression()\n",
    "linear_regression.fit(X_train, y_train)\n",
    "# predict y to evaluate model\n",
    "y_predicted_lr = linear_regression.predict(X_test)\n",
    "#calculate RMSE and format as float to 4 decimal places\n",
    "lr_error = 'RMSE = {:.4f}'.format(mean_squared_error(y_test, y_predicted_lr, squared = False))"
   ]
  },
  {
   "cell_type": "markdown",
   "id": "017d5cd6",
   "metadata": {},
   "source": [
    "To evaluate models, define function to calculate RMSE and plot predicted vs. actual productivity."
   ]
  },
  {
   "cell_type": "code",
   "execution_count": 92,
   "id": "0e778d70",
   "metadata": {
    "scrolled": true
   },
   "outputs": [],
   "source": [
    "def evaluate(predicted, actual, RMSE):\n",
    "    plt.scatter(y_predicted_lr, y_test, alpha = 0.5)\n",
    "    plt.xlim(0.2, 1.2)\n",
    "    plt.ylim(0.2, 1.2)\n",
    "    plt.xlabel('Predicted Productivity')\n",
    "    plt.ylabel('actual_productivity')\n",
    "    plt.title('Precited vs. Actual Productivity')\n",
    "    no_error_x = (0.2, 1.2)\n",
    "    no_error_y = (0.2, 1.2)\n",
    "    plt.plot(no_error_x, no_error_y)\n",
    "    plt.figtext(0.15, 0.83, RMSE)"
   ]
  },
  {
   "cell_type": "code",
   "execution_count": 93,
   "id": "01f74152",
   "metadata": {},
   "outputs": [
    {
     "data": {
      "image/png": "[encoded data removed]",
      "text/plain": [
       "<Figure size 432x288 with 1 Axes>"
      ]
     },
     "metadata": {
      "needs_background": "light"
     },
     "output_type": "display_data"
    }
   ],
   "source": [
    "evaluate(predicted = y_predicted_lr, actual = y_test, RMSE = lr_error)"
   ]
  },
  {
   "cell_type": "markdown",
   "id": "8ebd10e0",
   "metadata": {},
   "source": [
    "See if performance can be improved by reducing number of predictor dimensions with principal component analysis. Try principal component regression (PCR) with k-fold cross validation to optimize number of principal components."
   ]
  },
  {
   "cell_type": "code",
   "execution_count": 79,
   "id": "a21b8a84",
   "metadata": {},
   "outputs": [
    {
     "data": {
      "text/html": [
       "<div>\n",
       "<style scoped>\n",
       "    .dataframe tbody tr th:only-of-type {\n",
       "        vertical-align: middle;\n",
       "    }\n",
       "\n",
       "    .dataframe tbody tr th {\n",
       "        vertical-align: top;\n",
       "    }\n",
       "\n",
       "    .dataframe thead th {\n",
       "        text-align: right;\n",
       "    }\n",
       "</style>\n",
       "<table border=\"1\" class=\"dataframe\">\n",
       "  <thead>\n",
       "    <tr style=\"text-align: right;\">\n",
       "      <th></th>\n",
       "      <th>department_finishing</th>\n",
       "      <th>team_1</th>\n",
       "      <th>team_2</th>\n",
       "      <th>team_3</th>\n",
       "      <th>team_4</th>\n",
       "      <th>team_5</th>\n",
       "      <th>team_6</th>\n",
       "      <th>team_7</th>\n",
       "      <th>team_8</th>\n",
       "      <th>team_9</th>\n",
       "      <th>...</th>\n",
       "      <th>targeted_productivity</th>\n",
       "      <th>smv</th>\n",
       "      <th>wip</th>\n",
       "      <th>over_time</th>\n",
       "      <th>incentive</th>\n",
       "      <th>idle_time</th>\n",
       "      <th>idle_men</th>\n",
       "      <th>no_of_style_change</th>\n",
       "      <th>no_of_workers</th>\n",
       "      <th>actual_productivity</th>\n",
       "    </tr>\n",
       "  </thead>\n",
       "  <tbody>\n",
       "    <tr>\n",
       "      <th>657</th>\n",
       "      <td>0</td>\n",
       "      <td>0</td>\n",
       "      <td>0</td>\n",
       "      <td>0</td>\n",
       "      <td>0</td>\n",
       "      <td>0</td>\n",
       "      <td>0</td>\n",
       "      <td>0</td>\n",
       "      <td>0</td>\n",
       "      <td>0</td>\n",
       "      <td>...</td>\n",
       "      <td>0.8</td>\n",
       "      <td>22.52</td>\n",
       "      <td>1388.0</td>\n",
       "      <td>6720</td>\n",
       "      <td>88</td>\n",
       "      <td>0.0</td>\n",
       "      <td>0</td>\n",
       "      <td>0</td>\n",
       "      <td>56.0</td>\n",
       "      <td>0.900800</td>\n",
       "    </tr>\n",
       "    <tr>\n",
       "      <th>98</th>\n",
       "      <td>0</td>\n",
       "      <td>0</td>\n",
       "      <td>0</td>\n",
       "      <td>0</td>\n",
       "      <td>0</td>\n",
       "      <td>0</td>\n",
       "      <td>1</td>\n",
       "      <td>0</td>\n",
       "      <td>0</td>\n",
       "      <td>0</td>\n",
       "      <td>...</td>\n",
       "      <td>0.8</td>\n",
       "      <td>11.61</td>\n",
       "      <td>910.0</td>\n",
       "      <td>4470</td>\n",
       "      <td>38</td>\n",
       "      <td>0.0</td>\n",
       "      <td>0</td>\n",
       "      <td>0</td>\n",
       "      <td>31.5</td>\n",
       "      <td>0.800077</td>\n",
       "    </tr>\n",
       "    <tr>\n",
       "      <th>63</th>\n",
       "      <td>1</td>\n",
       "      <td>0</td>\n",
       "      <td>0</td>\n",
       "      <td>0</td>\n",
       "      <td>1</td>\n",
       "      <td>0</td>\n",
       "      <td>0</td>\n",
       "      <td>0</td>\n",
       "      <td>0</td>\n",
       "      <td>0</td>\n",
       "      <td>...</td>\n",
       "      <td>0.8</td>\n",
       "      <td>3.94</td>\n",
       "      <td>0.0</td>\n",
       "      <td>3840</td>\n",
       "      <td>0</td>\n",
       "      <td>0.0</td>\n",
       "      <td>0</td>\n",
       "      <td>0</td>\n",
       "      <td>16.0</td>\n",
       "      <td>0.893663</td>\n",
       "    </tr>\n",
       "    <tr>\n",
       "      <th>905</th>\n",
       "      <td>0</td>\n",
       "      <td>0</td>\n",
       "      <td>0</td>\n",
       "      <td>0</td>\n",
       "      <td>0</td>\n",
       "      <td>0</td>\n",
       "      <td>0</td>\n",
       "      <td>0</td>\n",
       "      <td>0</td>\n",
       "      <td>0</td>\n",
       "      <td>...</td>\n",
       "      <td>0.8</td>\n",
       "      <td>15.26</td>\n",
       "      <td>1062.0</td>\n",
       "      <td>4080</td>\n",
       "      <td>50</td>\n",
       "      <td>0.0</td>\n",
       "      <td>0</td>\n",
       "      <td>0</td>\n",
       "      <td>34.0</td>\n",
       "      <td>0.800402</td>\n",
       "    </tr>\n",
       "    <tr>\n",
       "      <th>782</th>\n",
       "      <td>0</td>\n",
       "      <td>0</td>\n",
       "      <td>1</td>\n",
       "      <td>0</td>\n",
       "      <td>0</td>\n",
       "      <td>0</td>\n",
       "      <td>0</td>\n",
       "      <td>0</td>\n",
       "      <td>0</td>\n",
       "      <td>0</td>\n",
       "      <td>...</td>\n",
       "      <td>0.8</td>\n",
       "      <td>22.52</td>\n",
       "      <td>12.0</td>\n",
       "      <td>6900</td>\n",
       "      <td>0</td>\n",
       "      <td>0.0</td>\n",
       "      <td>0</td>\n",
       "      <td>0</td>\n",
       "      <td>57.5</td>\n",
       "      <td>0.432123</td>\n",
       "    </tr>\n",
       "  </tbody>\n",
       "</table>\n",
       "<p>5 rows × 25 columns</p>\n",
       "</div>"
      ],
      "text/plain": [
       "     department_finishing  team_1  team_2  team_3  team_4  team_5  team_6  \\\n",
       "657                     0       0       0       0       0       0       0   \n",
       "98                      0       0       0       0       0       0       1   \n",
       "63                      1       0       0       0       1       0       0   \n",
       "905                     0       0       0       0       0       0       0   \n",
       "782                     0       0       1       0       0       0       0   \n",
       "\n",
       "     team_7  team_8  team_9  ...  targeted_productivity    smv     wip  \\\n",
       "657       0       0       0  ...                    0.8  22.52  1388.0   \n",
       "98        0       0       0  ...                    0.8  11.61   910.0   \n",
       "63        0       0       0  ...                    0.8   3.94     0.0   \n",
       "905       0       0       0  ...                    0.8  15.26  1062.0   \n",
       "782       0       0       0  ...                    0.8  22.52    12.0   \n",
       "\n",
       "     over_time  incentive  idle_time  idle_men  no_of_style_change  \\\n",
       "657       6720         88        0.0         0                   0   \n",
       "98        4470         38        0.0         0                   0   \n",
       "63        3840          0        0.0         0                   0   \n",
       "905       4080         50        0.0         0                   0   \n",
       "782       6900          0        0.0         0                   0   \n",
       "\n",
       "     no_of_workers  actual_productivity  \n",
       "657           56.0             0.900800  \n",
       "98            31.5             0.800077  \n",
       "63            16.0             0.893663  \n",
       "905           34.0             0.800402  \n",
       "782           57.5             0.432123  \n",
       "\n",
       "[5 rows x 25 columns]"
      ]
     },
     "execution_count": 79,
     "metadata": {},
     "output_type": "execute_result"
    }
   ],
   "source": [
    "#Shuffle df for cross-validation so all folds are similar (train_test_split shuffles by default, but that follows cv).\n",
    "garment_shuf = shuffle(garment_prepped, random_state=7)\n",
    "garment_shuf.head()"
   ]
  },
  {
   "cell_type": "code",
   "execution_count": 80,
   "id": "caf7fe6d",
   "metadata": {},
   "outputs": [
    {
     "name": "stdout",
     "output_type": "stream",
     "text": [
      "<class 'pandas.core.frame.DataFrame'>\n",
      "Int64Index: 1197 entries, 657 to 175\n",
      "Data columns (total 24 columns):\n",
      " #   Column                 Non-Null Count  Dtype  \n",
      "---  ------                 --------------  -----  \n",
      " 0   department_finishing   1197 non-null   uint8  \n",
      " 1   team_1                 1197 non-null   uint8  \n",
      " 2   team_2                 1197 non-null   uint8  \n",
      " 3   team_3                 1197 non-null   uint8  \n",
      " 4   team_4                 1197 non-null   uint8  \n",
      " 5   team_5                 1197 non-null   uint8  \n",
      " 6   team_6                 1197 non-null   uint8  \n",
      " 7   team_7                 1197 non-null   uint8  \n",
      " 8   team_8                 1197 non-null   uint8  \n",
      " 9   team_9                 1197 non-null   uint8  \n",
      " 10  team_10                1197 non-null   uint8  \n",
      " 11  team_11                1197 non-null   uint8  \n",
      " 12  date                   1197 non-null   int64  \n",
      " 13  quarter_ordinal        1197 non-null   int64  \n",
      " 14  day_ordinal            1197 non-null   int64  \n",
      " 15  targeted_productivity  1197 non-null   float64\n",
      " 16  smv                    1197 non-null   float64\n",
      " 17  wip                    1197 non-null   float64\n",
      " 18  over_time              1197 non-null   int64  \n",
      " 19  incentive              1197 non-null   int64  \n",
      " 20  idle_time              1197 non-null   float64\n",
      " 21  idle_men               1197 non-null   int64  \n",
      " 22  no_of_style_change     1197 non-null   int64  \n",
      " 23  no_of_workers          1197 non-null   float64\n",
      "dtypes: float64(5), int64(7), uint8(12)\n",
      "memory usage: 135.6 KB\n"
     ]
    }
   ],
   "source": [
    "y_pca = garment_shuf['actual_productivity']\n",
    "# X_pca = garment_shuf[['smv', 'wip', 'over_time', 'incentive', 'no_of_style_change', 'no_of_workers']]\n",
    "# columns to drop , 'targeted_productivity','idle_time',\n",
    "X_pca = garment_shuf.drop(columns = ['actual_productivity'])\n",
    "X_pca.info()"
   ]
  },
  {
   "cell_type": "code",
   "execution_count": 81,
   "id": "3bcdc3bb",
   "metadata": {},
   "outputs": [
    {
     "data": {
      "text/plain": [
       "(1197, 24)"
      ]
     },
     "execution_count": 81,
     "metadata": {},
     "output_type": "execute_result"
    }
   ],
   "source": [
    "# Scale the predictor variables and perform PCA on them.\n",
    "pca = PCA()\n",
    "X_reduced = pca.fit_transform(scale(X_pca))\n",
    "X_reduced.shape"
   ]
  },
  {
   "cell_type": "code",
   "execution_count": 82,
   "id": "d464d92a",
   "metadata": {},
   "outputs": [
    {
     "data": {
      "text/plain": [
       "[]"
      ]
     },
     "execution_count": 82,
     "metadata": {},
     "output_type": "execute_result"
    }
   ],
   "source": [
    "# Use k-fold cross-validation to evaluate model performance using k = 10 folds, repeated 3 times.\n",
    "cv = RepeatedKFold(n_splits=10, n_repeats=3, random_state=1)\n",
    "\n",
    "regr = LinearRegression()\n",
    "mse = []\n",
    "mse"
   ]
  },
  {
   "cell_type": "code",
   "execution_count": 83,
   "id": "8aa559d9",
   "metadata": {},
   "outputs": [
    {
     "data": {
      "text/plain": [
       "[0.0304612646170554]"
      ]
     },
     "execution_count": 83,
     "metadata": {},
     "output_type": "execute_result"
    }
   ],
   "source": [
    "# Calculate the average of MSE from each split without using any of the principal components.\n",
    "score = -1*model_selection.cross_val_score(regr,\n",
    "           np.ones((len(X_reduced),1)), y_pca, cv=cv,\n",
    "           scoring='neg_mean_squared_error').mean()    \n",
    "mse.append(score)\n",
    "mse"
   ]
  },
  {
   "cell_type": "code",
   "execution_count": 84,
   "id": "1b931d81",
   "metadata": {},
   "outputs": [
    {
     "data": {
      "text/plain": [
       "[0.0304612646170554,\n",
       " 0.03013425467543644,\n",
       " 0.026962380272945907,\n",
       " 0.026709076457153855,\n",
       " 0.02579025293102626,\n",
       " 0.02571995887735717,\n",
       " 0.025503338918577312,\n",
       " 0.02545658761885681,\n",
       " 0.025474846884656382,\n",
       " 0.025514950770285854,\n",
       " 0.0252301735210446,\n",
       " 0.025279677131771358,\n",
       " 0.025065077764971362,\n",
       " 0.02493777521214016,\n",
       " 0.024485339096170795,\n",
       " 0.024563624883597077,\n",
       " 0.024637182940229832,\n",
       " 0.023430499717833723,\n",
       " 0.02322438451232785,\n",
       " 0.02329475639507349,\n",
       " 0.023019173118132008,\n",
       " 0.022983296012669623,\n",
       " 0.022808333631028726,\n",
       " 0.022240603257469682,\n",
       " 0.02186682888543295]"
      ]
     },
     "execution_count": 84,
     "metadata": {},
     "output_type": "execute_result"
    }
   ],
   "source": [
    "# Calculate MSE using cross-validation, adding one component at a time until all components are used.\n",
    "for i in np.arange(1, 25):\n",
    "    score = -1*model_selection.cross_val_score(regr,\n",
    "               X_reduced[:,:i], y_pca, cv=cv, scoring='neg_mean_squared_error').mean()\n",
    "    mse.append(score)\n",
    "mse"
   ]
  },
  {
   "cell_type": "code",
   "execution_count": 252,
   "id": "12908da9",
   "metadata": {},
   "outputs": [
    {
     "data": {
      "text/plain": [
       "Text(0.5, 1.0, 'MSE vs. # of Principal Components')"
      ]
     },
     "execution_count": 252,
     "metadata": {},
     "output_type": "execute_result"
    },
    {
     "data": {
      "image/png": "[encoded data removed]",
      "text/plain": [
       "<Figure size 432x288 with 1 Axes>"
      ]
     },
     "metadata": {
      "needs_background": "light"
     },
     "output_type": "display_data"
    }
   ],
   "source": [
    "# Plot cross-validation results    \n",
    "plt.plot(mse)\n",
    "plt.xlabel('Number of Principal Components')\n",
    "plt.ylabel('MSE')\n",
    "plt.title('MSE vs. # of Principal Components')"
   ]
  },
  {
   "cell_type": "code",
   "execution_count": 86,
   "id": "3412edb0",
   "metadata": {},
   "outputs": [
    {
     "data": {
      "text/plain": [
       "array([ 15.63,  22.74,  29.  ,  34.39,  39.28,  43.93,  48.54,  53.12,\n",
       "        57.7 ,  62.27,  66.84,  71.36,  75.79,  80.2 ,  83.97,  87.62,\n",
       "        90.8 ,  93.91,  96.16,  97.87,  99.05,  99.55,  99.89, 100.  ])"
      ]
     },
     "execution_count": 86,
     "metadata": {},
     "output_type": "execute_result"
    }
   ],
   "source": [
    "np.cumsum(np.round(pca.explained_variance_ratio_, decimals=4)*100)"
   ]
  },
  {
   "cell_type": "markdown",
   "id": "e52d610b",
   "metadata": {},
   "source": [
    "MSE decreases with each additional component up to 7 (the first MSE reflects no principle components), so can try 7 principal components in regression. However, the first 7 principal components only explay 53% of the variance. So can also try 14 principal components, which explain about 84% of the variance."
   ]
  },
  {
   "cell_type": "code",
   "execution_count": 87,
   "id": "0fa3d463",
   "metadata": {},
   "outputs": [],
   "source": [
    "# Split into train & test subsets\n",
    "X_pca_train,X_pca_test,y_pca_train,y_pca_test = train_test_split(X_pca, y_pca, test_size=0.3, random_state=0) \n",
    "# run PCA on train subset, scaling each predictor by fitting & transforming.\n",
    "X_reduced_train = pca.fit_transform(scale(X_pca_train))"
   ]
  },
  {
   "cell_type": "code",
   "execution_count": 94,
   "id": "d13fe955",
   "metadata": {},
   "outputs": [],
   "source": [
    "# Try regression using first 7 principal components.\n",
    "regr7 = LinearRegression()\n",
    "# run PCA on test subset, transforming (with fit from X_pca_train) & selecting first 7 principal components.\n",
    "X_reduced_test7 = pca.transform(scale(X_pca_test))[:,:7]\n",
    "# train model on first 7 principal components\n",
    "regr7.fit(X_reduced_train[:,:7], y_pca_train)\n",
    "# predict y to evaluate model\n",
    "y_predicted_regr7 = regr7.predict(X_reduced_test7)\n",
    "# calculate R2 by using trained model to predict target values and compare to actual values.\n",
    "pc7_error = 'RMSE = {:.4f}'.format(mean_squared_error(y_pca_test, y_predicted_regr7, squared = False))"
   ]
  },
  {
   "cell_type": "code",
   "execution_count": 96,
   "id": "0f416ae2",
   "metadata": {},
   "outputs": [
    {
     "data": {
      "image/png": "[encoded data removed]",
      "text/plain": [
       "<Figure size 432x288 with 1 Axes>"
      ]
     },
     "metadata": {
      "needs_background": "light"
     },
     "output_type": "display_data"
    }
   ],
   "source": [
    "evaluate(predicted = y_predicted_regr7, actual = y_pca_test, RMSE = pc7_error)"
   ]
  },
  {
   "cell_type": "code",
   "execution_count": 98,
   "id": "f0724607",
   "metadata": {},
   "outputs": [],
   "source": [
    "# Try regression with 14 principal components.\n",
    "regr14 = LinearRegression()\n",
    "# run PCA on test subset, transforming (with fit from X_pca_train) & selecting first 14 principal components.\n",
    "X_reduced_test14 = pca.transform(scale(X_pca_test))[:,:14]\n",
    "# train model on first 14 principal components\n",
    "regr14.fit(X_reduced_train[:,:14], y_pca_train)\n",
    "# predict y to evaluate model\n",
    "y_predicted_regr14 = regr14.predict(X_reduced_test14)\n",
    "# calculate RMSE\n",
    "pc14_error = 'RMSE = {:.4f}'.format(mean_squared_error(y_pca_test, y_predicted_regr14, squared = False))"
   ]
  },
  {
   "cell_type": "code",
   "execution_count": 99,
   "id": "58b3edf8",
   "metadata": {},
   "outputs": [
    {
     "data": {
      "image/png": "[encoded data removed]",
      "text/plain": [
       "<Figure size 432x288 with 1 Axes>"
      ]
     },
     "metadata": {
      "needs_background": "light"
     },
     "output_type": "display_data"
    }
   ],
   "source": [
    "evaluate(predicted = y_predicted_regr14, actual = y_pca_test, RMSE = pc14_error)"
   ]
  },
  {
   "cell_type": "markdown",
   "id": "a1579916",
   "metadata": {},
   "source": [
    "The PCA did not improve model performance, so next try ridge & lasso together. ElasticNet does this. "
   ]
  },
  {
   "cell_type": "code",
   "execution_count": 100,
   "id": "9a27db3d",
   "metadata": {},
   "outputs": [],
   "source": [
    "# Use default value balancing ridge & lasso (in sklearn set by default l1 ratio = 0.5, but elsewhere called 'alpha'). \n",
    "e_net = ElasticNet()\n",
    "e_net.fit(X_train, y_train)\n",
    "# predict y to evaluate model\n",
    "y_predicted_e_net = e_net.predict(X_test)\n",
    "# calculate RMSE\n",
    "e_net_error = 'RMSE = {:.4f}'.format(mean_squared_error(y_predicted_e_net, y_test, squared = False))"
   ]
  },
  {
   "cell_type": "code",
   "execution_count": 101,
   "id": "48ed1c2f",
   "metadata": {},
   "outputs": [
    {
     "data": {
      "image/png": "[encoded data removed]",
      "text/plain": [
       "<Figure size 432x288 with 1 Axes>"
      ]
     },
     "metadata": {
      "needs_background": "light"
     },
     "output_type": "display_data"
    }
   ],
   "source": [
    "evaluate(predicted = y_predicted_e_net, actual = y_test, RMSE = e_net_error)"
   ]
  },
  {
   "cell_type": "markdown",
   "id": "88aab0cc",
   "metadata": {},
   "source": [
    "Performance was poor, so let cross-validation search for better parameters."
   ]
  },
  {
   "cell_type": "code",
   "execution_count": 103,
   "id": "3de624cc",
   "metadata": {},
   "outputs": [],
   "source": [
    "e_netCV = ElasticNetCV(cv = 10)\n",
    "e_netCV.fit(X_train, y_train)\n",
    "# predict y to evaluate model\n",
    "y_predicted_e_netCV = e_netCV.predict(X_test)\n",
    "# calculate RMSE\n",
    "e_netCV_error = 'RMSE = {:.4f}'.format(mean_squared_error(y_predicted_e_netCV, y_test, squared = False))"
   ]
  },
  {
   "cell_type": "code",
   "execution_count": 104,
   "id": "40ba5c8f",
   "metadata": {},
   "outputs": [
    {
     "data": {
      "image/png": "[encoded data removed]",
      "text/plain": [
       "<Figure size 432x288 with 1 Axes>"
      ]
     },
     "metadata": {
      "needs_background": "light"
     },
     "output_type": "display_data"
    }
   ],
   "source": [
    "evaluate(predicted = y_predicted_e_netCV, actual = y_test, RMSE = e_netCV_error)"
   ]
  },
  {
   "cell_type": "markdown",
   "id": "756ae1ab",
   "metadata": {},
   "source": [
    "This is the lowest error of all models so far, lower than linear regression RMSE by 0.0142. What alpha and lambda values were best?"
   ]
  },
  {
   "cell_type": "code",
   "execution_count": 105,
   "id": "66c75e45",
   "metadata": {},
   "outputs": [
    {
     "data": {
      "text/plain": [
       "0.5"
      ]
     },
     "execution_count": 105,
     "metadata": {},
     "output_type": "execute_result"
    }
   ],
   "source": [
    "e_netCV.l1_ratio_"
   ]
  },
  {
   "cell_type": "markdown",
   "id": "7578ce52",
   "metadata": {},
   "source": [
    "Cross-validation didn't change the balance between ridge and lasso."
   ]
  },
  {
   "cell_type": "code",
   "execution_count": 106,
   "id": "9901df58",
   "metadata": {},
   "outputs": [
    {
     "data": {
      "text/plain": [
       "0.0013162279856429068"
      ]
     },
     "execution_count": 106,
     "metadata": {},
     "output_type": "execute_result"
    }
   ],
   "source": [
    "e_netCV.alpha_"
   ]
  },
  {
   "cell_type": "markdown",
   "id": "94d4743a",
   "metadata": {},
   "source": [
    "The sklearn 'alpha' value near 0 indicates that only a small amount of regularization was performed, and this seems to have improved performance slightly over non-regularized linear regression."
   ]
  },
  {
   "cell_type": "markdown",
   "id": "158d80f2",
   "metadata": {},
   "source": [
    "Try a neural network to see if it predicts productivity better."
   ]
  },
  {
   "cell_type": "code",
   "execution_count": 107,
   "id": "15469b73",
   "metadata": {},
   "outputs": [],
   "source": [
    "import tensorflow.python.keras.backend\n",
    "from tensorflow.python.keras import initializers, optimizers, regularizers,layers\n",
    "# from tensorflow.python.keras.optimizers import SGD\n",
    "from tensorflow.python.keras.constraints import maxnorm\n",
    "from tensorflow.python.keras.models import Sequential, load_model\n",
    "from tensorflow.python.keras.layers import Dense, Activation, Dropout, Flatten\n",
    "from tensorflow.python.keras.utils import np_utils\n",
    "from tensorflow.python.keras.wrappers.scikit_learn import KerasRegressor, KerasClassifier"
   ]
  },
  {
   "cell_type": "code",
   "execution_count": 108,
   "id": "3cf1e738",
   "metadata": {},
   "outputs": [],
   "source": [
    "model = Sequential()"
   ]
  },
  {
   "cell_type": "code",
   "execution_count": 109,
   "id": "5e007f87",
   "metadata": {},
   "outputs": [],
   "source": [
    "#InputLayer\n",
    "model.add(Dense(12, input_dim = 24, activation='relu'))"
   ]
  },
  {
   "cell_type": "code",
   "execution_count": 110,
   "id": "a947a65b",
   "metadata": {},
   "outputs": [],
   "source": [
    "#Hidden Layers\n",
    "model.add(Dense(5, activation='relu'))"
   ]
  },
  {
   "cell_type": "code",
   "execution_count": 111,
   "id": "38bb2ed0",
   "metadata": {},
   "outputs": [],
   "source": [
    "#Output Layer\n",
    "model.add(Dense(1, activation='relu'))"
   ]
  },
  {
   "cell_type": "code",
   "execution_count": 231,
   "id": "b31abee5",
   "metadata": {},
   "outputs": [],
   "source": [
    "model.compile(loss=['mse'], optimizer='adam', metrics=['mse'])"
   ]
  },
  {
   "cell_type": "code",
   "execution_count": 232,
   "id": "eb582490",
   "metadata": {
    "scrolled": true
   },
   "outputs": [
    {
     "name": "stdout",
     "output_type": "stream",
     "text": [
      "Epoch 1/20\n",
      "24/24 [==============================] - 1s 8ms/step - loss: 0.0105 - mse: 0.0105 - val_loss: 0.0203 - val_mse: 0.0203\n",
      "Epoch 2/20\n",
      "24/24 [==============================] - 0s 2ms/step - loss: 0.0102 - mse: 0.0102 - val_loss: 0.0208 - val_mse: 0.0208\n",
      "Epoch 3/20\n",
      "24/24 [==============================] - 0s 2ms/step - loss: 0.0098 - mse: 0.0098 - val_loss: 0.0216 - val_mse: 0.0216\n",
      "Epoch 4/20\n",
      "24/24 [==============================] - 0s 2ms/step - loss: 0.0100 - mse: 0.0100 - val_loss: 0.0205 - val_mse: 0.0205\n",
      "Epoch 5/20\n",
      "24/24 [==============================] - 0s 2ms/step - loss: 0.0099 - mse: 0.0099 - val_loss: 0.0207 - val_mse: 0.0207\n",
      "Epoch 6/20\n",
      "24/24 [==============================] - 0s 2ms/step - loss: 0.0100 - mse: 0.0100 - val_loss: 0.0202 - val_mse: 0.0202\n",
      "Epoch 7/20\n",
      "24/24 [==============================] - 0s 2ms/step - loss: 0.0099 - mse: 0.0099 - val_loss: 0.0208 - val_mse: 0.0208\n",
      "Epoch 8/20\n",
      "24/24 [==============================] - 0s 2ms/step - loss: 0.0099 - mse: 0.0099 - val_loss: 0.0215 - val_mse: 0.0215\n",
      "Epoch 9/20\n",
      "24/24 [==============================] - 0s 2ms/step - loss: 0.0099 - mse: 0.0099 - val_loss: 0.0200 - val_mse: 0.0200\n",
      "Epoch 10/20\n",
      "24/24 [==============================] - 0s 2ms/step - loss: 0.0098 - mse: 0.0098 - val_loss: 0.0210 - val_mse: 0.0210\n",
      "Epoch 11/20\n",
      "24/24 [==============================] - 0s 2ms/step - loss: 0.0099 - mse: 0.0099 - val_loss: 0.0207 - val_mse: 0.0207\n",
      "Epoch 12/20\n",
      "24/24 [==============================] - 0s 2ms/step - loss: 0.0101 - mse: 0.0101 - val_loss: 0.0211 - val_mse: 0.0211\n",
      "Epoch 13/20\n",
      "24/24 [==============================] - 0s 2ms/step - loss: 0.0101 - mse: 0.0101 - val_loss: 0.0212 - val_mse: 0.0212\n",
      "Epoch 14/20\n",
      "24/24 [==============================] - 0s 2ms/step - loss: 0.0097 - mse: 0.0097 - val_loss: 0.0201 - val_mse: 0.0201\n",
      "Epoch 15/20\n",
      "24/24 [==============================] - 0s 2ms/step - loss: 0.0098 - mse: 0.0098 - val_loss: 0.0214 - val_mse: 0.0214\n",
      "Epoch 16/20\n",
      "24/24 [==============================] - 0s 2ms/step - loss: 0.0099 - mse: 0.0099 - val_loss: 0.0214 - val_mse: 0.0214\n",
      "Epoch 17/20\n",
      "24/24 [==============================] - 0s 2ms/step - loss: 0.0099 - mse: 0.0099 - val_loss: 0.0208 - val_mse: 0.0208\n",
      "Epoch 18/20\n",
      "24/24 [==============================] - 0s 2ms/step - loss: 0.0097 - mse: 0.0097 - val_loss: 0.0214 - val_mse: 0.0214\n",
      "Epoch 19/20\n",
      "24/24 [==============================] - 0s 2ms/step - loss: 0.0097 - mse: 0.0097 - val_loss: 0.0209 - val_mse: 0.0209\n",
      "Epoch 20/20\n",
      "24/24 [==============================] - 0s 2ms/step - loss: 0.0098 - mse: 0.0098 - val_loss: 0.0211 - val_mse: 0.0211\n"
     ]
    }
   ],
   "source": [
    "history = model.fit(X_train, y_train, batch_size=35, epochs=20, validation_data=(X_test, y_test),verbose=1)"
   ]
  },
  {
   "cell_type": "code",
   "execution_count": 200,
   "id": "18c81260",
   "metadata": {},
   "outputs": [],
   "source": [
    "# predict y to evaluate model\n",
    "y_predicted_NN = model.predict(X_test)"
   ]
  },
  {
   "cell_type": "code",
   "execution_count": 247,
   "id": "dc2f99d6",
   "metadata": {},
   "outputs": [
    {
     "name": "stdout",
     "output_type": "stream",
     "text": [
      "12/12 [==============================] - 0s 958us/step - loss: 0.0211 - mse: 0.0211\n"
     ]
    }
   ],
   "source": [
    "# calculate RMSE\n",
    "test_MSE = model.evaluate(X_test, y_test)\n",
    "NN_error = 'RMSE = {:.4f}'.format(np.sqrt(test_MSE[0]))"
   ]
  },
  {
   "cell_type": "code",
   "execution_count": 248,
   "id": "d8279cd0",
   "metadata": {},
   "outputs": [
    {
     "data": {
      "image/png": "[encoded data removed]",
      "text/plain": [
       "<Figure size 432x288 with 1 Axes>"
      ]
     },
     "metadata": {
      "needs_background": "light"
     },
     "output_type": "display_data"
    }
   ],
   "source": [
    "evaluate(predicted = y_predicted_NN, actual = y_test, RMSE = NN_error)"
   ]
  },
  {
   "cell_type": "markdown",
   "id": "2ad6aa92",
   "metadata": {},
   "source": [
    "ElasticNet with cross-validation (RMSE = 0.1439) performed better than any of the other models, including the NN (RMSE = 0.1451). "
   ]
  },
  {
   "cell_type": "markdown",
   "id": "eaf5e1e2",
   "metadata": {},
   "source": [
    "What insights can be derived from the model to guide operations management? Even though model has a lot of prediction error (relatively low R2), the coefficients of the predictors might tell us something useful."
   ]
  },
  {
   "cell_type": "code",
   "execution_count": 59,
   "id": "b639b688",
   "metadata": {
    "scrolled": true
   },
   "outputs": [
    {
     "data": {
      "text/html": [
       "<div>\n",
       "<style scoped>\n",
       "    .dataframe tbody tr th:only-of-type {\n",
       "        vertical-align: middle;\n",
       "    }\n",
       "\n",
       "    .dataframe tbody tr th {\n",
       "        vertical-align: top;\n",
       "    }\n",
       "\n",
       "    .dataframe thead th {\n",
       "        text-align: right;\n",
       "    }\n",
       "</style>\n",
       "<table border=\"1\" class=\"dataframe\">\n",
       "  <thead>\n",
       "    <tr style=\"text-align: right;\">\n",
       "      <th></th>\n",
       "      <th>Predictor</th>\n",
       "      <th>Coefficient</th>\n",
       "    </tr>\n",
       "  </thead>\n",
       "  <tbody>\n",
       "    <tr>\n",
       "      <th>16</th>\n",
       "      <td>smv</td>\n",
       "      <td>-0.073928</td>\n",
       "    </tr>\n",
       "    <tr>\n",
       "      <th>11</th>\n",
       "      <td>team_11</td>\n",
       "      <td>-0.056655</td>\n",
       "    </tr>\n",
       "    <tr>\n",
       "      <th>6</th>\n",
       "      <td>team_6</td>\n",
       "      <td>-0.053614</td>\n",
       "    </tr>\n",
       "    <tr>\n",
       "      <th>7</th>\n",
       "      <td>team_7</td>\n",
       "      <td>-0.049864</td>\n",
       "    </tr>\n",
       "    <tr>\n",
       "      <th>21</th>\n",
       "      <td>idle_men</td>\n",
       "      <td>-0.029698</td>\n",
       "    </tr>\n",
       "    <tr>\n",
       "      <th>10</th>\n",
       "      <td>team_10</td>\n",
       "      <td>-0.028155</td>\n",
       "    </tr>\n",
       "    <tr>\n",
       "      <th>8</th>\n",
       "      <td>team_8</td>\n",
       "      <td>-0.022277</td>\n",
       "    </tr>\n",
       "    <tr>\n",
       "      <th>18</th>\n",
       "      <td>over_time</td>\n",
       "      <td>-0.019616</td>\n",
       "    </tr>\n",
       "    <tr>\n",
       "      <th>12</th>\n",
       "      <td>date</td>\n",
       "      <td>-0.017797</td>\n",
       "    </tr>\n",
       "    <tr>\n",
       "      <th>9</th>\n",
       "      <td>team_9</td>\n",
       "      <td>-0.017130</td>\n",
       "    </tr>\n",
       "    <tr>\n",
       "      <th>22</th>\n",
       "      <td>no_of_style_change</td>\n",
       "      <td>-0.011551</td>\n",
       "    </tr>\n",
       "    <tr>\n",
       "      <th>5</th>\n",
       "      <td>team_5</td>\n",
       "      <td>0.000000</td>\n",
       "    </tr>\n",
       "    <tr>\n",
       "      <th>13</th>\n",
       "      <td>quarter_ordinal</td>\n",
       "      <td>-0.000000</td>\n",
       "    </tr>\n",
       "    <tr>\n",
       "      <th>14</th>\n",
       "      <td>day_ordinal</td>\n",
       "      <td>0.001663</td>\n",
       "    </tr>\n",
       "    <tr>\n",
       "      <th>17</th>\n",
       "      <td>wip</td>\n",
       "      <td>0.006827</td>\n",
       "    </tr>\n",
       "    <tr>\n",
       "      <th>0</th>\n",
       "      <td>department_finishing</td>\n",
       "      <td>0.008759</td>\n",
       "    </tr>\n",
       "    <tr>\n",
       "      <th>19</th>\n",
       "      <td>incentive</td>\n",
       "      <td>0.010661</td>\n",
       "    </tr>\n",
       "    <tr>\n",
       "      <th>20</th>\n",
       "      <td>idle_time</td>\n",
       "      <td>0.010754</td>\n",
       "    </tr>\n",
       "    <tr>\n",
       "      <th>2</th>\n",
       "      <td>team_2</td>\n",
       "      <td>0.020748</td>\n",
       "    </tr>\n",
       "    <tr>\n",
       "      <th>4</th>\n",
       "      <td>team_4</td>\n",
       "      <td>0.043906</td>\n",
       "    </tr>\n",
       "    <tr>\n",
       "      <th>1</th>\n",
       "      <td>team_1</td>\n",
       "      <td>0.059746</td>\n",
       "    </tr>\n",
       "    <tr>\n",
       "      <th>15</th>\n",
       "      <td>targeted_productivity</td>\n",
       "      <td>0.061042</td>\n",
       "    </tr>\n",
       "    <tr>\n",
       "      <th>3</th>\n",
       "      <td>team_3</td>\n",
       "      <td>0.062161</td>\n",
       "    </tr>\n",
       "    <tr>\n",
       "      <th>23</th>\n",
       "      <td>no_of_workers</td>\n",
       "      <td>0.080125</td>\n",
       "    </tr>\n",
       "  </tbody>\n",
       "</table>\n",
       "</div>"
      ],
      "text/plain": [
       "                Predictor  Coefficient\n",
       "16                    smv    -0.073928\n",
       "11                team_11    -0.056655\n",
       "6                  team_6    -0.053614\n",
       "7                  team_7    -0.049864\n",
       "21               idle_men    -0.029698\n",
       "10                team_10    -0.028155\n",
       "8                  team_8    -0.022277\n",
       "18              over_time    -0.019616\n",
       "12                   date    -0.017797\n",
       "9                  team_9    -0.017130\n",
       "22     no_of_style_change    -0.011551\n",
       "5                  team_5     0.000000\n",
       "13        quarter_ordinal    -0.000000\n",
       "14            day_ordinal     0.001663\n",
       "17                    wip     0.006827\n",
       "0    department_finishing     0.008759\n",
       "19              incentive     0.010661\n",
       "20              idle_time     0.010754\n",
       "2                  team_2     0.020748\n",
       "4                  team_4     0.043906\n",
       "1                  team_1     0.059746\n",
       "15  targeted_productivity     0.061042\n",
       "3                  team_3     0.062161\n",
       "23          no_of_workers     0.080125"
      ]
     },
     "execution_count": 59,
     "metadata": {},
     "output_type": "execute_result"
    }
   ],
   "source": [
    "# take a look at the model coefficients\n",
    "coefficients = pd.DataFrame(e_netCV.coef_)\n",
    "column_names = pd.DataFrame(list(X_train.columns))\n",
    "e_netCV_coefficients = pd.concat([column_names, coefficients], axis = 1)\n",
    "e_netCV_coefficients.columns = ['Predictor', 'Coefficient']\n",
    "e_netCV_coefficients.sort_values(by = \"Coefficient\")"
   ]
  },
  {
   "cell_type": "markdown",
   "id": "8853164d",
   "metadata": {},
   "source": [
    "The predictor most negatively correlated with productivity was smv (Standard Minute Value), which is the time allocated for a specific task. If these longer tasks could be broken into a series of subtasks, productivity might be increased.\n",
    "\n",
    "The most positively correlated predictor of productivity was no_of_workers, which is the number of workers on a team for a given task. Increasing team size may also increase productivity.\n",
    "\n",
    "Different teams also ranged from being negatively correlated to positively correlated with productivity. \n",
    "\n",
    "First, I'll look more closesly at teams. Did the makeup of a team remain relatively constant, or did team composition change during the study?"
   ]
  },
  {
   "cell_type": "code",
   "execution_count": 60,
   "id": "e04bb305",
   "metadata": {
    "scrolled": true
   },
   "outputs": [
    {
     "data": {
      "text/html": [
       "<div>\n",
       "<style scoped>\n",
       "    .dataframe tbody tr th:only-of-type {\n",
       "        vertical-align: middle;\n",
       "    }\n",
       "\n",
       "    .dataframe tbody tr th {\n",
       "        vertical-align: top;\n",
       "    }\n",
       "\n",
       "    .dataframe thead tr th {\n",
       "        text-align: left;\n",
       "    }\n",
       "\n",
       "    .dataframe thead tr:last-of-type th {\n",
       "        text-align: right;\n",
       "    }\n",
       "</style>\n",
       "<table border=\"1\" class=\"dataframe\">\n",
       "  <thead>\n",
       "    <tr>\n",
       "      <th></th>\n",
       "      <th colspan=\"8\" halign=\"left\">no_of_workers</th>\n",
       "    </tr>\n",
       "    <tr>\n",
       "      <th></th>\n",
       "      <th>count</th>\n",
       "      <th>mean</th>\n",
       "      <th>std</th>\n",
       "      <th>min</th>\n",
       "      <th>25%</th>\n",
       "      <th>50%</th>\n",
       "      <th>75%</th>\n",
       "      <th>max</th>\n",
       "    </tr>\n",
       "    <tr>\n",
       "      <th>team</th>\n",
       "      <th></th>\n",
       "      <th></th>\n",
       "      <th></th>\n",
       "      <th></th>\n",
       "      <th></th>\n",
       "      <th></th>\n",
       "      <th></th>\n",
       "      <th></th>\n",
       "    </tr>\n",
       "  </thead>\n",
       "  <tbody>\n",
       "    <tr>\n",
       "      <th>1</th>\n",
       "      <td>105.0</td>\n",
       "      <td>35.042857</td>\n",
       "      <td>24.073517</td>\n",
       "      <td>2.0</td>\n",
       "      <td>8.0</td>\n",
       "      <td>56.5</td>\n",
       "      <td>58.00</td>\n",
       "      <td>59.0</td>\n",
       "    </tr>\n",
       "    <tr>\n",
       "      <th>2</th>\n",
       "      <td>109.0</td>\n",
       "      <td>34.623853</td>\n",
       "      <td>22.505365</td>\n",
       "      <td>8.0</td>\n",
       "      <td>10.0</td>\n",
       "      <td>45.0</td>\n",
       "      <td>57.00</td>\n",
       "      <td>59.0</td>\n",
       "    </tr>\n",
       "    <tr>\n",
       "      <th>3</th>\n",
       "      <td>95.0</td>\n",
       "      <td>39.521053</td>\n",
       "      <td>22.101063</td>\n",
       "      <td>7.0</td>\n",
       "      <td>12.0</td>\n",
       "      <td>56.0</td>\n",
       "      <td>57.00</td>\n",
       "      <td>60.0</td>\n",
       "    </tr>\n",
       "    <tr>\n",
       "      <th>4</th>\n",
       "      <td>105.0</td>\n",
       "      <td>38.200000</td>\n",
       "      <td>22.239799</td>\n",
       "      <td>8.0</td>\n",
       "      <td>15.0</td>\n",
       "      <td>56.0</td>\n",
       "      <td>58.00</td>\n",
       "      <td>60.0</td>\n",
       "    </tr>\n",
       "    <tr>\n",
       "      <th>5</th>\n",
       "      <td>93.0</td>\n",
       "      <td>39.381720</td>\n",
       "      <td>23.639319</td>\n",
       "      <td>2.0</td>\n",
       "      <td>12.0</td>\n",
       "      <td>58.0</td>\n",
       "      <td>58.00</td>\n",
       "      <td>60.0</td>\n",
       "    </tr>\n",
       "    <tr>\n",
       "      <th>6</th>\n",
       "      <td>94.0</td>\n",
       "      <td>25.170213</td>\n",
       "      <td>14.313043</td>\n",
       "      <td>5.0</td>\n",
       "      <td>8.0</td>\n",
       "      <td>31.5</td>\n",
       "      <td>33.00</td>\n",
       "      <td>89.0</td>\n",
       "    </tr>\n",
       "    <tr>\n",
       "      <th>7</th>\n",
       "      <td>96.0</td>\n",
       "      <td>37.098958</td>\n",
       "      <td>23.730906</td>\n",
       "      <td>8.0</td>\n",
       "      <td>8.0</td>\n",
       "      <td>56.0</td>\n",
       "      <td>58.00</td>\n",
       "      <td>60.0</td>\n",
       "    </tr>\n",
       "    <tr>\n",
       "      <th>8</th>\n",
       "      <td>109.0</td>\n",
       "      <td>33.490826</td>\n",
       "      <td>24.016389</td>\n",
       "      <td>4.0</td>\n",
       "      <td>8.0</td>\n",
       "      <td>52.0</td>\n",
       "      <td>57.00</td>\n",
       "      <td>60.0</td>\n",
       "    </tr>\n",
       "    <tr>\n",
       "      <th>9</th>\n",
       "      <td>104.0</td>\n",
       "      <td>35.211538</td>\n",
       "      <td>23.737817</td>\n",
       "      <td>2.0</td>\n",
       "      <td>8.0</td>\n",
       "      <td>52.0</td>\n",
       "      <td>58.00</td>\n",
       "      <td>59.0</td>\n",
       "    </tr>\n",
       "    <tr>\n",
       "      <th>10</th>\n",
       "      <td>100.0</td>\n",
       "      <td>35.295000</td>\n",
       "      <td>22.066028</td>\n",
       "      <td>8.0</td>\n",
       "      <td>8.0</td>\n",
       "      <td>50.0</td>\n",
       "      <td>56.00</td>\n",
       "      <td>58.5</td>\n",
       "    </tr>\n",
       "    <tr>\n",
       "      <th>11</th>\n",
       "      <td>88.0</td>\n",
       "      <td>38.738636</td>\n",
       "      <td>21.799897</td>\n",
       "      <td>5.0</td>\n",
       "      <td>10.0</td>\n",
       "      <td>54.0</td>\n",
       "      <td>56.25</td>\n",
       "      <td>58.0</td>\n",
       "    </tr>\n",
       "    <tr>\n",
       "      <th>12</th>\n",
       "      <td>99.0</td>\n",
       "      <td>23.919192</td>\n",
       "      <td>12.516664</td>\n",
       "      <td>8.0</td>\n",
       "      <td>9.0</td>\n",
       "      <td>31.5</td>\n",
       "      <td>34.00</td>\n",
       "      <td>59.0</td>\n",
       "    </tr>\n",
       "  </tbody>\n",
       "</table>\n",
       "</div>"
      ],
      "text/plain": [
       "     no_of_workers                                                    \n",
       "             count       mean        std  min   25%   50%    75%   max\n",
       "team                                                                  \n",
       "1            105.0  35.042857  24.073517  2.0   8.0  56.5  58.00  59.0\n",
       "2            109.0  34.623853  22.505365  8.0  10.0  45.0  57.00  59.0\n",
       "3             95.0  39.521053  22.101063  7.0  12.0  56.0  57.00  60.0\n",
       "4            105.0  38.200000  22.239799  8.0  15.0  56.0  58.00  60.0\n",
       "5             93.0  39.381720  23.639319  2.0  12.0  58.0  58.00  60.0\n",
       "6             94.0  25.170213  14.313043  5.0   8.0  31.5  33.00  89.0\n",
       "7             96.0  37.098958  23.730906  8.0   8.0  56.0  58.00  60.0\n",
       "8            109.0  33.490826  24.016389  4.0   8.0  52.0  57.00  60.0\n",
       "9            104.0  35.211538  23.737817  2.0   8.0  52.0  58.00  59.0\n",
       "10           100.0  35.295000  22.066028  8.0   8.0  50.0  56.00  58.5\n",
       "11            88.0  38.738636  21.799897  5.0  10.0  54.0  56.25  58.0\n",
       "12            99.0  23.919192  12.516664  8.0   9.0  31.5  34.00  59.0"
      ]
     },
     "execution_count": 60,
     "metadata": {},
     "output_type": "execute_result"
    }
   ],
   "source": [
    "garment_prod[['team', 'no_of_workers']].groupby('team').describe()"
   ]
  },
  {
   "cell_type": "markdown",
   "id": "c3d7b2f9",
   "metadata": {},
   "source": [
    "Each team varied greatly in size (number of workers)."
   ]
  },
  {
   "cell_type": "code",
   "execution_count": 61,
   "id": "332d2e31",
   "metadata": {
    "scrolled": true
   },
   "outputs": [
    {
     "data": {
      "text/html": [
       "<div>\n",
       "<style scoped>\n",
       "    .dataframe tbody tr th:only-of-type {\n",
       "        vertical-align: middle;\n",
       "    }\n",
       "\n",
       "    .dataframe tbody tr th {\n",
       "        vertical-align: top;\n",
       "    }\n",
       "\n",
       "    .dataframe thead th {\n",
       "        text-align: right;\n",
       "    }\n",
       "</style>\n",
       "<table border=\"1\" class=\"dataframe\">\n",
       "  <thead>\n",
       "    <tr style=\"text-align: right;\">\n",
       "      <th></th>\n",
       "      <th>team</th>\n",
       "      <th>no_of_workers</th>\n",
       "      <th>smv</th>\n",
       "    </tr>\n",
       "  </thead>\n",
       "  <tbody>\n",
       "    <tr>\n",
       "      <th>0</th>\n",
       "      <td>8</td>\n",
       "      <td>59.0</td>\n",
       "      <td>26.16</td>\n",
       "    </tr>\n",
       "    <tr>\n",
       "      <th>1</th>\n",
       "      <td>1</td>\n",
       "      <td>8.0</td>\n",
       "      <td>3.94</td>\n",
       "    </tr>\n",
       "    <tr>\n",
       "      <th>2</th>\n",
       "      <td>11</td>\n",
       "      <td>30.5</td>\n",
       "      <td>11.41</td>\n",
       "    </tr>\n",
       "    <tr>\n",
       "      <th>3</th>\n",
       "      <td>12</td>\n",
       "      <td>30.5</td>\n",
       "      <td>11.41</td>\n",
       "    </tr>\n",
       "    <tr>\n",
       "      <th>4</th>\n",
       "      <td>6</td>\n",
       "      <td>56.0</td>\n",
       "      <td>25.90</td>\n",
       "    </tr>\n",
       "    <tr>\n",
       "      <th>5</th>\n",
       "      <td>7</td>\n",
       "      <td>56.0</td>\n",
       "      <td>25.90</td>\n",
       "    </tr>\n",
       "    <tr>\n",
       "      <th>6</th>\n",
       "      <td>2</td>\n",
       "      <td>8.0</td>\n",
       "      <td>3.94</td>\n",
       "    </tr>\n",
       "    <tr>\n",
       "      <th>7</th>\n",
       "      <td>3</td>\n",
       "      <td>57.5</td>\n",
       "      <td>28.08</td>\n",
       "    </tr>\n",
       "    <tr>\n",
       "      <th>8</th>\n",
       "      <td>2</td>\n",
       "      <td>55.0</td>\n",
       "      <td>19.87</td>\n",
       "    </tr>\n",
       "    <tr>\n",
       "      <th>9</th>\n",
       "      <td>1</td>\n",
       "      <td>57.5</td>\n",
       "      <td>28.08</td>\n",
       "    </tr>\n",
       "    <tr>\n",
       "      <th>10</th>\n",
       "      <td>9</td>\n",
       "      <td>57.5</td>\n",
       "      <td>28.08</td>\n",
       "    </tr>\n",
       "    <tr>\n",
       "      <th>11</th>\n",
       "      <td>10</td>\n",
       "      <td>54.0</td>\n",
       "      <td>19.31</td>\n",
       "    </tr>\n",
       "    <tr>\n",
       "      <th>12</th>\n",
       "      <td>5</td>\n",
       "      <td>30.5</td>\n",
       "      <td>11.41</td>\n",
       "    </tr>\n",
       "    <tr>\n",
       "      <th>13</th>\n",
       "      <td>10</td>\n",
       "      <td>8.0</td>\n",
       "      <td>3.94</td>\n",
       "    </tr>\n",
       "    <tr>\n",
       "      <th>14</th>\n",
       "      <td>8</td>\n",
       "      <td>8.0</td>\n",
       "      <td>2.90</td>\n",
       "    </tr>\n",
       "    <tr>\n",
       "      <th>15</th>\n",
       "      <td>4</td>\n",
       "      <td>18.0</td>\n",
       "      <td>3.94</td>\n",
       "    </tr>\n",
       "    <tr>\n",
       "      <th>16</th>\n",
       "      <td>7</td>\n",
       "      <td>8.0</td>\n",
       "      <td>2.90</td>\n",
       "    </tr>\n",
       "    <tr>\n",
       "      <th>17</th>\n",
       "      <td>4</td>\n",
       "      <td>60.0</td>\n",
       "      <td>23.69</td>\n",
       "    </tr>\n",
       "    <tr>\n",
       "      <th>18</th>\n",
       "      <td>11</td>\n",
       "      <td>12.0</td>\n",
       "      <td>4.15</td>\n",
       "    </tr>\n",
       "  </tbody>\n",
       "</table>\n",
       "</div>"
      ],
      "text/plain": [
       "    team  no_of_workers    smv\n",
       "0      8           59.0  26.16\n",
       "1      1            8.0   3.94\n",
       "2     11           30.5  11.41\n",
       "3     12           30.5  11.41\n",
       "4      6           56.0  25.90\n",
       "5      7           56.0  25.90\n",
       "6      2            8.0   3.94\n",
       "7      3           57.5  28.08\n",
       "8      2           55.0  19.87\n",
       "9      1           57.5  28.08\n",
       "10     9           57.5  28.08\n",
       "11    10           54.0  19.31\n",
       "12     5           30.5  11.41\n",
       "13    10            8.0   3.94\n",
       "14     8            8.0   2.90\n",
       "15     4           18.0   3.94\n",
       "16     7            8.0   2.90\n",
       "17     4           60.0  23.69\n",
       "18    11           12.0   4.15"
      ]
     },
     "execution_count": 61,
     "metadata": {},
     "output_type": "execute_result"
    }
   ],
   "source": [
    "garment_prod.loc[(garment_prod['date'] == '2015-01-01'), ['team', 'no_of_workers', 'smv']]"
   ]
  },
  {
   "cell_type": "markdown",
   "id": "64ffb307",
   "metadata": {},
   "source": [
    "Rows with the same smv value on this day probably refer to different teams working on the same task. So on this particular day, a given team changed greatly in size when working on different tasks. The apparently fluid nature of the teams probably limits what can be learned from tracking team productivity. It may be worthwhile to capture more granular data on individual employees or team composition to enable greater insight into factors that affect their productivity, such as training or supervising of employees."
   ]
  },
  {
   "cell_type": "markdown",
   "id": "f7dd858c",
   "metadata": {},
   "source": [
    "Next, I predict the degree to which productivity could be increased by breaking up longer tasks into shorter ones. Earlier I selected rows from the test set where smv was 40 or greater."
   ]
  },
  {
   "cell_type": "code",
   "execution_count": 62,
   "id": "849662da",
   "metadata": {},
   "outputs": [
    {
     "data": {
      "text/plain": [
       "303    48.84\n",
       "367    54.56\n",
       "434    42.97\n",
       "316    49.10\n",
       "Name: smv, dtype: float64"
      ]
     },
     "execution_count": 62,
     "metadata": {},
     "output_type": "execute_result"
    }
   ],
   "source": [
    "X_hi_smv['smv']"
   ]
  },
  {
   "cell_type": "code",
   "execution_count": 63,
   "id": "55456fa0",
   "metadata": {},
   "outputs": [
    {
     "data": {
      "text/plain": [
       "303    24.420\n",
       "367    27.280\n",
       "434    21.485\n",
       "316    24.550\n",
       "Name: smv, dtype: float64"
      ]
     },
     "execution_count": 63,
     "metadata": {},
     "output_type": "execute_result"
    }
   ],
   "source": [
    "# Lower smv for these rows by 50%\n",
    "X_lowered_smv = X_hi_smv\n",
    "X_lowered_smv['smv'] = X_lowered_smv['smv'] * 0.5\n",
    "X_lowered_smv['smv']"
   ]
  },
  {
   "cell_type": "code",
   "execution_count": 64,
   "id": "34cd6b8f",
   "metadata": {},
   "outputs": [],
   "source": [
    "# Select predictors for scaling, including numerical and encoded ordinal columns.\n",
    "X_lowered_smv_scalable = X_lowered_smv.drop(X.iloc[:, 0:12], axis = 1)"
   ]
  },
  {
   "cell_type": "code",
   "execution_count": 65,
   "id": "cc1337bd",
   "metadata": {},
   "outputs": [
    {
     "name": "stdout",
     "output_type": "stream",
     "text": [
      "<class 'pandas.core.frame.DataFrame'>\n",
      "RangeIndex: 4 entries, 0 to 3\n",
      "Data columns (total 12 columns):\n",
      " #   Column                 Non-Null Count  Dtype  \n",
      "---  ------                 --------------  -----  \n",
      " 0   date                   4 non-null      float64\n",
      " 1   quarter_ordinal        4 non-null      float64\n",
      " 2   day_ordinal            4 non-null      float64\n",
      " 3   targeted_productivity  4 non-null      float64\n",
      " 4   smv                    4 non-null      float64\n",
      " 5   wip                    4 non-null      float64\n",
      " 6   over_time              4 non-null      float64\n",
      " 7   incentive              4 non-null      float64\n",
      " 8   idle_time              4 non-null      float64\n",
      " 9   idle_men               4 non-null      float64\n",
      " 10  no_of_style_change     4 non-null      float64\n",
      " 11  no_of_workers          4 non-null      float64\n",
      "dtypes: float64(12)\n",
      "memory usage: 512.0 bytes\n"
     ]
    }
   ],
   "source": [
    "# Use fit paramaters from X_train to transform X_lowered_smv, then convert back to df.\n",
    "X_lowered_smv_scaling = scaler.transform(X_lowered_smv_scalable)\n",
    "X_lowered_smv_scaled = pd.DataFrame(X_lowered_smv_scaling)\n",
    "X_lowered_smv_scaled = X_lowered_smv_scaled.astype('float')\n",
    "X_lowered_smv_scaled.columns = ['date', 'quarter_ordinal','day_ordinal', 'targeted_productivity', 'smv', 'wip', 'over_time', 'incentive', 'idle_time', 'idle_men', 'no_of_style_change', 'no_of_workers']\n",
    "X_lowered_smv_scaled.info()"
   ]
  },
  {
   "cell_type": "code",
   "execution_count": 66,
   "id": "3fae1da4",
   "metadata": {},
   "outputs": [
    {
     "name": "stdout",
     "output_type": "stream",
     "text": [
      "<class 'pandas.core.frame.DataFrame'>\n",
      "RangeIndex: 4 entries, 0 to 3\n",
      "Data columns (total 24 columns):\n",
      " #   Column                 Non-Null Count  Dtype  \n",
      "---  ------                 --------------  -----  \n",
      " 0   department_finishing   4 non-null      uint8  \n",
      " 1   team_1                 4 non-null      uint8  \n",
      " 2   team_2                 4 non-null      uint8  \n",
      " 3   team_3                 4 non-null      uint8  \n",
      " 4   team_4                 4 non-null      uint8  \n",
      " 5   team_5                 4 non-null      uint8  \n",
      " 6   team_6                 4 non-null      uint8  \n",
      " 7   team_7                 4 non-null      uint8  \n",
      " 8   team_8                 4 non-null      uint8  \n",
      " 9   team_9                 4 non-null      uint8  \n",
      " 10  team_10                4 non-null      uint8  \n",
      " 11  team_11                4 non-null      uint8  \n",
      " 12  date                   4 non-null      float64\n",
      " 13  quarter_ordinal        4 non-null      float64\n",
      " 14  day_ordinal            4 non-null      float64\n",
      " 15  targeted_productivity  4 non-null      float64\n",
      " 16  smv                    4 non-null      float64\n",
      " 17  wip                    4 non-null      float64\n",
      " 18  over_time              4 non-null      float64\n",
      " 19  incentive              4 non-null      float64\n",
      " 20  idle_time              4 non-null      float64\n",
      " 21  idle_men               4 non-null      float64\n",
      " 22  no_of_style_change     4 non-null      float64\n",
      " 23  no_of_workers          4 non-null      float64\n",
      "dtypes: float64(12), uint8(12)\n",
      "memory usage: 560.0 bytes\n"
     ]
    }
   ],
   "source": [
    "# Select binary columns (encoded nominal features). \n",
    "X_lowered_smv_binary = X_lowered_smv.iloc[:, 0:12]\n",
    "# Reset index on binary dataframe to match indexing on scaled dataframe, whose indexing was reset during scaling.\n",
    "X_lowered_smv_binary.reset_index(drop = True, inplace = True)\n",
    "# Concatenate with scaled columns.\n",
    "X_lowered_smv = pd.concat([X_lowered_smv_binary, X_lowered_smv_scaled], axis=1)\n",
    "X_lowered_smv.info()"
   ]
  },
  {
   "cell_type": "code",
   "execution_count": 67,
   "id": "2a1316c9",
   "metadata": {},
   "outputs": [
    {
     "data": {
      "text/plain": [
       "array([0.73657846, 0.78386323, 0.71273127, 0.84969833])"
      ]
     },
     "execution_count": 67,
     "metadata": {},
     "output_type": "execute_result"
    }
   ],
   "source": [
    "# Use model to predict productivity after lowering smv.\n",
    "productivity_lowered_smv = e_netCV.predict(X_lowered_smv)\n",
    "productivity_lowered_smv"
   ]
  },
  {
   "cell_type": "code",
   "execution_count": 68,
   "id": "bed5a7b1",
   "metadata": {},
   "outputs": [
    {
     "data": {
      "text/plain": [
       "24.91576878146381"
      ]
     },
     "execution_count": 68,
     "metadata": {},
     "output_type": "execute_result"
    }
   ],
   "source": [
    "# Calculate increase in productivity due to lowering smv.\n",
    "hi_smv_productivity = y_hi_smv.mean()\n",
    "lowered_smv_productivity = productivity_lowered_smv.mean()\n",
    "percent_increase_in_productivity = ((lowered_smv_productivity - hi_smv_productivity)/lowered_smv_productivity)*100\n",
    "percent_increase_in_productivity"
   ]
  },
  {
   "cell_type": "code",
   "execution_count": 69,
   "id": "a8b23c17",
   "metadata": {},
   "outputs": [
    {
     "data": {
      "text/plain": [
       "5.150819653930676"
      ]
     },
     "execution_count": 69,
     "metadata": {},
     "output_type": "execute_result"
    }
   ],
   "source": [
    "# How much of the work consists of longer tasks, where smv >= 40? \n",
    "# Calculate smv * no_of_workers as measure of the amount of work per task\n",
    "hi_smv = garment_prod.loc[garment_prod['smv'] >= 40]\n",
    "hi_smv['worker_smv'] = hi_smv['smv'] * hi_smv['no_of_workers']\n",
    "hi_smv_sum = hi_smv['worker_smv'].sum()\n",
    "garment_prod['worker_smv'] = garment_prod['smv'] * garment_prod['no_of_workers']\n",
    "garment_prod_smv_sum = garment_prod['worker_smv'].sum()\n",
    "percent_work_hi_smv = (hi_smv_sum/garment_prod_smv_sum)*100\n",
    "percent_work_hi_smv"
   ]
  },
  {
   "cell_type": "markdown",
   "id": "b7b7445a",
   "metadata": {},
   "source": [
    "In summary, this analysis indicates that breaking longer tasks into shorter subtasks could improve productivity. If task length is halved for the longest 5% of the work, productivity could be increased by 25%. Additional gains in productivity may be possible by reducing task length for more of the workload."
   ]
  }
 ],
 "metadata": {
  "kernelspec": {
   "display_name": "Python 3",
   "language": "python",
   "name": "python3"
  },
  "language_info": {
   "codemirror_mode": {
    "name": "ipython",
    "version": 3
   },
   "file_extension": ".py",
   "mimetype": "text/x-python",
   "name": "python",
   "nbconvert_exporter": "python",
   "pygments_lexer": "ipython3",
   "version": "3.9.1"
  }
 },
 "nbformat": 4,
 "nbformat_minor": 5
}
