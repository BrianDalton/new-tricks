{
 "cells": [
  {
   "cell_type": "markdown",
   "id": "fda09acf",
   "metadata": {},
   "source": [
    "In this notebook I run a variety of models to predict garment worker productivity, and find that Random Forest performs best. Through feature selection I discover that when incentives are offered, incentive size correlates with productivity while RMSE decreases from 0.1226 for all instances to 0.0840 for this subset of the dataset. In addition, the model can be simplified substantially, as dropping 16 of 24 features results in an RMSE of 0.0832. These results suggest that expanding the use of incentives may be a strategy worth exploring. For tasks with zero incentive, adding an average incentive increases their mean daily productivity by 13.34%.  I also discovered that productivity may be increased 18% by for the longest tasks if they are divided into shorter ones."
   ]
  },
  {
   "cell_type": "code",
   "execution_count": 1,
   "id": "06e22ac4",
   "metadata": {},
   "outputs": [],
   "source": [
    "import pandas as pd\n",
    "import numpy as np\n",
    "import matplotlib.pyplot as plt\n",
    "from matplotlib.pyplot import figure\n",
    "from sklearn import model_selection\n",
    "from sklearn.preprocessing import StandardScaler, scale\n",
    "from sklearn.utils import shuffle\n",
    "from sklearn.model_selection import train_test_split, RepeatedKFold\n",
    "from sklearn.linear_model import LinearRegression, ElasticNet, ElasticNetCV\n",
    "from sklearn.decomposition import PCA\n",
    "from sklearn.ensemble import RandomForestRegressor\n",
    "from sklearn.metrics import mean_squared_error, r2_score"
   ]
  },
  {
   "cell_type": "markdown",
   "id": "1de8edcd",
   "metadata": {},
   "source": [
    "Preprocess data. Begin by checking for null values."
   ]
  },
  {
   "cell_type": "code",
   "execution_count": 2,
   "id": "c526e4f0",
   "metadata": {},
   "outputs": [
    {
     "name": "stdout",
     "output_type": "stream",
     "text": [
      "<class 'pandas.core.frame.DataFrame'>\n",
      "RangeIndex: 1197 entries, 0 to 1196\n",
      "Data columns (total 15 columns):\n",
      " #   Column                 Non-Null Count  Dtype  \n",
      "---  ------                 --------------  -----  \n",
      " 0   date                   1197 non-null   object \n",
      " 1   quarter                1197 non-null   object \n",
      " 2   department             1197 non-null   object \n",
      " 3   day                    1197 non-null   object \n",
      " 4   team                   1197 non-null   int64  \n",
      " 5   targeted_productivity  1197 non-null   float64\n",
      " 6   smv                    1197 non-null   float64\n",
      " 7   wip                    691 non-null    float64\n",
      " 8   over_time              1197 non-null   int64  \n",
      " 9   incentive              1197 non-null   int64  \n",
      " 10  idle_time              1197 non-null   float64\n",
      " 11  idle_men               1197 non-null   int64  \n",
      " 12  no_of_style_change     1197 non-null   int64  \n",
      " 13  no_of_workers          1197 non-null   float64\n",
      " 14  actual_productivity    1197 non-null   float64\n",
      "dtypes: float64(6), int64(5), object(4)\n",
      "memory usage: 140.4+ KB\n"
     ]
    }
   ],
   "source": [
    "garment_prod = pd.read_csv(\"data/garments_worker_productivity.csv\")\n",
    "garment_prod.info()"
   ]
  },
  {
   "cell_type": "code",
   "execution_count": 3,
   "id": "90c7d4f8",
   "metadata": {},
   "outputs": [
    {
     "data": {
      "text/plain": [
       "count      691.000000\n",
       "mean      1190.465991\n",
       "std       1837.455001\n",
       "min          7.000000\n",
       "25%        774.500000\n",
       "50%       1039.000000\n",
       "75%       1252.500000\n",
       "max      23122.000000\n",
       "Name: wip, dtype: float64"
      ]
     },
     "execution_count": 3,
     "metadata": {},
     "output_type": "execute_result"
    }
   ],
   "source": [
    "garment_prod['wip'].describe()"
   ]
  },
  {
   "cell_type": "markdown",
   "id": "a21a0d3c",
   "metadata": {},
   "source": [
    "The 'wip' column shows number of works in progress. Given the large number of nulls and that min = 7, assume nulls should be considered 0."
   ]
  },
  {
   "cell_type": "code",
   "execution_count": 4,
   "id": "d4f45428",
   "metadata": {},
   "outputs": [],
   "source": [
    "garment_prod['wip'] = garment_prod['wip'].fillna(0)"
   ]
  },
  {
   "cell_type": "markdown",
   "id": "d104e102",
   "metadata": {},
   "source": [
    "Convert 'date' to datetime to facilitate anlysis."
   ]
  },
  {
   "cell_type": "code",
   "execution_count": 5,
   "id": "757f9897",
   "metadata": {},
   "outputs": [],
   "source": [
    "garment_prod['date'] = pd.to_datetime(garment_prod['date'])"
   ]
  },
  {
   "cell_type": "code",
   "execution_count": 6,
   "id": "c9ad06d7",
   "metadata": {
    "scrolled": true
   },
   "outputs": [
    {
     "data": {
      "text/html": [
       "<div>\n",
       "<style scoped>\n",
       "    .dataframe tbody tr th:only-of-type {\n",
       "        vertical-align: middle;\n",
       "    }\n",
       "\n",
       "    .dataframe tbody tr th {\n",
       "        vertical-align: top;\n",
       "    }\n",
       "\n",
       "    .dataframe thead th {\n",
       "        text-align: right;\n",
       "    }\n",
       "</style>\n",
       "<table border=\"1\" class=\"dataframe\">\n",
       "  <thead>\n",
       "    <tr style=\"text-align: right;\">\n",
       "      <th></th>\n",
       "      <th>team</th>\n",
       "      <th>targeted_productivity</th>\n",
       "      <th>smv</th>\n",
       "      <th>wip</th>\n",
       "      <th>over_time</th>\n",
       "      <th>incentive</th>\n",
       "      <th>idle_time</th>\n",
       "      <th>idle_men</th>\n",
       "      <th>no_of_style_change</th>\n",
       "      <th>no_of_workers</th>\n",
       "      <th>actual_productivity</th>\n",
       "    </tr>\n",
       "  </thead>\n",
       "  <tbody>\n",
       "    <tr>\n",
       "      <th>count</th>\n",
       "      <td>1197.000000</td>\n",
       "      <td>1197.000000</td>\n",
       "      <td>1197.000000</td>\n",
       "      <td>1197.000000</td>\n",
       "      <td>1197.000000</td>\n",
       "      <td>1197.000000</td>\n",
       "      <td>1197.000000</td>\n",
       "      <td>1197.000000</td>\n",
       "      <td>1197.000000</td>\n",
       "      <td>1197.000000</td>\n",
       "      <td>1197.000000</td>\n",
       "    </tr>\n",
       "    <tr>\n",
       "      <th>mean</th>\n",
       "      <td>6.426901</td>\n",
       "      <td>0.729632</td>\n",
       "      <td>15.062172</td>\n",
       "      <td>687.228070</td>\n",
       "      <td>4567.460317</td>\n",
       "      <td>38.210526</td>\n",
       "      <td>0.730159</td>\n",
       "      <td>0.369256</td>\n",
       "      <td>0.150376</td>\n",
       "      <td>34.609858</td>\n",
       "      <td>0.735091</td>\n",
       "    </tr>\n",
       "    <tr>\n",
       "      <th>std</th>\n",
       "      <td>3.463963</td>\n",
       "      <td>0.097891</td>\n",
       "      <td>10.943219</td>\n",
       "      <td>1514.582341</td>\n",
       "      <td>3348.823563</td>\n",
       "      <td>160.182643</td>\n",
       "      <td>12.709757</td>\n",
       "      <td>3.268987</td>\n",
       "      <td>0.427848</td>\n",
       "      <td>22.197687</td>\n",
       "      <td>0.174488</td>\n",
       "    </tr>\n",
       "    <tr>\n",
       "      <th>min</th>\n",
       "      <td>1.000000</td>\n",
       "      <td>0.070000</td>\n",
       "      <td>2.900000</td>\n",
       "      <td>0.000000</td>\n",
       "      <td>0.000000</td>\n",
       "      <td>0.000000</td>\n",
       "      <td>0.000000</td>\n",
       "      <td>0.000000</td>\n",
       "      <td>0.000000</td>\n",
       "      <td>2.000000</td>\n",
       "      <td>0.233705</td>\n",
       "    </tr>\n",
       "    <tr>\n",
       "      <th>25%</th>\n",
       "      <td>3.000000</td>\n",
       "      <td>0.700000</td>\n",
       "      <td>3.940000</td>\n",
       "      <td>0.000000</td>\n",
       "      <td>1440.000000</td>\n",
       "      <td>0.000000</td>\n",
       "      <td>0.000000</td>\n",
       "      <td>0.000000</td>\n",
       "      <td>0.000000</td>\n",
       "      <td>9.000000</td>\n",
       "      <td>0.650307</td>\n",
       "    </tr>\n",
       "    <tr>\n",
       "      <th>50%</th>\n",
       "      <td>6.000000</td>\n",
       "      <td>0.750000</td>\n",
       "      <td>15.260000</td>\n",
       "      <td>586.000000</td>\n",
       "      <td>3960.000000</td>\n",
       "      <td>0.000000</td>\n",
       "      <td>0.000000</td>\n",
       "      <td>0.000000</td>\n",
       "      <td>0.000000</td>\n",
       "      <td>34.000000</td>\n",
       "      <td>0.773333</td>\n",
       "    </tr>\n",
       "    <tr>\n",
       "      <th>75%</th>\n",
       "      <td>9.000000</td>\n",
       "      <td>0.800000</td>\n",
       "      <td>24.260000</td>\n",
       "      <td>1083.000000</td>\n",
       "      <td>6960.000000</td>\n",
       "      <td>50.000000</td>\n",
       "      <td>0.000000</td>\n",
       "      <td>0.000000</td>\n",
       "      <td>0.000000</td>\n",
       "      <td>57.000000</td>\n",
       "      <td>0.850253</td>\n",
       "    </tr>\n",
       "    <tr>\n",
       "      <th>max</th>\n",
       "      <td>12.000000</td>\n",
       "      <td>0.800000</td>\n",
       "      <td>54.560000</td>\n",
       "      <td>23122.000000</td>\n",
       "      <td>25920.000000</td>\n",
       "      <td>3600.000000</td>\n",
       "      <td>300.000000</td>\n",
       "      <td>45.000000</td>\n",
       "      <td>2.000000</td>\n",
       "      <td>89.000000</td>\n",
       "      <td>1.120437</td>\n",
       "    </tr>\n",
       "  </tbody>\n",
       "</table>\n",
       "</div>"
      ],
      "text/plain": [
       "              team  targeted_productivity          smv           wip  \\\n",
       "count  1197.000000            1197.000000  1197.000000   1197.000000   \n",
       "mean      6.426901               0.729632    15.062172    687.228070   \n",
       "std       3.463963               0.097891    10.943219   1514.582341   \n",
       "min       1.000000               0.070000     2.900000      0.000000   \n",
       "25%       3.000000               0.700000     3.940000      0.000000   \n",
       "50%       6.000000               0.750000    15.260000    586.000000   \n",
       "75%       9.000000               0.800000    24.260000   1083.000000   \n",
       "max      12.000000               0.800000    54.560000  23122.000000   \n",
       "\n",
       "          over_time    incentive    idle_time     idle_men  \\\n",
       "count   1197.000000  1197.000000  1197.000000  1197.000000   \n",
       "mean    4567.460317    38.210526     0.730159     0.369256   \n",
       "std     3348.823563   160.182643    12.709757     3.268987   \n",
       "min        0.000000     0.000000     0.000000     0.000000   \n",
       "25%     1440.000000     0.000000     0.000000     0.000000   \n",
       "50%     3960.000000     0.000000     0.000000     0.000000   \n",
       "75%     6960.000000    50.000000     0.000000     0.000000   \n",
       "max    25920.000000  3600.000000   300.000000    45.000000   \n",
       "\n",
       "       no_of_style_change  no_of_workers  actual_productivity  \n",
       "count         1197.000000    1197.000000          1197.000000  \n",
       "mean             0.150376      34.609858             0.735091  \n",
       "std              0.427848      22.197687             0.174488  \n",
       "min              0.000000       2.000000             0.233705  \n",
       "25%              0.000000       9.000000             0.650307  \n",
       "50%              0.000000      34.000000             0.773333  \n",
       "75%              0.000000      57.000000             0.850253  \n",
       "max              2.000000      89.000000             1.120437  "
      ]
     },
     "execution_count": 6,
     "metadata": {},
     "output_type": "execute_result"
    }
   ],
   "source": [
    "garment_prod.describe()"
   ]
  },
  {
   "cell_type": "markdown",
   "id": "8a668c63",
   "metadata": {},
   "source": [
    "For first pass visual exploration of data, plot each predictor vs. the target (actual_productivity)."
   ]
  },
  {
   "cell_type": "code",
   "execution_count": 7,
   "id": "f8e4131c",
   "metadata": {},
   "outputs": [],
   "source": [
    "predictors = list(garment_prod.columns)\n",
    "predictors.remove('actual_productivity')"
   ]
  },
  {
   "cell_type": "code",
   "execution_count": 8,
   "id": "b25734c4",
   "metadata": {},
   "outputs": [
    {
     "data": {
      "image/png": "[encoded data removed]",
      "text/plain": [
       "<Figure size 1080x1296 with 15 Axes>"
      ]
     },
     "metadata": {
      "needs_background": "light"
     },
     "output_type": "display_data"
    }
   ],
   "source": [
    "fig, ax = plt.subplots(5, 3, figsize=(15, 18), sharey='row')\n",
    "# Use loop to generate first 3 rows of plots\n",
    "for i in range(0, 4):\n",
    "    for j in range(0, 3):\n",
    "        index = 3*i+j\n",
    "        predictor = predictors[index]\n",
    "        x=garment_prod.iloc[:, index]\n",
    "        y=garment_prod.loc[:, 'actual_productivity']\n",
    "        ax[i, j].scatter(x, y, s = 3, alpha = 0.25)\n",
    "        ax[i, j].set_title(predictor)\n",
    "        ax[i, j].tick_params(labelbottom=False)\n",
    "# Generate remaining plots\n",
    "ax[4, 0].scatter(garment_prod['no_of_style_change'], garment_prod['actual_productivity'], s = 3, alpha = 0.25)\n",
    "ax[4, 0].set_title('no_of_style_change')\n",
    "ax[4, 0].tick_params(labelbottom=False)\n",
    "ax[4, 1].scatter(garment_prod['no_of_workers'], garment_prod['actual_productivity'], s = 3, alpha = 0.25)\n",
    "ax[4, 1].set_title('no_of_workers')\n",
    "ax[4, 1].tick_params(labelbottom=False)\n",
    "ax[4, 2].set_title('This plot intentionally blank')\n",
    "ax[4, 2].tick_params(labelbottom=False)"
   ]
  },
  {
   "cell_type": "markdown",
   "id": "5bd39f14",
   "metadata": {},
   "source": [
    "Targeted productivity might correlate weakly with actual_productivity. Several of the predictors have outliers, which could be worth exploring at some point. First I will run some different models to see what they show."
   ]
  },
  {
   "cell_type": "markdown",
   "id": "7f3b690b",
   "metadata": {},
   "source": [
    "Group predictor columns according to data type into three dataframes for preprocessing: nominal categorical, ordinal categorical, & numerical. "
   ]
  },
  {
   "cell_type": "code",
   "execution_count": 9,
   "id": "aa2fae8b",
   "metadata": {},
   "outputs": [
    {
     "name": "stdout",
     "output_type": "stream",
     "text": [
      "<class 'pandas.core.frame.DataFrame'>\n",
      "RangeIndex: 1197 entries, 0 to 1196\n",
      "Data columns (total 2 columns):\n",
      " #   Column      Non-Null Count  Dtype \n",
      "---  ------      --------------  ----- \n",
      " 0   department  1197 non-null   object\n",
      " 1   team        1197 non-null   int64 \n",
      "dtypes: int64(1), object(1)\n",
      "memory usage: 18.8+ KB\n"
     ]
    }
   ],
   "source": [
    "# Select nominal categorical columns for encoding.\n",
    "garment_nominal = garment_prod[['department', 'team']]\n",
    "garment_nominal.info()"
   ]
  },
  {
   "cell_type": "code",
   "execution_count": 10,
   "id": "0e2f1a9f",
   "metadata": {},
   "outputs": [
    {
     "name": "stdout",
     "output_type": "stream",
     "text": [
      "<class 'pandas.core.frame.DataFrame'>\n",
      "RangeIndex: 1197 entries, 0 to 1196\n",
      "Data columns (total 3 columns):\n",
      " #   Column   Non-Null Count  Dtype         \n",
      "---  ------   --------------  -----         \n",
      " 0   date     1197 non-null   datetime64[ns]\n",
      " 1   quarter  1197 non-null   object        \n",
      " 2   day      1197 non-null   object        \n",
      "dtypes: datetime64[ns](1), object(2)\n",
      "memory usage: 28.2+ KB\n"
     ]
    }
   ],
   "source": [
    "# Select ordinal categorical columns for encoding.\n",
    "garment_ordinal = garment_prod[['date', 'quarter', 'day']]\n",
    "garment_ordinal.info()"
   ]
  },
  {
   "cell_type": "code",
   "execution_count": 11,
   "id": "743be1d3",
   "metadata": {},
   "outputs": [
    {
     "name": "stdout",
     "output_type": "stream",
     "text": [
      "<class 'pandas.core.frame.DataFrame'>\n",
      "RangeIndex: 1197 entries, 0 to 1196\n",
      "Data columns (total 10 columns):\n",
      " #   Column                 Non-Null Count  Dtype  \n",
      "---  ------                 --------------  -----  \n",
      " 0   targeted_productivity  1197 non-null   float64\n",
      " 1   smv                    1197 non-null   float64\n",
      " 2   wip                    1197 non-null   float64\n",
      " 3   over_time              1197 non-null   int64  \n",
      " 4   incentive              1197 non-null   int64  \n",
      " 5   idle_time              1197 non-null   float64\n",
      " 6   idle_men               1197 non-null   int64  \n",
      " 7   no_of_style_change     1197 non-null   int64  \n",
      " 8   no_of_workers          1197 non-null   float64\n",
      " 9   actual_productivity    1197 non-null   float64\n",
      "dtypes: float64(6), int64(4)\n",
      "memory usage: 93.6 KB\n"
     ]
    }
   ],
   "source": [
    "# Select numerical columns.\n",
    "garment_numerical = garment_prod.iloc[:, 5:]\n",
    "garment_numerical.info()"
   ]
  },
  {
   "cell_type": "markdown",
   "id": "da7c733c",
   "metadata": {},
   "source": [
    "Encode nominal features, 'department' and 'team', using One Hot. First, check number of categories in each of these columns."
   ]
  },
  {
   "cell_type": "code",
   "execution_count": 12,
   "id": "a40197c7",
   "metadata": {},
   "outputs": [
    {
     "data": {
      "text/plain": [
       "array(['sweing', 'finishing ', 'finishing'], dtype=object)"
      ]
     },
     "execution_count": 12,
     "metadata": {},
     "output_type": "execute_result"
    }
   ],
   "source": [
    "garment_nominal.iloc[:, 0].unique()"
   ]
  },
  {
   "cell_type": "markdown",
   "id": "37eb6477",
   "metadata": {},
   "source": [
    "Some 'department' entries include a space at the end. Remove those spaces and correct mispelling of 'sewing'."
   ]
  },
  {
   "cell_type": "code",
   "execution_count": 13,
   "id": "a3c329ed",
   "metadata": {},
   "outputs": [
    {
     "data": {
      "text/plain": [
       "array(['sewing', 'finishing'], dtype=object)"
      ]
     },
     "execution_count": 13,
     "metadata": {},
     "output_type": "execute_result"
    }
   ],
   "source": [
    "garment_nominal.iloc[:, 0].replace({'sweing': 'sewing', 'finishing ': 'finishing'}, inplace=True)\n",
    "garment_nominal.iloc[:, 0].unique()"
   ]
  },
  {
   "cell_type": "code",
   "execution_count": 14,
   "id": "7ca14017",
   "metadata": {},
   "outputs": [
    {
     "data": {
      "text/plain": [
       "array([ 1,  2,  3,  4,  5,  6,  7,  8,  9, 10, 11, 12], dtype=int64)"
      ]
     },
     "execution_count": 14,
     "metadata": {},
     "output_type": "execute_result"
    }
   ],
   "source": [
    "team_categories = garment_nominal['team'].unique()\n",
    "team_categories.sort(axis=0)\n",
    "team_categories"
   ]
  },
  {
   "cell_type": "markdown",
   "id": "957a35a1",
   "metadata": {},
   "source": [
    "Utilize get_dummies to encode nominal columns using OHE. Function drops orgininal columns."
   ]
  },
  {
   "cell_type": "code",
   "execution_count": 15,
   "id": "24d9f130",
   "metadata": {},
   "outputs": [
    {
     "data": {
      "text/html": [
       "<div>\n",
       "<style scoped>\n",
       "    .dataframe tbody tr th:only-of-type {\n",
       "        vertical-align: middle;\n",
       "    }\n",
       "\n",
       "    .dataframe tbody tr th {\n",
       "        vertical-align: top;\n",
       "    }\n",
       "\n",
       "    .dataframe thead th {\n",
       "        text-align: right;\n",
       "    }\n",
       "</style>\n",
       "<table border=\"1\" class=\"dataframe\">\n",
       "  <thead>\n",
       "    <tr style=\"text-align: right;\">\n",
       "      <th></th>\n",
       "      <th>department_finishing</th>\n",
       "      <th>department_sewing</th>\n",
       "      <th>team_1</th>\n",
       "      <th>team_2</th>\n",
       "      <th>team_3</th>\n",
       "      <th>team_4</th>\n",
       "      <th>team_5</th>\n",
       "      <th>team_6</th>\n",
       "      <th>team_7</th>\n",
       "      <th>team_8</th>\n",
       "      <th>team_9</th>\n",
       "      <th>team_10</th>\n",
       "      <th>team_11</th>\n",
       "      <th>team_12</th>\n",
       "    </tr>\n",
       "  </thead>\n",
       "  <tbody>\n",
       "    <tr>\n",
       "      <th>0</th>\n",
       "      <td>0</td>\n",
       "      <td>1</td>\n",
       "      <td>0</td>\n",
       "      <td>0</td>\n",
       "      <td>0</td>\n",
       "      <td>0</td>\n",
       "      <td>0</td>\n",
       "      <td>0</td>\n",
       "      <td>0</td>\n",
       "      <td>1</td>\n",
       "      <td>0</td>\n",
       "      <td>0</td>\n",
       "      <td>0</td>\n",
       "      <td>0</td>\n",
       "    </tr>\n",
       "    <tr>\n",
       "      <th>1</th>\n",
       "      <td>1</td>\n",
       "      <td>0</td>\n",
       "      <td>1</td>\n",
       "      <td>0</td>\n",
       "      <td>0</td>\n",
       "      <td>0</td>\n",
       "      <td>0</td>\n",
       "      <td>0</td>\n",
       "      <td>0</td>\n",
       "      <td>0</td>\n",
       "      <td>0</td>\n",
       "      <td>0</td>\n",
       "      <td>0</td>\n",
       "      <td>0</td>\n",
       "    </tr>\n",
       "    <tr>\n",
       "      <th>2</th>\n",
       "      <td>0</td>\n",
       "      <td>1</td>\n",
       "      <td>0</td>\n",
       "      <td>0</td>\n",
       "      <td>0</td>\n",
       "      <td>0</td>\n",
       "      <td>0</td>\n",
       "      <td>0</td>\n",
       "      <td>0</td>\n",
       "      <td>0</td>\n",
       "      <td>0</td>\n",
       "      <td>0</td>\n",
       "      <td>1</td>\n",
       "      <td>0</td>\n",
       "    </tr>\n",
       "    <tr>\n",
       "      <th>3</th>\n",
       "      <td>0</td>\n",
       "      <td>1</td>\n",
       "      <td>0</td>\n",
       "      <td>0</td>\n",
       "      <td>0</td>\n",
       "      <td>0</td>\n",
       "      <td>0</td>\n",
       "      <td>0</td>\n",
       "      <td>0</td>\n",
       "      <td>0</td>\n",
       "      <td>0</td>\n",
       "      <td>0</td>\n",
       "      <td>0</td>\n",
       "      <td>1</td>\n",
       "    </tr>\n",
       "    <tr>\n",
       "      <th>4</th>\n",
       "      <td>0</td>\n",
       "      <td>1</td>\n",
       "      <td>0</td>\n",
       "      <td>0</td>\n",
       "      <td>0</td>\n",
       "      <td>0</td>\n",
       "      <td>0</td>\n",
       "      <td>1</td>\n",
       "      <td>0</td>\n",
       "      <td>0</td>\n",
       "      <td>0</td>\n",
       "      <td>0</td>\n",
       "      <td>0</td>\n",
       "      <td>0</td>\n",
       "    </tr>\n",
       "  </tbody>\n",
       "</table>\n",
       "</div>"
      ],
      "text/plain": [
       "   department_finishing  department_sewing  team_1  team_2  team_3  team_4  \\\n",
       "0                     0                  1       0       0       0       0   \n",
       "1                     1                  0       1       0       0       0   \n",
       "2                     0                  1       0       0       0       0   \n",
       "3                     0                  1       0       0       0       0   \n",
       "4                     0                  1       0       0       0       0   \n",
       "\n",
       "   team_5  team_6  team_7  team_8  team_9  team_10  team_11  team_12  \n",
       "0       0       0       0       1       0        0        0        0  \n",
       "1       0       0       0       0       0        0        0        0  \n",
       "2       0       0       0       0       0        0        1        0  \n",
       "3       0       0       0       0       0        0        0        1  \n",
       "4       0       1       0       0       0        0        0        0  "
      ]
     },
     "execution_count": 15,
     "metadata": {},
     "output_type": "execute_result"
    }
   ],
   "source": [
    "garment_nom_encoded = pd.get_dummies(garment_nominal, columns = ['department', 'team'])\n",
    "garment_nom_encoded.head()"
   ]
  },
  {
   "cell_type": "code",
   "execution_count": 16,
   "id": "dae085ec",
   "metadata": {
    "scrolled": false
   },
   "outputs": [
    {
     "name": "stdout",
     "output_type": "stream",
     "text": [
      "<class 'pandas.core.frame.DataFrame'>\n",
      "RangeIndex: 1197 entries, 0 to 1196\n",
      "Data columns (total 14 columns):\n",
      " #   Column                Non-Null Count  Dtype\n",
      "---  ------                --------------  -----\n",
      " 0   department_finishing  1197 non-null   uint8\n",
      " 1   department_sewing     1197 non-null   uint8\n",
      " 2   team_1                1197 non-null   uint8\n",
      " 3   team_2                1197 non-null   uint8\n",
      " 4   team_3                1197 non-null   uint8\n",
      " 5   team_4                1197 non-null   uint8\n",
      " 6   team_5                1197 non-null   uint8\n",
      " 7   team_6                1197 non-null   uint8\n",
      " 8   team_7                1197 non-null   uint8\n",
      " 9   team_8                1197 non-null   uint8\n",
      " 10  team_9                1197 non-null   uint8\n",
      " 11  team_10               1197 non-null   uint8\n",
      " 12  team_11               1197 non-null   uint8\n",
      " 13  team_12               1197 non-null   uint8\n",
      "dtypes: uint8(14)\n",
      "memory usage: 16.5 KB\n"
     ]
    }
   ],
   "source": [
    "# Double check that all data were encoded.\n",
    "garment_nom_encoded.info()"
   ]
  },
  {
   "cell_type": "markdown",
   "id": "7319ef60",
   "metadata": {},
   "source": [
    "Encode 'quarter' and 'day' with ordinal method, using sequence of integers as values in dictionaries to map data in the \"quarter\" and \"day\" columns to integers in new columns."
   ]
  },
  {
   "cell_type": "code",
   "execution_count": 17,
   "id": "b437cdf9",
   "metadata": {},
   "outputs": [
    {
     "data": {
      "text/html": [
       "<div>\n",
       "<style scoped>\n",
       "    .dataframe tbody tr th:only-of-type {\n",
       "        vertical-align: middle;\n",
       "    }\n",
       "\n",
       "    .dataframe tbody tr th {\n",
       "        vertical-align: top;\n",
       "    }\n",
       "\n",
       "    .dataframe thead th {\n",
       "        text-align: right;\n",
       "    }\n",
       "</style>\n",
       "<table border=\"1\" class=\"dataframe\">\n",
       "  <thead>\n",
       "    <tr style=\"text-align: right;\">\n",
       "      <th></th>\n",
       "      <th>date</th>\n",
       "      <th>quarter</th>\n",
       "      <th>day</th>\n",
       "      <th>quarter_ordinal</th>\n",
       "      <th>day_ordinal</th>\n",
       "    </tr>\n",
       "  </thead>\n",
       "  <tbody>\n",
       "    <tr>\n",
       "      <th>0</th>\n",
       "      <td>2015-01-01</td>\n",
       "      <td>Quarter1</td>\n",
       "      <td>Thursday</td>\n",
       "      <td>1</td>\n",
       "      <td>4</td>\n",
       "    </tr>\n",
       "    <tr>\n",
       "      <th>1</th>\n",
       "      <td>2015-01-01</td>\n",
       "      <td>Quarter1</td>\n",
       "      <td>Thursday</td>\n",
       "      <td>1</td>\n",
       "      <td>4</td>\n",
       "    </tr>\n",
       "    <tr>\n",
       "      <th>2</th>\n",
       "      <td>2015-01-01</td>\n",
       "      <td>Quarter1</td>\n",
       "      <td>Thursday</td>\n",
       "      <td>1</td>\n",
       "      <td>4</td>\n",
       "    </tr>\n",
       "    <tr>\n",
       "      <th>3</th>\n",
       "      <td>2015-01-01</td>\n",
       "      <td>Quarter1</td>\n",
       "      <td>Thursday</td>\n",
       "      <td>1</td>\n",
       "      <td>4</td>\n",
       "    </tr>\n",
       "    <tr>\n",
       "      <th>4</th>\n",
       "      <td>2015-01-01</td>\n",
       "      <td>Quarter1</td>\n",
       "      <td>Thursday</td>\n",
       "      <td>1</td>\n",
       "      <td>4</td>\n",
       "    </tr>\n",
       "  </tbody>\n",
       "</table>\n",
       "</div>"
      ],
      "text/plain": [
       "        date   quarter       day  quarter_ordinal  day_ordinal\n",
       "0 2015-01-01  Quarter1  Thursday                1            4\n",
       "1 2015-01-01  Quarter1  Thursday                1            4\n",
       "2 2015-01-01  Quarter1  Thursday                1            4\n",
       "3 2015-01-01  Quarter1  Thursday                1            4\n",
       "4 2015-01-01  Quarter1  Thursday                1            4"
      ]
     },
     "execution_count": 17,
     "metadata": {},
     "output_type": "execute_result"
    }
   ],
   "source": [
    "# turn off chained assignments warning (false positive) because mapping to new columns is working.\n",
    "pd.set_option('chained_assignment', None)\n",
    "Quarter_dict = {'Quarter1': 1, 'Quarter2': 2, 'Quarter3': 3, 'Quarter4': 4, 'Quarter5': 5}\n",
    "garment_ordinal['quarter_ordinal'] = garment_ordinal.loc[:, 'quarter'].map(Quarter_dict)\n",
    "\n",
    "\n",
    "Day_dict = {'Monday': 1, 'Tuesday': 2, 'Wednesday': 3, 'Thursday': 4, 'Friday': 5, 'Saturday': 6, 'Sunday': 7}\n",
    "garment_ordinal['day_ordinal'] = garment_ordinal.loc[:, 'day'].map(Day_dict)\n",
    "garment_ordinal.head()"
   ]
  },
  {
   "cell_type": "code",
   "execution_count": 18,
   "id": "d0aabbc6",
   "metadata": {},
   "outputs": [
    {
     "name": "stdout",
     "output_type": "stream",
     "text": [
      "<class 'pandas.core.frame.DataFrame'>\n",
      "RangeIndex: 1197 entries, 0 to 1196\n",
      "Data columns (total 3 columns):\n",
      " #   Column           Non-Null Count  Dtype         \n",
      "---  ------           --------------  -----         \n",
      " 0   date             1197 non-null   datetime64[ns]\n",
      " 1   quarter_ordinal  1197 non-null   int64         \n",
      " 2   day_ordinal      1197 non-null   int64         \n",
      "dtypes: datetime64[ns](1), int64(2)\n",
      "memory usage: 28.2 KB\n"
     ]
    }
   ],
   "source": [
    "garment_ordinal.drop(labels=['quarter', 'day'], axis=1, inplace=True)\n",
    "garment_ordinal.info()"
   ]
  },
  {
   "cell_type": "markdown",
   "id": "53477a30",
   "metadata": {},
   "source": [
    "To use datetime in regression, perform ordinal encoding by mapping with python's datetime.toordinal method."
   ]
  },
  {
   "cell_type": "code",
   "execution_count": 19,
   "id": "2ae5ad19",
   "metadata": {},
   "outputs": [],
   "source": [
    "from datetime import datetime \n",
    "garment_ordinal['date'] = garment_ordinal['date'].map(datetime.toordinal)"
   ]
  },
  {
   "cell_type": "code",
   "execution_count": 20,
   "id": "92e8bd11",
   "metadata": {
    "scrolled": true
   },
   "outputs": [
    {
     "data": {
      "text/plain": [
       "count      1197.000000\n",
       "mean     735633.456140\n",
       "std          20.630062\n",
       "min      735599.000000\n",
       "25%      735616.000000\n",
       "50%      735632.000000\n",
       "75%      735652.000000\n",
       "max      735668.000000\n",
       "Name: date, dtype: float64"
      ]
     },
     "execution_count": 20,
     "metadata": {},
     "output_type": "execute_result"
    }
   ],
   "source": [
    "garment_ordinal['date'].describe()"
   ]
  },
  {
   "cell_type": "markdown",
   "id": "c4045583",
   "metadata": {},
   "source": [
    "Concatenate encoded nominal and ordinal columns."
   ]
  },
  {
   "cell_type": "code",
   "execution_count": 21,
   "id": "d29cd758",
   "metadata": {},
   "outputs": [
    {
     "name": "stdout",
     "output_type": "stream",
     "text": [
      "<class 'pandas.core.frame.DataFrame'>\n",
      "RangeIndex: 1197 entries, 0 to 1196\n",
      "Data columns (total 17 columns):\n",
      " #   Column                Non-Null Count  Dtype\n",
      "---  ------                --------------  -----\n",
      " 0   department_finishing  1197 non-null   uint8\n",
      " 1   department_sewing     1197 non-null   uint8\n",
      " 2   team_1                1197 non-null   uint8\n",
      " 3   team_2                1197 non-null   uint8\n",
      " 4   team_3                1197 non-null   uint8\n",
      " 5   team_4                1197 non-null   uint8\n",
      " 6   team_5                1197 non-null   uint8\n",
      " 7   team_6                1197 non-null   uint8\n",
      " 8   team_7                1197 non-null   uint8\n",
      " 9   team_8                1197 non-null   uint8\n",
      " 10  team_9                1197 non-null   uint8\n",
      " 11  team_10               1197 non-null   uint8\n",
      " 12  team_11               1197 non-null   uint8\n",
      " 13  team_12               1197 non-null   uint8\n",
      " 14  date                  1197 non-null   int64\n",
      " 15  quarter_ordinal       1197 non-null   int64\n",
      " 16  day_ordinal           1197 non-null   int64\n",
      "dtypes: int64(3), uint8(14)\n",
      "memory usage: 44.5 KB\n"
     ]
    }
   ],
   "source": [
    "garment_categorical = pd.concat([garment_nom_encoded, garment_ordinal], axis=1)\n",
    "garment_categorical.info()"
   ]
  },
  {
   "cell_type": "markdown",
   "id": "d2d5a9cf",
   "metadata": {},
   "source": [
    "Drop last department & team columns to reduce impacts on regression models by the multicollinearity introduced by OHE encoding. The information in the deleted columns is still available to the model, though, because if the value of the deleted column was 1, the row will now have 0's for all remaining columns encoding that feature."
   ]
  },
  {
   "cell_type": "code",
   "execution_count": 22,
   "id": "eff01b79",
   "metadata": {
    "scrolled": true
   },
   "outputs": [
    {
     "name": "stdout",
     "output_type": "stream",
     "text": [
      "<class 'pandas.core.frame.DataFrame'>\n",
      "RangeIndex: 1197 entries, 0 to 1196\n",
      "Data columns (total 15 columns):\n",
      " #   Column                Non-Null Count  Dtype\n",
      "---  ------                --------------  -----\n",
      " 0   department_finishing  1197 non-null   uint8\n",
      " 1   team_1                1197 non-null   uint8\n",
      " 2   team_2                1197 non-null   uint8\n",
      " 3   team_3                1197 non-null   uint8\n",
      " 4   team_4                1197 non-null   uint8\n",
      " 5   team_5                1197 non-null   uint8\n",
      " 6   team_6                1197 non-null   uint8\n",
      " 7   team_7                1197 non-null   uint8\n",
      " 8   team_8                1197 non-null   uint8\n",
      " 9   team_9                1197 non-null   uint8\n",
      " 10  team_10               1197 non-null   uint8\n",
      " 11  team_11               1197 non-null   uint8\n",
      " 12  date                  1197 non-null   int64\n",
      " 13  quarter_ordinal       1197 non-null   int64\n",
      " 14  day_ordinal           1197 non-null   int64\n",
      "dtypes: int64(3), uint8(12)\n",
      "memory usage: 42.2 KB\n"
     ]
    }
   ],
   "source": [
    "garment_categorical.drop(labels = ['department_sewing', 'team_12'], axis = 1, inplace = True)\n",
    "garment_categorical.info()"
   ]
  },
  {
   "cell_type": "markdown",
   "id": "6c011111",
   "metadata": {},
   "source": [
    "Select predictor and target columns and split into train and test subsets, then scale (fit & transform) X_train and transform X_test using fit parameters from X_train."
   ]
  },
  {
   "cell_type": "code",
   "execution_count": 23,
   "id": "af50a1af",
   "metadata": {},
   "outputs": [
    {
     "name": "stdout",
     "output_type": "stream",
     "text": [
      "<class 'pandas.core.frame.DataFrame'>\n",
      "RangeIndex: 1197 entries, 0 to 1196\n",
      "Data columns (total 24 columns):\n",
      " #   Column                 Non-Null Count  Dtype  \n",
      "---  ------                 --------------  -----  \n",
      " 0   department_finishing   1197 non-null   uint8  \n",
      " 1   team_1                 1197 non-null   uint8  \n",
      " 2   team_2                 1197 non-null   uint8  \n",
      " 3   team_3                 1197 non-null   uint8  \n",
      " 4   team_4                 1197 non-null   uint8  \n",
      " 5   team_5                 1197 non-null   uint8  \n",
      " 6   team_6                 1197 non-null   uint8  \n",
      " 7   team_7                 1197 non-null   uint8  \n",
      " 8   team_8                 1197 non-null   uint8  \n",
      " 9   team_9                 1197 non-null   uint8  \n",
      " 10  team_10                1197 non-null   uint8  \n",
      " 11  team_11                1197 non-null   uint8  \n",
      " 12  date                   1197 non-null   int64  \n",
      " 13  quarter_ordinal        1197 non-null   int64  \n",
      " 14  day_ordinal            1197 non-null   int64  \n",
      " 15  targeted_productivity  1197 non-null   float64\n",
      " 16  smv                    1197 non-null   float64\n",
      " 17  wip                    1197 non-null   float64\n",
      " 18  over_time              1197 non-null   int64  \n",
      " 19  incentive              1197 non-null   int64  \n",
      " 20  idle_time              1197 non-null   float64\n",
      " 21  idle_men               1197 non-null   int64  \n",
      " 22  no_of_style_change     1197 non-null   int64  \n",
      " 23  no_of_workers          1197 non-null   float64\n",
      "dtypes: float64(5), int64(7), uint8(12)\n",
      "memory usage: 126.4 KB\n"
     ]
    }
   ],
   "source": [
    "# Concatenate categorical & numerical columns & save complete data set.\n",
    "garment_prepped = pd.concat([garment_categorical, garment_numerical], axis=1)\n",
    "# Drop target 'actual_productivity' from predictors.\n",
    "X = garment_prepped.drop(columns = 'actual_productivity')\n",
    "X.info()"
   ]
  },
  {
   "cell_type": "code",
   "execution_count": 24,
   "id": "d3780cd0",
   "metadata": {},
   "outputs": [],
   "source": [
    "y = garment_prod['actual_productivity']"
   ]
  },
  {
   "cell_type": "code",
   "execution_count": 25,
   "id": "8f507af7",
   "metadata": {
    "scrolled": true
   },
   "outputs": [
    {
     "name": "stdout",
     "output_type": "stream",
     "text": [
      "<class 'pandas.core.frame.DataFrame'>\n",
      "Int64Index: 837 entries, 922 to 684\n",
      "Data columns (total 24 columns):\n",
      " #   Column                 Non-Null Count  Dtype  \n",
      "---  ------                 --------------  -----  \n",
      " 0   department_finishing   837 non-null    uint8  \n",
      " 1   team_1                 837 non-null    uint8  \n",
      " 2   team_2                 837 non-null    uint8  \n",
      " 3   team_3                 837 non-null    uint8  \n",
      " 4   team_4                 837 non-null    uint8  \n",
      " 5   team_5                 837 non-null    uint8  \n",
      " 6   team_6                 837 non-null    uint8  \n",
      " 7   team_7                 837 non-null    uint8  \n",
      " 8   team_8                 837 non-null    uint8  \n",
      " 9   team_9                 837 non-null    uint8  \n",
      " 10  team_10                837 non-null    uint8  \n",
      " 11  team_11                837 non-null    uint8  \n",
      " 12  date                   837 non-null    int64  \n",
      " 13  quarter_ordinal        837 non-null    int64  \n",
      " 14  day_ordinal            837 non-null    int64  \n",
      " 15  targeted_productivity  837 non-null    float64\n",
      " 16  smv                    837 non-null    float64\n",
      " 17  wip                    837 non-null    float64\n",
      " 18  over_time              837 non-null    int64  \n",
      " 19  incentive              837 non-null    int64  \n",
      " 20  idle_time              837 non-null    float64\n",
      " 21  idle_men               837 non-null    int64  \n",
      " 22  no_of_style_change     837 non-null    int64  \n",
      " 23  no_of_workers          837 non-null    float64\n",
      "dtypes: float64(5), int64(7), uint8(12)\n",
      "memory usage: 94.8 KB\n"
     ]
    }
   ],
   "source": [
    "# Split into train & test subsets before scaling.\n",
    "X_train,X_test,y_train,y_test = train_test_split(X, y, test_size=0.3, random_state=0) \n",
    "X_train.info()"
   ]
  },
  {
   "cell_type": "markdown",
   "id": "88e930f7",
   "metadata": {},
   "source": [
    "Continue preprocessing data for model comparison."
   ]
  },
  {
   "cell_type": "code",
   "execution_count": 26,
   "id": "b2b072c0",
   "metadata": {},
   "outputs": [
    {
     "name": "stdout",
     "output_type": "stream",
     "text": [
      "<class 'pandas.core.frame.DataFrame'>\n",
      "Int64Index: 360 entries, 700 to 1048\n",
      "Data columns (total 12 columns):\n",
      " #   Column                 Non-Null Count  Dtype  \n",
      "---  ------                 --------------  -----  \n",
      " 0   date                   360 non-null    int64  \n",
      " 1   quarter_ordinal        360 non-null    int64  \n",
      " 2   day_ordinal            360 non-null    int64  \n",
      " 3   targeted_productivity  360 non-null    float64\n",
      " 4   smv                    360 non-null    float64\n",
      " 5   wip                    360 non-null    float64\n",
      " 6   over_time              360 non-null    int64  \n",
      " 7   incentive              360 non-null    int64  \n",
      " 8   idle_time              360 non-null    float64\n",
      " 9   idle_men               360 non-null    int64  \n",
      " 10  no_of_style_change     360 non-null    int64  \n",
      " 11  no_of_workers          360 non-null    float64\n",
      "dtypes: float64(5), int64(7)\n",
      "memory usage: 36.6 KB\n"
     ]
    }
   ],
   "source": [
    "# Select predictors for scaling, including numerical and encoded ordinal columns.\n",
    "X_train_scalable = X_train.drop(X.iloc[:, 0:12], axis = 1)\n",
    "X_test_scalable = X_test.drop(X.iloc[:, 0:12], axis = 1)\n",
    "# X_train_scalable.info()\n",
    "X_test_scalable.info()"
   ]
  },
  {
   "cell_type": "code",
   "execution_count": 27,
   "id": "24ab5470",
   "metadata": {},
   "outputs": [
    {
     "name": "stdout",
     "output_type": "stream",
     "text": [
      "<class 'pandas.core.frame.DataFrame'>\n",
      "RangeIndex: 837 entries, 0 to 836\n",
      "Data columns (total 12 columns):\n",
      " #   Column                 Non-Null Count  Dtype  \n",
      "---  ------                 --------------  -----  \n",
      " 0   date                   837 non-null    float64\n",
      " 1   quarter_ordinal        837 non-null    float64\n",
      " 2   day_ordinal            837 non-null    float64\n",
      " 3   targeted_productivity  837 non-null    float64\n",
      " 4   smv                    837 non-null    float64\n",
      " 5   wip                    837 non-null    float64\n",
      " 6   over_time              837 non-null    float64\n",
      " 7   incentive              837 non-null    float64\n",
      " 8   idle_time              837 non-null    float64\n",
      " 9   idle_men               837 non-null    float64\n",
      " 10  no_of_style_change     837 non-null    float64\n",
      " 11  no_of_workers          837 non-null    float64\n",
      "dtypes: float64(12)\n",
      "memory usage: 78.6 KB\n"
     ]
    }
   ],
   "source": [
    "# Scale ordinal & numerical columns in X_train,convert ndarray output to dataframe as float dtype, & name columns.\n",
    "scaler = StandardScaler()\n",
    "X_train_scaling = scaler.fit_transform(X_train_scalable)\n",
    "X_train_scaled = pd.DataFrame(X_train_scaling)\n",
    "X_train_scaled = X_train_scaled.astype('float')\n",
    "X_train_scaled.columns = ['date', 'quarter_ordinal','day_ordinal', 'targeted_productivity', 'smv', 'wip', 'over_time', 'incentive', 'idle_time', 'idle_men', 'no_of_style_change', 'no_of_workers']\n",
    "X_train_scaled.info()"
   ]
  },
  {
   "cell_type": "code",
   "execution_count": 28,
   "id": "c46d49e3",
   "metadata": {},
   "outputs": [
    {
     "name": "stdout",
     "output_type": "stream",
     "text": [
      "<class 'pandas.core.frame.DataFrame'>\n",
      "RangeIndex: 360 entries, 0 to 359\n",
      "Data columns (total 12 columns):\n",
      " #   Column                 Non-Null Count  Dtype  \n",
      "---  ------                 --------------  -----  \n",
      " 0   date                   360 non-null    float64\n",
      " 1   quarter_ordinal        360 non-null    float64\n",
      " 2   day_ordinal            360 non-null    float64\n",
      " 3   targeted_productivity  360 non-null    float64\n",
      " 4   smv                    360 non-null    float64\n",
      " 5   wip                    360 non-null    float64\n",
      " 6   over_time              360 non-null    float64\n",
      " 7   incentive              360 non-null    float64\n",
      " 8   idle_time              360 non-null    float64\n",
      " 9   idle_men               360 non-null    float64\n",
      " 10  no_of_style_change     360 non-null    float64\n",
      " 11  no_of_workers          360 non-null    float64\n",
      "dtypes: float64(12)\n",
      "memory usage: 33.9 KB\n"
     ]
    }
   ],
   "source": [
    "# Use fit paramaters from X_train to transform X_test, then convert back to df.\n",
    "X_test_scaling = scaler.transform(X_test_scalable)\n",
    "X_test_scaled = pd.DataFrame(X_test_scaling)\n",
    "X_test_scaled = X_test_scaled.astype('float')\n",
    "X_test_scaled.columns = ['date', 'quarter_ordinal','day_ordinal', 'targeted_productivity', 'smv', 'wip', 'over_time', 'incentive', 'idle_time', 'idle_men', 'no_of_style_change', 'no_of_workers']\n",
    "X_test_scaled.info()"
   ]
  },
  {
   "cell_type": "markdown",
   "id": "9233f701",
   "metadata": {},
   "source": [
    "Select binary columns (encoded nominal features) in X_train and X_test, then concatenate with scaled columns to make complete train and test dataframes. "
   ]
  },
  {
   "cell_type": "code",
   "execution_count": 29,
   "id": "bf1d5796",
   "metadata": {},
   "outputs": [
    {
     "name": "stdout",
     "output_type": "stream",
     "text": [
      "<class 'pandas.core.frame.DataFrame'>\n",
      "Int64Index: 837 entries, 922 to 684\n",
      "Data columns (total 12 columns):\n",
      " #   Column                Non-Null Count  Dtype\n",
      "---  ------                --------------  -----\n",
      " 0   department_finishing  837 non-null    uint8\n",
      " 1   team_1                837 non-null    uint8\n",
      " 2   team_2                837 non-null    uint8\n",
      " 3   team_3                837 non-null    uint8\n",
      " 4   team_4                837 non-null    uint8\n",
      " 5   team_5                837 non-null    uint8\n",
      " 6   team_6                837 non-null    uint8\n",
      " 7   team_7                837 non-null    uint8\n",
      " 8   team_8                837 non-null    uint8\n",
      " 9   team_9                837 non-null    uint8\n",
      " 10  team_10               837 non-null    uint8\n",
      " 11  team_11               837 non-null    uint8\n",
      "dtypes: uint8(12)\n",
      "memory usage: 16.3 KB\n"
     ]
    }
   ],
   "source": [
    "X_train_binary = X_train.iloc[:, 0:12]\n",
    "X_test_binary = X_test.iloc[:, 0:12]\n",
    "# X_test_binary.info()\n",
    "X_train_binary.info()"
   ]
  },
  {
   "cell_type": "code",
   "execution_count": 30,
   "id": "3454817c",
   "metadata": {},
   "outputs": [],
   "source": [
    "# Reset index on binary dataframes to match indexing on scaled dataframes, whose indexing was reset during scaling process.\n",
    "X_train_binary.reset_index(drop = True, inplace = True)\n",
    "X_test_binary.reset_index(drop = True, inplace = True)"
   ]
  },
  {
   "cell_type": "code",
   "execution_count": 31,
   "id": "396ed5b3",
   "metadata": {
    "scrolled": true
   },
   "outputs": [
    {
     "name": "stdout",
     "output_type": "stream",
     "text": [
      "<class 'pandas.core.frame.DataFrame'>\n",
      "RangeIndex: 837 entries, 0 to 836\n",
      "Data columns (total 24 columns):\n",
      " #   Column                 Non-Null Count  Dtype  \n",
      "---  ------                 --------------  -----  \n",
      " 0   department_finishing   837 non-null    uint8  \n",
      " 1   team_1                 837 non-null    uint8  \n",
      " 2   team_2                 837 non-null    uint8  \n",
      " 3   team_3                 837 non-null    uint8  \n",
      " 4   team_4                 837 non-null    uint8  \n",
      " 5   team_5                 837 non-null    uint8  \n",
      " 6   team_6                 837 non-null    uint8  \n",
      " 7   team_7                 837 non-null    uint8  \n",
      " 8   team_8                 837 non-null    uint8  \n",
      " 9   team_9                 837 non-null    uint8  \n",
      " 10  team_10                837 non-null    uint8  \n",
      " 11  team_11                837 non-null    uint8  \n",
      " 12  date                   837 non-null    float64\n",
      " 13  quarter_ordinal        837 non-null    float64\n",
      " 14  day_ordinal            837 non-null    float64\n",
      " 15  targeted_productivity  837 non-null    float64\n",
      " 16  smv                    837 non-null    float64\n",
      " 17  wip                    837 non-null    float64\n",
      " 18  over_time              837 non-null    float64\n",
      " 19  incentive              837 non-null    float64\n",
      " 20  idle_time              837 non-null    float64\n",
      " 21  idle_men               837 non-null    float64\n",
      " 22  no_of_style_change     837 non-null    float64\n",
      " 23  no_of_workers          837 non-null    float64\n",
      "dtypes: float64(12), uint8(12)\n",
      "memory usage: 88.4 KB\n"
     ]
    }
   ],
   "source": [
    "X_train = pd.concat([X_train_binary, X_train_scaled], axis=1)\n",
    "X_train.info()"
   ]
  },
  {
   "cell_type": "code",
   "execution_count": 32,
   "id": "c43e65cc",
   "metadata": {
    "scrolled": true
   },
   "outputs": [
    {
     "name": "stdout",
     "output_type": "stream",
     "text": [
      "<class 'pandas.core.frame.DataFrame'>\n",
      "RangeIndex: 360 entries, 0 to 359\n",
      "Data columns (total 24 columns):\n",
      " #   Column                 Non-Null Count  Dtype  \n",
      "---  ------                 --------------  -----  \n",
      " 0   department_finishing   360 non-null    uint8  \n",
      " 1   team_1                 360 non-null    uint8  \n",
      " 2   team_2                 360 non-null    uint8  \n",
      " 3   team_3                 360 non-null    uint8  \n",
      " 4   team_4                 360 non-null    uint8  \n",
      " 5   team_5                 360 non-null    uint8  \n",
      " 6   team_6                 360 non-null    uint8  \n",
      " 7   team_7                 360 non-null    uint8  \n",
      " 8   team_8                 360 non-null    uint8  \n",
      " 9   team_9                 360 non-null    uint8  \n",
      " 10  team_10                360 non-null    uint8  \n",
      " 11  team_11                360 non-null    uint8  \n",
      " 12  date                   360 non-null    float64\n",
      " 13  quarter_ordinal        360 non-null    float64\n",
      " 14  day_ordinal            360 non-null    float64\n",
      " 15  targeted_productivity  360 non-null    float64\n",
      " 16  smv                    360 non-null    float64\n",
      " 17  wip                    360 non-null    float64\n",
      " 18  over_time              360 non-null    float64\n",
      " 19  incentive              360 non-null    float64\n",
      " 20  idle_time              360 non-null    float64\n",
      " 21  idle_men               360 non-null    float64\n",
      " 22  no_of_style_change     360 non-null    float64\n",
      " 23  no_of_workers          360 non-null    float64\n",
      "dtypes: float64(12), uint8(12)\n",
      "memory usage: 38.1 KB\n"
     ]
    }
   ],
   "source": [
    "X_test = pd.concat([X_test_binary, X_test_scaled], axis=1)\n",
    "X_test.info()"
   ]
  },
  {
   "cell_type": "markdown",
   "id": "e2b9dbc3",
   "metadata": {},
   "source": [
    "Try different methods to predict garment worker productivity. Start with linear regression."
   ]
  },
  {
   "cell_type": "code",
   "execution_count": 33,
   "id": "d235fb6b",
   "metadata": {},
   "outputs": [],
   "source": [
    "linear_regression = LinearRegression()\n",
    "linear_regression.fit(X_train, y_train)\n",
    "# predict y to evaluate model\n",
    "y_predicted_lr = linear_regression.predict(X_test)\n",
    "#calculate RMSE and format as float to 4 decimal places\n",
    "lr_error = 'RMSE = {:.4f}'.format(mean_squared_error(y_test, y_predicted_lr, squared = False))"
   ]
  },
  {
   "cell_type": "markdown",
   "id": "017d5cd6",
   "metadata": {},
   "source": [
    "To evaluate models, define function to calculate RMSE and plot predicted vs. actual productivity."
   ]
  },
  {
   "cell_type": "code",
   "execution_count": 34,
   "id": "0e778d70",
   "metadata": {
    "scrolled": true
   },
   "outputs": [],
   "source": [
    "def evaluate(predicted, actual, RMSE):\n",
    "    plt.scatter(predicted, actual, alpha = 0.5)\n",
    "    plt.xlim(0.2, 1.2)\n",
    "    plt.ylim(0.2, 1.2)\n",
    "    plt.xlabel('Predicted Productivity')\n",
    "    plt.ylabel('actual_productivity')\n",
    "    plt.title('Precited vs. Actual Productivity')\n",
    "    no_error_x = (0.2, 1.2)\n",
    "    no_error_y = (0.2, 1.2)\n",
    "    plt.plot(no_error_x, no_error_y)\n",
    "    plt.figtext(0.15, 0.83, RMSE)"
   ]
  },
  {
   "cell_type": "code",
   "execution_count": 35,
   "id": "01f74152",
   "metadata": {},
   "outputs": [
    {
     "data": {
      "image/png": "[encoded data removed]",
      "text/plain": [
       "<Figure size 432x288 with 1 Axes>"
      ]
     },
     "metadata": {
      "needs_background": "light"
     },
     "output_type": "display_data"
    }
   ],
   "source": [
    "evaluate(predicted = y_predicted_lr, actual = y_test, RMSE = lr_error)"
   ]
  },
  {
   "cell_type": "markdown",
   "id": "8ebd10e0",
   "metadata": {},
   "source": [
    "See if performance can be improved by reducing number of predictor dimensions with principal component analysis. Try principal component regression (PCR) with k-fold cross validation to optimize number of principal components."
   ]
  },
  {
   "cell_type": "code",
   "execution_count": 36,
   "id": "a21b8a84",
   "metadata": {},
   "outputs": [
    {
     "data": {
      "text/html": [
       "<div>\n",
       "<style scoped>\n",
       "    .dataframe tbody tr th:only-of-type {\n",
       "        vertical-align: middle;\n",
       "    }\n",
       "\n",
       "    .dataframe tbody tr th {\n",
       "        vertical-align: top;\n",
       "    }\n",
       "\n",
       "    .dataframe thead th {\n",
       "        text-align: right;\n",
       "    }\n",
       "</style>\n",
       "<table border=\"1\" class=\"dataframe\">\n",
       "  <thead>\n",
       "    <tr style=\"text-align: right;\">\n",
       "      <th></th>\n",
       "      <th>department_finishing</th>\n",
       "      <th>team_1</th>\n",
       "      <th>team_2</th>\n",
       "      <th>team_3</th>\n",
       "      <th>team_4</th>\n",
       "      <th>team_5</th>\n",
       "      <th>team_6</th>\n",
       "      <th>team_7</th>\n",
       "      <th>team_8</th>\n",
       "      <th>team_9</th>\n",
       "      <th>...</th>\n",
       "      <th>targeted_productivity</th>\n",
       "      <th>smv</th>\n",
       "      <th>wip</th>\n",
       "      <th>over_time</th>\n",
       "      <th>incentive</th>\n",
       "      <th>idle_time</th>\n",
       "      <th>idle_men</th>\n",
       "      <th>no_of_style_change</th>\n",
       "      <th>no_of_workers</th>\n",
       "      <th>actual_productivity</th>\n",
       "    </tr>\n",
       "  </thead>\n",
       "  <tbody>\n",
       "    <tr>\n",
       "      <th>657</th>\n",
       "      <td>0</td>\n",
       "      <td>0</td>\n",
       "      <td>0</td>\n",
       "      <td>0</td>\n",
       "      <td>0</td>\n",
       "      <td>0</td>\n",
       "      <td>0</td>\n",
       "      <td>0</td>\n",
       "      <td>0</td>\n",
       "      <td>0</td>\n",
       "      <td>...</td>\n",
       "      <td>0.8</td>\n",
       "      <td>22.52</td>\n",
       "      <td>1388.0</td>\n",
       "      <td>6720</td>\n",
       "      <td>88</td>\n",
       "      <td>0.0</td>\n",
       "      <td>0</td>\n",
       "      <td>0</td>\n",
       "      <td>56.0</td>\n",
       "      <td>0.900800</td>\n",
       "    </tr>\n",
       "    <tr>\n",
       "      <th>98</th>\n",
       "      <td>0</td>\n",
       "      <td>0</td>\n",
       "      <td>0</td>\n",
       "      <td>0</td>\n",
       "      <td>0</td>\n",
       "      <td>0</td>\n",
       "      <td>1</td>\n",
       "      <td>0</td>\n",
       "      <td>0</td>\n",
       "      <td>0</td>\n",
       "      <td>...</td>\n",
       "      <td>0.8</td>\n",
       "      <td>11.61</td>\n",
       "      <td>910.0</td>\n",
       "      <td>4470</td>\n",
       "      <td>38</td>\n",
       "      <td>0.0</td>\n",
       "      <td>0</td>\n",
       "      <td>0</td>\n",
       "      <td>31.5</td>\n",
       "      <td>0.800077</td>\n",
       "    </tr>\n",
       "    <tr>\n",
       "      <th>63</th>\n",
       "      <td>1</td>\n",
       "      <td>0</td>\n",
       "      <td>0</td>\n",
       "      <td>0</td>\n",
       "      <td>1</td>\n",
       "      <td>0</td>\n",
       "      <td>0</td>\n",
       "      <td>0</td>\n",
       "      <td>0</td>\n",
       "      <td>0</td>\n",
       "      <td>...</td>\n",
       "      <td>0.8</td>\n",
       "      <td>3.94</td>\n",
       "      <td>0.0</td>\n",
       "      <td>3840</td>\n",
       "      <td>0</td>\n",
       "      <td>0.0</td>\n",
       "      <td>0</td>\n",
       "      <td>0</td>\n",
       "      <td>16.0</td>\n",
       "      <td>0.893663</td>\n",
       "    </tr>\n",
       "    <tr>\n",
       "      <th>905</th>\n",
       "      <td>0</td>\n",
       "      <td>0</td>\n",
       "      <td>0</td>\n",
       "      <td>0</td>\n",
       "      <td>0</td>\n",
       "      <td>0</td>\n",
       "      <td>0</td>\n",
       "      <td>0</td>\n",
       "      <td>0</td>\n",
       "      <td>0</td>\n",
       "      <td>...</td>\n",
       "      <td>0.8</td>\n",
       "      <td>15.26</td>\n",
       "      <td>1062.0</td>\n",
       "      <td>4080</td>\n",
       "      <td>50</td>\n",
       "      <td>0.0</td>\n",
       "      <td>0</td>\n",
       "      <td>0</td>\n",
       "      <td>34.0</td>\n",
       "      <td>0.800402</td>\n",
       "    </tr>\n",
       "    <tr>\n",
       "      <th>782</th>\n",
       "      <td>0</td>\n",
       "      <td>0</td>\n",
       "      <td>1</td>\n",
       "      <td>0</td>\n",
       "      <td>0</td>\n",
       "      <td>0</td>\n",
       "      <td>0</td>\n",
       "      <td>0</td>\n",
       "      <td>0</td>\n",
       "      <td>0</td>\n",
       "      <td>...</td>\n",
       "      <td>0.8</td>\n",
       "      <td>22.52</td>\n",
       "      <td>12.0</td>\n",
       "      <td>6900</td>\n",
       "      <td>0</td>\n",
       "      <td>0.0</td>\n",
       "      <td>0</td>\n",
       "      <td>0</td>\n",
       "      <td>57.5</td>\n",
       "      <td>0.432123</td>\n",
       "    </tr>\n",
       "  </tbody>\n",
       "</table>\n",
       "<p>5 rows × 25 columns</p>\n",
       "</div>"
      ],
      "text/plain": [
       "     department_finishing  team_1  team_2  team_3  team_4  team_5  team_6  \\\n",
       "657                     0       0       0       0       0       0       0   \n",
       "98                      0       0       0       0       0       0       1   \n",
       "63                      1       0       0       0       1       0       0   \n",
       "905                     0       0       0       0       0       0       0   \n",
       "782                     0       0       1       0       0       0       0   \n",
       "\n",
       "     team_7  team_8  team_9  ...  targeted_productivity    smv     wip  \\\n",
       "657       0       0       0  ...                    0.8  22.52  1388.0   \n",
       "98        0       0       0  ...                    0.8  11.61   910.0   \n",
       "63        0       0       0  ...                    0.8   3.94     0.0   \n",
       "905       0       0       0  ...                    0.8  15.26  1062.0   \n",
       "782       0       0       0  ...                    0.8  22.52    12.0   \n",
       "\n",
       "     over_time  incentive  idle_time  idle_men  no_of_style_change  \\\n",
       "657       6720         88        0.0         0                   0   \n",
       "98        4470         38        0.0         0                   0   \n",
       "63        3840          0        0.0         0                   0   \n",
       "905       4080         50        0.0         0                   0   \n",
       "782       6900          0        0.0         0                   0   \n",
       "\n",
       "     no_of_workers  actual_productivity  \n",
       "657           56.0             0.900800  \n",
       "98            31.5             0.800077  \n",
       "63            16.0             0.893663  \n",
       "905           34.0             0.800402  \n",
       "782           57.5             0.432123  \n",
       "\n",
       "[5 rows x 25 columns]"
      ]
     },
     "execution_count": 36,
     "metadata": {},
     "output_type": "execute_result"
    }
   ],
   "source": [
    "#Shuffle df for cross-validation so all folds are similar (train_test_split shuffles by default, but that follows cv).\n",
    "garment_shuf = shuffle(garment_prepped, random_state=7)\n",
    "garment_shuf.head()"
   ]
  },
  {
   "cell_type": "code",
   "execution_count": 37,
   "id": "caf7fe6d",
   "metadata": {},
   "outputs": [
    {
     "name": "stdout",
     "output_type": "stream",
     "text": [
      "<class 'pandas.core.frame.DataFrame'>\n",
      "Int64Index: 1197 entries, 657 to 175\n",
      "Data columns (total 24 columns):\n",
      " #   Column                 Non-Null Count  Dtype  \n",
      "---  ------                 --------------  -----  \n",
      " 0   department_finishing   1197 non-null   uint8  \n",
      " 1   team_1                 1197 non-null   uint8  \n",
      " 2   team_2                 1197 non-null   uint8  \n",
      " 3   team_3                 1197 non-null   uint8  \n",
      " 4   team_4                 1197 non-null   uint8  \n",
      " 5   team_5                 1197 non-null   uint8  \n",
      " 6   team_6                 1197 non-null   uint8  \n",
      " 7   team_7                 1197 non-null   uint8  \n",
      " 8   team_8                 1197 non-null   uint8  \n",
      " 9   team_9                 1197 non-null   uint8  \n",
      " 10  team_10                1197 non-null   uint8  \n",
      " 11  team_11                1197 non-null   uint8  \n",
      " 12  date                   1197 non-null   int64  \n",
      " 13  quarter_ordinal        1197 non-null   int64  \n",
      " 14  day_ordinal            1197 non-null   int64  \n",
      " 15  targeted_productivity  1197 non-null   float64\n",
      " 16  smv                    1197 non-null   float64\n",
      " 17  wip                    1197 non-null   float64\n",
      " 18  over_time              1197 non-null   int64  \n",
      " 19  incentive              1197 non-null   int64  \n",
      " 20  idle_time              1197 non-null   float64\n",
      " 21  idle_men               1197 non-null   int64  \n",
      " 22  no_of_style_change     1197 non-null   int64  \n",
      " 23  no_of_workers          1197 non-null   float64\n",
      "dtypes: float64(5), int64(7), uint8(12)\n",
      "memory usage: 135.6 KB\n"
     ]
    }
   ],
   "source": [
    "y_pca = garment_shuf['actual_productivity']\n",
    "# X_pca = garment_shuf[['smv', 'wip', 'over_time', 'incentive', 'no_of_style_change', 'no_of_workers']]\n",
    "# columns to drop , 'targeted_productivity','idle_time',\n",
    "X_pca = garment_shuf.drop(columns = ['actual_productivity'])\n",
    "X_pca.info()"
   ]
  },
  {
   "cell_type": "code",
   "execution_count": 38,
   "id": "3bcdc3bb",
   "metadata": {},
   "outputs": [
    {
     "data": {
      "text/plain": [
       "(1197, 24)"
      ]
     },
     "execution_count": 38,
     "metadata": {},
     "output_type": "execute_result"
    }
   ],
   "source": [
    "# Scale the predictor variables and perform PCA on them.\n",
    "pca = PCA()\n",
    "X_reduced = pca.fit_transform(scale(X_pca))\n",
    "X_reduced.shape"
   ]
  },
  {
   "cell_type": "code",
   "execution_count": 39,
   "id": "d464d92a",
   "metadata": {},
   "outputs": [
    {
     "data": {
      "text/plain": [
       "[]"
      ]
     },
     "execution_count": 39,
     "metadata": {},
     "output_type": "execute_result"
    }
   ],
   "source": [
    "# Use k-fold cross-validation to evaluate model performance using k = 10 folds, repeated 3 times.\n",
    "cv = RepeatedKFold(n_splits=10, n_repeats=3, random_state=1)\n",
    "\n",
    "regr = LinearRegression()\n",
    "mse = []\n",
    "mse"
   ]
  },
  {
   "cell_type": "code",
   "execution_count": 40,
   "id": "8aa559d9",
   "metadata": {},
   "outputs": [
    {
     "data": {
      "text/plain": [
       "[0.0304612646170554]"
      ]
     },
     "execution_count": 40,
     "metadata": {},
     "output_type": "execute_result"
    }
   ],
   "source": [
    "# Calculate the average of MSE from each split without using any of the principal components.\n",
    "score = -1*model_selection.cross_val_score(regr,\n",
    "           np.ones((len(X_reduced),1)), y_pca, cv=cv,\n",
    "           scoring='neg_mean_squared_error').mean()    \n",
    "mse.append(score)\n",
    "mse"
   ]
  },
  {
   "cell_type": "code",
   "execution_count": 41,
   "id": "1b931d81",
   "metadata": {},
   "outputs": [],
   "source": [
    "# Calculate MSE using cross-validation, adding one component at a time until all components are used.\n",
    "for i in np.arange(1, 25):\n",
    "    score = -1*model_selection.cross_val_score(regr,\n",
    "               X_reduced[:,:i], y_pca, cv=cv, scoring='neg_mean_squared_error').mean()\n",
    "    mse.append(score)"
   ]
  },
  {
   "cell_type": "code",
   "execution_count": 42,
   "id": "12908da9",
   "metadata": {},
   "outputs": [
    {
     "data": {
      "text/plain": [
       "Text(0.5, 1.0, 'MSE vs. # of Principal Components')"
      ]
     },
     "execution_count": 42,
     "metadata": {},
     "output_type": "execute_result"
    },
    {
     "data": {
      "image/png": "[encoded data removed]",
      "text/plain": [
       "<Figure size 432x288 with 1 Axes>"
      ]
     },
     "metadata": {
      "needs_background": "light"
     },
     "output_type": "display_data"
    }
   ],
   "source": [
    "# Plot cross-validation results    \n",
    "plt.plot(mse)\n",
    "plt.xlabel('Number of Principal Components')\n",
    "plt.ylabel('MSE')\n",
    "plt.title('MSE vs. # of Principal Components')"
   ]
  },
  {
   "cell_type": "code",
   "execution_count": 43,
   "id": "3412edb0",
   "metadata": {},
   "outputs": [
    {
     "data": {
      "text/plain": [
       "array([ 15.63,  22.74,  29.  ,  34.39,  39.28,  43.93,  48.54,  53.12,\n",
       "        57.7 ,  62.27,  66.84,  71.36,  75.79,  80.2 ,  83.97,  87.62,\n",
       "        90.8 ,  93.91,  96.16,  97.87,  99.05,  99.55,  99.89, 100.  ])"
      ]
     },
     "execution_count": 43,
     "metadata": {},
     "output_type": "execute_result"
    }
   ],
   "source": [
    "np.cumsum(np.round(pca.explained_variance_ratio_, decimals=4)*100)"
   ]
  },
  {
   "cell_type": "markdown",
   "id": "e52d610b",
   "metadata": {},
   "source": [
    "MSE decreases with each additional component up to 7 (the first MSE reflects no principle components), so can try 7 principal components in regression. However, the first 7 principal components only explay 53% of the variance. So can also try 14 principal components, which explain about 84% of the variance."
   ]
  },
  {
   "cell_type": "code",
   "execution_count": 44,
   "id": "0fa3d463",
   "metadata": {},
   "outputs": [],
   "source": [
    "# Split into train & test subsets\n",
    "X_pca_train,X_pca_test,y_pca_train,y_pca_test = train_test_split(X_pca, y_pca, test_size=0.3, random_state=0) \n",
    "# run PCA on train subset, scaling each predictor by fitting & transforming.\n",
    "X_reduced_train = pca.fit_transform(scale(X_pca_train))"
   ]
  },
  {
   "cell_type": "code",
   "execution_count": 45,
   "id": "d13fe955",
   "metadata": {},
   "outputs": [],
   "source": [
    "# Try regression using first 7 principal components.\n",
    "regr7 = LinearRegression()\n",
    "# run PCA on test subset, transforming (with fit from X_pca_train) & selecting first 7 principal components.\n",
    "X_reduced_test7 = pca.transform(scale(X_pca_test))[:,:7]\n",
    "# train model on first 7 principal components\n",
    "regr7.fit(X_reduced_train[:,:7], y_pca_train)\n",
    "# predict y to evaluate model\n",
    "y_predicted_regr7 = regr7.predict(X_reduced_test7)\n",
    "# calculate R2 by using trained model to predict target values and compare to actual values.\n",
    "pc7_error = 'RMSE = {:.4f}'.format(mean_squared_error(y_pca_test, y_predicted_regr7, squared = False))"
   ]
  },
  {
   "cell_type": "code",
   "execution_count": 46,
   "id": "0f416ae2",
   "metadata": {},
   "outputs": [
    {
     "data": {
      "image/png": "[encoded data removed]",
      "text/plain": [
       "<Figure size 432x288 with 1 Axes>"
      ]
     },
     "metadata": {
      "needs_background": "light"
     },
     "output_type": "display_data"
    }
   ],
   "source": [
    "evaluate(predicted = y_predicted_regr7, actual = y_pca_test, RMSE = pc7_error)"
   ]
  },
  {
   "cell_type": "code",
   "execution_count": 47,
   "id": "f0724607",
   "metadata": {},
   "outputs": [],
   "source": [
    "# Try regression with 14 principal components.\n",
    "regr14 = LinearRegression()\n",
    "# run PCA on test subset, transforming (with fit from X_pca_train) & selecting first 14 principal components.\n",
    "X_reduced_test14 = pca.transform(scale(X_pca_test))[:,:14]\n",
    "# train model on first 14 principal components\n",
    "regr14.fit(X_reduced_train[:,:14], y_pca_train)\n",
    "# predict y to evaluate model\n",
    "y_predicted_regr14 = regr14.predict(X_reduced_test14)\n",
    "# calculate RMSE\n",
    "pc14_error = 'RMSE = {:.4f}'.format(mean_squared_error(y_pca_test, y_predicted_regr14, squared = False))"
   ]
  },
  {
   "cell_type": "code",
   "execution_count": 48,
   "id": "58b3edf8",
   "metadata": {},
   "outputs": [
    {
     "data": {
      "image/png": "[encoded data removed]",
      "text/plain": [
       "<Figure size 432x288 with 1 Axes>"
      ]
     },
     "metadata": {
      "needs_background": "light"
     },
     "output_type": "display_data"
    }
   ],
   "source": [
    "evaluate(predicted = y_predicted_regr14, actual = y_pca_test, RMSE = pc14_error)"
   ]
  },
  {
   "cell_type": "markdown",
   "id": "a1579916",
   "metadata": {},
   "source": [
    "The PCA did not improve model performance, so next try ridge & lasso together. ElasticNet does this. "
   ]
  },
  {
   "cell_type": "code",
   "execution_count": 49,
   "id": "3de624cc",
   "metadata": {},
   "outputs": [],
   "source": [
    "e_netCV = ElasticNetCV(cv = 10)\n",
    "e_netCV.fit(X_train, y_train)\n",
    "# predict y to evaluate model\n",
    "y_predicted_e_netCV = e_netCV.predict(X_test)\n",
    "# calculate RMSE\n",
    "e_netCV_error = 'RMSE = {:.4f}'.format(mean_squared_error(y_predicted_e_netCV, y_test, squared = False))"
   ]
  },
  {
   "cell_type": "code",
   "execution_count": 50,
   "id": "40ba5c8f",
   "metadata": {},
   "outputs": [
    {
     "data": {
      "image/png": "[encoded data removed]",
      "text/plain": [
       "<Figure size 432x288 with 1 Axes>"
      ]
     },
     "metadata": {
      "needs_background": "light"
     },
     "output_type": "display_data"
    }
   ],
   "source": [
    "evaluate(predicted = y_predicted_e_netCV, actual = y_test, RMSE = e_netCV_error)"
   ]
  },
  {
   "cell_type": "markdown",
   "id": "756ae1ab",
   "metadata": {},
   "source": [
    "This is the lowest error of all models so far, lower than linear regression RMSE by 0.0142. What alpha and lambda values were best?"
   ]
  },
  {
   "cell_type": "code",
   "execution_count": 51,
   "id": "66c75e45",
   "metadata": {},
   "outputs": [
    {
     "data": {
      "text/plain": [
       "0.5"
      ]
     },
     "execution_count": 51,
     "metadata": {},
     "output_type": "execute_result"
    }
   ],
   "source": [
    "e_netCV.l1_ratio_"
   ]
  },
  {
   "cell_type": "markdown",
   "id": "7578ce52",
   "metadata": {},
   "source": [
    "Cross-validation didn't change the balance between ridge and lasso."
   ]
  },
  {
   "cell_type": "code",
   "execution_count": 52,
   "id": "9901df58",
   "metadata": {},
   "outputs": [
    {
     "data": {
      "text/plain": [
       "0.0013162279856429068"
      ]
     },
     "execution_count": 52,
     "metadata": {},
     "output_type": "execute_result"
    }
   ],
   "source": [
    "e_netCV.alpha_"
   ]
  },
  {
   "cell_type": "code",
   "execution_count": 53,
   "id": "5f5a265d",
   "metadata": {},
   "outputs": [
    {
     "data": {
      "text/plain": [
       "RandomForestRegressor(random_state=0)"
      ]
     },
     "execution_count": 53,
     "metadata": {},
     "output_type": "execute_result"
    }
   ],
   "source": [
    "RFregr = RandomForestRegressor(random_state=0)\n",
    "RFregr.fit(X_train, y_train)"
   ]
  },
  {
   "cell_type": "code",
   "execution_count": 54,
   "id": "d57e578a",
   "metadata": {},
   "outputs": [],
   "source": [
    "# predict y to evaluate model \n",
    "y_predicted_RFregr = RFregr.predict(X_test)\n",
    "# calculate RMSE\n",
    "RFregr_error = 'RMSE = {:.4f}'.format(mean_squared_error(y_predicted_RFregr, y_test, squared = False))"
   ]
  },
  {
   "cell_type": "markdown",
   "id": "94d4743a",
   "metadata": {},
   "source": [
    "The sklearn 'alpha' value near 0 indicates that only a small amount of regularization was performed, and this seems to have improved performance slightly over non-regularized linear regression."
   ]
  },
  {
   "cell_type": "code",
   "execution_count": 55,
   "id": "3428f295",
   "metadata": {},
   "outputs": [
    {
     "data": {
      "image/png": "[encoded data removed]",
      "text/plain": [
       "<Figure size 432x288 with 1 Axes>"
      ]
     },
     "metadata": {
      "needs_background": "light"
     },
     "output_type": "display_data"
    }
   ],
   "source": [
    "evaluate(predicted = y_predicted_RFregr, actual = y_test, RMSE = RFregr_error)"
   ]
  },
  {
   "cell_type": "markdown",
   "id": "158d80f2",
   "metadata": {},
   "source": [
    "Try a neural network to see if it predicts productivity better."
   ]
  },
  {
   "cell_type": "code",
   "execution_count": 56,
   "id": "15469b73",
   "metadata": {},
   "outputs": [],
   "source": [
    "import tensorflow.python.keras.backend\n",
    "from tensorflow.python.keras import initializers, optimizers, regularizers,layers\n",
    "# from tensorflow.python.keras.optimizers import SGD\n",
    "from tensorflow.python.keras.constraints import maxnorm\n",
    "from tensorflow.python.keras.models import Sequential, load_model\n",
    "from tensorflow.python.keras.layers import Dense, Activation, Dropout, Flatten\n",
    "from tensorflow.python.keras.utils import np_utils\n",
    "from tensorflow.python.keras.wrappers.scikit_learn import KerasRegressor, KerasClassifier"
   ]
  },
  {
   "cell_type": "code",
   "execution_count": 57,
   "id": "3cf1e738",
   "metadata": {},
   "outputs": [],
   "source": [
    "model = Sequential()"
   ]
  },
  {
   "cell_type": "code",
   "execution_count": 58,
   "id": "5e007f87",
   "metadata": {},
   "outputs": [],
   "source": [
    "#InputLayer\n",
    "model.add(Dense(12, input_dim = 24, activation='relu'))"
   ]
  },
  {
   "cell_type": "code",
   "execution_count": 59,
   "id": "a947a65b",
   "metadata": {},
   "outputs": [],
   "source": [
    "#Hidden Layers\n",
    "model.add(Dense(5, activation='relu'))"
   ]
  },
  {
   "cell_type": "code",
   "execution_count": 60,
   "id": "38bb2ed0",
   "metadata": {},
   "outputs": [],
   "source": [
    "#Output Layer\n",
    "model.add(Dense(1, activation='relu'))"
   ]
  },
  {
   "cell_type": "code",
   "execution_count": 61,
   "id": "b31abee5",
   "metadata": {},
   "outputs": [],
   "source": [
    "model.compile(loss=['mse'], optimizer='adam', metrics=['mse'])"
   ]
  },
  {
   "cell_type": "code",
   "execution_count": 62,
   "id": "eb582490",
   "metadata": {
    "scrolled": true
   },
   "outputs": [
    {
     "name": "stdout",
     "output_type": "stream",
     "text": [
      "Epoch 1/20\n",
      "24/24 [==============================] - 1s 11ms/step - loss: 0.5039 - mse: 0.5039 - val_loss: 0.4442 - val_mse: 0.4442\n",
      "Epoch 2/20\n",
      "24/24 [==============================] - 0s 2ms/step - loss: 0.3685 - mse: 0.3685 - val_loss: 0.2901 - val_mse: 0.2901\n",
      "Epoch 3/20\n",
      "24/24 [==============================] - 0s 2ms/step - loss: 0.2127 - mse: 0.2127 - val_loss: 0.1690 - val_mse: 0.1690\n",
      "Epoch 4/20\n",
      "24/24 [==============================] - 0s 3ms/step - loss: 0.1200 - mse: 0.1200 - val_loss: 0.1154 - val_mse: 0.1154\n",
      "Epoch 5/20\n",
      "24/24 [==============================] - 0s 2ms/step - loss: 0.0873 - mse: 0.0873 - val_loss: 0.0942 - val_mse: 0.0942\n",
      "Epoch 6/20\n",
      "24/24 [==============================] - 0s 3ms/step - loss: 0.0723 - mse: 0.0723 - val_loss: 0.0804 - val_mse: 0.0804\n",
      "Epoch 7/20\n",
      "24/24 [==============================] - 0s 2ms/step - loss: 0.0632 - mse: 0.0632 - val_loss: 0.0701 - val_mse: 0.0701\n",
      "Epoch 8/20\n",
      "24/24 [==============================] - 0s 2ms/step - loss: 0.0561 - mse: 0.0561 - val_loss: 0.0629 - val_mse: 0.0629\n",
      "Epoch 9/20\n",
      "24/24 [==============================] - 0s 2ms/step - loss: 0.0506 - mse: 0.0506 - val_loss: 0.0566 - val_mse: 0.0566\n",
      "Epoch 10/20\n",
      "24/24 [==============================] - 0s 3ms/step - loss: 0.0464 - mse: 0.0464 - val_loss: 0.0521 - val_mse: 0.0521\n",
      "Epoch 11/20\n",
      "24/24 [==============================] - 0s 2ms/step - loss: 0.0428 - mse: 0.0428 - val_loss: 0.0481 - val_mse: 0.0481\n",
      "Epoch 12/20\n",
      "24/24 [==============================] - 0s 2ms/step - loss: 0.0400 - mse: 0.0400 - val_loss: 0.0449 - val_mse: 0.0449\n",
      "Epoch 13/20\n",
      "24/24 [==============================] - 0s 3ms/step - loss: 0.0375 - mse: 0.0375 - val_loss: 0.0422 - val_mse: 0.0422\n",
      "Epoch 14/20\n",
      "24/24 [==============================] - 0s 2ms/step - loss: 0.0353 - mse: 0.0353 - val_loss: 0.0399 - val_mse: 0.0399\n",
      "Epoch 15/20\n",
      "24/24 [==============================] - 0s 2ms/step - loss: 0.0333 - mse: 0.0333 - val_loss: 0.0376 - val_mse: 0.0376\n",
      "Epoch 16/20\n",
      "24/24 [==============================] - 0s 4ms/step - loss: 0.0317 - mse: 0.0317 - val_loss: 0.0359 - val_mse: 0.0359\n",
      "Epoch 17/20\n",
      "24/24 [==============================] - 0s 4ms/step - loss: 0.0302 - mse: 0.0302 - val_loss: 0.0343 - val_mse: 0.0343\n",
      "Epoch 18/20\n",
      "24/24 [==============================] - 0s 4ms/step - loss: 0.0289 - mse: 0.0289 - val_loss: 0.0331 - val_mse: 0.0331\n",
      "Epoch 19/20\n",
      "24/24 [==============================] - 0s 3ms/step - loss: 0.0277 - mse: 0.0277 - val_loss: 0.0318 - val_mse: 0.0318\n",
      "Epoch 20/20\n",
      "24/24 [==============================] - 0s 2ms/step - loss: 0.0266 - mse: 0.0266 - val_loss: 0.0309 - val_mse: 0.0309\n"
     ]
    }
   ],
   "source": [
    "history = model.fit(X_train, y_train, batch_size=35, epochs=20, validation_data=(X_test, y_test),verbose=1)"
   ]
  },
  {
   "cell_type": "code",
   "execution_count": 63,
   "id": "18c81260",
   "metadata": {},
   "outputs": [],
   "source": [
    "# predict y to evaluate model\n",
    "y_predicted_NN = model.predict(X_test)"
   ]
  },
  {
   "cell_type": "code",
   "execution_count": 64,
   "id": "dc2f99d6",
   "metadata": {},
   "outputs": [
    {
     "name": "stdout",
     "output_type": "stream",
     "text": [
      "12/12 [==============================] - 0s 904us/step - loss: 0.0309 - mse: 0.0309\n"
     ]
    }
   ],
   "source": [
    "# calculate RMSE\n",
    "test_MSE = model.evaluate(X_test, y_test)\n",
    "NN_error = 'RMSE = {:.4f}'.format(np.sqrt(test_MSE[0]))"
   ]
  },
  {
   "cell_type": "code",
   "execution_count": 65,
   "id": "d8279cd0",
   "metadata": {},
   "outputs": [
    {
     "data": {
      "image/png": "[encoded data removed]",
      "text/plain": [
       "<Figure size 432x288 with 1 Axes>"
      ]
     },
     "metadata": {
      "needs_background": "light"
     },
     "output_type": "display_data"
    }
   ],
   "source": [
    "evaluate(predicted = y_predicted_NN, actual = y_test, RMSE = NN_error)"
   ]
  },
  {
   "cell_type": "markdown",
   "id": "2ad6aa92",
   "metadata": {},
   "source": [
    "The Random Forest model had the lowest RMSE. What features were most important in that model?"
   ]
  },
  {
   "cell_type": "code",
   "execution_count": 66,
   "id": "53d8221f",
   "metadata": {
    "scrolled": true
   },
   "outputs": [
    {
     "data": {
      "text/html": [
       "<div>\n",
       "<style scoped>\n",
       "    .dataframe tbody tr th:only-of-type {\n",
       "        vertical-align: middle;\n",
       "    }\n",
       "\n",
       "    .dataframe tbody tr th {\n",
       "        vertical-align: top;\n",
       "    }\n",
       "\n",
       "    .dataframe thead th {\n",
       "        text-align: right;\n",
       "    }\n",
       "</style>\n",
       "<table border=\"1\" class=\"dataframe\">\n",
       "  <thead>\n",
       "    <tr style=\"text-align: right;\">\n",
       "      <th></th>\n",
       "      <th>importance</th>\n",
       "    </tr>\n",
       "  </thead>\n",
       "  <tbody>\n",
       "    <tr>\n",
       "      <th>targeted_productivity</th>\n",
       "      <td>0.208438</td>\n",
       "    </tr>\n",
       "    <tr>\n",
       "      <th>incentive</th>\n",
       "      <td>0.130792</td>\n",
       "    </tr>\n",
       "    <tr>\n",
       "      <th>smv</th>\n",
       "      <td>0.126303</td>\n",
       "    </tr>\n",
       "    <tr>\n",
       "      <th>date</th>\n",
       "      <td>0.123302</td>\n",
       "    </tr>\n",
       "    <tr>\n",
       "      <th>no_of_workers</th>\n",
       "      <td>0.099760</td>\n",
       "    </tr>\n",
       "    <tr>\n",
       "      <th>over_time</th>\n",
       "      <td>0.074596</td>\n",
       "    </tr>\n",
       "    <tr>\n",
       "      <th>day_ordinal</th>\n",
       "      <td>0.052786</td>\n",
       "    </tr>\n",
       "    <tr>\n",
       "      <th>quarter_ordinal</th>\n",
       "      <td>0.037325</td>\n",
       "    </tr>\n",
       "    <tr>\n",
       "      <th>wip</th>\n",
       "      <td>0.019854</td>\n",
       "    </tr>\n",
       "    <tr>\n",
       "      <th>team_9</th>\n",
       "      <td>0.013412</td>\n",
       "    </tr>\n",
       "    <tr>\n",
       "      <th>team_1</th>\n",
       "      <td>0.011479</td>\n",
       "    </tr>\n",
       "    <tr>\n",
       "      <th>team_11</th>\n",
       "      <td>0.011319</td>\n",
       "    </tr>\n",
       "    <tr>\n",
       "      <th>department_finishing</th>\n",
       "      <td>0.011224</td>\n",
       "    </tr>\n",
       "    <tr>\n",
       "      <th>team_10</th>\n",
       "      <td>0.010820</td>\n",
       "    </tr>\n",
       "    <tr>\n",
       "      <th>team_7</th>\n",
       "      <td>0.010289</td>\n",
       "    </tr>\n",
       "    <tr>\n",
       "      <th>team_2</th>\n",
       "      <td>0.009923</td>\n",
       "    </tr>\n",
       "    <tr>\n",
       "      <th>idle_men</th>\n",
       "      <td>0.008449</td>\n",
       "    </tr>\n",
       "    <tr>\n",
       "      <th>team_5</th>\n",
       "      <td>0.007932</td>\n",
       "    </tr>\n",
       "    <tr>\n",
       "      <th>team_4</th>\n",
       "      <td>0.007609</td>\n",
       "    </tr>\n",
       "    <tr>\n",
       "      <th>team_8</th>\n",
       "      <td>0.007343</td>\n",
       "    </tr>\n",
       "    <tr>\n",
       "      <th>idle_time</th>\n",
       "      <td>0.005853</td>\n",
       "    </tr>\n",
       "    <tr>\n",
       "      <th>team_3</th>\n",
       "      <td>0.004769</td>\n",
       "    </tr>\n",
       "    <tr>\n",
       "      <th>team_6</th>\n",
       "      <td>0.004455</td>\n",
       "    </tr>\n",
       "    <tr>\n",
       "      <th>no_of_style_change</th>\n",
       "      <td>0.001968</td>\n",
       "    </tr>\n",
       "  </tbody>\n",
       "</table>\n",
       "</div>"
      ],
      "text/plain": [
       "                       importance\n",
       "targeted_productivity    0.208438\n",
       "incentive                0.130792\n",
       "smv                      0.126303\n",
       "date                     0.123302\n",
       "no_of_workers            0.099760\n",
       "over_time                0.074596\n",
       "day_ordinal              0.052786\n",
       "quarter_ordinal          0.037325\n",
       "wip                      0.019854\n",
       "team_9                   0.013412\n",
       "team_1                   0.011479\n",
       "team_11                  0.011319\n",
       "department_finishing     0.011224\n",
       "team_10                  0.010820\n",
       "team_7                   0.010289\n",
       "team_2                   0.009923\n",
       "idle_men                 0.008449\n",
       "team_5                   0.007932\n",
       "team_4                   0.007609\n",
       "team_8                   0.007343\n",
       "idle_time                0.005853\n",
       "team_3                   0.004769\n",
       "team_6                   0.004455\n",
       "no_of_style_change       0.001968"
      ]
     },
     "execution_count": 66,
     "metadata": {},
     "output_type": "execute_result"
    }
   ],
   "source": [
    "feature_importances = pd.DataFrame(RFregr.feature_importances_, index =X_train.columns, columns=['importance']).sort_values('importance', ascending=False)\n",
    "feature_importances"
   ]
  },
  {
   "cell_type": "code",
   "execution_count": 67,
   "id": "21cb32d4",
   "metadata": {
    "scrolled": true
   },
   "outputs": [
    {
     "data": {
      "text/plain": [
       "Text(0.5, 0, 'Feature Importance')"
      ]
     },
     "execution_count": 67,
     "metadata": {},
     "output_type": "execute_result"
    },
    {
     "data": {
      "image/png": "[encoded data removed]",
      "text/plain": [
       "<Figure size 432x288 with 1 Axes>"
      ]
     },
     "metadata": {
      "needs_background": "light"
     },
     "output_type": "display_data"
    }
   ],
   "source": [
    "sorted_idx = RFregr.feature_importances_.argsort()\n",
    "plt.barh(X_train.columns[sorted_idx], RFregr.feature_importances_[sorted_idx])\n",
    "plt.xlabel('Feature Importance')"
   ]
  },
  {
   "cell_type": "markdown",
   "id": "edc5d781",
   "metadata": {},
   "source": [
    "How do the more important features correlate with actual_productivity?"
   ]
  },
  {
   "cell_type": "code",
   "execution_count": 68,
   "id": "ffcf898f",
   "metadata": {},
   "outputs": [
    {
     "data": {
      "text/plain": [
       "<AxesSubplot:xlabel='targeted_productivity', ylabel='actual_productivity'>"
      ]
     },
     "execution_count": 68,
     "metadata": {},
     "output_type": "execute_result"
    },
    {
     "data": {
      "image/png": "[encoded data removed]",
      "text/plain": [
       "<Figure size 432x288 with 1 Axes>"
      ]
     },
     "metadata": {
      "needs_background": "light"
     },
     "output_type": "display_data"
    }
   ],
   "source": [
    "garment_prod.plot.scatter(x='targeted_productivity', y='actual_productivity', alpha = 0.15)"
   ]
  },
  {
   "cell_type": "code",
   "execution_count": 69,
   "id": "49c38b9d",
   "metadata": {
    "scrolled": true
   },
   "outputs": [
    {
     "data": {
      "text/plain": [
       "<AxesSubplot:xlabel='incentive', ylabel='actual_productivity'>"
      ]
     },
     "execution_count": 69,
     "metadata": {},
     "output_type": "execute_result"
    },
    {
     "data": {
      "image/png": "[encoded data removed]",
      "text/plain": [
       "<Figure size 432x288 with 1 Axes>"
      ]
     },
     "metadata": {
      "needs_background": "light"
     },
     "output_type": "display_data"
    }
   ],
   "source": [
    "garment_prod.plot.scatter(x='incentive', y='actual_productivity', alpha = 0.15)"
   ]
  },
  {
   "cell_type": "markdown",
   "id": "967d8f04",
   "metadata": {},
   "source": [
    "There were a few outliers where incentive was very large. Let's take a look at these."
   ]
  },
  {
   "cell_type": "code",
   "execution_count": 70,
   "id": "26c4f9bb",
   "metadata": {
    "scrolled": true
   },
   "outputs": [
    {
     "data": {
      "text/html": [
       "<div>\n",
       "<style scoped>\n",
       "    .dataframe tbody tr th:only-of-type {\n",
       "        vertical-align: middle;\n",
       "    }\n",
       "\n",
       "    .dataframe tbody tr th {\n",
       "        vertical-align: top;\n",
       "    }\n",
       "\n",
       "    .dataframe thead th {\n",
       "        text-align: right;\n",
       "    }\n",
       "</style>\n",
       "<table border=\"1\" class=\"dataframe\">\n",
       "  <thead>\n",
       "    <tr style=\"text-align: right;\">\n",
       "      <th></th>\n",
       "      <th>date</th>\n",
       "      <th>quarter</th>\n",
       "      <th>department</th>\n",
       "      <th>day</th>\n",
       "      <th>team</th>\n",
       "      <th>targeted_productivity</th>\n",
       "      <th>smv</th>\n",
       "      <th>wip</th>\n",
       "      <th>over_time</th>\n",
       "      <th>incentive</th>\n",
       "      <th>idle_time</th>\n",
       "      <th>idle_men</th>\n",
       "      <th>no_of_style_change</th>\n",
       "      <th>no_of_workers</th>\n",
       "      <th>actual_productivity</th>\n",
       "    </tr>\n",
       "  </thead>\n",
       "  <tbody>\n",
       "    <tr>\n",
       "      <th>1128</th>\n",
       "      <td>2015-03-09</td>\n",
       "      <td>Quarter2</td>\n",
       "      <td>finishing</td>\n",
       "      <td>Monday</td>\n",
       "      <td>11</td>\n",
       "      <td>0.80</td>\n",
       "      <td>2.90</td>\n",
       "      <td>0.0</td>\n",
       "      <td>0</td>\n",
       "      <td>960</td>\n",
       "      <td>0.0</td>\n",
       "      <td>0</td>\n",
       "      <td>0</td>\n",
       "      <td>8.0</td>\n",
       "      <td>0.960625</td>\n",
       "    </tr>\n",
       "    <tr>\n",
       "      <th>1129</th>\n",
       "      <td>2015-03-09</td>\n",
       "      <td>Quarter2</td>\n",
       "      <td>finishing</td>\n",
       "      <td>Monday</td>\n",
       "      <td>12</td>\n",
       "      <td>0.80</td>\n",
       "      <td>4.60</td>\n",
       "      <td>0.0</td>\n",
       "      <td>0</td>\n",
       "      <td>1080</td>\n",
       "      <td>0.0</td>\n",
       "      <td>0</td>\n",
       "      <td>0</td>\n",
       "      <td>9.0</td>\n",
       "      <td>0.902963</td>\n",
       "    </tr>\n",
       "    <tr>\n",
       "      <th>1130</th>\n",
       "      <td>2015-03-09</td>\n",
       "      <td>Quarter2</td>\n",
       "      <td>finishing</td>\n",
       "      <td>Monday</td>\n",
       "      <td>5</td>\n",
       "      <td>0.60</td>\n",
       "      <td>3.94</td>\n",
       "      <td>0.0</td>\n",
       "      <td>0</td>\n",
       "      <td>2880</td>\n",
       "      <td>0.0</td>\n",
       "      <td>0</td>\n",
       "      <td>0</td>\n",
       "      <td>12.0</td>\n",
       "      <td>0.864343</td>\n",
       "    </tr>\n",
       "    <tr>\n",
       "      <th>1133</th>\n",
       "      <td>2015-03-09</td>\n",
       "      <td>Quarter2</td>\n",
       "      <td>finishing</td>\n",
       "      <td>Monday</td>\n",
       "      <td>9</td>\n",
       "      <td>0.75</td>\n",
       "      <td>2.90</td>\n",
       "      <td>0.0</td>\n",
       "      <td>0</td>\n",
       "      <td>3600</td>\n",
       "      <td>0.0</td>\n",
       "      <td>0</td>\n",
       "      <td>0</td>\n",
       "      <td>15.0</td>\n",
       "      <td>0.841000</td>\n",
       "    </tr>\n",
       "    <tr>\n",
       "      <th>1137</th>\n",
       "      <td>2015-03-09</td>\n",
       "      <td>Quarter2</td>\n",
       "      <td>finishing</td>\n",
       "      <td>Monday</td>\n",
       "      <td>3</td>\n",
       "      <td>0.80</td>\n",
       "      <td>4.60</td>\n",
       "      <td>0.0</td>\n",
       "      <td>0</td>\n",
       "      <td>1440</td>\n",
       "      <td>0.0</td>\n",
       "      <td>0</td>\n",
       "      <td>0</td>\n",
       "      <td>12.0</td>\n",
       "      <td>0.795417</td>\n",
       "    </tr>\n",
       "    <tr>\n",
       "      <th>1138</th>\n",
       "      <td>2015-03-09</td>\n",
       "      <td>Quarter2</td>\n",
       "      <td>finishing</td>\n",
       "      <td>Monday</td>\n",
       "      <td>4</td>\n",
       "      <td>0.75</td>\n",
       "      <td>3.94</td>\n",
       "      <td>0.0</td>\n",
       "      <td>0</td>\n",
       "      <td>960</td>\n",
       "      <td>0.0</td>\n",
       "      <td>0</td>\n",
       "      <td>0</td>\n",
       "      <td>8.0</td>\n",
       "      <td>0.795388</td>\n",
       "    </tr>\n",
       "    <tr>\n",
       "      <th>1139</th>\n",
       "      <td>2015-03-09</td>\n",
       "      <td>Quarter2</td>\n",
       "      <td>finishing</td>\n",
       "      <td>Monday</td>\n",
       "      <td>1</td>\n",
       "      <td>0.75</td>\n",
       "      <td>3.94</td>\n",
       "      <td>0.0</td>\n",
       "      <td>0</td>\n",
       "      <td>960</td>\n",
       "      <td>0.0</td>\n",
       "      <td>0</td>\n",
       "      <td>0</td>\n",
       "      <td>8.0</td>\n",
       "      <td>0.794567</td>\n",
       "    </tr>\n",
       "    <tr>\n",
       "      <th>1143</th>\n",
       "      <td>2015-03-09</td>\n",
       "      <td>Quarter2</td>\n",
       "      <td>finishing</td>\n",
       "      <td>Monday</td>\n",
       "      <td>2</td>\n",
       "      <td>0.70</td>\n",
       "      <td>3.90</td>\n",
       "      <td>0.0</td>\n",
       "      <td>0</td>\n",
       "      <td>1200</td>\n",
       "      <td>0.0</td>\n",
       "      <td>0</td>\n",
       "      <td>0</td>\n",
       "      <td>10.0</td>\n",
       "      <td>0.682500</td>\n",
       "    </tr>\n",
       "    <tr>\n",
       "      <th>1148</th>\n",
       "      <td>2015-03-09</td>\n",
       "      <td>Quarter2</td>\n",
       "      <td>finishing</td>\n",
       "      <td>Monday</td>\n",
       "      <td>10</td>\n",
       "      <td>0.70</td>\n",
       "      <td>2.90</td>\n",
       "      <td>0.0</td>\n",
       "      <td>0</td>\n",
       "      <td>960</td>\n",
       "      <td>0.0</td>\n",
       "      <td>0</td>\n",
       "      <td>0</td>\n",
       "      <td>8.0</td>\n",
       "      <td>0.477292</td>\n",
       "    </tr>\n",
       "    <tr>\n",
       "      <th>1149</th>\n",
       "      <td>2015-03-09</td>\n",
       "      <td>Quarter2</td>\n",
       "      <td>finishing</td>\n",
       "      <td>Monday</td>\n",
       "      <td>8</td>\n",
       "      <td>0.65</td>\n",
       "      <td>3.90</td>\n",
       "      <td>0.0</td>\n",
       "      <td>0</td>\n",
       "      <td>960</td>\n",
       "      <td>0.0</td>\n",
       "      <td>0</td>\n",
       "      <td>0</td>\n",
       "      <td>8.0</td>\n",
       "      <td>0.264062</td>\n",
       "    </tr>\n",
       "  </tbody>\n",
       "</table>\n",
       "</div>"
      ],
      "text/plain": [
       "           date   quarter department     day  team  targeted_productivity  \\\n",
       "1128 2015-03-09  Quarter2  finishing  Monday    11                   0.80   \n",
       "1129 2015-03-09  Quarter2  finishing  Monday    12                   0.80   \n",
       "1130 2015-03-09  Quarter2  finishing  Monday     5                   0.60   \n",
       "1133 2015-03-09  Quarter2  finishing  Monday     9                   0.75   \n",
       "1137 2015-03-09  Quarter2  finishing  Monday     3                   0.80   \n",
       "1138 2015-03-09  Quarter2  finishing  Monday     4                   0.75   \n",
       "1139 2015-03-09  Quarter2  finishing  Monday     1                   0.75   \n",
       "1143 2015-03-09  Quarter2  finishing  Monday     2                   0.70   \n",
       "1148 2015-03-09  Quarter2  finishing  Monday    10                   0.70   \n",
       "1149 2015-03-09  Quarter2  finishing  Monday     8                   0.65   \n",
       "\n",
       "       smv  wip  over_time  incentive  idle_time  idle_men  \\\n",
       "1128  2.90  0.0          0        960        0.0         0   \n",
       "1129  4.60  0.0          0       1080        0.0         0   \n",
       "1130  3.94  0.0          0       2880        0.0         0   \n",
       "1133  2.90  0.0          0       3600        0.0         0   \n",
       "1137  4.60  0.0          0       1440        0.0         0   \n",
       "1138  3.94  0.0          0        960        0.0         0   \n",
       "1139  3.94  0.0          0        960        0.0         0   \n",
       "1143  3.90  0.0          0       1200        0.0         0   \n",
       "1148  2.90  0.0          0        960        0.0         0   \n",
       "1149  3.90  0.0          0        960        0.0         0   \n",
       "\n",
       "      no_of_style_change  no_of_workers  actual_productivity  \n",
       "1128                   0            8.0             0.960625  \n",
       "1129                   0            9.0             0.902963  \n",
       "1130                   0           12.0             0.864343  \n",
       "1133                   0           15.0             0.841000  \n",
       "1137                   0           12.0             0.795417  \n",
       "1138                   0            8.0             0.795388  \n",
       "1139                   0            8.0             0.794567  \n",
       "1143                   0           10.0             0.682500  \n",
       "1148                   0            8.0             0.477292  \n",
       "1149                   0            8.0             0.264062  "
      ]
     },
     "execution_count": 70,
     "metadata": {},
     "output_type": "execute_result"
    }
   ],
   "source": [
    "hi_incentive = garment_prod.loc[garment_prod['incentive'] > 500]\n",
    "hi_incentive"
   ]
  },
  {
   "cell_type": "markdown",
   "id": "293c940b",
   "metadata": {},
   "source": [
    "These instances where exceptionally large incentives were offered all occurred on the same day, in the finishing department, on relatively short tasks (smv from 2.9 to 4.6). I exclude them as outliers to take a look at how incentive typically related to productivity."
   ]
  },
  {
   "cell_type": "code",
   "execution_count": 71,
   "id": "ab77afe9",
   "metadata": {
    "scrolled": true
   },
   "outputs": [
    {
     "data": {
      "text/plain": [
       "(-5.0, 140.0)"
      ]
     },
     "execution_count": 71,
     "metadata": {},
     "output_type": "execute_result"
    },
    {
     "data": {
      "image/png": "[encoded data removed]",
      "text/plain": [
       "<Figure size 432x288 with 1 Axes>"
      ]
     },
     "metadata": {
      "needs_background": "light"
     },
     "output_type": "display_data"
    }
   ],
   "source": [
    "garment_prod.plot.scatter(x='incentive', y='actual_productivity', alpha = 0.25)\n",
    "plt.xlim(-5, 140)"
   ]
  },
  {
   "cell_type": "markdown",
   "id": "c2e84c3c",
   "metadata": {},
   "source": [
    "Often incentive was not offered, but when it was, it appeared to correlate positively with productivity."
   ]
  },
  {
   "cell_type": "code",
   "execution_count": 72,
   "id": "cad7e638",
   "metadata": {},
   "outputs": [
    {
     "data": {
      "text/plain": [
       "<AxesSubplot:xlabel='smv', ylabel='actual_productivity'>"
      ]
     },
     "execution_count": 72,
     "metadata": {},
     "output_type": "execute_result"
    },
    {
     "data": {
      "image/png": "[encoded data removed]",
      "text/plain": [
       "<Figure size 432x288 with 1 Axes>"
      ]
     },
     "metadata": {
      "needs_background": "light"
     },
     "output_type": "display_data"
    }
   ],
   "source": [
    "garment_prod.plot.scatter(x='smv', y='actual_productivity', alpha = 0.15)"
   ]
  },
  {
   "cell_type": "markdown",
   "id": "d9401b9f",
   "metadata": {},
   "source": [
    "The 'smv' feature appears to occur in three clusters, with the highest cluster possibly being associated with lower productivity. I will explore this idea a little later in this notebook."
   ]
  },
  {
   "cell_type": "code",
   "execution_count": 73,
   "id": "96f3be2b",
   "metadata": {},
   "outputs": [
    {
     "data": {
      "text/plain": [
       "<AxesSubplot:xlabel='date', ylabel='actual_productivity'>"
      ]
     },
     "execution_count": 73,
     "metadata": {},
     "output_type": "execute_result"
    },
    {
     "data": {
      "image/png": "[encoded data removed]",
      "text/plain": [
       "<Figure size 432x288 with 1 Axes>"
      ]
     },
     "metadata": {
      "needs_background": "light"
     },
     "output_type": "display_data"
    }
   ],
   "source": [
    "garment_prod.plot.scatter(x='date', y='actual_productivity', alpha = 0.15)"
   ]
  },
  {
   "cell_type": "code",
   "execution_count": 74,
   "id": "c3eb10a7",
   "metadata": {},
   "outputs": [
    {
     "data": {
      "text/plain": [
       "<AxesSubplot:xlabel='no_of_workers', ylabel='actual_productivity'>"
      ]
     },
     "execution_count": 74,
     "metadata": {},
     "output_type": "execute_result"
    },
    {
     "data": {
      "image/png": "[encoded data removed]",
      "text/plain": [
       "<Figure size 432x288 with 1 Axes>"
      ]
     },
     "metadata": {
      "needs_background": "light"
     },
     "output_type": "display_data"
    }
   ],
   "source": [
    "garment_prod.plot.scatter(x='no_of_workers', y='actual_productivity', alpha = 0.15)"
   ]
  },
  {
   "cell_type": "code",
   "execution_count": 75,
   "id": "bf591ec4",
   "metadata": {},
   "outputs": [
    {
     "data": {
      "text/plain": [
       "<AxesSubplot:xlabel='over_time', ylabel='actual_productivity'>"
      ]
     },
     "execution_count": 75,
     "metadata": {},
     "output_type": "execute_result"
    },
    {
     "data": {
      "image/png": "[encoded data removed]",
      "text/plain": [
       "<Figure size 432x288 with 1 Axes>"
      ]
     },
     "metadata": {
      "needs_background": "light"
     },
     "output_type": "display_data"
    }
   ],
   "source": [
    "garment_prod.plot.scatter(x='over_time', y='actual_productivity', alpha = 0.15)\n",
    "# plt.xlim(-100, 2000)"
   ]
  },
  {
   "cell_type": "code",
   "execution_count": 76,
   "id": "dc221bff",
   "metadata": {
    "scrolled": true
   },
   "outputs": [
    {
     "data": {
      "text/plain": [
       "<AxesSubplot:xlabel='day', ylabel='actual_productivity'>"
      ]
     },
     "execution_count": 76,
     "metadata": {},
     "output_type": "execute_result"
    },
    {
     "data": {
      "image/png": "[encoded data removed]",
      "text/plain": [
       "<Figure size 432x288 with 1 Axes>"
      ]
     },
     "metadata": {
      "needs_background": "light"
     },
     "output_type": "display_data"
    }
   ],
   "source": [
    "garment_prod.plot.scatter(x='day', y='actual_productivity', alpha = 0.15)"
   ]
  },
  {
   "cell_type": "markdown",
   "id": "cc0f12b5",
   "metadata": {},
   "source": [
    "When incentive is offered, does it increase the ability to predict productivty? Select rows where an incentive was offered (exluding outliers with exceptionally high incentive -- see above), and preprocess for Random Forest. Also select rows with no incentive to predict effect of offering an incentive on productivity."
   ]
  },
  {
   "cell_type": "code",
   "execution_count": 77,
   "id": "8769ecdb",
   "metadata": {},
   "outputs": [
    {
     "data": {
      "text/html": [
       "<div>\n",
       "<style scoped>\n",
       "    .dataframe tbody tr th:only-of-type {\n",
       "        vertical-align: middle;\n",
       "    }\n",
       "\n",
       "    .dataframe tbody tr th {\n",
       "        vertical-align: top;\n",
       "    }\n",
       "\n",
       "    .dataframe thead th {\n",
       "        text-align: right;\n",
       "    }\n",
       "</style>\n",
       "<table border=\"1\" class=\"dataframe\">\n",
       "  <thead>\n",
       "    <tr style=\"text-align: right;\">\n",
       "      <th></th>\n",
       "      <th>date</th>\n",
       "      <th>quarter</th>\n",
       "      <th>department</th>\n",
       "      <th>day</th>\n",
       "      <th>team</th>\n",
       "      <th>targeted_productivity</th>\n",
       "      <th>smv</th>\n",
       "      <th>wip</th>\n",
       "      <th>over_time</th>\n",
       "      <th>incentive</th>\n",
       "      <th>idle_time</th>\n",
       "      <th>idle_men</th>\n",
       "      <th>no_of_style_change</th>\n",
       "      <th>no_of_workers</th>\n",
       "      <th>actual_productivity</th>\n",
       "    </tr>\n",
       "  </thead>\n",
       "  <tbody>\n",
       "    <tr>\n",
       "      <th>1</th>\n",
       "      <td>2015-01-01</td>\n",
       "      <td>Quarter1</td>\n",
       "      <td>finishing</td>\n",
       "      <td>Thursday</td>\n",
       "      <td>1</td>\n",
       "      <td>0.75</td>\n",
       "      <td>3.94</td>\n",
       "      <td>0.0</td>\n",
       "      <td>960</td>\n",
       "      <td>0</td>\n",
       "      <td>0.0</td>\n",
       "      <td>0</td>\n",
       "      <td>0</td>\n",
       "      <td>8.0</td>\n",
       "      <td>0.886500</td>\n",
       "    </tr>\n",
       "    <tr>\n",
       "      <th>6</th>\n",
       "      <td>2015-01-01</td>\n",
       "      <td>Quarter1</td>\n",
       "      <td>finishing</td>\n",
       "      <td>Thursday</td>\n",
       "      <td>2</td>\n",
       "      <td>0.75</td>\n",
       "      <td>3.94</td>\n",
       "      <td>0.0</td>\n",
       "      <td>960</td>\n",
       "      <td>0</td>\n",
       "      <td>0.0</td>\n",
       "      <td>0</td>\n",
       "      <td>0</td>\n",
       "      <td>8.0</td>\n",
       "      <td>0.755167</td>\n",
       "    </tr>\n",
       "    <tr>\n",
       "      <th>13</th>\n",
       "      <td>2015-01-01</td>\n",
       "      <td>Quarter1</td>\n",
       "      <td>finishing</td>\n",
       "      <td>Thursday</td>\n",
       "      <td>10</td>\n",
       "      <td>0.65</td>\n",
       "      <td>3.94</td>\n",
       "      <td>0.0</td>\n",
       "      <td>960</td>\n",
       "      <td>0</td>\n",
       "      <td>0.0</td>\n",
       "      <td>0</td>\n",
       "      <td>0</td>\n",
       "      <td>8.0</td>\n",
       "      <td>0.705917</td>\n",
       "    </tr>\n",
       "    <tr>\n",
       "      <th>14</th>\n",
       "      <td>2015-01-01</td>\n",
       "      <td>Quarter1</td>\n",
       "      <td>finishing</td>\n",
       "      <td>Thursday</td>\n",
       "      <td>8</td>\n",
       "      <td>0.75</td>\n",
       "      <td>2.90</td>\n",
       "      <td>0.0</td>\n",
       "      <td>960</td>\n",
       "      <td>0</td>\n",
       "      <td>0.0</td>\n",
       "      <td>0</td>\n",
       "      <td>0</td>\n",
       "      <td>8.0</td>\n",
       "      <td>0.676667</td>\n",
       "    </tr>\n",
       "    <tr>\n",
       "      <th>15</th>\n",
       "      <td>2015-01-01</td>\n",
       "      <td>Quarter1</td>\n",
       "      <td>finishing</td>\n",
       "      <td>Thursday</td>\n",
       "      <td>4</td>\n",
       "      <td>0.75</td>\n",
       "      <td>3.94</td>\n",
       "      <td>0.0</td>\n",
       "      <td>2160</td>\n",
       "      <td>0</td>\n",
       "      <td>0.0</td>\n",
       "      <td>0</td>\n",
       "      <td>0</td>\n",
       "      <td>18.0</td>\n",
       "      <td>0.593056</td>\n",
       "    </tr>\n",
       "    <tr>\n",
       "      <th>16</th>\n",
       "      <td>2015-01-01</td>\n",
       "      <td>Quarter1</td>\n",
       "      <td>finishing</td>\n",
       "      <td>Thursday</td>\n",
       "      <td>7</td>\n",
       "      <td>0.80</td>\n",
       "      <td>2.90</td>\n",
       "      <td>0.0</td>\n",
       "      <td>960</td>\n",
       "      <td>0</td>\n",
       "      <td>0.0</td>\n",
       "      <td>0</td>\n",
       "      <td>0</td>\n",
       "      <td>8.0</td>\n",
       "      <td>0.540729</td>\n",
       "    </tr>\n",
       "    <tr>\n",
       "      <th>17</th>\n",
       "      <td>2015-01-01</td>\n",
       "      <td>Quarter1</td>\n",
       "      <td>sweing</td>\n",
       "      <td>Thursday</td>\n",
       "      <td>4</td>\n",
       "      <td>0.65</td>\n",
       "      <td>23.69</td>\n",
       "      <td>861.0</td>\n",
       "      <td>7200</td>\n",
       "      <td>0</td>\n",
       "      <td>0.0</td>\n",
       "      <td>0</td>\n",
       "      <td>0</td>\n",
       "      <td>60.0</td>\n",
       "      <td>0.521180</td>\n",
       "    </tr>\n",
       "    <tr>\n",
       "      <th>18</th>\n",
       "      <td>2015-01-01</td>\n",
       "      <td>Quarter1</td>\n",
       "      <td>finishing</td>\n",
       "      <td>Thursday</td>\n",
       "      <td>11</td>\n",
       "      <td>0.70</td>\n",
       "      <td>4.15</td>\n",
       "      <td>0.0</td>\n",
       "      <td>1440</td>\n",
       "      <td>0</td>\n",
       "      <td>0.0</td>\n",
       "      <td>0</td>\n",
       "      <td>0</td>\n",
       "      <td>12.0</td>\n",
       "      <td>0.436326</td>\n",
       "    </tr>\n",
       "    <tr>\n",
       "      <th>19</th>\n",
       "      <td>2015-01-03</td>\n",
       "      <td>Quarter1</td>\n",
       "      <td>finishing</td>\n",
       "      <td>Saturday</td>\n",
       "      <td>4</td>\n",
       "      <td>0.80</td>\n",
       "      <td>4.15</td>\n",
       "      <td>0.0</td>\n",
       "      <td>6600</td>\n",
       "      <td>0</td>\n",
       "      <td>0.0</td>\n",
       "      <td>0</td>\n",
       "      <td>0</td>\n",
       "      <td>20.0</td>\n",
       "      <td>0.988025</td>\n",
       "    </tr>\n",
       "    <tr>\n",
       "      <th>20</th>\n",
       "      <td>2015-01-03</td>\n",
       "      <td>Quarter1</td>\n",
       "      <td>finishing</td>\n",
       "      <td>Saturday</td>\n",
       "      <td>11</td>\n",
       "      <td>0.75</td>\n",
       "      <td>2.90</td>\n",
       "      <td>0.0</td>\n",
       "      <td>5640</td>\n",
       "      <td>0</td>\n",
       "      <td>0.0</td>\n",
       "      <td>0</td>\n",
       "      <td>0</td>\n",
       "      <td>17.0</td>\n",
       "      <td>0.987880</td>\n",
       "    </tr>\n",
       "    <tr>\n",
       "      <th>21</th>\n",
       "      <td>2015-01-03</td>\n",
       "      <td>Quarter1</td>\n",
       "      <td>finishing</td>\n",
       "      <td>Saturday</td>\n",
       "      <td>9</td>\n",
       "      <td>0.80</td>\n",
       "      <td>4.15</td>\n",
       "      <td>0.0</td>\n",
       "      <td>960</td>\n",
       "      <td>0</td>\n",
       "      <td>0.0</td>\n",
       "      <td>0</td>\n",
       "      <td>0</td>\n",
       "      <td>8.0</td>\n",
       "      <td>0.956271</td>\n",
       "    </tr>\n",
       "    <tr>\n",
       "      <th>22</th>\n",
       "      <td>2015-01-03</td>\n",
       "      <td>Quarter1</td>\n",
       "      <td>finishing</td>\n",
       "      <td>Saturday</td>\n",
       "      <td>3</td>\n",
       "      <td>0.75</td>\n",
       "      <td>3.94</td>\n",
       "      <td>0.0</td>\n",
       "      <td>1560</td>\n",
       "      <td>0</td>\n",
       "      <td>0.0</td>\n",
       "      <td>0</td>\n",
       "      <td>0</td>\n",
       "      <td>8.0</td>\n",
       "      <td>0.945278</td>\n",
       "    </tr>\n",
       "    <tr>\n",
       "      <th>23</th>\n",
       "      <td>2015-01-03</td>\n",
       "      <td>Quarter1</td>\n",
       "      <td>finishing</td>\n",
       "      <td>Saturday</td>\n",
       "      <td>1</td>\n",
       "      <td>0.80</td>\n",
       "      <td>3.94</td>\n",
       "      <td>0.0</td>\n",
       "      <td>960</td>\n",
       "      <td>0</td>\n",
       "      <td>0.0</td>\n",
       "      <td>0</td>\n",
       "      <td>0</td>\n",
       "      <td>8.0</td>\n",
       "      <td>0.902917</td>\n",
       "    </tr>\n",
       "    <tr>\n",
       "      <th>33</th>\n",
       "      <td>2015-01-03</td>\n",
       "      <td>Quarter1</td>\n",
       "      <td>finishing</td>\n",
       "      <td>Saturday</td>\n",
       "      <td>2</td>\n",
       "      <td>0.80</td>\n",
       "      <td>4.15</td>\n",
       "      <td>0.0</td>\n",
       "      <td>960</td>\n",
       "      <td>0</td>\n",
       "      <td>0.0</td>\n",
       "      <td>0</td>\n",
       "      <td>0</td>\n",
       "      <td>8.0</td>\n",
       "      <td>0.782448</td>\n",
       "    </tr>\n",
       "    <tr>\n",
       "      <th>35</th>\n",
       "      <td>2015-01-03</td>\n",
       "      <td>Quarter1</td>\n",
       "      <td>finishing</td>\n",
       "      <td>Saturday</td>\n",
       "      <td>10</td>\n",
       "      <td>0.70</td>\n",
       "      <td>4.15</td>\n",
       "      <td>0.0</td>\n",
       "      <td>960</td>\n",
       "      <td>0</td>\n",
       "      <td>0.0</td>\n",
       "      <td>0</td>\n",
       "      <td>0</td>\n",
       "      <td>8.0</td>\n",
       "      <td>0.701812</td>\n",
       "    </tr>\n",
       "    <tr>\n",
       "      <th>36</th>\n",
       "      <td>2015-01-03</td>\n",
       "      <td>Quarter1</td>\n",
       "      <td>sweing</td>\n",
       "      <td>Saturday</td>\n",
       "      <td>4</td>\n",
       "      <td>0.70</td>\n",
       "      <td>23.69</td>\n",
       "      <td>544.0</td>\n",
       "      <td>13800</td>\n",
       "      <td>0</td>\n",
       "      <td>0.0</td>\n",
       "      <td>0</td>\n",
       "      <td>0</td>\n",
       "      <td>60.0</td>\n",
       "      <td>0.700134</td>\n",
       "    </tr>\n",
       "    <tr>\n",
       "      <th>38</th>\n",
       "      <td>2015-01-03</td>\n",
       "      <td>Quarter1</td>\n",
       "      <td>finishing</td>\n",
       "      <td>Saturday</td>\n",
       "      <td>8</td>\n",
       "      <td>0.80</td>\n",
       "      <td>2.90</td>\n",
       "      <td>0.0</td>\n",
       "      <td>960</td>\n",
       "      <td>0</td>\n",
       "      <td>0.0</td>\n",
       "      <td>0</td>\n",
       "      <td>0</td>\n",
       "      <td>8.0</td>\n",
       "      <td>0.628333</td>\n",
       "    </tr>\n",
       "    <tr>\n",
       "      <th>39</th>\n",
       "      <td>2015-01-03</td>\n",
       "      <td>Quarter1</td>\n",
       "      <td>finishing</td>\n",
       "      <td>Saturday</td>\n",
       "      <td>7</td>\n",
       "      <td>0.80</td>\n",
       "      <td>3.94</td>\n",
       "      <td>0.0</td>\n",
       "      <td>960</td>\n",
       "      <td>0</td>\n",
       "      <td>0.0</td>\n",
       "      <td>0</td>\n",
       "      <td>0</td>\n",
       "      <td>8.0</td>\n",
       "      <td>0.625313</td>\n",
       "    </tr>\n",
       "    <tr>\n",
       "      <th>40</th>\n",
       "      <td>2015-01-04</td>\n",
       "      <td>Quarter1</td>\n",
       "      <td>finishing</td>\n",
       "      <td>Sunday</td>\n",
       "      <td>3</td>\n",
       "      <td>0.75</td>\n",
       "      <td>4.15</td>\n",
       "      <td>0.0</td>\n",
       "      <td>1560</td>\n",
       "      <td>0</td>\n",
       "      <td>0.0</td>\n",
       "      <td>0</td>\n",
       "      <td>0</td>\n",
       "      <td>8.0</td>\n",
       "      <td>0.991389</td>\n",
       "    </tr>\n",
       "    <tr>\n",
       "      <th>41</th>\n",
       "      <td>2015-01-04</td>\n",
       "      <td>Quarter1</td>\n",
       "      <td>finishing</td>\n",
       "      <td>Sunday</td>\n",
       "      <td>9</td>\n",
       "      <td>0.80</td>\n",
       "      <td>3.94</td>\n",
       "      <td>0.0</td>\n",
       "      <td>960</td>\n",
       "      <td>0</td>\n",
       "      <td>0.0</td>\n",
       "      <td>0</td>\n",
       "      <td>0</td>\n",
       "      <td>8.0</td>\n",
       "      <td>0.931646</td>\n",
       "    </tr>\n",
       "    <tr>\n",
       "      <th>42</th>\n",
       "      <td>2015-01-04</td>\n",
       "      <td>Quarter1</td>\n",
       "      <td>finishing</td>\n",
       "      <td>Sunday</td>\n",
       "      <td>1</td>\n",
       "      <td>0.80</td>\n",
       "      <td>3.94</td>\n",
       "      <td>0.0</td>\n",
       "      <td>960</td>\n",
       "      <td>0</td>\n",
       "      <td>0.0</td>\n",
       "      <td>0</td>\n",
       "      <td>0</td>\n",
       "      <td>8.0</td>\n",
       "      <td>0.915229</td>\n",
       "    </tr>\n",
       "    <tr>\n",
       "      <th>44</th>\n",
       "      <td>2015-01-04</td>\n",
       "      <td>Quarter1</td>\n",
       "      <td>finishing</td>\n",
       "      <td>Sunday</td>\n",
       "      <td>4</td>\n",
       "      <td>0.80</td>\n",
       "      <td>3.94</td>\n",
       "      <td>0.0</td>\n",
       "      <td>6600</td>\n",
       "      <td>0</td>\n",
       "      <td>0.0</td>\n",
       "      <td>0</td>\n",
       "      <td>0</td>\n",
       "      <td>20.0</td>\n",
       "      <td>0.861679</td>\n",
       "    </tr>\n",
       "    <tr>\n",
       "      <th>52</th>\n",
       "      <td>2015-01-04</td>\n",
       "      <td>Quarter1</td>\n",
       "      <td>finishing</td>\n",
       "      <td>Sunday</td>\n",
       "      <td>2</td>\n",
       "      <td>0.80</td>\n",
       "      <td>3.94</td>\n",
       "      <td>0.0</td>\n",
       "      <td>960</td>\n",
       "      <td>0</td>\n",
       "      <td>0.0</td>\n",
       "      <td>0</td>\n",
       "      <td>0</td>\n",
       "      <td>8.0</td>\n",
       "      <td>0.792104</td>\n",
       "    </tr>\n",
       "    <tr>\n",
       "      <th>53</th>\n",
       "      <td>2015-01-04</td>\n",
       "      <td>Quarter1</td>\n",
       "      <td>finishing</td>\n",
       "      <td>Sunday</td>\n",
       "      <td>10</td>\n",
       "      <td>0.70</td>\n",
       "      <td>3.94</td>\n",
       "      <td>0.0</td>\n",
       "      <td>4320</td>\n",
       "      <td>0</td>\n",
       "      <td>0.0</td>\n",
       "      <td>0</td>\n",
       "      <td>0</td>\n",
       "      <td>18.0</td>\n",
       "      <td>0.759228</td>\n",
       "    </tr>\n",
       "    <tr>\n",
       "      <th>57</th>\n",
       "      <td>2015-01-04</td>\n",
       "      <td>Quarter1</td>\n",
       "      <td>finishing</td>\n",
       "      <td>Sunday</td>\n",
       "      <td>8</td>\n",
       "      <td>0.80</td>\n",
       "      <td>2.90</td>\n",
       "      <td>0.0</td>\n",
       "      <td>960</td>\n",
       "      <td>0</td>\n",
       "      <td>0.0</td>\n",
       "      <td>0</td>\n",
       "      <td>0</td>\n",
       "      <td>8.0</td>\n",
       "      <td>0.682708</td>\n",
       "    </tr>\n",
       "    <tr>\n",
       "      <th>58</th>\n",
       "      <td>2015-01-04</td>\n",
       "      <td>Quarter1</td>\n",
       "      <td>finishing</td>\n",
       "      <td>Sunday</td>\n",
       "      <td>7</td>\n",
       "      <td>0.80</td>\n",
       "      <td>2.90</td>\n",
       "      <td>0.0</td>\n",
       "      <td>960</td>\n",
       "      <td>0</td>\n",
       "      <td>0.0</td>\n",
       "      <td>0</td>\n",
       "      <td>0</td>\n",
       "      <td>8.0</td>\n",
       "      <td>0.667604</td>\n",
       "    </tr>\n",
       "    <tr>\n",
       "      <th>60</th>\n",
       "      <td>2015-01-04</td>\n",
       "      <td>Quarter1</td>\n",
       "      <td>finishing</td>\n",
       "      <td>Sunday</td>\n",
       "      <td>11</td>\n",
       "      <td>0.75</td>\n",
       "      <td>4.15</td>\n",
       "      <td>0.0</td>\n",
       "      <td>960</td>\n",
       "      <td>0</td>\n",
       "      <td>0.0</td>\n",
       "      <td>0</td>\n",
       "      <td>0</td>\n",
       "      <td>8.0</td>\n",
       "      <td>0.345833</td>\n",
       "    </tr>\n",
       "    <tr>\n",
       "      <th>61</th>\n",
       "      <td>2015-01-05</td>\n",
       "      <td>Quarter1</td>\n",
       "      <td>finishing</td>\n",
       "      <td>Monday</td>\n",
       "      <td>1</td>\n",
       "      <td>0.80</td>\n",
       "      <td>3.94</td>\n",
       "      <td>0.0</td>\n",
       "      <td>1920</td>\n",
       "      <td>0</td>\n",
       "      <td>0.0</td>\n",
       "      <td>0</td>\n",
       "      <td>0</td>\n",
       "      <td>8.0</td>\n",
       "      <td>0.961059</td>\n",
       "    </tr>\n",
       "    <tr>\n",
       "      <th>62</th>\n",
       "      <td>2015-01-05</td>\n",
       "      <td>Quarter1</td>\n",
       "      <td>finishing</td>\n",
       "      <td>Monday</td>\n",
       "      <td>11</td>\n",
       "      <td>0.80</td>\n",
       "      <td>3.94</td>\n",
       "      <td>0.0</td>\n",
       "      <td>2400</td>\n",
       "      <td>0</td>\n",
       "      <td>0.0</td>\n",
       "      <td>0</td>\n",
       "      <td>0</td>\n",
       "      <td>10.0</td>\n",
       "      <td>0.939514</td>\n",
       "    </tr>\n",
       "    <tr>\n",
       "      <th>63</th>\n",
       "      <td>2015-01-05</td>\n",
       "      <td>Quarter1</td>\n",
       "      <td>finishing</td>\n",
       "      <td>Monday</td>\n",
       "      <td>4</td>\n",
       "      <td>0.80</td>\n",
       "      <td>3.94</td>\n",
       "      <td>0.0</td>\n",
       "      <td>3840</td>\n",
       "      <td>0</td>\n",
       "      <td>0.0</td>\n",
       "      <td>0</td>\n",
       "      <td>0</td>\n",
       "      <td>16.0</td>\n",
       "      <td>0.893663</td>\n",
       "    </tr>\n",
       "    <tr>\n",
       "      <th>64</th>\n",
       "      <td>2015-01-05</td>\n",
       "      <td>Quarter1</td>\n",
       "      <td>finishing</td>\n",
       "      <td>Monday</td>\n",
       "      <td>3</td>\n",
       "      <td>0.75</td>\n",
       "      <td>4.15</td>\n",
       "      <td>0.0</td>\n",
       "      <td>1920</td>\n",
       "      <td>0</td>\n",
       "      <td>0.0</td>\n",
       "      <td>0</td>\n",
       "      <td>0</td>\n",
       "      <td>8.0</td>\n",
       "      <td>0.875391</td>\n",
       "    </tr>\n",
       "    <tr>\n",
       "      <th>66</th>\n",
       "      <td>2015-01-05</td>\n",
       "      <td>Quarter1</td>\n",
       "      <td>finishing</td>\n",
       "      <td>Monday</td>\n",
       "      <td>9</td>\n",
       "      <td>0.80</td>\n",
       "      <td>2.90</td>\n",
       "      <td>0.0</td>\n",
       "      <td>1920</td>\n",
       "      <td>0</td>\n",
       "      <td>0.0</td>\n",
       "      <td>0</td>\n",
       "      <td>0</td>\n",
       "      <td>8.0</td>\n",
       "      <td>0.820833</td>\n",
       "    </tr>\n",
       "    <tr>\n",
       "      <th>67</th>\n",
       "      <td>2015-01-05</td>\n",
       "      <td>Quarter1</td>\n",
       "      <td>finishing</td>\n",
       "      <td>Monday</td>\n",
       "      <td>2</td>\n",
       "      <td>0.80</td>\n",
       "      <td>3.94</td>\n",
       "      <td>0.0</td>\n",
       "      <td>960</td>\n",
       "      <td>0</td>\n",
       "      <td>0.0</td>\n",
       "      <td>0</td>\n",
       "      <td>0</td>\n",
       "      <td>8.0</td>\n",
       "      <td>0.804417</td>\n",
       "    </tr>\n",
       "    <tr>\n",
       "      <th>76</th>\n",
       "      <td>2015-01-05</td>\n",
       "      <td>Quarter1</td>\n",
       "      <td>finishing</td>\n",
       "      <td>Monday</td>\n",
       "      <td>10</td>\n",
       "      <td>0.75</td>\n",
       "      <td>2.90</td>\n",
       "      <td>0.0</td>\n",
       "      <td>960</td>\n",
       "      <td>0</td>\n",
       "      <td>0.0</td>\n",
       "      <td>0</td>\n",
       "      <td>0</td>\n",
       "      <td>8.0</td>\n",
       "      <td>0.763375</td>\n",
       "    </tr>\n",
       "    <tr>\n",
       "      <th>77</th>\n",
       "      <td>2015-01-05</td>\n",
       "      <td>Quarter1</td>\n",
       "      <td>finishing</td>\n",
       "      <td>Monday</td>\n",
       "      <td>5</td>\n",
       "      <td>0.60</td>\n",
       "      <td>2.90</td>\n",
       "      <td>0.0</td>\n",
       "      <td>960</td>\n",
       "      <td>0</td>\n",
       "      <td>0.0</td>\n",
       "      <td>0</td>\n",
       "      <td>0</td>\n",
       "      <td>8.0</td>\n",
       "      <td>0.759271</td>\n",
       "    </tr>\n",
       "    <tr>\n",
       "      <th>80</th>\n",
       "      <td>2015-01-05</td>\n",
       "      <td>Quarter1</td>\n",
       "      <td>finishing</td>\n",
       "      <td>Monday</td>\n",
       "      <td>7</td>\n",
       "      <td>0.80</td>\n",
       "      <td>3.94</td>\n",
       "      <td>0.0</td>\n",
       "      <td>960</td>\n",
       "      <td>0</td>\n",
       "      <td>0.0</td>\n",
       "      <td>0</td>\n",
       "      <td>0</td>\n",
       "      <td>8.0</td>\n",
       "      <td>0.676667</td>\n",
       "    </tr>\n",
       "    <tr>\n",
       "      <th>81</th>\n",
       "      <td>2015-01-05</td>\n",
       "      <td>Quarter1</td>\n",
       "      <td>finishing</td>\n",
       "      <td>Monday</td>\n",
       "      <td>8</td>\n",
       "      <td>0.80</td>\n",
       "      <td>2.90</td>\n",
       "      <td>0.0</td>\n",
       "      <td>960</td>\n",
       "      <td>0</td>\n",
       "      <td>0.0</td>\n",
       "      <td>0</td>\n",
       "      <td>0</td>\n",
       "      <td>8.0</td>\n",
       "      <td>0.664583</td>\n",
       "    </tr>\n",
       "    <tr>\n",
       "      <th>83</th>\n",
       "      <td>2015-01-06</td>\n",
       "      <td>Quarter1</td>\n",
       "      <td>finishing</td>\n",
       "      <td>Tuesday</td>\n",
       "      <td>4</td>\n",
       "      <td>0.80</td>\n",
       "      <td>3.94</td>\n",
       "      <td>0.0</td>\n",
       "      <td>4440</td>\n",
       "      <td>0</td>\n",
       "      <td>0.0</td>\n",
       "      <td>0</td>\n",
       "      <td>0</td>\n",
       "      <td>18.0</td>\n",
       "      <td>0.966781</td>\n",
       "    </tr>\n",
       "    <tr>\n",
       "      <th>84</th>\n",
       "      <td>2015-01-06</td>\n",
       "      <td>Quarter1</td>\n",
       "      <td>finishing</td>\n",
       "      <td>Tuesday</td>\n",
       "      <td>1</td>\n",
       "      <td>0.80</td>\n",
       "      <td>3.94</td>\n",
       "      <td>0.0</td>\n",
       "      <td>1440</td>\n",
       "      <td>0</td>\n",
       "      <td>0.0</td>\n",
       "      <td>0</td>\n",
       "      <td>0</td>\n",
       "      <td>8.0</td>\n",
       "      <td>0.936496</td>\n",
       "    </tr>\n",
       "    <tr>\n",
       "      <th>85</th>\n",
       "      <td>2015-01-06</td>\n",
       "      <td>Quarter1</td>\n",
       "      <td>finishing</td>\n",
       "      <td>Tuesday</td>\n",
       "      <td>3</td>\n",
       "      <td>0.75</td>\n",
       "      <td>4.15</td>\n",
       "      <td>0.0</td>\n",
       "      <td>1800</td>\n",
       "      <td>0</td>\n",
       "      <td>0.0</td>\n",
       "      <td>0</td>\n",
       "      <td>0</td>\n",
       "      <td>10.0</td>\n",
       "      <td>0.899167</td>\n",
       "    </tr>\n",
       "    <tr>\n",
       "      <th>86</th>\n",
       "      <td>2015-01-06</td>\n",
       "      <td>Quarter1</td>\n",
       "      <td>finishing</td>\n",
       "      <td>Tuesday</td>\n",
       "      <td>11</td>\n",
       "      <td>0.80</td>\n",
       "      <td>4.15</td>\n",
       "      <td>0.0</td>\n",
       "      <td>2700</td>\n",
       "      <td>0</td>\n",
       "      <td>0.0</td>\n",
       "      <td>0</td>\n",
       "      <td>0</td>\n",
       "      <td>15.0</td>\n",
       "      <td>0.888687</td>\n",
       "    </tr>\n",
       "    <tr>\n",
       "      <th>87</th>\n",
       "      <td>2015-01-06</td>\n",
       "      <td>Quarter1</td>\n",
       "      <td>finishing</td>\n",
       "      <td>Tuesday</td>\n",
       "      <td>9</td>\n",
       "      <td>0.80</td>\n",
       "      <td>3.94</td>\n",
       "      <td>0.0</td>\n",
       "      <td>1440</td>\n",
       "      <td>0</td>\n",
       "      <td>0.0</td>\n",
       "      <td>0</td>\n",
       "      <td>0</td>\n",
       "      <td>8.0</td>\n",
       "      <td>0.858144</td>\n",
       "    </tr>\n",
       "    <tr>\n",
       "      <th>90</th>\n",
       "      <td>2015-01-06</td>\n",
       "      <td>Quarter1</td>\n",
       "      <td>finishing</td>\n",
       "      <td>Tuesday</td>\n",
       "      <td>10</td>\n",
       "      <td>0.75</td>\n",
       "      <td>3.94</td>\n",
       "      <td>0.0</td>\n",
       "      <td>1440</td>\n",
       "      <td>0</td>\n",
       "      <td>0.0</td>\n",
       "      <td>0</td>\n",
       "      <td>0</td>\n",
       "      <td>8.0</td>\n",
       "      <td>0.809640</td>\n",
       "    </tr>\n",
       "    <tr>\n",
       "      <th>91</th>\n",
       "      <td>2015-01-06</td>\n",
       "      <td>Quarter1</td>\n",
       "      <td>finishing</td>\n",
       "      <td>Tuesday</td>\n",
       "      <td>2</td>\n",
       "      <td>0.80</td>\n",
       "      <td>3.94</td>\n",
       "      <td>0.0</td>\n",
       "      <td>1440</td>\n",
       "      <td>0</td>\n",
       "      <td>0.0</td>\n",
       "      <td>0</td>\n",
       "      <td>0</td>\n",
       "      <td>8.0</td>\n",
       "      <td>0.805909</td>\n",
       "    </tr>\n",
       "    <tr>\n",
       "      <th>101</th>\n",
       "      <td>2015-01-06</td>\n",
       "      <td>Quarter1</td>\n",
       "      <td>finishing</td>\n",
       "      <td>Tuesday</td>\n",
       "      <td>8</td>\n",
       "      <td>0.80</td>\n",
       "      <td>2.90</td>\n",
       "      <td>0.0</td>\n",
       "      <td>1440</td>\n",
       "      <td>0</td>\n",
       "      <td>0.0</td>\n",
       "      <td>0</td>\n",
       "      <td>0</td>\n",
       "      <td>8.0</td>\n",
       "      <td>0.681061</td>\n",
       "    </tr>\n",
       "    <tr>\n",
       "      <th>103</th>\n",
       "      <td>2015-01-06</td>\n",
       "      <td>Quarter1</td>\n",
       "      <td>finishing</td>\n",
       "      <td>Tuesday</td>\n",
       "      <td>7</td>\n",
       "      <td>0.80</td>\n",
       "      <td>2.90</td>\n",
       "      <td>0.0</td>\n",
       "      <td>1440</td>\n",
       "      <td>0</td>\n",
       "      <td>0.0</td>\n",
       "      <td>0</td>\n",
       "      <td>0</td>\n",
       "      <td>8.0</td>\n",
       "      <td>0.616250</td>\n",
       "    </tr>\n",
       "    <tr>\n",
       "      <th>104</th>\n",
       "      <td>2015-01-07</td>\n",
       "      <td>Quarter1</td>\n",
       "      <td>finishing</td>\n",
       "      <td>Wednesday</td>\n",
       "      <td>1</td>\n",
       "      <td>0.80</td>\n",
       "      <td>3.94</td>\n",
       "      <td>0.0</td>\n",
       "      <td>1440</td>\n",
       "      <td>0</td>\n",
       "      <td>0.0</td>\n",
       "      <td>0</td>\n",
       "      <td>0</td>\n",
       "      <td>8.0</td>\n",
       "      <td>0.951420</td>\n",
       "    </tr>\n",
       "    <tr>\n",
       "      <th>105</th>\n",
       "      <td>2015-01-07</td>\n",
       "      <td>Quarter1</td>\n",
       "      <td>finishing</td>\n",
       "      <td>Wednesday</td>\n",
       "      <td>9</td>\n",
       "      <td>0.80</td>\n",
       "      <td>3.94</td>\n",
       "      <td>0.0</td>\n",
       "      <td>1440</td>\n",
       "      <td>0</td>\n",
       "      <td>0.0</td>\n",
       "      <td>0</td>\n",
       "      <td>0</td>\n",
       "      <td>8.0</td>\n",
       "      <td>0.880530</td>\n",
       "    </tr>\n",
       "    <tr>\n",
       "      <th>109</th>\n",
       "      <td>2015-01-07</td>\n",
       "      <td>Quarter1</td>\n",
       "      <td>finishing</td>\n",
       "      <td>Wednesday</td>\n",
       "      <td>3</td>\n",
       "      <td>0.75</td>\n",
       "      <td>4.15</td>\n",
       "      <td>0.0</td>\n",
       "      <td>2700</td>\n",
       "      <td>0</td>\n",
       "      <td>0.0</td>\n",
       "      <td>0</td>\n",
       "      <td>0</td>\n",
       "      <td>15.0</td>\n",
       "      <td>0.830000</td>\n",
       "    </tr>\n",
       "    <tr>\n",
       "      <th>110</th>\n",
       "      <td>2015-01-07</td>\n",
       "      <td>Quarter1</td>\n",
       "      <td>finishing</td>\n",
       "      <td>Wednesday</td>\n",
       "      <td>4</td>\n",
       "      <td>0.80</td>\n",
       "      <td>3.94</td>\n",
       "      <td>0.0</td>\n",
       "      <td>4440</td>\n",
       "      <td>0</td>\n",
       "      <td>0.0</td>\n",
       "      <td>0</td>\n",
       "      <td>0</td>\n",
       "      <td>18.0</td>\n",
       "      <td>0.827187</td>\n",
       "    </tr>\n",
       "  </tbody>\n",
       "</table>\n",
       "</div>"
      ],
      "text/plain": [
       "          date   quarter  department        day  team  targeted_productivity  \\\n",
       "1   2015-01-01  Quarter1  finishing    Thursday     1                   0.75   \n",
       "6   2015-01-01  Quarter1  finishing    Thursday     2                   0.75   \n",
       "13  2015-01-01  Quarter1  finishing    Thursday    10                   0.65   \n",
       "14  2015-01-01  Quarter1  finishing    Thursday     8                   0.75   \n",
       "15  2015-01-01  Quarter1  finishing    Thursday     4                   0.75   \n",
       "16  2015-01-01  Quarter1  finishing    Thursday     7                   0.80   \n",
       "17  2015-01-01  Quarter1      sweing   Thursday     4                   0.65   \n",
       "18  2015-01-01  Quarter1   finishing   Thursday    11                   0.70   \n",
       "19  2015-01-03  Quarter1  finishing    Saturday     4                   0.80   \n",
       "20  2015-01-03  Quarter1  finishing    Saturday    11                   0.75   \n",
       "21  2015-01-03  Quarter1  finishing    Saturday     9                   0.80   \n",
       "22  2015-01-03  Quarter1  finishing    Saturday     3                   0.75   \n",
       "23  2015-01-03  Quarter1  finishing    Saturday     1                   0.80   \n",
       "33  2015-01-03  Quarter1  finishing    Saturday     2                   0.80   \n",
       "35  2015-01-03  Quarter1  finishing    Saturday    10                   0.70   \n",
       "36  2015-01-03  Quarter1      sweing   Saturday     4                   0.70   \n",
       "38  2015-01-03  Quarter1  finishing    Saturday     8                   0.80   \n",
       "39  2015-01-03  Quarter1  finishing    Saturday     7                   0.80   \n",
       "40  2015-01-04  Quarter1  finishing      Sunday     3                   0.75   \n",
       "41  2015-01-04  Quarter1  finishing      Sunday     9                   0.80   \n",
       "42  2015-01-04  Quarter1  finishing      Sunday     1                   0.80   \n",
       "44  2015-01-04  Quarter1  finishing      Sunday     4                   0.80   \n",
       "52  2015-01-04  Quarter1  finishing      Sunday     2                   0.80   \n",
       "53  2015-01-04  Quarter1  finishing      Sunday    10                   0.70   \n",
       "57  2015-01-04  Quarter1  finishing      Sunday     8                   0.80   \n",
       "58  2015-01-04  Quarter1  finishing      Sunday     7                   0.80   \n",
       "60  2015-01-04  Quarter1  finishing      Sunday    11                   0.75   \n",
       "61  2015-01-05  Quarter1  finishing      Monday     1                   0.80   \n",
       "62  2015-01-05  Quarter1  finishing      Monday    11                   0.80   \n",
       "63  2015-01-05  Quarter1  finishing      Monday     4                   0.80   \n",
       "64  2015-01-05  Quarter1  finishing      Monday     3                   0.75   \n",
       "66  2015-01-05  Quarter1  finishing      Monday     9                   0.80   \n",
       "67  2015-01-05  Quarter1  finishing      Monday     2                   0.80   \n",
       "76  2015-01-05  Quarter1  finishing      Monday    10                   0.75   \n",
       "77  2015-01-05  Quarter1  finishing      Monday     5                   0.60   \n",
       "80  2015-01-05  Quarter1  finishing      Monday     7                   0.80   \n",
       "81  2015-01-05  Quarter1  finishing      Monday     8                   0.80   \n",
       "83  2015-01-06  Quarter1  finishing     Tuesday     4                   0.80   \n",
       "84  2015-01-06  Quarter1  finishing     Tuesday     1                   0.80   \n",
       "85  2015-01-06  Quarter1  finishing     Tuesday     3                   0.75   \n",
       "86  2015-01-06  Quarter1  finishing     Tuesday    11                   0.80   \n",
       "87  2015-01-06  Quarter1  finishing     Tuesday     9                   0.80   \n",
       "90  2015-01-06  Quarter1  finishing     Tuesday    10                   0.75   \n",
       "91  2015-01-06  Quarter1  finishing     Tuesday     2                   0.80   \n",
       "101 2015-01-06  Quarter1  finishing     Tuesday     8                   0.80   \n",
       "103 2015-01-06  Quarter1  finishing     Tuesday     7                   0.80   \n",
       "104 2015-01-07  Quarter1  finishing   Wednesday     1                   0.80   \n",
       "105 2015-01-07  Quarter1  finishing   Wednesday     9                   0.80   \n",
       "109 2015-01-07  Quarter1  finishing   Wednesday     3                   0.75   \n",
       "110 2015-01-07  Quarter1  finishing   Wednesday     4                   0.80   \n",
       "\n",
       "       smv    wip  over_time  incentive  idle_time  idle_men  \\\n",
       "1     3.94    0.0        960          0        0.0         0   \n",
       "6     3.94    0.0        960          0        0.0         0   \n",
       "13    3.94    0.0        960          0        0.0         0   \n",
       "14    2.90    0.0        960          0        0.0         0   \n",
       "15    3.94    0.0       2160          0        0.0         0   \n",
       "16    2.90    0.0        960          0        0.0         0   \n",
       "17   23.69  861.0       7200          0        0.0         0   \n",
       "18    4.15    0.0       1440          0        0.0         0   \n",
       "19    4.15    0.0       6600          0        0.0         0   \n",
       "20    2.90    0.0       5640          0        0.0         0   \n",
       "21    4.15    0.0        960          0        0.0         0   \n",
       "22    3.94    0.0       1560          0        0.0         0   \n",
       "23    3.94    0.0        960          0        0.0         0   \n",
       "33    4.15    0.0        960          0        0.0         0   \n",
       "35    4.15    0.0        960          0        0.0         0   \n",
       "36   23.69  544.0      13800          0        0.0         0   \n",
       "38    2.90    0.0        960          0        0.0         0   \n",
       "39    3.94    0.0        960          0        0.0         0   \n",
       "40    4.15    0.0       1560          0        0.0         0   \n",
       "41    3.94    0.0        960          0        0.0         0   \n",
       "42    3.94    0.0        960          0        0.0         0   \n",
       "44    3.94    0.0       6600          0        0.0         0   \n",
       "52    3.94    0.0        960          0        0.0         0   \n",
       "53    3.94    0.0       4320          0        0.0         0   \n",
       "57    2.90    0.0        960          0        0.0         0   \n",
       "58    2.90    0.0        960          0        0.0         0   \n",
       "60    4.15    0.0        960          0        0.0         0   \n",
       "61    3.94    0.0       1920          0        0.0         0   \n",
       "62    3.94    0.0       2400          0        0.0         0   \n",
       "63    3.94    0.0       3840          0        0.0         0   \n",
       "64    4.15    0.0       1920          0        0.0         0   \n",
       "66    2.90    0.0       1920          0        0.0         0   \n",
       "67    3.94    0.0        960          0        0.0         0   \n",
       "76    2.90    0.0        960          0        0.0         0   \n",
       "77    2.90    0.0        960          0        0.0         0   \n",
       "80    3.94    0.0        960          0        0.0         0   \n",
       "81    2.90    0.0        960          0        0.0         0   \n",
       "83    3.94    0.0       4440          0        0.0         0   \n",
       "84    3.94    0.0       1440          0        0.0         0   \n",
       "85    4.15    0.0       1800          0        0.0         0   \n",
       "86    4.15    0.0       2700          0        0.0         0   \n",
       "87    3.94    0.0       1440          0        0.0         0   \n",
       "90    3.94    0.0       1440          0        0.0         0   \n",
       "91    3.94    0.0       1440          0        0.0         0   \n",
       "101   2.90    0.0       1440          0        0.0         0   \n",
       "103   2.90    0.0       1440          0        0.0         0   \n",
       "104   3.94    0.0       1440          0        0.0         0   \n",
       "105   3.94    0.0       1440          0        0.0         0   \n",
       "109   4.15    0.0       2700          0        0.0         0   \n",
       "110   3.94    0.0       4440          0        0.0         0   \n",
       "\n",
       "     no_of_style_change  no_of_workers  actual_productivity  \n",
       "1                     0            8.0             0.886500  \n",
       "6                     0            8.0             0.755167  \n",
       "13                    0            8.0             0.705917  \n",
       "14                    0            8.0             0.676667  \n",
       "15                    0           18.0             0.593056  \n",
       "16                    0            8.0             0.540729  \n",
       "17                    0           60.0             0.521180  \n",
       "18                    0           12.0             0.436326  \n",
       "19                    0           20.0             0.988025  \n",
       "20                    0           17.0             0.987880  \n",
       "21                    0            8.0             0.956271  \n",
       "22                    0            8.0             0.945278  \n",
       "23                    0            8.0             0.902917  \n",
       "33                    0            8.0             0.782448  \n",
       "35                    0            8.0             0.701812  \n",
       "36                    0           60.0             0.700134  \n",
       "38                    0            8.0             0.628333  \n",
       "39                    0            8.0             0.625313  \n",
       "40                    0            8.0             0.991389  \n",
       "41                    0            8.0             0.931646  \n",
       "42                    0            8.0             0.915229  \n",
       "44                    0           20.0             0.861679  \n",
       "52                    0            8.0             0.792104  \n",
       "53                    0           18.0             0.759228  \n",
       "57                    0            8.0             0.682708  \n",
       "58                    0            8.0             0.667604  \n",
       "60                    0            8.0             0.345833  \n",
       "61                    0            8.0             0.961059  \n",
       "62                    0           10.0             0.939514  \n",
       "63                    0           16.0             0.893663  \n",
       "64                    0            8.0             0.875391  \n",
       "66                    0            8.0             0.820833  \n",
       "67                    0            8.0             0.804417  \n",
       "76                    0            8.0             0.763375  \n",
       "77                    0            8.0             0.759271  \n",
       "80                    0            8.0             0.676667  \n",
       "81                    0            8.0             0.664583  \n",
       "83                    0           18.0             0.966781  \n",
       "84                    0            8.0             0.936496  \n",
       "85                    0           10.0             0.899167  \n",
       "86                    0           15.0             0.888687  \n",
       "87                    0            8.0             0.858144  \n",
       "90                    0            8.0             0.809640  \n",
       "91                    0            8.0             0.805909  \n",
       "101                   0            8.0             0.681061  \n",
       "103                   0            8.0             0.616250  \n",
       "104                   0            8.0             0.951420  \n",
       "105                   0            8.0             0.880530  \n",
       "109                   0           15.0             0.830000  \n",
       "110                   0           18.0             0.827187  "
      ]
     },
     "execution_count": 77,
     "metadata": {},
     "output_type": "execute_result"
    }
   ],
   "source": [
    "garment_prod_inc = garment_prod.loc[garment_prod['incentive'] > 0]\n",
    "garment_prod_inc = garment_prod_inc.loc[garment_prod['incentive'] < 500]\n",
    "garment_prod_noinc = garment_prod.loc[garment_prod['incentive'] == 0]\n",
    "garment_prod_noinc.head(50)"
   ]
  },
  {
   "cell_type": "code",
   "execution_count": 78,
   "id": "2df14908",
   "metadata": {},
   "outputs": [
    {
     "data": {
      "text/plain": [
       "<AxesSubplot:xlabel='smv', ylabel='actual_productivity'>"
      ]
     },
     "execution_count": 78,
     "metadata": {},
     "output_type": "execute_result"
    },
    {
     "data": {
      "image/png": "[encoded data removed]",
      "text/plain": [
       "<Figure size 432x288 with 1 Axes>"
      ]
     },
     "metadata": {
      "needs_background": "light"
     },
     "output_type": "display_data"
    }
   ],
   "source": [
    "garment_prod_inc.plot.scatter(x='smv', y='actual_productivity', alpha = 0.15)"
   ]
  },
  {
   "cell_type": "code",
   "execution_count": 79,
   "id": "b8b4e32c",
   "metadata": {},
   "outputs": [],
   "source": [
    "# calculate average daily productivity when no incentive offered.\n",
    "daily_productivity_noinc = garment_prod_noinc.groupby('date').actual_productivity.mean()\n",
    "avg_daily_productivity_noinc = daily_productivity_noinc.mean()"
   ]
  },
  {
   "cell_type": "code",
   "execution_count": 80,
   "id": "952e9775",
   "metadata": {},
   "outputs": [
    {
     "data": {
      "text/html": [
       "<div>\n",
       "<style scoped>\n",
       "    .dataframe tbody tr th:only-of-type {\n",
       "        vertical-align: middle;\n",
       "    }\n",
       "\n",
       "    .dataframe tbody tr th {\n",
       "        vertical-align: top;\n",
       "    }\n",
       "\n",
       "    .dataframe thead th {\n",
       "        text-align: right;\n",
       "    }\n",
       "</style>\n",
       "<table border=\"1\" class=\"dataframe\">\n",
       "  <thead>\n",
       "    <tr style=\"text-align: right;\">\n",
       "      <th></th>\n",
       "      <th>date</th>\n",
       "      <th>quarter</th>\n",
       "      <th>department</th>\n",
       "      <th>day</th>\n",
       "      <th>team</th>\n",
       "      <th>targeted_productivity</th>\n",
       "      <th>smv</th>\n",
       "      <th>wip</th>\n",
       "      <th>over_time</th>\n",
       "      <th>incentive</th>\n",
       "      <th>idle_time</th>\n",
       "      <th>idle_men</th>\n",
       "      <th>no_of_style_change</th>\n",
       "      <th>no_of_workers</th>\n",
       "      <th>actual_productivity</th>\n",
       "    </tr>\n",
       "  </thead>\n",
       "  <tbody>\n",
       "    <tr>\n",
       "      <th>1</th>\n",
       "      <td>2015-01-01</td>\n",
       "      <td>Quarter1</td>\n",
       "      <td>finishing</td>\n",
       "      <td>Thursday</td>\n",
       "      <td>1</td>\n",
       "      <td>0.75</td>\n",
       "      <td>3.94</td>\n",
       "      <td>0.0</td>\n",
       "      <td>960</td>\n",
       "      <td>0.712347</td>\n",
       "      <td>0.0</td>\n",
       "      <td>0</td>\n",
       "      <td>0</td>\n",
       "      <td>8.0</td>\n",
       "      <td>0.886500</td>\n",
       "    </tr>\n",
       "    <tr>\n",
       "      <th>6</th>\n",
       "      <td>2015-01-01</td>\n",
       "      <td>Quarter1</td>\n",
       "      <td>finishing</td>\n",
       "      <td>Thursday</td>\n",
       "      <td>2</td>\n",
       "      <td>0.75</td>\n",
       "      <td>3.94</td>\n",
       "      <td>0.0</td>\n",
       "      <td>960</td>\n",
       "      <td>0.712347</td>\n",
       "      <td>0.0</td>\n",
       "      <td>0</td>\n",
       "      <td>0</td>\n",
       "      <td>8.0</td>\n",
       "      <td>0.755167</td>\n",
       "    </tr>\n",
       "    <tr>\n",
       "      <th>13</th>\n",
       "      <td>2015-01-01</td>\n",
       "      <td>Quarter1</td>\n",
       "      <td>finishing</td>\n",
       "      <td>Thursday</td>\n",
       "      <td>10</td>\n",
       "      <td>0.65</td>\n",
       "      <td>3.94</td>\n",
       "      <td>0.0</td>\n",
       "      <td>960</td>\n",
       "      <td>0.712347</td>\n",
       "      <td>0.0</td>\n",
       "      <td>0</td>\n",
       "      <td>0</td>\n",
       "      <td>8.0</td>\n",
       "      <td>0.705917</td>\n",
       "    </tr>\n",
       "    <tr>\n",
       "      <th>14</th>\n",
       "      <td>2015-01-01</td>\n",
       "      <td>Quarter1</td>\n",
       "      <td>finishing</td>\n",
       "      <td>Thursday</td>\n",
       "      <td>8</td>\n",
       "      <td>0.75</td>\n",
       "      <td>2.90</td>\n",
       "      <td>0.0</td>\n",
       "      <td>960</td>\n",
       "      <td>0.712347</td>\n",
       "      <td>0.0</td>\n",
       "      <td>0</td>\n",
       "      <td>0</td>\n",
       "      <td>8.0</td>\n",
       "      <td>0.676667</td>\n",
       "    </tr>\n",
       "    <tr>\n",
       "      <th>15</th>\n",
       "      <td>2015-01-01</td>\n",
       "      <td>Quarter1</td>\n",
       "      <td>finishing</td>\n",
       "      <td>Thursday</td>\n",
       "      <td>4</td>\n",
       "      <td>0.75</td>\n",
       "      <td>3.94</td>\n",
       "      <td>0.0</td>\n",
       "      <td>2160</td>\n",
       "      <td>0.712347</td>\n",
       "      <td>0.0</td>\n",
       "      <td>0</td>\n",
       "      <td>0</td>\n",
       "      <td>18.0</td>\n",
       "      <td>0.593056</td>\n",
       "    </tr>\n",
       "  </tbody>\n",
       "</table>\n",
       "</div>"
      ],
      "text/plain": [
       "         date   quarter  department       day  team  targeted_productivity  \\\n",
       "1  2015-01-01  Quarter1  finishing   Thursday     1                   0.75   \n",
       "6  2015-01-01  Quarter1  finishing   Thursday     2                   0.75   \n",
       "13 2015-01-01  Quarter1  finishing   Thursday    10                   0.65   \n",
       "14 2015-01-01  Quarter1  finishing   Thursday     8                   0.75   \n",
       "15 2015-01-01  Quarter1  finishing   Thursday     4                   0.75   \n",
       "\n",
       "     smv  wip  over_time  incentive  idle_time  idle_men  no_of_style_change  \\\n",
       "1   3.94  0.0        960   0.712347        0.0         0                   0   \n",
       "6   3.94  0.0        960   0.712347        0.0         0                   0   \n",
       "13  3.94  0.0        960   0.712347        0.0         0                   0   \n",
       "14  2.90  0.0        960   0.712347        0.0         0                   0   \n",
       "15  3.94  0.0       2160   0.712347        0.0         0                   0   \n",
       "\n",
       "    no_of_workers  actual_productivity  \n",
       "1             8.0             0.886500  \n",
       "6             8.0             0.755167  \n",
       "13            8.0             0.705917  \n",
       "14            8.0             0.676667  \n",
       "15           18.0             0.593056  "
      ]
     },
     "execution_count": 80,
     "metadata": {},
     "output_type": "execute_result"
    }
   ],
   "source": [
    "# Assign average incentive to rows where there was no incentive.\n",
    "garment_prod_noinc['incentive'].replace(0, avg_daily_productivity_noinc, inplace = True)\n",
    "garment_prod_noinc.head()"
   ]
  },
  {
   "cell_type": "code",
   "execution_count": 81,
   "id": "d047f47f",
   "metadata": {
    "scrolled": true
   },
   "outputs": [
    {
     "data": {
      "text/html": [
       "<div>\n",
       "<style scoped>\n",
       "    .dataframe tbody tr th:only-of-type {\n",
       "        vertical-align: middle;\n",
       "    }\n",
       "\n",
       "    .dataframe tbody tr th {\n",
       "        vertical-align: top;\n",
       "    }\n",
       "\n",
       "    .dataframe thead th {\n",
       "        text-align: right;\n",
       "    }\n",
       "</style>\n",
       "<table border=\"1\" class=\"dataframe\">\n",
       "  <thead>\n",
       "    <tr style=\"text-align: right;\">\n",
       "      <th></th>\n",
       "      <th>team</th>\n",
       "      <th>targeted_productivity</th>\n",
       "      <th>smv</th>\n",
       "      <th>wip</th>\n",
       "      <th>over_time</th>\n",
       "      <th>incentive</th>\n",
       "      <th>idle_time</th>\n",
       "      <th>idle_men</th>\n",
       "      <th>no_of_style_change</th>\n",
       "      <th>no_of_workers</th>\n",
       "      <th>actual_productivity</th>\n",
       "    </tr>\n",
       "  </thead>\n",
       "  <tbody>\n",
       "    <tr>\n",
       "      <th>count</th>\n",
       "      <td>583.00000</td>\n",
       "      <td>583.000000</td>\n",
       "      <td>583.000000</td>\n",
       "      <td>583.000000</td>\n",
       "      <td>583.000000</td>\n",
       "      <td>583.000000</td>\n",
       "      <td>583.000000</td>\n",
       "      <td>583.000000</td>\n",
       "      <td>583.000000</td>\n",
       "      <td>583.000000</td>\n",
       "      <td>583.000000</td>\n",
       "    </tr>\n",
       "    <tr>\n",
       "      <th>mean</th>\n",
       "      <td>6.58319</td>\n",
       "      <td>0.735334</td>\n",
       "      <td>22.931852</td>\n",
       "      <td>1250.025729</td>\n",
       "      <td>6609.399657</td>\n",
       "      <td>52.723842</td>\n",
       "      <td>0.285592</td>\n",
       "      <td>0.171527</td>\n",
       "      <td>0.214408</td>\n",
       "      <td>52.215266</td>\n",
       "      <td>0.758365</td>\n",
       "    </tr>\n",
       "    <tr>\n",
       "      <th>std</th>\n",
       "      <td>3.59785</td>\n",
       "      <td>0.091963</td>\n",
       "      <td>7.065409</td>\n",
       "      <td>1984.219356</td>\n",
       "      <td>2953.371665</td>\n",
       "      <td>21.625862</td>\n",
       "      <td>6.219593</td>\n",
       "      <td>1.822373</td>\n",
       "      <td>0.511381</td>\n",
       "      <td>9.737291</td>\n",
       "      <td>0.123125</td>\n",
       "    </tr>\n",
       "    <tr>\n",
       "      <th>min</th>\n",
       "      <td>1.00000</td>\n",
       "      <td>0.350000</td>\n",
       "      <td>10.050000</td>\n",
       "      <td>7.000000</td>\n",
       "      <td>0.000000</td>\n",
       "      <td>21.000000</td>\n",
       "      <td>0.000000</td>\n",
       "      <td>0.000000</td>\n",
       "      <td>0.000000</td>\n",
       "      <td>26.000000</td>\n",
       "      <td>0.311207</td>\n",
       "    </tr>\n",
       "    <tr>\n",
       "      <th>25%</th>\n",
       "      <td>3.00000</td>\n",
       "      <td>0.700000</td>\n",
       "      <td>18.790000</td>\n",
       "      <td>827.000000</td>\n",
       "      <td>4455.000000</td>\n",
       "      <td>38.000000</td>\n",
       "      <td>0.000000</td>\n",
       "      <td>0.000000</td>\n",
       "      <td>0.000000</td>\n",
       "      <td>52.000000</td>\n",
       "      <td>0.700507</td>\n",
       "    </tr>\n",
       "    <tr>\n",
       "      <th>50%</th>\n",
       "      <td>6.00000</td>\n",
       "      <td>0.750000</td>\n",
       "      <td>22.520000</td>\n",
       "      <td>1065.000000</td>\n",
       "      <td>6840.000000</td>\n",
       "      <td>50.000000</td>\n",
       "      <td>0.000000</td>\n",
       "      <td>0.000000</td>\n",
       "      <td>0.000000</td>\n",
       "      <td>57.000000</td>\n",
       "      <td>0.800015</td>\n",
       "    </tr>\n",
       "    <tr>\n",
       "      <th>75%</th>\n",
       "      <td>10.00000</td>\n",
       "      <td>0.800000</td>\n",
       "      <td>27.480000</td>\n",
       "      <td>1263.000000</td>\n",
       "      <td>9540.000000</td>\n",
       "      <td>63.000000</td>\n",
       "      <td>0.000000</td>\n",
       "      <td>0.000000</td>\n",
       "      <td>0.000000</td>\n",
       "      <td>58.000000</td>\n",
       "      <td>0.800594</td>\n",
       "    </tr>\n",
       "    <tr>\n",
       "      <th>max</th>\n",
       "      <td>12.00000</td>\n",
       "      <td>0.800000</td>\n",
       "      <td>54.560000</td>\n",
       "      <td>23122.000000</td>\n",
       "      <td>25920.000000</td>\n",
       "      <td>138.000000</td>\n",
       "      <td>150.000000</td>\n",
       "      <td>30.000000</td>\n",
       "      <td>2.000000</td>\n",
       "      <td>89.000000</td>\n",
       "      <td>1.100484</td>\n",
       "    </tr>\n",
       "  </tbody>\n",
       "</table>\n",
       "</div>"
      ],
      "text/plain": [
       "            team  targeted_productivity         smv           wip  \\\n",
       "count  583.00000             583.000000  583.000000    583.000000   \n",
       "mean     6.58319               0.735334   22.931852   1250.025729   \n",
       "std      3.59785               0.091963    7.065409   1984.219356   \n",
       "min      1.00000               0.350000   10.050000      7.000000   \n",
       "25%      3.00000               0.700000   18.790000    827.000000   \n",
       "50%      6.00000               0.750000   22.520000   1065.000000   \n",
       "75%     10.00000               0.800000   27.480000   1263.000000   \n",
       "max     12.00000               0.800000   54.560000  23122.000000   \n",
       "\n",
       "          over_time   incentive   idle_time    idle_men  no_of_style_change  \\\n",
       "count    583.000000  583.000000  583.000000  583.000000          583.000000   \n",
       "mean    6609.399657   52.723842    0.285592    0.171527            0.214408   \n",
       "std     2953.371665   21.625862    6.219593    1.822373            0.511381   \n",
       "min        0.000000   21.000000    0.000000    0.000000            0.000000   \n",
       "25%     4455.000000   38.000000    0.000000    0.000000            0.000000   \n",
       "50%     6840.000000   50.000000    0.000000    0.000000            0.000000   \n",
       "75%     9540.000000   63.000000    0.000000    0.000000            0.000000   \n",
       "max    25920.000000  138.000000  150.000000   30.000000            2.000000   \n",
       "\n",
       "       no_of_workers  actual_productivity  \n",
       "count     583.000000           583.000000  \n",
       "mean       52.215266             0.758365  \n",
       "std         9.737291             0.123125  \n",
       "min        26.000000             0.311207  \n",
       "25%        52.000000             0.700507  \n",
       "50%        57.000000             0.800015  \n",
       "75%        58.000000             0.800594  \n",
       "max        89.000000             1.100484  "
      ]
     },
     "execution_count": 81,
     "metadata": {},
     "output_type": "execute_result"
    }
   ],
   "source": [
    "garment_prod_inc.describe()"
   ]
  },
  {
   "cell_type": "markdown",
   "id": "55a2233f",
   "metadata": {},
   "source": [
    "Next, group predictor columns according to data type into three dataframes for preprocessing: nominal categorical, ordinal categorical, & numerical. "
   ]
  },
  {
   "cell_type": "code",
   "execution_count": 82,
   "id": "65b7ebf3",
   "metadata": {},
   "outputs": [
    {
     "name": "stdout",
     "output_type": "stream",
     "text": [
      "<class 'pandas.core.frame.DataFrame'>\n",
      "Int64Index: 583 entries, 0 to 1191\n",
      "Data columns (total 2 columns):\n",
      " #   Column      Non-Null Count  Dtype \n",
      "---  ------      --------------  ----- \n",
      " 0   department  583 non-null    object\n",
      " 1   team        583 non-null    int64 \n",
      "dtypes: int64(1), object(1)\n",
      "memory usage: 13.7+ KB\n"
     ]
    }
   ],
   "source": [
    "# Select nominal categorical columns for encoding.\n",
    "garment_nominal_inc = garment_prod_inc[['department', 'team']]\n",
    "garment_nominal_noinc = garment_prod_noinc[['department', 'team']]\n",
    "garment_nominal_inc.info()"
   ]
  },
  {
   "cell_type": "code",
   "execution_count": 83,
   "id": "8b9c5c78",
   "metadata": {},
   "outputs": [
    {
     "name": "stdout",
     "output_type": "stream",
     "text": [
      "<class 'pandas.core.frame.DataFrame'>\n",
      "Int64Index: 583 entries, 0 to 1191\n",
      "Data columns (total 3 columns):\n",
      " #   Column   Non-Null Count  Dtype         \n",
      "---  ------   --------------  -----         \n",
      " 0   date     583 non-null    datetime64[ns]\n",
      " 1   quarter  583 non-null    object        \n",
      " 2   day      583 non-null    object        \n",
      "dtypes: datetime64[ns](1), object(2)\n",
      "memory usage: 18.2+ KB\n"
     ]
    }
   ],
   "source": [
    "# Select ordinal categorical columns for encoding.\n",
    "garment_ordinal_inc = garment_prod_inc[['date', 'quarter', 'day']]\n",
    "garment_ordinal_noinc = garment_prod_noinc[['date', 'quarter', 'day']]\n",
    "garment_ordinal_inc.info()"
   ]
  },
  {
   "cell_type": "code",
   "execution_count": 84,
   "id": "9ebe3110",
   "metadata": {},
   "outputs": [
    {
     "name": "stdout",
     "output_type": "stream",
     "text": [
      "<class 'pandas.core.frame.DataFrame'>\n",
      "Int64Index: 583 entries, 0 to 1191\n",
      "Data columns (total 10 columns):\n",
      " #   Column                 Non-Null Count  Dtype  \n",
      "---  ------                 --------------  -----  \n",
      " 0   targeted_productivity  583 non-null    float64\n",
      " 1   smv                    583 non-null    float64\n",
      " 2   wip                    583 non-null    float64\n",
      " 3   over_time              583 non-null    int64  \n",
      " 4   incentive              583 non-null    int64  \n",
      " 5   idle_time              583 non-null    float64\n",
      " 6   idle_men               583 non-null    int64  \n",
      " 7   no_of_style_change     583 non-null    int64  \n",
      " 8   no_of_workers          583 non-null    float64\n",
      " 9   actual_productivity    583 non-null    float64\n",
      "dtypes: float64(6), int64(4)\n",
      "memory usage: 50.1 KB\n"
     ]
    }
   ],
   "source": [
    "# Select numerical columns.\n",
    "garment_numerical_inc = garment_prod_inc.iloc[:, 5:]\n",
    "garment_numerical_noinc = garment_prod_noinc.iloc[:, 5:]\n",
    "garment_numerical_inc.info()"
   ]
  },
  {
   "cell_type": "markdown",
   "id": "fcdd5ca2",
   "metadata": {},
   "source": [
    "Encode nominal features, 'department' and 'team', using One Hot. First, check number of categories in each of these columns."
   ]
  },
  {
   "cell_type": "code",
   "execution_count": 85,
   "id": "64a7c375",
   "metadata": {},
   "outputs": [
    {
     "data": {
      "text/plain": [
       "array(['sweing'], dtype=object)"
      ]
     },
     "execution_count": 85,
     "metadata": {},
     "output_type": "execute_result"
    }
   ],
   "source": [
    "garment_nominal_inc.iloc[:, 0].unique()"
   ]
  },
  {
   "cell_type": "code",
   "execution_count": 86,
   "id": "9e0f1bb9",
   "metadata": {},
   "outputs": [
    {
     "data": {
      "text/plain": [
       "array(['finishing ', 'sweing', 'finishing'], dtype=object)"
      ]
     },
     "execution_count": 86,
     "metadata": {},
     "output_type": "execute_result"
    }
   ],
   "source": [
    "garment_nominal_noinc.iloc[:, 0].unique()"
   ]
  },
  {
   "cell_type": "code",
   "execution_count": 87,
   "id": "d7fa3ad5",
   "metadata": {},
   "outputs": [
    {
     "data": {
      "text/plain": [
       "array(['finishing', 'sewing'], dtype=object)"
      ]
     },
     "execution_count": 87,
     "metadata": {},
     "output_type": "execute_result"
    }
   ],
   "source": [
    "garment_nominal_noinc.iloc[:, 0].replace({'sweing': 'sewing', 'finishing ': 'finishing'}, inplace=True)\n",
    "garment_nominal_noinc.iloc[:, 0].unique()"
   ]
  },
  {
   "cell_type": "markdown",
   "id": "cc4c857b",
   "metadata": {},
   "source": [
    "In garment_nominal_inc these rows only have 'sewing' for 'department' feature, so delete column."
   ]
  },
  {
   "cell_type": "code",
   "execution_count": 88,
   "id": "4a223a70",
   "metadata": {},
   "outputs": [
    {
     "name": "stdout",
     "output_type": "stream",
     "text": [
      "<class 'pandas.core.frame.DataFrame'>\n",
      "Int64Index: 583 entries, 0 to 1191\n",
      "Data columns (total 1 columns):\n",
      " #   Column  Non-Null Count  Dtype\n",
      "---  ------  --------------  -----\n",
      " 0   team    583 non-null    int64\n",
      "dtypes: int64(1)\n",
      "memory usage: 9.1 KB\n"
     ]
    }
   ],
   "source": [
    "garment_nominal_inc.drop(columns = ['department'], inplace = True)\n",
    "garment_nominal_inc.info()"
   ]
  },
  {
   "cell_type": "code",
   "execution_count": 89,
   "id": "f519d5e4",
   "metadata": {},
   "outputs": [
    {
     "data": {
      "text/plain": [
       "array([ 1,  2,  3,  4,  5,  6,  7,  8,  9, 10, 11, 12], dtype=int64)"
      ]
     },
     "execution_count": 89,
     "metadata": {},
     "output_type": "execute_result"
    }
   ],
   "source": [
    "team_categories_inc = garment_nominal_inc['team'].unique()\n",
    "team_categories_inc.sort(axis=0)\n",
    "team_categories_inc"
   ]
  },
  {
   "cell_type": "markdown",
   "id": "41383fb6",
   "metadata": {},
   "source": [
    "Utilize get_dummies to encode nominal columns using OHE. Function drops orgininal columns."
   ]
  },
  {
   "cell_type": "code",
   "execution_count": 90,
   "id": "58476c0b",
   "metadata": {},
   "outputs": [
    {
     "data": {
      "text/html": [
       "<div>\n",
       "<style scoped>\n",
       "    .dataframe tbody tr th:only-of-type {\n",
       "        vertical-align: middle;\n",
       "    }\n",
       "\n",
       "    .dataframe tbody tr th {\n",
       "        vertical-align: top;\n",
       "    }\n",
       "\n",
       "    .dataframe thead th {\n",
       "        text-align: right;\n",
       "    }\n",
       "</style>\n",
       "<table border=\"1\" class=\"dataframe\">\n",
       "  <thead>\n",
       "    <tr style=\"text-align: right;\">\n",
       "      <th></th>\n",
       "      <th>team_1</th>\n",
       "      <th>team_2</th>\n",
       "      <th>team_3</th>\n",
       "      <th>team_4</th>\n",
       "      <th>team_5</th>\n",
       "      <th>team_6</th>\n",
       "      <th>team_7</th>\n",
       "      <th>team_8</th>\n",
       "      <th>team_9</th>\n",
       "      <th>team_10</th>\n",
       "      <th>team_11</th>\n",
       "      <th>team_12</th>\n",
       "    </tr>\n",
       "  </thead>\n",
       "  <tbody>\n",
       "    <tr>\n",
       "      <th>0</th>\n",
       "      <td>0</td>\n",
       "      <td>0</td>\n",
       "      <td>0</td>\n",
       "      <td>0</td>\n",
       "      <td>0</td>\n",
       "      <td>0</td>\n",
       "      <td>0</td>\n",
       "      <td>1</td>\n",
       "      <td>0</td>\n",
       "      <td>0</td>\n",
       "      <td>0</td>\n",
       "      <td>0</td>\n",
       "    </tr>\n",
       "    <tr>\n",
       "      <th>2</th>\n",
       "      <td>0</td>\n",
       "      <td>0</td>\n",
       "      <td>0</td>\n",
       "      <td>0</td>\n",
       "      <td>0</td>\n",
       "      <td>0</td>\n",
       "      <td>0</td>\n",
       "      <td>0</td>\n",
       "      <td>0</td>\n",
       "      <td>0</td>\n",
       "      <td>1</td>\n",
       "      <td>0</td>\n",
       "    </tr>\n",
       "    <tr>\n",
       "      <th>3</th>\n",
       "      <td>0</td>\n",
       "      <td>0</td>\n",
       "      <td>0</td>\n",
       "      <td>0</td>\n",
       "      <td>0</td>\n",
       "      <td>0</td>\n",
       "      <td>0</td>\n",
       "      <td>0</td>\n",
       "      <td>0</td>\n",
       "      <td>0</td>\n",
       "      <td>0</td>\n",
       "      <td>1</td>\n",
       "    </tr>\n",
       "    <tr>\n",
       "      <th>4</th>\n",
       "      <td>0</td>\n",
       "      <td>0</td>\n",
       "      <td>0</td>\n",
       "      <td>0</td>\n",
       "      <td>0</td>\n",
       "      <td>1</td>\n",
       "      <td>0</td>\n",
       "      <td>0</td>\n",
       "      <td>0</td>\n",
       "      <td>0</td>\n",
       "      <td>0</td>\n",
       "      <td>0</td>\n",
       "    </tr>\n",
       "    <tr>\n",
       "      <th>5</th>\n",
       "      <td>0</td>\n",
       "      <td>0</td>\n",
       "      <td>0</td>\n",
       "      <td>0</td>\n",
       "      <td>0</td>\n",
       "      <td>0</td>\n",
       "      <td>1</td>\n",
       "      <td>0</td>\n",
       "      <td>0</td>\n",
       "      <td>0</td>\n",
       "      <td>0</td>\n",
       "      <td>0</td>\n",
       "    </tr>\n",
       "  </tbody>\n",
       "</table>\n",
       "</div>"
      ],
      "text/plain": [
       "   team_1  team_2  team_3  team_4  team_5  team_6  team_7  team_8  team_9  \\\n",
       "0       0       0       0       0       0       0       0       1       0   \n",
       "2       0       0       0       0       0       0       0       0       0   \n",
       "3       0       0       0       0       0       0       0       0       0   \n",
       "4       0       0       0       0       0       1       0       0       0   \n",
       "5       0       0       0       0       0       0       1       0       0   \n",
       "\n",
       "   team_10  team_11  team_12  \n",
       "0        0        0        0  \n",
       "2        0        1        0  \n",
       "3        0        0        1  \n",
       "4        0        0        0  \n",
       "5        0        0        0  "
      ]
     },
     "execution_count": 90,
     "metadata": {},
     "output_type": "execute_result"
    }
   ],
   "source": [
    "garment_nom_encoded_inc = pd.get_dummies(garment_nominal_inc, columns = ['team'])\n",
    "garment_nom_encoded_noinc = pd.get_dummies(garment_nominal_noinc, columns = ['department', 'team'])\n",
    "garment_nom_encoded_inc.head()"
   ]
  },
  {
   "cell_type": "code",
   "execution_count": 91,
   "id": "b07db537",
   "metadata": {
    "scrolled": false
   },
   "outputs": [
    {
     "name": "stdout",
     "output_type": "stream",
     "text": [
      "<class 'pandas.core.frame.DataFrame'>\n",
      "Int64Index: 583 entries, 0 to 1191\n",
      "Data columns (total 12 columns):\n",
      " #   Column   Non-Null Count  Dtype\n",
      "---  ------   --------------  -----\n",
      " 0   team_1   583 non-null    uint8\n",
      " 1   team_2   583 non-null    uint8\n",
      " 2   team_3   583 non-null    uint8\n",
      " 3   team_4   583 non-null    uint8\n",
      " 4   team_5   583 non-null    uint8\n",
      " 5   team_6   583 non-null    uint8\n",
      " 6   team_7   583 non-null    uint8\n",
      " 7   team_8   583 non-null    uint8\n",
      " 8   team_9   583 non-null    uint8\n",
      " 9   team_10  583 non-null    uint8\n",
      " 10  team_11  583 non-null    uint8\n",
      " 11  team_12  583 non-null    uint8\n",
      "dtypes: uint8(12)\n",
      "memory usage: 11.4 KB\n",
      "<class 'pandas.core.frame.DataFrame'>\n",
      "Int64Index: 604 entries, 1 to 1196\n",
      "Data columns (total 14 columns):\n",
      " #   Column                Non-Null Count  Dtype\n",
      "---  ------                --------------  -----\n",
      " 0   department_finishing  604 non-null    uint8\n",
      " 1   department_sewing     604 non-null    uint8\n",
      " 2   team_1                604 non-null    uint8\n",
      " 3   team_2                604 non-null    uint8\n",
      " 4   team_3                604 non-null    uint8\n",
      " 5   team_4                604 non-null    uint8\n",
      " 6   team_5                604 non-null    uint8\n",
      " 7   team_6                604 non-null    uint8\n",
      " 8   team_7                604 non-null    uint8\n",
      " 9   team_8                604 non-null    uint8\n",
      " 10  team_9                604 non-null    uint8\n",
      " 11  team_10               604 non-null    uint8\n",
      " 12  team_11               604 non-null    uint8\n",
      " 13  team_12               604 non-null    uint8\n",
      "dtypes: uint8(14)\n",
      "memory usage: 13.0 KB\n"
     ]
    }
   ],
   "source": [
    "# Double check that all data were encoded.\n",
    "garment_nom_encoded_inc.info()\n",
    "garment_nom_encoded_noinc.info()"
   ]
  },
  {
   "cell_type": "markdown",
   "id": "8571aca6",
   "metadata": {},
   "source": [
    "Encode 'quarter' and 'day' using ordinal encoder. Use sequence of integers as values in dictionaries to map data in the \"quarter\" and \"day\" columns to integers in new columns."
   ]
  },
  {
   "cell_type": "code",
   "execution_count": 92,
   "id": "ac647b60",
   "metadata": {},
   "outputs": [
    {
     "data": {
      "text/html": [
       "<div>\n",
       "<style scoped>\n",
       "    .dataframe tbody tr th:only-of-type {\n",
       "        vertical-align: middle;\n",
       "    }\n",
       "\n",
       "    .dataframe tbody tr th {\n",
       "        vertical-align: top;\n",
       "    }\n",
       "\n",
       "    .dataframe thead th {\n",
       "        text-align: right;\n",
       "    }\n",
       "</style>\n",
       "<table border=\"1\" class=\"dataframe\">\n",
       "  <thead>\n",
       "    <tr style=\"text-align: right;\">\n",
       "      <th></th>\n",
       "      <th>date</th>\n",
       "      <th>quarter</th>\n",
       "      <th>day</th>\n",
       "      <th>quarter_ordinal</th>\n",
       "      <th>day_ordinal</th>\n",
       "    </tr>\n",
       "  </thead>\n",
       "  <tbody>\n",
       "    <tr>\n",
       "      <th>1</th>\n",
       "      <td>2015-01-01</td>\n",
       "      <td>Quarter1</td>\n",
       "      <td>Thursday</td>\n",
       "      <td>1</td>\n",
       "      <td>4</td>\n",
       "    </tr>\n",
       "    <tr>\n",
       "      <th>6</th>\n",
       "      <td>2015-01-01</td>\n",
       "      <td>Quarter1</td>\n",
       "      <td>Thursday</td>\n",
       "      <td>1</td>\n",
       "      <td>4</td>\n",
       "    </tr>\n",
       "    <tr>\n",
       "      <th>13</th>\n",
       "      <td>2015-01-01</td>\n",
       "      <td>Quarter1</td>\n",
       "      <td>Thursday</td>\n",
       "      <td>1</td>\n",
       "      <td>4</td>\n",
       "    </tr>\n",
       "    <tr>\n",
       "      <th>14</th>\n",
       "      <td>2015-01-01</td>\n",
       "      <td>Quarter1</td>\n",
       "      <td>Thursday</td>\n",
       "      <td>1</td>\n",
       "      <td>4</td>\n",
       "    </tr>\n",
       "    <tr>\n",
       "      <th>15</th>\n",
       "      <td>2015-01-01</td>\n",
       "      <td>Quarter1</td>\n",
       "      <td>Thursday</td>\n",
       "      <td>1</td>\n",
       "      <td>4</td>\n",
       "    </tr>\n",
       "  </tbody>\n",
       "</table>\n",
       "</div>"
      ],
      "text/plain": [
       "         date   quarter       day  quarter_ordinal  day_ordinal\n",
       "1  2015-01-01  Quarter1  Thursday                1            4\n",
       "6  2015-01-01  Quarter1  Thursday                1            4\n",
       "13 2015-01-01  Quarter1  Thursday                1            4\n",
       "14 2015-01-01  Quarter1  Thursday                1            4\n",
       "15 2015-01-01  Quarter1  Thursday                1            4"
      ]
     },
     "execution_count": 92,
     "metadata": {},
     "output_type": "execute_result"
    }
   ],
   "source": [
    "# turn off chained assignments warning (false positive) because mapping to new columns is working.\n",
    "pd.set_option('chained_assignment', None)\n",
    "Quarter_dict_inc = {'Quarter1': 1, 'Quarter2': 2, 'Quarter3': 3, 'Quarter4': 4, 'Quarter5': 5}\n",
    "garment_ordinal_inc['quarter_ordinal'] = garment_ordinal_inc.loc[:, 'quarter'].map(Quarter_dict_inc)\n",
    "garment_ordinal_noinc['quarter_ordinal'] = garment_ordinal_noinc.loc[:, 'quarter'].map(Quarter_dict_inc)\n",
    "\n",
    "Day_dict_inc = {'Monday': 1, 'Tuesday': 2, 'Wednesday': 3, 'Thursday': 4, 'Friday': 5, 'Saturday': 6, 'Sunday': 7}\n",
    "garment_ordinal_inc['day_ordinal'] = garment_ordinal_inc.loc[:, 'day'].map(Day_dict_inc)\n",
    "garment_ordinal_noinc['day_ordinal'] = garment_ordinal_noinc.loc[:, 'day'].map(Day_dict_inc)\n",
    "garment_ordinal_noinc.head()"
   ]
  },
  {
   "cell_type": "code",
   "execution_count": 93,
   "id": "f0408f30",
   "metadata": {},
   "outputs": [
    {
     "name": "stdout",
     "output_type": "stream",
     "text": [
      "<class 'pandas.core.frame.DataFrame'>\n",
      "Int64Index: 604 entries, 1 to 1196\n",
      "Data columns (total 3 columns):\n",
      " #   Column           Non-Null Count  Dtype         \n",
      "---  ------           --------------  -----         \n",
      " 0   date             604 non-null    datetime64[ns]\n",
      " 1   quarter_ordinal  604 non-null    int64         \n",
      " 2   day_ordinal      604 non-null    int64         \n",
      "dtypes: datetime64[ns](1), int64(2)\n",
      "memory usage: 18.9 KB\n"
     ]
    }
   ],
   "source": [
    "garment_ordinal_inc.drop(labels=['quarter', 'day'], axis=1, inplace=True)\n",
    "garment_ordinal_noinc.drop(labels=['quarter', 'day'], axis=1, inplace=True)\n",
    "garment_ordinal_noinc.info()"
   ]
  },
  {
   "cell_type": "markdown",
   "id": "5797ff80",
   "metadata": {},
   "source": [
    "To use datetime in regression, perform ordinal encoding by mapping with python's datetime.toordinal method."
   ]
  },
  {
   "cell_type": "code",
   "execution_count": 94,
   "id": "4ef610a6",
   "metadata": {},
   "outputs": [
    {
     "data": {
      "text/plain": [
       "count       604.00000\n",
       "mean     735634.27649\n",
       "std          20.10127\n",
       "min      735599.00000\n",
       "25%      735616.00000\n",
       "50%      735635.00000\n",
       "75%      735652.00000\n",
       "max      735668.00000\n",
       "Name: date, dtype: float64"
      ]
     },
     "execution_count": 94,
     "metadata": {},
     "output_type": "execute_result"
    }
   ],
   "source": [
    "from datetime import datetime \n",
    "garment_ordinal_inc['date'] = garment_ordinal_inc['date'].map(datetime.toordinal)\n",
    "garment_ordinal_noinc['date'] = garment_ordinal_noinc['date'].map(datetime.toordinal)\n",
    "garment_ordinal_noinc['date'].describe()"
   ]
  },
  {
   "cell_type": "markdown",
   "id": "032ebd9e",
   "metadata": {},
   "source": [
    "Concatenate encoded nominal and ordinal columns."
   ]
  },
  {
   "cell_type": "code",
   "execution_count": 95,
   "id": "ab17e624",
   "metadata": {},
   "outputs": [
    {
     "name": "stdout",
     "output_type": "stream",
     "text": [
      "<class 'pandas.core.frame.DataFrame'>\n",
      "Int64Index: 604 entries, 1 to 1196\n",
      "Data columns (total 17 columns):\n",
      " #   Column                Non-Null Count  Dtype\n",
      "---  ------                --------------  -----\n",
      " 0   department_finishing  604 non-null    uint8\n",
      " 1   department_sewing     604 non-null    uint8\n",
      " 2   team_1                604 non-null    uint8\n",
      " 3   team_2                604 non-null    uint8\n",
      " 4   team_3                604 non-null    uint8\n",
      " 5   team_4                604 non-null    uint8\n",
      " 6   team_5                604 non-null    uint8\n",
      " 7   team_6                604 non-null    uint8\n",
      " 8   team_7                604 non-null    uint8\n",
      " 9   team_8                604 non-null    uint8\n",
      " 10  team_9                604 non-null    uint8\n",
      " 11  team_10               604 non-null    uint8\n",
      " 12  team_11               604 non-null    uint8\n",
      " 13  team_12               604 non-null    uint8\n",
      " 14  date                  604 non-null    int64\n",
      " 15  quarter_ordinal       604 non-null    int64\n",
      " 16  day_ordinal           604 non-null    int64\n",
      "dtypes: int64(3), uint8(14)\n",
      "memory usage: 27.1 KB\n"
     ]
    }
   ],
   "source": [
    "garment_categorical_inc = pd.concat([garment_nom_encoded_inc, garment_ordinal_inc], axis=1)\n",
    "garment_categorical_noinc = pd.concat([garment_nom_encoded_noinc, garment_ordinal_noinc], axis=1)\n",
    "garment_categorical_noinc.info()"
   ]
  },
  {
   "cell_type": "markdown",
   "id": "62c0ed35",
   "metadata": {},
   "source": [
    "Drop last department & team columns to reduce impacts on regression models by the multicollinearity introduced by OHE encoding. The information in the deleted columns is still available to the model, though, because if the value of the deleted column was 1, the row will now have 0's for all remaining columns encoding that feature."
   ]
  },
  {
   "cell_type": "code",
   "execution_count": 96,
   "id": "8d1c4f81",
   "metadata": {
    "scrolled": true
   },
   "outputs": [
    {
     "name": "stdout",
     "output_type": "stream",
     "text": [
      "<class 'pandas.core.frame.DataFrame'>\n",
      "Int64Index: 604 entries, 1 to 1196\n",
      "Data columns (total 16 columns):\n",
      " #   Column                Non-Null Count  Dtype\n",
      "---  ------                --------------  -----\n",
      " 0   department_finishing  604 non-null    uint8\n",
      " 1   department_sewing     604 non-null    uint8\n",
      " 2   team_1                604 non-null    uint8\n",
      " 3   team_2                604 non-null    uint8\n",
      " 4   team_3                604 non-null    uint8\n",
      " 5   team_4                604 non-null    uint8\n",
      " 6   team_5                604 non-null    uint8\n",
      " 7   team_6                604 non-null    uint8\n",
      " 8   team_7                604 non-null    uint8\n",
      " 9   team_8                604 non-null    uint8\n",
      " 10  team_9                604 non-null    uint8\n",
      " 11  team_10               604 non-null    uint8\n",
      " 12  team_11               604 non-null    uint8\n",
      " 13  date                  604 non-null    int64\n",
      " 14  quarter_ordinal       604 non-null    int64\n",
      " 15  day_ordinal           604 non-null    int64\n",
      "dtypes: int64(3), uint8(13)\n",
      "memory usage: 26.5 KB\n"
     ]
    }
   ],
   "source": [
    "garment_categorical_inc.drop(labels = ['team_12'], axis = 1, inplace = True)\n",
    "garment_categorical_noinc.drop(labels = ['team_12'], axis = 1, inplace = True)\n",
    "garment_categorical_noinc.info()"
   ]
  },
  {
   "cell_type": "markdown",
   "id": "d148ec1c",
   "metadata": {},
   "source": [
    "Select predictor and target columns and split into train and test subsets, then scale (fit & transform) X_train and transform X_test using fit parameters from X_train."
   ]
  },
  {
   "cell_type": "code",
   "execution_count": 97,
   "id": "d071e1d0",
   "metadata": {},
   "outputs": [
    {
     "name": "stdout",
     "output_type": "stream",
     "text": [
      "<class 'pandas.core.frame.DataFrame'>\n",
      "Int64Index: 604 entries, 1 to 1196\n",
      "Data columns (total 25 columns):\n",
      " #   Column                 Non-Null Count  Dtype  \n",
      "---  ------                 --------------  -----  \n",
      " 0   department_finishing   604 non-null    uint8  \n",
      " 1   department_sewing      604 non-null    uint8  \n",
      " 2   team_1                 604 non-null    uint8  \n",
      " 3   team_2                 604 non-null    uint8  \n",
      " 4   team_3                 604 non-null    uint8  \n",
      " 5   team_4                 604 non-null    uint8  \n",
      " 6   team_5                 604 non-null    uint8  \n",
      " 7   team_6                 604 non-null    uint8  \n",
      " 8   team_7                 604 non-null    uint8  \n",
      " 9   team_8                 604 non-null    uint8  \n",
      " 10  team_9                 604 non-null    uint8  \n",
      " 11  team_10                604 non-null    uint8  \n",
      " 12  team_11                604 non-null    uint8  \n",
      " 13  date                   604 non-null    int64  \n",
      " 14  quarter_ordinal        604 non-null    int64  \n",
      " 15  day_ordinal            604 non-null    int64  \n",
      " 16  targeted_productivity  604 non-null    float64\n",
      " 17  smv                    604 non-null    float64\n",
      " 18  wip                    604 non-null    float64\n",
      " 19  over_time              604 non-null    int64  \n",
      " 20  incentive              604 non-null    float64\n",
      " 21  idle_time              604 non-null    float64\n",
      " 22  idle_men               604 non-null    int64  \n",
      " 23  no_of_style_change     604 non-null    int64  \n",
      " 24  no_of_workers          604 non-null    float64\n",
      "dtypes: float64(6), int64(6), uint8(13)\n",
      "memory usage: 69.0 KB\n"
     ]
    }
   ],
   "source": [
    "# Concatenate categorical & numerical columns & save complete data set.\n",
    "garment_prepped_inc = pd.concat([garment_categorical_inc, garment_numerical_inc], axis=1)\n",
    "garment_prepped_noinc = pd.concat([garment_categorical_noinc, garment_numerical_noinc], axis=1)\n",
    "# Drop target 'actual_productivity' from predictors.\n",
    "X_inc = garment_prepped_inc.drop(columns = 'actual_productivity')\n",
    "X_noinc = garment_prepped_noinc.drop(columns = 'actual_productivity')\n",
    "X_noinc.info()"
   ]
  },
  {
   "cell_type": "code",
   "execution_count": 98,
   "id": "030f3df6",
   "metadata": {},
   "outputs": [],
   "source": [
    "y_inc = garment_prod_inc['actual_productivity']"
   ]
  },
  {
   "cell_type": "code",
   "execution_count": 99,
   "id": "48513112",
   "metadata": {
    "scrolled": true
   },
   "outputs": [
    {
     "name": "stdout",
     "output_type": "stream",
     "text": [
      "<class 'pandas.core.frame.DataFrame'>\n",
      "Int64Index: 408 entries, 501 to 1152\n",
      "Data columns (total 23 columns):\n",
      " #   Column                 Non-Null Count  Dtype  \n",
      "---  ------                 --------------  -----  \n",
      " 0   team_1                 408 non-null    uint8  \n",
      " 1   team_2                 408 non-null    uint8  \n",
      " 2   team_3                 408 non-null    uint8  \n",
      " 3   team_4                 408 non-null    uint8  \n",
      " 4   team_5                 408 non-null    uint8  \n",
      " 5   team_6                 408 non-null    uint8  \n",
      " 6   team_7                 408 non-null    uint8  \n",
      " 7   team_8                 408 non-null    uint8  \n",
      " 8   team_9                 408 non-null    uint8  \n",
      " 9   team_10                408 non-null    uint8  \n",
      " 10  team_11                408 non-null    uint8  \n",
      " 11  date                   408 non-null    int64  \n",
      " 12  quarter_ordinal        408 non-null    int64  \n",
      " 13  day_ordinal            408 non-null    int64  \n",
      " 14  targeted_productivity  408 non-null    float64\n",
      " 15  smv                    408 non-null    float64\n",
      " 16  wip                    408 non-null    float64\n",
      " 17  over_time              408 non-null    int64  \n",
      " 18  incentive              408 non-null    int64  \n",
      " 19  idle_time              408 non-null    float64\n",
      " 20  idle_men               408 non-null    int64  \n",
      " 21  no_of_style_change     408 non-null    int64  \n",
      " 22  no_of_workers          408 non-null    float64\n",
      "dtypes: float64(5), int64(7), uint8(11)\n",
      "memory usage: 45.8 KB\n"
     ]
    }
   ],
   "source": [
    "# Split into train & test subsets before scaling.\n",
    "X_train_inc,X_test_inc,y_train_inc,y_test_inc = train_test_split(X_inc, y_inc, test_size=0.3, random_state=0) \n",
    "X_train_inc.info()"
   ]
  },
  {
   "cell_type": "code",
   "execution_count": 100,
   "id": "46e49346",
   "metadata": {},
   "outputs": [
    {
     "name": "stdout",
     "output_type": "stream",
     "text": [
      "<class 'pandas.core.frame.DataFrame'>\n",
      "Int64Index: 175 entries, 454 to 777\n",
      "Data columns (total 12 columns):\n",
      " #   Column                 Non-Null Count  Dtype  \n",
      "---  ------                 --------------  -----  \n",
      " 0   date                   175 non-null    int64  \n",
      " 1   quarter_ordinal        175 non-null    int64  \n",
      " 2   day_ordinal            175 non-null    int64  \n",
      " 3   targeted_productivity  175 non-null    float64\n",
      " 4   smv                    175 non-null    float64\n",
      " 5   wip                    175 non-null    float64\n",
      " 6   over_time              175 non-null    int64  \n",
      " 7   incentive              175 non-null    int64  \n",
      " 8   idle_time              175 non-null    float64\n",
      " 9   idle_men               175 non-null    int64  \n",
      " 10  no_of_style_change     175 non-null    int64  \n",
      " 11  no_of_workers          175 non-null    float64\n",
      "dtypes: float64(5), int64(7)\n",
      "memory usage: 17.8 KB\n"
     ]
    }
   ],
   "source": [
    "# Select predictors for scaling, including numerical and encoded ordinal columns.\n",
    "X_train_scalable_inc = X_train_inc.drop(X_inc.iloc[:, 0:11], axis = 1)\n",
    "X_test_scalable_inc = X_test_inc.drop(X_inc.iloc[:, 0:11], axis = 1)\n",
    "X_test_scalable_inc.info()"
   ]
  },
  {
   "cell_type": "code",
   "execution_count": 101,
   "id": "20cf5d0f",
   "metadata": {},
   "outputs": [
    {
     "name": "stdout",
     "output_type": "stream",
     "text": [
      "<class 'pandas.core.frame.DataFrame'>\n",
      "RangeIndex: 408 entries, 0 to 407\n",
      "Data columns (total 12 columns):\n",
      " #   Column                 Non-Null Count  Dtype  \n",
      "---  ------                 --------------  -----  \n",
      " 0   date                   408 non-null    float64\n",
      " 1   quarter_ordinal        408 non-null    float64\n",
      " 2   day_ordinal            408 non-null    float64\n",
      " 3   targeted_productivity  408 non-null    float64\n",
      " 4   smv                    408 non-null    float64\n",
      " 5   wip                    408 non-null    float64\n",
      " 6   over_time              408 non-null    float64\n",
      " 7   incentive              408 non-null    float64\n",
      " 8   idle_time              408 non-null    float64\n",
      " 9   idle_men               408 non-null    float64\n",
      " 10  no_of_style_change     408 non-null    float64\n",
      " 11  no_of_workers          408 non-null    float64\n",
      "dtypes: float64(12)\n",
      "memory usage: 38.4 KB\n"
     ]
    }
   ],
   "source": [
    "# Scale ordinal & numerical columns in X_train,convert ndarray output to dataframe as float dtype, & name columns.\n",
    "scaler_inc = StandardScaler()\n",
    "X_train_scaling_inc = scaler_inc.fit_transform(X_train_scalable_inc)\n",
    "X_train_scaled_inc = pd.DataFrame(X_train_scaling_inc)\n",
    "X_train_scaled_inc = X_train_scaled_inc.astype('float')\n",
    "X_train_scaled_inc.columns = ['date', 'quarter_ordinal','day_ordinal', 'targeted_productivity', 'smv', 'wip', 'over_time', 'incentive', 'idle_time', 'idle_men', 'no_of_style_change', 'no_of_workers']\n",
    "\n",
    "X_train_scaled_inc.info()"
   ]
  },
  {
   "cell_type": "code",
   "execution_count": 102,
   "id": "c8f013f4",
   "metadata": {},
   "outputs": [
    {
     "name": "stdout",
     "output_type": "stream",
     "text": [
      "<class 'pandas.core.frame.DataFrame'>\n",
      "RangeIndex: 175 entries, 0 to 174\n",
      "Data columns (total 12 columns):\n",
      " #   Column                 Non-Null Count  Dtype  \n",
      "---  ------                 --------------  -----  \n",
      " 0   date                   175 non-null    float64\n",
      " 1   quarter_ordinal        175 non-null    float64\n",
      " 2   day_ordinal            175 non-null    float64\n",
      " 3   targeted_productivity  175 non-null    float64\n",
      " 4   smv                    175 non-null    float64\n",
      " 5   wip                    175 non-null    float64\n",
      " 6   over_time              175 non-null    float64\n",
      " 7   incentive              175 non-null    float64\n",
      " 8   idle_time              175 non-null    float64\n",
      " 9   idle_men               175 non-null    float64\n",
      " 10  no_of_style_change     175 non-null    float64\n",
      " 11  no_of_workers          175 non-null    float64\n",
      "dtypes: float64(12)\n",
      "memory usage: 16.5 KB\n"
     ]
    }
   ],
   "source": [
    "# Use fit paramaters from X_train to transform X_test, then convert back to df.\n",
    "X_test_scaling_inc = scaler.transform(X_test_scalable_inc)\n",
    "X_test_scaled_inc = pd.DataFrame(X_test_scaling_inc)\n",
    "X_test_scaled_inc = X_test_scaled_inc.astype('float')\n",
    "X_test_scaled_inc.columns = ['date', 'quarter_ordinal','day_ordinal', 'targeted_productivity', 'smv', 'wip', 'over_time', 'incentive', 'idle_time', 'idle_men', 'no_of_style_change', 'no_of_workers']\n",
    "X_test_scaled_inc.info()"
   ]
  },
  {
   "cell_type": "markdown",
   "id": "33a01301",
   "metadata": {},
   "source": [
    "Select binary columns (encoded nominal features) in X_train and X_test, then concatenate with scaled columns to make complete train and test dataframes. "
   ]
  },
  {
   "cell_type": "code",
   "execution_count": 103,
   "id": "a2743f25",
   "metadata": {},
   "outputs": [
    {
     "name": "stdout",
     "output_type": "stream",
     "text": [
      "<class 'pandas.core.frame.DataFrame'>\n",
      "Int64Index: 408 entries, 501 to 1152\n",
      "Data columns (total 11 columns):\n",
      " #   Column   Non-Null Count  Dtype\n",
      "---  ------   --------------  -----\n",
      " 0   team_1   408 non-null    uint8\n",
      " 1   team_2   408 non-null    uint8\n",
      " 2   team_3   408 non-null    uint8\n",
      " 3   team_4   408 non-null    uint8\n",
      " 4   team_5   408 non-null    uint8\n",
      " 5   team_6   408 non-null    uint8\n",
      " 6   team_7   408 non-null    uint8\n",
      " 7   team_8   408 non-null    uint8\n",
      " 8   team_9   408 non-null    uint8\n",
      " 9   team_10  408 non-null    uint8\n",
      " 10  team_11  408 non-null    uint8\n",
      "dtypes: uint8(11)\n",
      "memory usage: 7.6 KB\n"
     ]
    }
   ],
   "source": [
    "X_train_binary_inc = X_train_inc.iloc[:, 0:11]\n",
    "X_test_binary_inc = X_test_inc.iloc[:, 0:11]\n",
    "X_train_binary_inc.info()"
   ]
  },
  {
   "cell_type": "code",
   "execution_count": 104,
   "id": "1a3a04a6",
   "metadata": {},
   "outputs": [],
   "source": [
    "# Reset index on binary dataframes to match indexing on scaled dataframes, whose indexing was reset during scaling process.\n",
    "X_train_binary_inc.reset_index(drop = True, inplace = True)\n",
    "X_test_binary_inc.reset_index(drop = True, inplace = True)"
   ]
  },
  {
   "cell_type": "code",
   "execution_count": 105,
   "id": "c71d9d89",
   "metadata": {
    "scrolled": true
   },
   "outputs": [
    {
     "name": "stdout",
     "output_type": "stream",
     "text": [
      "<class 'pandas.core.frame.DataFrame'>\n",
      "RangeIndex: 408 entries, 0 to 407\n",
      "Data columns (total 23 columns):\n",
      " #   Column                 Non-Null Count  Dtype  \n",
      "---  ------                 --------------  -----  \n",
      " 0   team_1                 408 non-null    uint8  \n",
      " 1   team_2                 408 non-null    uint8  \n",
      " 2   team_3                 408 non-null    uint8  \n",
      " 3   team_4                 408 non-null    uint8  \n",
      " 4   team_5                 408 non-null    uint8  \n",
      " 5   team_6                 408 non-null    uint8  \n",
      " 6   team_7                 408 non-null    uint8  \n",
      " 7   team_8                 408 non-null    uint8  \n",
      " 8   team_9                 408 non-null    uint8  \n",
      " 9   team_10                408 non-null    uint8  \n",
      " 10  team_11                408 non-null    uint8  \n",
      " 11  date                   408 non-null    float64\n",
      " 12  quarter_ordinal        408 non-null    float64\n",
      " 13  day_ordinal            408 non-null    float64\n",
      " 14  targeted_productivity  408 non-null    float64\n",
      " 15  smv                    408 non-null    float64\n",
      " 16  wip                    408 non-null    float64\n",
      " 17  over_time              408 non-null    float64\n",
      " 18  incentive              408 non-null    float64\n",
      " 19  idle_time              408 non-null    float64\n",
      " 20  idle_men               408 non-null    float64\n",
      " 21  no_of_style_change     408 non-null    float64\n",
      " 22  no_of_workers          408 non-null    float64\n",
      "dtypes: float64(12), uint8(11)\n",
      "memory usage: 42.8 KB\n"
     ]
    }
   ],
   "source": [
    "X_train_inc = pd.concat([X_train_binary_inc, X_train_scaled_inc], axis=1)\n",
    "X_train_inc.info()"
   ]
  },
  {
   "cell_type": "code",
   "execution_count": 106,
   "id": "14297418",
   "metadata": {
    "scrolled": true
   },
   "outputs": [
    {
     "name": "stdout",
     "output_type": "stream",
     "text": [
      "<class 'pandas.core.frame.DataFrame'>\n",
      "RangeIndex: 175 entries, 0 to 174\n",
      "Data columns (total 23 columns):\n",
      " #   Column                 Non-Null Count  Dtype  \n",
      "---  ------                 --------------  -----  \n",
      " 0   team_1                 175 non-null    uint8  \n",
      " 1   team_2                 175 non-null    uint8  \n",
      " 2   team_3                 175 non-null    uint8  \n",
      " 3   team_4                 175 non-null    uint8  \n",
      " 4   team_5                 175 non-null    uint8  \n",
      " 5   team_6                 175 non-null    uint8  \n",
      " 6   team_7                 175 non-null    uint8  \n",
      " 7   team_8                 175 non-null    uint8  \n",
      " 8   team_9                 175 non-null    uint8  \n",
      " 9   team_10                175 non-null    uint8  \n",
      " 10  team_11                175 non-null    uint8  \n",
      " 11  date                   175 non-null    float64\n",
      " 12  quarter_ordinal        175 non-null    float64\n",
      " 13  day_ordinal            175 non-null    float64\n",
      " 14  targeted_productivity  175 non-null    float64\n",
      " 15  smv                    175 non-null    float64\n",
      " 16  wip                    175 non-null    float64\n",
      " 17  over_time              175 non-null    float64\n",
      " 18  incentive              175 non-null    float64\n",
      " 19  idle_time              175 non-null    float64\n",
      " 20  idle_men               175 non-null    float64\n",
      " 21  no_of_style_change     175 non-null    float64\n",
      " 22  no_of_workers          175 non-null    float64\n",
      "dtypes: float64(12), uint8(11)\n",
      "memory usage: 18.4 KB\n"
     ]
    }
   ],
   "source": [
    "X_test_inc = pd.concat([X_test_binary_inc, X_test_scaled_inc], axis=1)\n",
    "X_test_inc.info()"
   ]
  },
  {
   "cell_type": "code",
   "execution_count": 107,
   "id": "a917dde3",
   "metadata": {},
   "outputs": [
    {
     "data": {
      "text/plain": [
       "RandomForestRegressor(random_state=0)"
      ]
     },
     "execution_count": 107,
     "metadata": {},
     "output_type": "execute_result"
    }
   ],
   "source": [
    "RFregr_inc = RandomForestRegressor(random_state=0)\n",
    "RFregr_inc.fit(X_train_inc, y_train_inc)"
   ]
  },
  {
   "cell_type": "code",
   "execution_count": 108,
   "id": "90ea54c9",
   "metadata": {},
   "outputs": [],
   "source": [
    "# predict y to evaluate model \n",
    "y_predicted_RFregr_inc = RFregr_inc.predict(X_test_inc)\n",
    "# calculate RMSE\n",
    "RFregr_inc_error = 'RMSE = {:.4f}'.format(mean_squared_error(y_predicted_RFregr_inc, y_test_inc, squared = False))"
   ]
  },
  {
   "cell_type": "code",
   "execution_count": 109,
   "id": "76a3e9ef",
   "metadata": {
    "scrolled": true
   },
   "outputs": [
    {
     "data": {
      "image/png": "[encoded data removed]",
      "text/plain": [
       "<Figure size 432x288 with 1 Axes>"
      ]
     },
     "metadata": {
      "needs_background": "light"
     },
     "output_type": "display_data"
    }
   ],
   "source": [
    "evaluate(predicted = y_predicted_RFregr_inc, actual = y_test_inc, RMSE = RFregr_inc_error)"
   ]
  },
  {
   "cell_type": "markdown",
   "id": "6ead7380",
   "metadata": {},
   "source": [
    "The result above shows that offering incentive increases productivity and increases the Random Forest model's predictive accuracy. By selecting the most important features, can we simplify the model without compromising accuracy?"
   ]
  },
  {
   "cell_type": "code",
   "execution_count": 110,
   "id": "00919ac4",
   "metadata": {
    "scrolled": true
   },
   "outputs": [
    {
     "data": {
      "text/html": [
       "<div>\n",
       "<style scoped>\n",
       "    .dataframe tbody tr th:only-of-type {\n",
       "        vertical-align: middle;\n",
       "    }\n",
       "\n",
       "    .dataframe tbody tr th {\n",
       "        vertical-align: top;\n",
       "    }\n",
       "\n",
       "    .dataframe thead th {\n",
       "        text-align: right;\n",
       "    }\n",
       "</style>\n",
       "<table border=\"1\" class=\"dataframe\">\n",
       "  <thead>\n",
       "    <tr style=\"text-align: right;\">\n",
       "      <th></th>\n",
       "      <th>importance</th>\n",
       "    </tr>\n",
       "  </thead>\n",
       "  <tbody>\n",
       "    <tr>\n",
       "      <th>incentive</th>\n",
       "      <td>0.594905</td>\n",
       "    </tr>\n",
       "    <tr>\n",
       "      <th>targeted_productivity</th>\n",
       "      <td>0.284943</td>\n",
       "    </tr>\n",
       "    <tr>\n",
       "      <th>smv</th>\n",
       "      <td>0.040845</td>\n",
       "    </tr>\n",
       "    <tr>\n",
       "      <th>wip</th>\n",
       "      <td>0.017736</td>\n",
       "    </tr>\n",
       "    <tr>\n",
       "      <th>date</th>\n",
       "      <td>0.012450</td>\n",
       "    </tr>\n",
       "    <tr>\n",
       "      <th>over_time</th>\n",
       "      <td>0.011400</td>\n",
       "    </tr>\n",
       "    <tr>\n",
       "      <th>no_of_workers</th>\n",
       "      <td>0.006455</td>\n",
       "    </tr>\n",
       "    <tr>\n",
       "      <th>quarter_ordinal</th>\n",
       "      <td>0.005103</td>\n",
       "    </tr>\n",
       "    <tr>\n",
       "      <th>day_ordinal</th>\n",
       "      <td>0.005013</td>\n",
       "    </tr>\n",
       "    <tr>\n",
       "      <th>team_11</th>\n",
       "      <td>0.004379</td>\n",
       "    </tr>\n",
       "    <tr>\n",
       "      <th>team_3</th>\n",
       "      <td>0.003501</td>\n",
       "    </tr>\n",
       "    <tr>\n",
       "      <th>team_2</th>\n",
       "      <td>0.002833</td>\n",
       "    </tr>\n",
       "    <tr>\n",
       "      <th>no_of_style_change</th>\n",
       "      <td>0.002072</td>\n",
       "    </tr>\n",
       "    <tr>\n",
       "      <th>team_8</th>\n",
       "      <td>0.002014</td>\n",
       "    </tr>\n",
       "    <tr>\n",
       "      <th>team_5</th>\n",
       "      <td>0.001536</td>\n",
       "    </tr>\n",
       "    <tr>\n",
       "      <th>team_9</th>\n",
       "      <td>0.001297</td>\n",
       "    </tr>\n",
       "    <tr>\n",
       "      <th>idle_men</th>\n",
       "      <td>0.000807</td>\n",
       "    </tr>\n",
       "    <tr>\n",
       "      <th>idle_time</th>\n",
       "      <td>0.000738</td>\n",
       "    </tr>\n",
       "    <tr>\n",
       "      <th>team_1</th>\n",
       "      <td>0.000606</td>\n",
       "    </tr>\n",
       "    <tr>\n",
       "      <th>team_4</th>\n",
       "      <td>0.000485</td>\n",
       "    </tr>\n",
       "    <tr>\n",
       "      <th>team_7</th>\n",
       "      <td>0.000406</td>\n",
       "    </tr>\n",
       "    <tr>\n",
       "      <th>team_10</th>\n",
       "      <td>0.000272</td>\n",
       "    </tr>\n",
       "    <tr>\n",
       "      <th>team_6</th>\n",
       "      <td>0.000202</td>\n",
       "    </tr>\n",
       "  </tbody>\n",
       "</table>\n",
       "</div>"
      ],
      "text/plain": [
       "                       importance\n",
       "incentive                0.594905\n",
       "targeted_productivity    0.284943\n",
       "smv                      0.040845\n",
       "wip                      0.017736\n",
       "date                     0.012450\n",
       "over_time                0.011400\n",
       "no_of_workers            0.006455\n",
       "quarter_ordinal          0.005103\n",
       "day_ordinal              0.005013\n",
       "team_11                  0.004379\n",
       "team_3                   0.003501\n",
       "team_2                   0.002833\n",
       "no_of_style_change       0.002072\n",
       "team_8                   0.002014\n",
       "team_5                   0.001536\n",
       "team_9                   0.001297\n",
       "idle_men                 0.000807\n",
       "idle_time                0.000738\n",
       "team_1                   0.000606\n",
       "team_4                   0.000485\n",
       "team_7                   0.000406\n",
       "team_10                  0.000272\n",
       "team_6                   0.000202"
      ]
     },
     "execution_count": 110,
     "metadata": {},
     "output_type": "execute_result"
    }
   ],
   "source": [
    "feature_importances_inc = pd.DataFrame(RFregr_inc.feature_importances_, index =X_train_inc.columns, columns=['importance']).sort_values('importance', ascending=False)\n",
    "feature_importances_inc"
   ]
  },
  {
   "cell_type": "code",
   "execution_count": 111,
   "id": "15ce1e8d",
   "metadata": {
    "scrolled": true
   },
   "outputs": [
    {
     "data": {
      "text/plain": [
       "Text(0.5, 0, 'Feature Importance')"
      ]
     },
     "execution_count": 111,
     "metadata": {},
     "output_type": "execute_result"
    },
    {
     "data": {
      "image/png": "[encoded data removed]",
      "text/plain": [
       "<Figure size 432x288 with 1 Axes>"
      ]
     },
     "metadata": {
      "needs_background": "light"
     },
     "output_type": "display_data"
    }
   ],
   "source": [
    "sorted_idx_inc = RFregr_inc.feature_importances_.argsort()\n",
    "plt.barh(X_train_inc.columns[sorted_idx_inc], RFregr_inc.feature_importances_[sorted_idx_inc])\n",
    "plt.xlabel('Feature Importance')"
   ]
  },
  {
   "cell_type": "code",
   "execution_count": 112,
   "id": "e5765c7f",
   "metadata": {},
   "outputs": [
    {
     "data": {
      "text/plain": [
       "RandomForestRegressor(random_state=0)"
      ]
     },
     "execution_count": 112,
     "metadata": {},
     "output_type": "execute_result"
    }
   ],
   "source": [
    "X_train_inc_selected = X_train_inc.loc[:, ['incentive', 'targeted_productivity', 'smv', 'wip', 'over_time', 'no_of_workers', 'quarter_ordinal', 'day_ordinal']]\n",
    "X_test_inc_selected = X_test_inc.loc[:, ['incentive', 'targeted_productivity', 'smv', 'wip', 'over_time', 'no_of_workers', 'quarter_ordinal', 'day_ordinal']]\n",
    "RFregr_inc_selected = RandomForestRegressor(random_state=0)\n",
    "RFregr_inc_selected.fit(X_train_inc_selected, y_train_inc)"
   ]
  },
  {
   "cell_type": "code",
   "execution_count": 113,
   "id": "fb6bbf55",
   "metadata": {},
   "outputs": [],
   "source": [
    "# predict y to evaluate model \n",
    "y_predicted_RFregr_inc_selected = RFregr_inc_selected.predict(X_test_inc_selected)\n",
    "# calculate RMSE\n",
    "RFregr_inc_selected_error = 'RMSE = {:.4f}'.format(mean_squared_error(y_predicted_RFregr_inc_selected, y_test_inc, squared = False))"
   ]
  },
  {
   "cell_type": "code",
   "execution_count": 114,
   "id": "7fb1f673",
   "metadata": {
    "scrolled": true
   },
   "outputs": [
    {
     "data": {
      "image/png": "[encoded data removed]",
      "text/plain": [
       "<Figure size 432x288 with 1 Axes>"
      ]
     },
     "metadata": {
      "needs_background": "light"
     },
     "output_type": "display_data"
    }
   ],
   "source": [
    "evaluate(predicted = y_predicted_RFregr_inc_selected, actual = y_test_inc, RMSE = RFregr_inc_selected_error)"
   ]
  },
  {
   "cell_type": "markdown",
   "id": "2e57207c",
   "metadata": {},
   "source": [
    "I was able to drop almost 2/3 of the features from the model without an increase in error. These results indicate that incentives predictably increase productivity, and expanding the use of incentives may be a strategy worth pursuing. "
   ]
  },
  {
   "cell_type": "markdown",
   "id": "46b2993d",
   "metadata": {},
   "source": [
    "If an average incentive were offered, how much would productivity increase according to this model?"
   ]
  },
  {
   "cell_type": "code",
   "execution_count": 115,
   "id": "62c0f24e",
   "metadata": {},
   "outputs": [
    {
     "name": "stdout",
     "output_type": "stream",
     "text": [
      "<class 'pandas.core.frame.DataFrame'>\n",
      "Int64Index: 923 entries, 0 to 1196\n",
      "Data columns (total 26 columns):\n",
      " #   Column                  Non-Null Count  Dtype  \n",
      "---  ------                  --------------  -----  \n",
      " 0   department_finishing    604 non-null    float64\n",
      " 1   department_sewing       604 non-null    float64\n",
      " 2   team_1                  604 non-null    float64\n",
      " 3   team_2                  604 non-null    float64\n",
      " 4   team_3                  604 non-null    float64\n",
      " 5   team_4                  604 non-null    float64\n",
      " 6   team_5                  604 non-null    float64\n",
      " 7   team_6                  604 non-null    float64\n",
      " 8   team_7                  604 non-null    float64\n",
      " 9   team_8                  604 non-null    float64\n",
      " 10  team_9                  604 non-null    float64\n",
      " 11  team_10                 604 non-null    float64\n",
      " 12  team_11                 604 non-null    float64\n",
      " 13  date                    604 non-null    float64\n",
      " 14  quarter_ordinal         604 non-null    float64\n",
      " 15  day_ordinal             604 non-null    float64\n",
      " 16  targeted_productivity   604 non-null    float64\n",
      " 17  smv                     604 non-null    float64\n",
      " 18  wip                     604 non-null    float64\n",
      " 19  over_time               604 non-null    float64\n",
      " 20  incentive               604 non-null    float64\n",
      " 21  idle_time               604 non-null    float64\n",
      " 22  idle_men                604 non-null    float64\n",
      " 23  no_of_style_change      604 non-null    float64\n",
      " 24  no_of_workers           604 non-null    float64\n",
      " 25  predicted_productivity  604 non-null    float64\n",
      "dtypes: float64(26)\n",
      "memory usage: 194.7 KB\n"
     ]
    }
   ],
   "source": [
    "# Predict productivity after setting incentive to equal the average incentive for rows where originally none was offered.\n",
    "X_noinc_selected = X_noinc.loc[:, ['incentive', 'targeted_productivity', 'smv', 'wip', 'over_time', 'no_of_workers', 'quarter_ordinal', 'day_ordinal']]\n",
    "y_predicted_RFregr_noinc = pd.DataFrame(RFregr_inc_selected.predict(X_noinc_selected), columns = ['predicted_productivity'])\n",
    "# To be able to compute average daily productivity, concatenate with X_noinc\n",
    "incentivised = pd.concat([X_noinc, y_predicted_RFregr_noinc], axis=1)\n",
    "incentivised.info()"
   ]
  },
  {
   "cell_type": "code",
   "execution_count": 116,
   "id": "e542c721",
   "metadata": {},
   "outputs": [
    {
     "name": "stdout",
     "output_type": "stream",
     "text": [
      "Avg. daily productivity without incentive = 0.7123\n"
     ]
    }
   ],
   "source": [
    "print('Avg. daily productivity without incentive = {:.4f}'.format(avg_daily_productivity_noinc))"
   ]
  },
  {
   "cell_type": "code",
   "execution_count": 117,
   "id": "c3f644b7",
   "metadata": {},
   "outputs": [
    {
     "name": "stdout",
     "output_type": "stream",
     "text": [
      "Avg. daily productivity with incentive = 0.8074\n"
     ]
    }
   ],
   "source": [
    "# calculate average daily productivity for same instances with average incentive added.\n",
    "daily_productivity_incentivised = incentivised.groupby('date').predicted_productivity.mean()\n",
    "avg_daily_productivity_incentivised = daily_productivity_incentivised.mean()\n",
    "print('Avg. daily productivity with incentive = {:.4f}'.format(avg_daily_productivity_incentivised))"
   ]
  },
  {
   "cell_type": "code",
   "execution_count": 118,
   "id": "e41f8ac5",
   "metadata": {},
   "outputs": [
    {
     "name": "stdout",
     "output_type": "stream",
     "text": [
      "Productivity increase with incentive = 13.34%\n"
     ]
    }
   ],
   "source": [
    "productivity_increase = (avg_daily_productivity_incentivised - avg_daily_productivity_noinc)/avg_daily_productivity_noinc * 100\n",
    "print('Productivity increase with incentive = {:.2f}%'.format(productivity_increase))"
   ]
  },
  {
   "cell_type": "markdown",
   "id": "dfb51095",
   "metadata": {},
   "source": [
    "According to this model, offering an average incentive on tasks with no incentive increases their average daily productivity by 13.34%."
   ]
  },
  {
   "cell_type": "markdown",
   "id": "f7dd858c",
   "metadata": {},
   "source": [
    "Next, I predict the degree to which productivity could be increased by breaking up longer tasks into shorter ones. I will select the cluster of rows that fell into the highest cluster of smv values (see \"smv\" plot above), then decrease their smv by 1/2 and run through the model. Because prediction accuracy is much higher when incentives are included, I will restrict this simulation to the model trained on the garment_prod_inc subset (which excludes rows where incentive = 0)."
   ]
  },
  {
   "cell_type": "code",
   "execution_count": 119,
   "id": "41b729c6",
   "metadata": {},
   "outputs": [
    {
     "data": {
      "text/plain": [
       "59     45.67\n",
       "209    50.48\n",
       "230    42.27\n",
       "257    51.02\n",
       "287    48.68\n",
       "297    41.19\n",
       "303    48.84\n",
       "316    49.10\n",
       "332    48.84\n",
       "367    54.56\n",
       "388    40.99\n",
       "407    42.97\n",
       "434    42.97\n",
       "476    48.18\n",
       "537    50.89\n",
       "Name: smv, dtype: float64"
      ]
     },
     "execution_count": 119,
     "metadata": {},
     "output_type": "execute_result"
    }
   ],
   "source": [
    "# Select X_test rows where smv >= 35 for analysis later (to predict increase in productivity by reducing smv).\n",
    "X_hi_smv = X_inc.loc[X_inc['smv'] >= 35]\n",
    "X_hi_smv['smv']"
   ]
  },
  {
   "cell_type": "code",
   "execution_count": 120,
   "id": "4a1af86f",
   "metadata": {},
   "outputs": [
    {
     "data": {
      "text/plain": [
       "59     0.603432\n",
       "209    0.688558\n",
       "230    0.705577\n",
       "257    0.311207\n",
       "287    0.800117\n",
       "297    0.452013\n",
       "303    0.800129\n",
       "316    0.403242\n",
       "332    0.576460\n",
       "367    0.520238\n",
       "388    0.555500\n",
       "407    0.750041\n",
       "434    0.591142\n",
       "476    0.370467\n",
       "537    0.656764\n",
       "Name: actual_productivity, dtype: float64"
      ]
     },
     "execution_count": 120,
     "metadata": {},
     "output_type": "execute_result"
    }
   ],
   "source": [
    "# Select corresponding y values (productivity) for these rows.\n",
    "y_hi_smv = garment_prod_inc.loc[garment_prod_inc['smv'] > 35, 'actual_productivity']\n",
    "y_hi_smv"
   ]
  },
  {
   "cell_type": "code",
   "execution_count": 121,
   "id": "55456fa0",
   "metadata": {},
   "outputs": [
    {
     "data": {
      "text/plain": [
       "59     22.835\n",
       "209    25.240\n",
       "230    21.135\n",
       "257    25.510\n",
       "287    24.340\n",
       "297    20.595\n",
       "303    24.420\n",
       "316    24.550\n",
       "332    24.420\n",
       "367    27.280\n",
       "388    20.495\n",
       "407    21.485\n",
       "434    21.485\n",
       "476    24.090\n",
       "537    25.445\n",
       "Name: smv, dtype: float64"
      ]
     },
     "execution_count": 121,
     "metadata": {},
     "output_type": "execute_result"
    }
   ],
   "source": [
    "# Lower smv for these rows by 50%\n",
    "X_lowered_smv = X_hi_smv\n",
    "X_lowered_smv['smv'] = X_lowered_smv['smv'] * 0.5\n",
    "X_lowered_smv['smv']"
   ]
  },
  {
   "cell_type": "code",
   "execution_count": 122,
   "id": "92685621",
   "metadata": {},
   "outputs": [
    {
     "name": "stdout",
     "output_type": "stream",
     "text": [
      "<class 'pandas.core.frame.DataFrame'>\n",
      "Int64Index: 15 entries, 59 to 537\n",
      "Data columns (total 23 columns):\n",
      " #   Column                 Non-Null Count  Dtype  \n",
      "---  ------                 --------------  -----  \n",
      " 0   team_1                 15 non-null     uint8  \n",
      " 1   team_2                 15 non-null     uint8  \n",
      " 2   team_3                 15 non-null     uint8  \n",
      " 3   team_4                 15 non-null     uint8  \n",
      " 4   team_5                 15 non-null     uint8  \n",
      " 5   team_6                 15 non-null     uint8  \n",
      " 6   team_7                 15 non-null     uint8  \n",
      " 7   team_8                 15 non-null     uint8  \n",
      " 8   team_9                 15 non-null     uint8  \n",
      " 9   team_10                15 non-null     uint8  \n",
      " 10  team_11                15 non-null     uint8  \n",
      " 11  date                   15 non-null     int64  \n",
      " 12  quarter_ordinal        15 non-null     int64  \n",
      " 13  day_ordinal            15 non-null     int64  \n",
      " 14  targeted_productivity  15 non-null     float64\n",
      " 15  smv                    15 non-null     float64\n",
      " 16  wip                    15 non-null     float64\n",
      " 17  over_time              15 non-null     int64  \n",
      " 18  incentive              15 non-null     int64  \n",
      " 19  idle_time              15 non-null     float64\n",
      " 20  idle_men               15 non-null     int64  \n",
      " 21  no_of_style_change     15 non-null     int64  \n",
      " 22  no_of_workers          15 non-null     float64\n",
      "dtypes: float64(5), int64(7), uint8(11)\n",
      "memory usage: 1.7 KB\n"
     ]
    }
   ],
   "source": [
    "X_lowered_smv.info()"
   ]
  },
  {
   "cell_type": "code",
   "execution_count": 123,
   "id": "34cd6b8f",
   "metadata": {},
   "outputs": [
    {
     "name": "stdout",
     "output_type": "stream",
     "text": [
      "<class 'pandas.core.frame.DataFrame'>\n",
      "Int64Index: 15 entries, 59 to 537\n",
      "Data columns (total 12 columns):\n",
      " #   Column                 Non-Null Count  Dtype  \n",
      "---  ------                 --------------  -----  \n",
      " 0   date                   15 non-null     int64  \n",
      " 1   quarter_ordinal        15 non-null     int64  \n",
      " 2   day_ordinal            15 non-null     int64  \n",
      " 3   targeted_productivity  15 non-null     float64\n",
      " 4   smv                    15 non-null     float64\n",
      " 5   wip                    15 non-null     float64\n",
      " 6   over_time              15 non-null     int64  \n",
      " 7   incentive              15 non-null     int64  \n",
      " 8   idle_time              15 non-null     float64\n",
      " 9   idle_men               15 non-null     int64  \n",
      " 10  no_of_style_change     15 non-null     int64  \n",
      " 11  no_of_workers          15 non-null     float64\n",
      "dtypes: float64(5), int64(7)\n",
      "memory usage: 1.5 KB\n"
     ]
    }
   ],
   "source": [
    "# Select predictors for scaling, including numerical and encoded ordinal columns.\n",
    "X_lowered_smv_scalable = X_lowered_smv.drop(X_lowered_smv.iloc[:, 0:11], axis = 1)\n",
    "X_lowered_smv_scalable.info()"
   ]
  },
  {
   "cell_type": "code",
   "execution_count": 124,
   "id": "cc1337bd",
   "metadata": {},
   "outputs": [
    {
     "name": "stdout",
     "output_type": "stream",
     "text": [
      "<class 'pandas.core.frame.DataFrame'>\n",
      "RangeIndex: 15 entries, 0 to 14\n",
      "Data columns (total 12 columns):\n",
      " #   Column                 Non-Null Count  Dtype  \n",
      "---  ------                 --------------  -----  \n",
      " 0   date                   15 non-null     float64\n",
      " 1   quarter_ordinal        15 non-null     float64\n",
      " 2   day_ordinal            15 non-null     float64\n",
      " 3   targeted_productivity  15 non-null     float64\n",
      " 4   smv                    15 non-null     float64\n",
      " 5   wip                    15 non-null     float64\n",
      " 6   over_time              15 non-null     float64\n",
      " 7   incentive              15 non-null     float64\n",
      " 8   idle_time              15 non-null     float64\n",
      " 9   idle_men               15 non-null     float64\n",
      " 10  no_of_style_change     15 non-null     float64\n",
      " 11  no_of_workers          15 non-null     float64\n",
      "dtypes: float64(12)\n",
      "memory usage: 1.5 KB\n"
     ]
    }
   ],
   "source": [
    "# Use fit paramaters from X_train to transform X_lowered_smv, then convert back to df.\n",
    "X_lowered_smv_scaling = scaler.transform(X_lowered_smv_scalable)\n",
    "X_lowered_smv_scaled = pd.DataFrame(X_lowered_smv_scaling)\n",
    "X_lowered_smv_scaled = X_lowered_smv_scaled.astype('float')\n",
    "X_lowered_smv_scaled.columns = ['date', 'quarter_ordinal','day_ordinal', 'targeted_productivity', 'smv', 'wip', 'over_time', 'incentive', 'idle_time', 'idle_men', 'no_of_style_change', 'no_of_workers']\n",
    "X_lowered_smv_scaled.info()"
   ]
  },
  {
   "cell_type": "code",
   "execution_count": 125,
   "id": "3fae1da4",
   "metadata": {
    "scrolled": true
   },
   "outputs": [
    {
     "name": "stdout",
     "output_type": "stream",
     "text": [
      "<class 'pandas.core.frame.DataFrame'>\n",
      "RangeIndex: 15 entries, 0 to 14\n",
      "Data columns (total 24 columns):\n",
      " #   Column                 Non-Null Count  Dtype  \n",
      "---  ------                 --------------  -----  \n",
      " 0   team_1                 15 non-null     uint8  \n",
      " 1   team_2                 15 non-null     uint8  \n",
      " 2   team_3                 15 non-null     uint8  \n",
      " 3   team_4                 15 non-null     uint8  \n",
      " 4   team_5                 15 non-null     uint8  \n",
      " 5   team_6                 15 non-null     uint8  \n",
      " 6   team_7                 15 non-null     uint8  \n",
      " 7   team_8                 15 non-null     uint8  \n",
      " 8   team_9                 15 non-null     uint8  \n",
      " 9   team_10                15 non-null     uint8  \n",
      " 10  team_11                15 non-null     uint8  \n",
      " 11  date                   15 non-null     int64  \n",
      " 12  date                   15 non-null     float64\n",
      " 13  quarter_ordinal        15 non-null     float64\n",
      " 14  day_ordinal            15 non-null     float64\n",
      " 15  targeted_productivity  15 non-null     float64\n",
      " 16  smv                    15 non-null     float64\n",
      " 17  wip                    15 non-null     float64\n",
      " 18  over_time              15 non-null     float64\n",
      " 19  incentive              15 non-null     float64\n",
      " 20  idle_time              15 non-null     float64\n",
      " 21  idle_men               15 non-null     float64\n",
      " 22  no_of_style_change     15 non-null     float64\n",
      " 23  no_of_workers          15 non-null     float64\n",
      "dtypes: float64(12), int64(1), uint8(11)\n",
      "memory usage: 1.8 KB\n"
     ]
    }
   ],
   "source": [
    "# # Select binary columns (encoded nominal features). \n",
    "X_lowered_smv_binary = X_lowered_smv.iloc[:, 0:12]\n",
    "# Reset index on binary dataframe to match indexing on scaled dataframe, whose indexing was reset during scaling.\n",
    "X_lowered_smv_binary.reset_index(drop = True, inplace = True)\n",
    "# Concatenate with scaled columns.\n",
    "X_lowered_smv = pd.concat([X_lowered_smv_binary, X_lowered_smv_scaled], axis=1)\n",
    "X_lowered_smv.info()"
   ]
  },
  {
   "cell_type": "code",
   "execution_count": 126,
   "id": "2a1316c9",
   "metadata": {},
   "outputs": [
    {
     "data": {
      "text/plain": [
       "array([0.64132215, 0.79371474, 0.78326839, 0.71231216, 0.81275786,\n",
       "       0.60301644, 0.8045266 , 0.74182159, 0.73396054, 0.74494035,\n",
       "       0.73863131, 0.78421901, 0.75158241, 0.4048225 , 0.72391172])"
      ]
     },
     "execution_count": 126,
     "metadata": {},
     "output_type": "execute_result"
    }
   ],
   "source": [
    "#Use model to predict productivity after lowering smv.\n",
    "productivity_lowered_smv = RFregr.predict(X_lowered_smv)\n",
    "productivity_lowered_smv"
   ]
  },
  {
   "cell_type": "code",
   "execution_count": 127,
   "id": "bed5a7b1",
   "metadata": {},
   "outputs": [
    {
     "data": {
      "text/plain": [
       "18.46828397817402"
      ]
     },
     "execution_count": 127,
     "metadata": {},
     "output_type": "execute_result"
    }
   ],
   "source": [
    "# Calculate increase in productivity due to lowering smv.\n",
    "hi_smv_productivity = y_hi_smv.mean()\n",
    "lowered_smv_productivity = productivity_lowered_smv.mean()\n",
    "percent_increase_in_productivity = ((lowered_smv_productivity - hi_smv_productivity)/lowered_smv_productivity)*100\n",
    "percent_increase_in_productivity"
   ]
  },
  {
   "cell_type": "code",
   "execution_count": 128,
   "id": "a8b23c17",
   "metadata": {},
   "outputs": [
    {
     "data": {
      "text/plain": [
       "2.2747813671918085"
      ]
     },
     "execution_count": 128,
     "metadata": {},
     "output_type": "execute_result"
    }
   ],
   "source": [
    "# How much of the work consists of longer tasks, where smv > 35? \n",
    "# Calculate smv * no_of_workers as measure of the amount of work per task\n",
    "sum_hi_smv = np.sum(X_hi_smv['smv'] * X_hi_smv['no_of_workers'])\n",
    "# garment_prod['worker_smv'] = garment_prod['smv'] * garment_prod['no_of_workers']\n",
    "sum_all_smv = np.sum(garment_prod['smv'] * garment_prod['no_of_workers'])\n",
    "percent_work_hi_smv = (sum_hi_smv/sum_all_smv)*100\n",
    "percent_work_hi_smv"
   ]
  },
  {
   "cell_type": "markdown",
   "id": "b7b7445a",
   "metadata": {},
   "source": [
    "In summary, this analysis indicates that breaking longer tasks into shorter subtasks could improve productivity. For the longest 2.3% of the total work in the dataset, dividing the tasks in half could increase productivity for that work by 18.5%. "
   ]
  }
 ],
 "metadata": {
  "kernelspec": {
   "display_name": "Python 3",
   "language": "python",
   "name": "python3"
  },
  "language_info": {
   "codemirror_mode": {
    "name": "ipython",
    "version": 3
   },
   "file_extension": ".py",
   "mimetype": "text/x-python",
   "name": "python",
   "nbconvert_exporter": "python",
   "pygments_lexer": "ipython3",
   "version": "3.9.1"
  }
 },
 "nbformat": 4,
 "nbformat_minor": 5
}
